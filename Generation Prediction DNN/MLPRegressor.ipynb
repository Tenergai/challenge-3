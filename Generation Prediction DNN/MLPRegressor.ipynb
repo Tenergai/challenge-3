{
  "cells": [
    {
      "attachments": {},
      "cell_type": "markdown",
      "metadata": {},
      "source": [
        "# Data and Scaling"
      ]
    },
    {
      "cell_type": "code",
      "execution_count": 1,
      "metadata": {
        "id": "Af1fi1FZ28cM"
      },
      "outputs": [],
      "source": [
        "import pandas as pd\n",
        "from datetime import datetime\n",
        "import seaborn as sns\n",
        "from sklearn.neural_network import MLPRegressor\n",
        "import itertools\n",
        "from sklearn.model_selection import cross_validate, RandomizedSearchCV, train_test_split\n",
        "from sklearn.metrics import balanced_accuracy_score, confusion_matrix\n",
        "import pickle \n",
        "df = pd.read_csv(\"../PreProcessamentoDados/cleanedData.csv\")"
      ]
    },
    {
      "cell_type": "code",
      "execution_count": 46,
      "metadata": {},
      "outputs": [],
      "source": [
        "df[['Hour','Minute','Second']] = df.DateTime.str.split(\":\",expand=True)"
      ]
    },
    {
      "cell_type": "code",
      "execution_count": 49,
      "metadata": {},
      "outputs": [
        {
          "data": {
            "text/plain": [
              "DateTime                   object\n",
              "Generated power           float64\n",
              "TemperatureC              float64\n",
              "DewpointC                 float64\n",
              "PressurehPa               float64\n",
              "WindDirectionDegrees      float64\n",
              "WindSpeedKMH              float64\n",
              "WindSpeedGustKMH          float64\n",
              "Humidity                  float64\n",
              "HourlyPrecipMM            float64\n",
              "dailyrainMM               float64\n",
              "SolarRadiationWatts_m2    float64\n",
              "Hour                      float64\n",
              "Minute                    float64\n",
              "Second                     object\n",
              "dtype: object"
            ]
          },
          "execution_count": 49,
          "metadata": {},
          "output_type": "execute_result"
        }
      ],
      "source": [
        "df.dtypes"
      ]
    },
    {
      "cell_type": "code",
      "execution_count": 48,
      "metadata": {},
      "outputs": [],
      "source": [
        "# define a dictionary of column names and their corresponding data types\n",
        "dtypes_dict = {'Hour': float, 'Minute': float}\n",
        "\n",
        "# convert the columns to their corresponding data types\n",
        "df = df.astype(dtypes_dict)"
      ]
    },
    {
      "cell_type": "code",
      "execution_count": 50,
      "metadata": {},
      "outputs": [
        {
          "data": {
            "text/html": [
              "<div>\n",
              "<style scoped>\n",
              "    .dataframe tbody tr th:only-of-type {\n",
              "        vertical-align: middle;\n",
              "    }\n",
              "\n",
              "    .dataframe tbody tr th {\n",
              "        vertical-align: top;\n",
              "    }\n",
              "\n",
              "    .dataframe thead th {\n",
              "        text-align: right;\n",
              "    }\n",
              "</style>\n",
              "<table border=\"1\" class=\"dataframe\">\n",
              "  <thead>\n",
              "    <tr style=\"text-align: right;\">\n",
              "      <th></th>\n",
              "      <th>DateTime</th>\n",
              "      <th>Generated power</th>\n",
              "      <th>TemperatureC</th>\n",
              "      <th>DewpointC</th>\n",
              "      <th>PressurehPa</th>\n",
              "      <th>WindDirectionDegrees</th>\n",
              "      <th>WindSpeedKMH</th>\n",
              "      <th>WindSpeedGustKMH</th>\n",
              "      <th>Humidity</th>\n",
              "      <th>HourlyPrecipMM</th>\n",
              "      <th>dailyrainMM</th>\n",
              "      <th>SolarRadiationWatts_m2</th>\n",
              "      <th>Hour</th>\n",
              "      <th>Minute</th>\n",
              "      <th>Second</th>\n",
              "    </tr>\n",
              "  </thead>\n",
              "  <tbody>\n",
              "    <tr>\n",
              "      <th>0</th>\n",
              "      <td>00:15:00</td>\n",
              "      <td>0.0</td>\n",
              "      <td>11.0</td>\n",
              "      <td>8.0</td>\n",
              "      <td>1021.0</td>\n",
              "      <td>128.333333</td>\n",
              "      <td>8.666667</td>\n",
              "      <td>17.000000</td>\n",
              "      <td>83.000000</td>\n",
              "      <td>0.0</td>\n",
              "      <td>0.0</td>\n",
              "      <td>0.0</td>\n",
              "      <td>0.0</td>\n",
              "      <td>15.0</td>\n",
              "      <td>00</td>\n",
              "    </tr>\n",
              "    <tr>\n",
              "      <th>1</th>\n",
              "      <td>00:30:00</td>\n",
              "      <td>0.0</td>\n",
              "      <td>11.0</td>\n",
              "      <td>8.0</td>\n",
              "      <td>1021.0</td>\n",
              "      <td>133.333333</td>\n",
              "      <td>1.333333</td>\n",
              "      <td>19.000000</td>\n",
              "      <td>83.000000</td>\n",
              "      <td>0.0</td>\n",
              "      <td>0.0</td>\n",
              "      <td>0.0</td>\n",
              "      <td>0.0</td>\n",
              "      <td>30.0</td>\n",
              "      <td>00</td>\n",
              "    </tr>\n",
              "    <tr>\n",
              "      <th>2</th>\n",
              "      <td>00:45:00</td>\n",
              "      <td>0.0</td>\n",
              "      <td>11.0</td>\n",
              "      <td>8.0</td>\n",
              "      <td>1021.0</td>\n",
              "      <td>127.666667</td>\n",
              "      <td>3.000000</td>\n",
              "      <td>12.333333</td>\n",
              "      <td>82.333333</td>\n",
              "      <td>0.0</td>\n",
              "      <td>0.0</td>\n",
              "      <td>0.0</td>\n",
              "      <td>0.0</td>\n",
              "      <td>45.0</td>\n",
              "      <td>00</td>\n",
              "    </tr>\n",
              "    <tr>\n",
              "      <th>3</th>\n",
              "      <td>01:00:00</td>\n",
              "      <td>0.0</td>\n",
              "      <td>11.0</td>\n",
              "      <td>8.0</td>\n",
              "      <td>1021.0</td>\n",
              "      <td>128.000000</td>\n",
              "      <td>1.333333</td>\n",
              "      <td>10.000000</td>\n",
              "      <td>81.000000</td>\n",
              "      <td>0.0</td>\n",
              "      <td>0.0</td>\n",
              "      <td>0.0</td>\n",
              "      <td>1.0</td>\n",
              "      <td>0.0</td>\n",
              "      <td>00</td>\n",
              "    </tr>\n",
              "    <tr>\n",
              "      <th>4</th>\n",
              "      <td>01:15:00</td>\n",
              "      <td>0.0</td>\n",
              "      <td>11.0</td>\n",
              "      <td>8.0</td>\n",
              "      <td>1021.0</td>\n",
              "      <td>130.000000</td>\n",
              "      <td>2.666667</td>\n",
              "      <td>11.000000</td>\n",
              "      <td>80.666667</td>\n",
              "      <td>0.0</td>\n",
              "      <td>0.0</td>\n",
              "      <td>0.0</td>\n",
              "      <td>1.0</td>\n",
              "      <td>15.0</td>\n",
              "      <td>00</td>\n",
              "    </tr>\n",
              "  </tbody>\n",
              "</table>\n",
              "</div>"
            ],
            "text/plain": [
              "   DateTime  Generated power  TemperatureC  DewpointC  PressurehPa  \\\n",
              "0  00:15:00              0.0          11.0        8.0       1021.0   \n",
              "1  00:30:00              0.0          11.0        8.0       1021.0   \n",
              "2  00:45:00              0.0          11.0        8.0       1021.0   \n",
              "3  01:00:00              0.0          11.0        8.0       1021.0   \n",
              "4  01:15:00              0.0          11.0        8.0       1021.0   \n",
              "\n",
              "   WindDirectionDegrees  WindSpeedKMH  WindSpeedGustKMH   Humidity  \\\n",
              "0            128.333333      8.666667         17.000000  83.000000   \n",
              "1            133.333333      1.333333         19.000000  83.000000   \n",
              "2            127.666667      3.000000         12.333333  82.333333   \n",
              "3            128.000000      1.333333         10.000000  81.000000   \n",
              "4            130.000000      2.666667         11.000000  80.666667   \n",
              "\n",
              "   HourlyPrecipMM  dailyrainMM  SolarRadiationWatts_m2  Hour  Minute Second  \n",
              "0             0.0          0.0                     0.0   0.0    15.0     00  \n",
              "1             0.0          0.0                     0.0   0.0    30.0     00  \n",
              "2             0.0          0.0                     0.0   0.0    45.0     00  \n",
              "3             0.0          0.0                     0.0   1.0     0.0     00  \n",
              "4             0.0          0.0                     0.0   1.0    15.0     00  "
            ]
          },
          "execution_count": 50,
          "metadata": {},
          "output_type": "execute_result"
        }
      ],
      "source": [
        "df.head()"
      ]
    },
    {
      "cell_type": "code",
      "execution_count": 51,
      "metadata": {
        "id": "pT9M2W9q5-b8"
      },
      "outputs": [],
      "source": [
        "Y = df['Generated power']\n",
        "X = df.drop(columns=['Generated power','DateTime','Second'])"
      ]
    },
    {
      "cell_type": "code",
      "execution_count": 52,
      "metadata": {
        "id": "czTVaVqi5_sr"
      },
      "outputs": [],
      "source": [
        "from sklearn.model_selection import train_test_split\n",
        "from sklearn.preprocessing import StandardScaler\n",
        "\n",
        "\n",
        "X_train, X_test, y_train, y_test = train_test_split(X,Y,test_size=0.2)\n",
        "\n"
      ]
    },
    {
      "cell_type": "code",
      "execution_count": 53,
      "metadata": {},
      "outputs": [],
      "source": [
        "scaler = StandardScaler()\n",
        "scaler.fit(X_train)\n",
        "\n",
        "X_train = scaler.transform(X_train)\n",
        "X_test = scaler.transform(X_test)"
      ]
    },
    {
      "cell_type": "code",
      "execution_count": 54,
      "metadata": {},
      "outputs": [
        {
          "data": {
            "text/plain": [
              "array([[-0.81583623, -0.69182852, -0.24383915, ..., -0.69893303,\n",
              "        -1.31304701, -0.45861175],\n",
              "       [ 0.3058588 ,  0.95698922, -0.73936116, ..., -0.69893303,\n",
              "        -1.02458051, -0.45861175],\n",
              "       [-1.8194581 , -1.72233961,  1.90342287, ..., -0.69893303,\n",
              "        -1.60151351, -0.45861175],\n",
              "       ...,\n",
              "       [-0.57968991, -0.07352187,  1.57307487, ..., -0.69893303,\n",
              "        -1.16881376, -1.35675152],\n",
              "       [-0.22547042,  0.54478479, -0.24383915, ..., -0.69893303,\n",
              "        -1.31304701, -1.35675152],\n",
              "       [-0.284507  ,  0.54478479,  0.85732086, ...,  0.12438398,\n",
              "        -0.15918101,  1.3376678 ]])"
            ]
          },
          "execution_count": 54,
          "metadata": {},
          "output_type": "execute_result"
        }
      ],
      "source": [
        "X_train"
      ]
    },
    {
      "attachments": {},
      "cell_type": "markdown",
      "metadata": {},
      "source": [
        "# ###############################"
      ]
    },
    {
      "attachments": {},
      "cell_type": "markdown",
      "metadata": {},
      "source": [
        "# Hyperparameter tuning"
      ]
    },
    {
      "cell_type": "code",
      "execution_count": 30,
      "metadata": {
        "colab": {
          "base_uri": "https://localhost:8080/"
        },
        "id": "vITbyOpY6B1N",
        "outputId": "dd89711d-41a5-474b-f5d3-03b4a5ddee74"
      },
      "outputs": [],
      "source": [
        "from itertools import chain\n",
        "\n",
        "# from: https://panjeh.medium.com/scikit-learn-hyperparameter-optimization-for-mlpclassifier-4d670413042b\n",
        "# from: https://neptune.ai/blog/hyperparameter-tuning-in-python-complete-guide\n",
        "\n",
        "# List of numbers to choose from\n",
        "n = len(X.columns)-1\n",
        "numbers = [n, 2*n, n//2, n//4]\n",
        "\n",
        "# Get the combinations of length 2, 3 and 4\n",
        "combinations_2 = list(itertools.combinations(numbers, 2))\n",
        "combinations_3 = list(itertools.combinations(numbers, 3))\n",
        "combinations_4 = list(itertools.combinations(numbers, 4))\n",
        "\n",
        "\n",
        "# Concatenate the lists of combinations\n",
        "combinations = list(chain(combinations_2, combinations_3, combinations_4))\n",
        "\n",
        "mlp_gs = MLPRegressor(max_iter = 10000)\n",
        "parameter_space = {\n",
        "    'hidden_layer_sizes': combinations,\n",
        "    'activation': ['tanh', 'relu', 'logistic'],\n",
        "    'solver': ['sgd', 'adam'],\n",
        "    'alpha': [0.001, 0.01, 0.1, 0.5, 0.9],\n",
        "    'learning_rate': ['constant','adaptive']\n",
        "}\n",
        "# grid search\n",
        "# clf = RandomizedSearchCV(mlp_gs, parameter_space, n_jobs = 9, cv = 3, random_state = 24, scoring = metrics.r2_score)\n",
        "\n",
        "clf = RandomizedSearchCV(mlp_gs, parameter_space, n_jobs = 9, cv = 3, random_state = 24)\n",
        "clf.fit(X_train, y_train) # X is train samples and y is the corresponding labels\n",
        "\n",
        "y_true, y_pred = y_test, clf.predict(X_test)\n",
        "from sklearn.metrics import r2_score\n",
        "r2 = r2_score(y_true, y_pred)\n",
        "print(\"\\n R2 Score: \\n\",r2)\n",
        "#from: https://www.projectpro.io/recipes/find-optimal-parameters-using-randomizedsearchcv-for-regression\n",
        "\n",
        "print(\" Results from Random Search \" )\n",
        "print(\"\\n The best estimator across ALL searched params:\\n\", clf.best_estimator_)\n",
        "print(\"\\n The best score across ALL searched params:\\n\", clf.best_score_)\n",
        "print(\"\\n The best parameters across ALL searched params:\\n\", clf.best_params_)"
      ]
    },
    {
      "attachments": {},
      "cell_type": "markdown",
      "metadata": {},
      "source": [
        "Results from Random Search \n",
        "\n",
        " The best estimator across ALL searched params:\n",
        " MLPRegressor(alpha=0.5, hidden_layer_sizes=(10, 20, 5), max_iter=10000)\n",
        "\n",
        " The best score across ALL searched params:\n",
        " 0.866832250357974\n",
        "\n",
        " The best parameters across ALL searched params:\n",
        " {'solver': 'adam', 'learning_rate': 'constant', 'hidden_layer_sizes': (10, 20, 5), 'alpha': 0.5, 'activation': 'relu'}"
      ]
    },
    {
      "attachments": {},
      "cell_type": "markdown",
      "metadata": {},
      "source": [
        "# ###############################"
      ]
    },
    {
      "cell_type": "code",
      "execution_count": null,
      "metadata": {},
      "outputs": [],
      "source": [
        "from sklearn.model_selection import GridSearchCV\n",
        "\n",
        "param_grid = {\n",
        "    'hidden_layer_sizes': [(150,100,50), (120,80,40), (100,50,30)],\n",
        "    'max_iter': [50, 100],\n",
        "    'activation': ['tanh', 'relu'],\n",
        "    'solver': ['sgd', 'adam'],\n",
        "    'alpha': [0.0001, 0.05],\n",
        "    'learning_rate': ['constant','adaptive'],\n",
        "}\n",
        "mlp_reg = MLPRegressor(max_iter = 10000)\n",
        "\n",
        "grid = GridSearchCV(mlp_reg, param_grid, n_jobs= -1, cv=5)\n",
        "grid.fit(X_train,y_train)\n",
        "\n",
        "print(grid.best_params_)"
      ]
    },
    {
      "cell_type": "code",
      "execution_count": null,
      "metadata": {},
      "outputs": [],
      "source": [
        "grid_predictions = grid.predict(X_train) \n",
        "from sklearn.metrics import r2_score\n",
        "r2_score(y_true, grid_predictions)"
      ]
    },
    {
      "cell_type": "code",
      "execution_count": null,
      "metadata": {},
      "outputs": [],
      "source": [
        "df_temp2 = pd.DataFrame({'Actual': y_true, 'Predicted': grid_predictions})\n",
        "df_temp2.head()"
      ]
    },
    {
      "cell_type": "code",
      "execution_count": null,
      "metadata": {},
      "outputs": [],
      "source": [
        "import matplotlib.pyplot as plt\n",
        "\n",
        "df_temp2 = df_temp2.head(30)\n",
        "df_temp2.plot(kind='bar',figsize=(10,6))\n",
        "plt.grid(which='major', linestyle='-', linewidth='0.5', color='green')\n",
        "plt.grid(which='minor', linestyle=':', linewidth='0.5', color='black')\n",
        "plt.show()"
      ]
    },
    {
      "cell_type": "code",
      "execution_count": null,
      "metadata": {},
      "outputs": [],
      "source": [
        "from sklearn import metrics\n",
        "import numpy as np\n",
        "\n",
        "print('Mean Absolute Error:', metrics.mean_absolute_error(y_true, grid_predictions))  \n",
        "print('Mean Squared Error:', metrics.mean_squared_error(y_true, grid_predictions))  \n",
        "print('Root Mean Squared Error:', np.sqrt(metrics.mean_squared_error(y_true, grid_predictions)))"
      ]
    },
    {
      "attachments": {},
      "cell_type": "markdown",
      "metadata": {},
      "source": [
        "# ##############################"
      ]
    },
    {
      "attachments": {},
      "cell_type": "markdown",
      "metadata": {},
      "source": [
        "# Just create the model"
      ]
    },
    {
      "cell_type": "code",
      "execution_count": 67,
      "metadata": {
        "id": "5PbizRPbH0uC"
      },
      "outputs": [],
      "source": [
        "mlp_reg = MLPRegressor(hidden_layer_sizes=(10,2,5),\n",
        "                       max_iter = 10000,activation = 'relu',\n",
        "                       solver = 'adam',\n",
        "                       learning_rate='constant',\n",
        "                       alpha=0.5)\n",
        "\n"
      ]
    },
    {
      "attachments": {},
      "cell_type": "markdown",
      "metadata": {},
      "source": [
        "# Fit "
      ]
    },
    {
      "cell_type": "code",
      "execution_count": 68,
      "metadata": {},
      "outputs": [
        {
          "data": {
            "text/html": [
              "<style>#sk-container-id-3 {color: black;background-color: white;}#sk-container-id-3 pre{padding: 0;}#sk-container-id-3 div.sk-toggleable {background-color: white;}#sk-container-id-3 label.sk-toggleable__label {cursor: pointer;display: block;width: 100%;margin-bottom: 0;padding: 0.3em;box-sizing: border-box;text-align: center;}#sk-container-id-3 label.sk-toggleable__label-arrow:before {content: \"▸\";float: left;margin-right: 0.25em;color: #696969;}#sk-container-id-3 label.sk-toggleable__label-arrow:hover:before {color: black;}#sk-container-id-3 div.sk-estimator:hover label.sk-toggleable__label-arrow:before {color: black;}#sk-container-id-3 div.sk-toggleable__content {max-height: 0;max-width: 0;overflow: hidden;text-align: left;background-color: #f0f8ff;}#sk-container-id-3 div.sk-toggleable__content pre {margin: 0.2em;color: black;border-radius: 0.25em;background-color: #f0f8ff;}#sk-container-id-3 input.sk-toggleable__control:checked~div.sk-toggleable__content {max-height: 200px;max-width: 100%;overflow: auto;}#sk-container-id-3 input.sk-toggleable__control:checked~label.sk-toggleable__label-arrow:before {content: \"▾\";}#sk-container-id-3 div.sk-estimator input.sk-toggleable__control:checked~label.sk-toggleable__label {background-color: #d4ebff;}#sk-container-id-3 div.sk-label input.sk-toggleable__control:checked~label.sk-toggleable__label {background-color: #d4ebff;}#sk-container-id-3 input.sk-hidden--visually {border: 0;clip: rect(1px 1px 1px 1px);clip: rect(1px, 1px, 1px, 1px);height: 1px;margin: -1px;overflow: hidden;padding: 0;position: absolute;width: 1px;}#sk-container-id-3 div.sk-estimator {font-family: monospace;background-color: #f0f8ff;border: 1px dotted black;border-radius: 0.25em;box-sizing: border-box;margin-bottom: 0.5em;}#sk-container-id-3 div.sk-estimator:hover {background-color: #d4ebff;}#sk-container-id-3 div.sk-parallel-item::after {content: \"\";width: 100%;border-bottom: 1px solid gray;flex-grow: 1;}#sk-container-id-3 div.sk-label:hover label.sk-toggleable__label {background-color: #d4ebff;}#sk-container-id-3 div.sk-serial::before {content: \"\";position: absolute;border-left: 1px solid gray;box-sizing: border-box;top: 0;bottom: 0;left: 50%;z-index: 0;}#sk-container-id-3 div.sk-serial {display: flex;flex-direction: column;align-items: center;background-color: white;padding-right: 0.2em;padding-left: 0.2em;position: relative;}#sk-container-id-3 div.sk-item {position: relative;z-index: 1;}#sk-container-id-3 div.sk-parallel {display: flex;align-items: stretch;justify-content: center;background-color: white;position: relative;}#sk-container-id-3 div.sk-item::before, #sk-container-id-3 div.sk-parallel-item::before {content: \"\";position: absolute;border-left: 1px solid gray;box-sizing: border-box;top: 0;bottom: 0;left: 50%;z-index: -1;}#sk-container-id-3 div.sk-parallel-item {display: flex;flex-direction: column;z-index: 1;position: relative;background-color: white;}#sk-container-id-3 div.sk-parallel-item:first-child::after {align-self: flex-end;width: 50%;}#sk-container-id-3 div.sk-parallel-item:last-child::after {align-self: flex-start;width: 50%;}#sk-container-id-3 div.sk-parallel-item:only-child::after {width: 0;}#sk-container-id-3 div.sk-dashed-wrapped {border: 1px dashed gray;margin: 0 0.4em 0.5em 0.4em;box-sizing: border-box;padding-bottom: 0.4em;background-color: white;}#sk-container-id-3 div.sk-label label {font-family: monospace;font-weight: bold;display: inline-block;line-height: 1.2em;}#sk-container-id-3 div.sk-label-container {text-align: center;}#sk-container-id-3 div.sk-container {/* jupyter's `normalize.less` sets `[hidden] { display: none; }` but bootstrap.min.css set `[hidden] { display: none !important; }` so we also need the `!important` here to be able to override the default hidden behavior on the sphinx rendered scikit-learn.org. See: https://github.com/scikit-learn/scikit-learn/issues/21755 */display: inline-block !important;position: relative;}#sk-container-id-3 div.sk-text-repr-fallback {display: none;}</style><div id=\"sk-container-id-3\" class=\"sk-top-container\"><div class=\"sk-text-repr-fallback\"><pre>MLPRegressor(alpha=0.5, hidden_layer_sizes=(10, 2, 5), max_iter=10000)</pre><b>In a Jupyter environment, please rerun this cell to show the HTML representation or trust the notebook. <br />On GitHub, the HTML representation is unable to render, please try loading this page with nbviewer.org.</b></div><div class=\"sk-container\" hidden><div class=\"sk-item\"><div class=\"sk-estimator sk-toggleable\"><input class=\"sk-toggleable__control sk-hidden--visually\" id=\"sk-estimator-id-3\" type=\"checkbox\" checked><label for=\"sk-estimator-id-3\" class=\"sk-toggleable__label sk-toggleable__label-arrow\">MLPRegressor</label><div class=\"sk-toggleable__content\"><pre>MLPRegressor(alpha=0.5, hidden_layer_sizes=(10, 2, 5), max_iter=10000)</pre></div></div></div></div></div>"
            ],
            "text/plain": [
              "MLPRegressor(alpha=0.5, hidden_layer_sizes=(10, 2, 5), max_iter=10000)"
            ]
          },
          "execution_count": 68,
          "metadata": {},
          "output_type": "execute_result"
        }
      ],
      "source": [
        "mlp_reg.fit(X_train, y_train) # X is train samples and y is the corresponding labels"
      ]
    },
    {
      "attachments": {},
      "cell_type": "markdown",
      "metadata": {},
      "source": [
        "# Predict"
      ]
    },
    {
      "cell_type": "code",
      "execution_count": 69,
      "metadata": {},
      "outputs": [],
      "source": [
        "y_true, y_pred = y_test, mlp_reg.predict(X_test)"
      ]
    },
    {
      "attachments": {},
      "cell_type": "markdown",
      "metadata": {},
      "source": [
        "# Evaluation\n",
        "# https://michael-fuchs-python.netlify.app/2021/02/10/nn-multi-layer-perceptron-regressor-mlpregressor/\n",
        "# https://michael-fuchs-python.netlify.app/2019/06/30/metrics-for-regression-analysis/"
      ]
    },
    {
      "cell_type": "code",
      "execution_count": 76,
      "metadata": {
        "colab": {
          "base_uri": "https://localhost:8080/"
        },
        "id": "DPytcl4v7QYo",
        "outputId": "4c37b96b-6038-4cb1-8cda-af566c2bb2f7"
      },
      "outputs": [
        {
          "data": {
            "text/plain": [
              "0.8748393020212462"
            ]
          },
          "execution_count": 76,
          "metadata": {},
          "output_type": "execute_result"
        }
      ],
      "source": [
        "from sklearn.metrics import r2_score\n",
        "r2_score(y_true, y_pred)"
      ]
    },
    {
      "cell_type": "code",
      "execution_count": 77,
      "metadata": {},
      "outputs": [
        {
          "data": {
            "text/plain": [
              "0.8748393020212462"
            ]
          },
          "execution_count": 77,
          "metadata": {},
          "output_type": "execute_result"
        }
      ],
      "source": [
        "mlp_reg.score(X_test,y_true)\n"
      ]
    },
    {
      "cell_type": "code",
      "execution_count": 59,
      "metadata": {},
      "outputs": [
        {
          "data": {
            "text/html": [
              "<div>\n",
              "<style scoped>\n",
              "    .dataframe tbody tr th:only-of-type {\n",
              "        vertical-align: middle;\n",
              "    }\n",
              "\n",
              "    .dataframe tbody tr th {\n",
              "        vertical-align: top;\n",
              "    }\n",
              "\n",
              "    .dataframe thead th {\n",
              "        text-align: right;\n",
              "    }\n",
              "</style>\n",
              "<table border=\"1\" class=\"dataframe\">\n",
              "  <thead>\n",
              "    <tr style=\"text-align: right;\">\n",
              "      <th></th>\n",
              "      <th>Actual</th>\n",
              "      <th>Predicted</th>\n",
              "    </tr>\n",
              "  </thead>\n",
              "  <tbody>\n",
              "    <tr>\n",
              "      <th>49107</th>\n",
              "      <td>2080.000000</td>\n",
              "      <td>1924.958584</td>\n",
              "    </tr>\n",
              "    <tr>\n",
              "      <th>54390</th>\n",
              "      <td>3574.666667</td>\n",
              "      <td>4284.479328</td>\n",
              "    </tr>\n",
              "    <tr>\n",
              "      <th>1864</th>\n",
              "      <td>4072.333333</td>\n",
              "      <td>3503.503397</td>\n",
              "    </tr>\n",
              "    <tr>\n",
              "      <th>26373</th>\n",
              "      <td>0.000000</td>\n",
              "      <td>27.045843</td>\n",
              "    </tr>\n",
              "    <tr>\n",
              "      <th>58115</th>\n",
              "      <td>4403.333333</td>\n",
              "      <td>4300.160364</td>\n",
              "    </tr>\n",
              "  </tbody>\n",
              "</table>\n",
              "</div>"
            ],
            "text/plain": [
              "            Actual    Predicted\n",
              "49107  2080.000000  1924.958584\n",
              "54390  3574.666667  4284.479328\n",
              "1864   4072.333333  3503.503397\n",
              "26373     0.000000    27.045843\n",
              "58115  4403.333333  4300.160364"
            ]
          },
          "execution_count": 59,
          "metadata": {},
          "output_type": "execute_result"
        }
      ],
      "source": [
        "df_temp = pd.DataFrame({'Actual': y_true, 'Predicted': y_pred})\n",
        "df_temp.head()"
      ]
    },
    {
      "cell_type": "code",
      "execution_count": 60,
      "metadata": {},
      "outputs": [
        {
          "data": {
            "image/png": "[encoded data removed]",
            "text/plain": [
              "<Figure size 1000x600 with 1 Axes>"
            ]
          },
          "metadata": {},
          "output_type": "display_data"
        }
      ],
      "source": [
        "import matplotlib.pyplot as plt\n",
        "\n",
        "df_temp = df_temp.head(30)\n",
        "df_temp.plot(kind='bar',figsize=(10,6))\n",
        "plt.grid(which='major', linestyle='-', linewidth='0.5', color='green')\n",
        "plt.grid(which='minor', linestyle=':', linewidth='0.5', color='black')\n",
        "plt.show()\n"
      ]
    },
    {
      "cell_type": "code",
      "execution_count": 62,
      "metadata": {},
      "outputs": [
        {
          "name": "stdout",
          "output_type": "stream",
          "text": [
            "Mean Absolute Error: 241.9078381996166\n",
            "Mean Squared Error: 216336.3351824172\n",
            "Root Mean Squared Error: 465.1196998434029\n"
          ]
        }
      ],
      "source": [
        "from sklearn import metrics\n",
        "import numpy as np\n",
        "\n",
        "print('Mean Absolute Error:', metrics.mean_absolute_error(y_true, y_pred))  \n",
        "print('Mean Squared Error:', metrics.mean_squared_error(y_true, y_pred))  \n",
        "print('Root Mean Squared Error:', np.sqrt(metrics.mean_squared_error(y_true, y_pred)))"
      ]
    },
    {
      "cell_type": "code",
      "execution_count": 63,
      "metadata": {},
      "outputs": [
        {
          "data": {
            "image/png": "[encoded data removed]",
            "text/plain": [
              "<Figure size 640x480 with 1 Axes>"
            ]
          },
          "metadata": {},
          "output_type": "display_data"
        }
      ],
      "source": [
        "plt.plot(mlp_reg.loss_curve_)\n",
        "plt.title(\"Loss Curve\", fontsize=14)\n",
        "plt.xlabel('Iterations')\n",
        "plt.ylabel('Cost')\n",
        "plt.show()"
      ]
    },
    {
      "attachments": {},
      "cell_type": "markdown",
      "metadata": {},
      "source": [
        "Save the Model with Pickle"
      ]
    },
    {
      "cell_type": "code",
      "execution_count": 71,
      "metadata": {},
      "outputs": [],
      "source": [
        "# save the model to disk\n",
        "filename = 'MLPRegressor_finalized_model.pkl'\n",
        "pickle.dump(mlp_reg, open(filename, 'wb'))"
      ]
    },
    {
      "cell_type": "code",
      "execution_count": 78,
      "metadata": {},
      "outputs": [
        {
          "name": "stdout",
          "output_type": "stream",
          "text": [
            "0.8748393020212462\n",
            "0.8748393020212462\n"
          ]
        }
      ],
      "source": [
        "# load the model from disk\n",
        "loaded_model = pickle.load(open(filename, 'rb'))\n",
        "result = loaded_model.score(X_test,y_true)\n",
        "y_true2, y_pred2 = y_test, loaded_model.predict(X_test)\n",
        "r2s = r2_score(y_true2, y_pred2)\n",
        "\n",
        "print(result)\n",
        "print(r2s)"
      ]
    },
    {
      "attachments": {},
      "cell_type": "markdown",
      "metadata": {},
      "source": [
        "# Testing"
      ]
    },
    {
      "attachments": {},
      "cell_type": "markdown",
      "metadata": {},
      "source": [
        "# #######################3"
      ]
    },
    {
      "cell_type": "code",
      "execution_count": null,
      "metadata": {
        "id": "nixhkn0fRseE"
      },
      "outputs": [],
      "source": [
        "from sklearn import metrics\n",
        "\n",
        "\n",
        "expected_y = y_true\n",
        "predicted_y = y_pred\n",
        "\n",
        "print(metrics.r2_score(expected_y, predicted_y))\n",
        "print(metrics.mean_squared_log_error(expected_y, predicted_y))"
      ]
    },
    {
      "cell_type": "code",
      "execution_count": null,
      "metadata": {
        "id": "QYVNaMi0R9nu"
      },
      "outputs": [],
      "source": [
        "import matplotlib.pyplot as plt\n",
        "import seaborn as sns\n",
        "\n",
        "plt.figure(figsize=(10,10))\n",
        "sns.regplot(expected_y, predicted_y, fit_reg=True, scatter_kws={\"s\": 100})"
      ]
    }
  ],
  "metadata": {
    "colab": {
      "provenance": []
    },
    "kernelspec": {
      "display_name": "Python 3",
      "language": "python",
      "name": "python3"
    },
    "language_info": {
      "codemirror_mode": {
        "name": "ipython",
        "version": 3
      },
      "file_extension": ".py",
      "mimetype": "text/x-python",
      "name": "python",
      "nbconvert_exporter": "python",
      "pygments_lexer": "ipython3",
      "version": "3.10.5"
    },
    "vscode": {
      "interpreter": {
        "hash": "5722daad9755055b013a651651e76bfefcd0039befef69efb03fa00fbea6a530"
      }
    }
  },
  "nbformat": 4,
  "nbformat_minor": 0
}
