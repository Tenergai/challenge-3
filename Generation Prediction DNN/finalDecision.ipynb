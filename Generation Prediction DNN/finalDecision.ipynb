{
 "cells": [
  {
   "cell_type": "code",
   "execution_count": 14,
   "metadata": {},
   "outputs": [],
   "source": [
    "def getDevices(devices, totalGeneration):\n",
    "    max=0\n",
    "    devices_final=[]\n",
    "    sorted_devices = sorted(devices, key=lambda x: x['priority'], reverse=True)\n",
    "    for d in sorted_devices:\n",
    "        c=d.get('consumption')\n",
    "        if (c+max)<=totalGeneration:\n",
    "            max+=c\n",
    "            devices_final.append(d.get('name'))\n",
    "    notTurnedOn=len(devices)-len(devices_final)\n",
    "    return devices_final, notTurnedOn\n"
   ]
  },
  {
   "cell_type": "code",
   "execution_count": 18,
   "metadata": {},
   "outputs": [
    {
     "name": "stdout",
     "output_type": "stream",
     "text": [
      "['ac', 'ev']\n",
      "1\n"
     ]
    }
   ],
   "source": [
    "d=[{\n",
    "    'name':'ref',\n",
    "    'priority':4,\n",
    "    'consumption':200\n",
    "},\n",
    "{\n",
    "    'name':'ev',\n",
    "    'priority':9,\n",
    "    'consumption':500\n",
    "},\n",
    "{\n",
    "    'name':'ac',\n",
    "    'priority':10,\n",
    "    'consumption':200\n",
    "}]\n",
    "dev, n=getDevices(d, 700)\n",
    "print(dev)\n",
    "print(n)"
   ]
  }
 ],
 "metadata": {
  "kernelspec": {
   "display_name": "Python 3",
   "language": "python",
   "name": "python3"
  },
  "language_info": {
   "codemirror_mode": {
    "name": "ipython",
    "version": 3
   },
   "file_extension": ".py",
   "mimetype": "text/x-python",
   "name": "python",
   "nbconvert_exporter": "python",
   "pygments_lexer": "ipython3",
   "version": "3.10.10"
  },
  "orig_nbformat": 4
 },
 "nbformat": 4,
 "nbformat_minor": 2
}
