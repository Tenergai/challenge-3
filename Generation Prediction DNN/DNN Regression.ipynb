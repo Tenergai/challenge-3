{
 "cells": [
  {
   "attachments": {},
   "cell_type": "markdown",
   "metadata": {},
   "source": [
    "# Prepare Data"
   ]
  },
  {
   "cell_type": "code",
   "execution_count": 1,
   "metadata": {},
   "outputs": [],
   "source": [
    "#from https://thinkingneuron.com/using-artificial-neural-networks-for-regression-in-python/\n",
    "\n",
    "import pandas as pd\n",
    "import seaborn as sns\n",
    "from sklearn.neural_network import MLPRegressor\n",
    "import itertools\n",
    "from sklearn.model_selection import cross_validate, RandomizedSearchCV, train_test_split\n",
    "from sklearn.metrics import balanced_accuracy_score, confusion_matrix\n",
    "import pickle\n",
    "df = pd.read_csv(\"../PreProcessamentoDados/cleanedData.csv\")"
   ]
  },
  {
   "cell_type": "code",
   "execution_count": 2,
   "metadata": {},
   "outputs": [],
   "source": [
    "df[['Hour','Minute','Second']] = df.DateTime.str.split(\":\",expand=True)"
   ]
  },
  {
   "cell_type": "code",
   "execution_count": 3,
   "metadata": {},
   "outputs": [],
   "source": [
    "# define a dictionary of column names and their corresponding data types\n",
    "dtypes_dict = {'Hour': float, 'Minute': float}\n",
    "\n",
    "# convert the columns to their corresponding data types\n",
    "df = df.astype(dtypes_dict)"
   ]
  },
  {
   "cell_type": "code",
   "execution_count": null,
   "metadata": {},
   "outputs": [],
   "source": [
    "df.dtypes"
   ]
  },
  {
   "cell_type": "code",
   "execution_count": 5,
   "metadata": {},
   "outputs": [
    {
     "data": {
      "text/html": [
       "<div>\n",
       "<style scoped>\n",
       "    .dataframe tbody tr th:only-of-type {\n",
       "        vertical-align: middle;\n",
       "    }\n",
       "\n",
       "    .dataframe tbody tr th {\n",
       "        vertical-align: top;\n",
       "    }\n",
       "\n",
       "    .dataframe thead th {\n",
       "        text-align: right;\n",
       "    }\n",
       "</style>\n",
       "<table border=\"1\" class=\"dataframe\">\n",
       "  <thead>\n",
       "    <tr style=\"text-align: right;\">\n",
       "      <th></th>\n",
       "      <th>DateTime</th>\n",
       "      <th>Generated power</th>\n",
       "      <th>TemperatureC</th>\n",
       "      <th>DewpointC</th>\n",
       "      <th>PressurehPa</th>\n",
       "      <th>WindDirectionDegrees</th>\n",
       "      <th>WindSpeedKMH</th>\n",
       "      <th>WindSpeedGustKMH</th>\n",
       "      <th>Humidity</th>\n",
       "      <th>HourlyPrecipMM</th>\n",
       "      <th>dailyrainMM</th>\n",
       "      <th>SolarRadiationWatts_m2</th>\n",
       "      <th>Hour</th>\n",
       "      <th>Minute</th>\n",
       "      <th>Second</th>\n",
       "    </tr>\n",
       "  </thead>\n",
       "  <tbody>\n",
       "    <tr>\n",
       "      <th>0</th>\n",
       "      <td>00:15:00</td>\n",
       "      <td>0.0</td>\n",
       "      <td>11.0</td>\n",
       "      <td>8.0</td>\n",
       "      <td>1021.0</td>\n",
       "      <td>128.333333</td>\n",
       "      <td>8.666667</td>\n",
       "      <td>17.000000</td>\n",
       "      <td>83.000000</td>\n",
       "      <td>0.0</td>\n",
       "      <td>0.0</td>\n",
       "      <td>0.0</td>\n",
       "      <td>0.0</td>\n",
       "      <td>15.0</td>\n",
       "      <td>00</td>\n",
       "    </tr>\n",
       "    <tr>\n",
       "      <th>1</th>\n",
       "      <td>00:30:00</td>\n",
       "      <td>0.0</td>\n",
       "      <td>11.0</td>\n",
       "      <td>8.0</td>\n",
       "      <td>1021.0</td>\n",
       "      <td>133.333333</td>\n",
       "      <td>1.333333</td>\n",
       "      <td>19.000000</td>\n",
       "      <td>83.000000</td>\n",
       "      <td>0.0</td>\n",
       "      <td>0.0</td>\n",
       "      <td>0.0</td>\n",
       "      <td>0.0</td>\n",
       "      <td>30.0</td>\n",
       "      <td>00</td>\n",
       "    </tr>\n",
       "    <tr>\n",
       "      <th>2</th>\n",
       "      <td>00:45:00</td>\n",
       "      <td>0.0</td>\n",
       "      <td>11.0</td>\n",
       "      <td>8.0</td>\n",
       "      <td>1021.0</td>\n",
       "      <td>127.666667</td>\n",
       "      <td>3.000000</td>\n",
       "      <td>12.333333</td>\n",
       "      <td>82.333333</td>\n",
       "      <td>0.0</td>\n",
       "      <td>0.0</td>\n",
       "      <td>0.0</td>\n",
       "      <td>0.0</td>\n",
       "      <td>45.0</td>\n",
       "      <td>00</td>\n",
       "    </tr>\n",
       "    <tr>\n",
       "      <th>3</th>\n",
       "      <td>01:00:00</td>\n",
       "      <td>0.0</td>\n",
       "      <td>11.0</td>\n",
       "      <td>8.0</td>\n",
       "      <td>1021.0</td>\n",
       "      <td>128.000000</td>\n",
       "      <td>1.333333</td>\n",
       "      <td>10.000000</td>\n",
       "      <td>81.000000</td>\n",
       "      <td>0.0</td>\n",
       "      <td>0.0</td>\n",
       "      <td>0.0</td>\n",
       "      <td>1.0</td>\n",
       "      <td>0.0</td>\n",
       "      <td>00</td>\n",
       "    </tr>\n",
       "    <tr>\n",
       "      <th>4</th>\n",
       "      <td>01:15:00</td>\n",
       "      <td>0.0</td>\n",
       "      <td>11.0</td>\n",
       "      <td>8.0</td>\n",
       "      <td>1021.0</td>\n",
       "      <td>130.000000</td>\n",
       "      <td>2.666667</td>\n",
       "      <td>11.000000</td>\n",
       "      <td>80.666667</td>\n",
       "      <td>0.0</td>\n",
       "      <td>0.0</td>\n",
       "      <td>0.0</td>\n",
       "      <td>1.0</td>\n",
       "      <td>15.0</td>\n",
       "      <td>00</td>\n",
       "    </tr>\n",
       "  </tbody>\n",
       "</table>\n",
       "</div>"
      ],
      "text/plain": [
       "   DateTime  Generated power  TemperatureC  DewpointC  PressurehPa  \\\n",
       "0  00:15:00              0.0          11.0        8.0       1021.0   \n",
       "1  00:30:00              0.0          11.0        8.0       1021.0   \n",
       "2  00:45:00              0.0          11.0        8.0       1021.0   \n",
       "3  01:00:00              0.0          11.0        8.0       1021.0   \n",
       "4  01:15:00              0.0          11.0        8.0       1021.0   \n",
       "\n",
       "   WindDirectionDegrees  WindSpeedKMH  WindSpeedGustKMH   Humidity  \\\n",
       "0            128.333333      8.666667         17.000000  83.000000   \n",
       "1            133.333333      1.333333         19.000000  83.000000   \n",
       "2            127.666667      3.000000         12.333333  82.333333   \n",
       "3            128.000000      1.333333         10.000000  81.000000   \n",
       "4            130.000000      2.666667         11.000000  80.666667   \n",
       "\n",
       "   HourlyPrecipMM  dailyrainMM  SolarRadiationWatts_m2  Hour  Minute Second  \n",
       "0             0.0          0.0                     0.0   0.0    15.0     00  \n",
       "1             0.0          0.0                     0.0   0.0    30.0     00  \n",
       "2             0.0          0.0                     0.0   0.0    45.0     00  \n",
       "3             0.0          0.0                     0.0   1.0     0.0     00  \n",
       "4             0.0          0.0                     0.0   1.0    15.0     00  "
      ]
     },
     "execution_count": 5,
     "metadata": {},
     "output_type": "execute_result"
    }
   ],
   "source": [
    "df.head()"
   ]
  },
  {
   "cell_type": "code",
   "execution_count": 22,
   "metadata": {},
   "outputs": [],
   "source": [
    "# Separate Target Variable and Predictor Variables\n",
    "TargetVariable = [\"Generated power\"]\n",
    "Predictors= [\"Hour\",\"Minute\",\"TemperatureC\",\"DewpointC\",\"PressurehPa\",\"WindDirectionDegrees\",\"WindSpeedKMH\",\"WindSpeedGustKMH\",\"Humidity\",\"HourlyPrecipMM\",\"dailyrainMM\",\"SolarRadiationWatts_m2\"]\n",
    "df_x = df[Predictors]\n",
    "df_y = df[TargetVariable]\n",
    "X=df[Predictors].values\n",
    "y=df[TargetVariable].values\n",
    "original_X = X\n",
    "original_y = y"
   ]
  },
  {
   "cell_type": "code",
   "execution_count": 8,
   "metadata": {},
   "outputs": [
    {
     "data": {
      "text/html": [
       "<div>\n",
       "<style scoped>\n",
       "    .dataframe tbody tr th:only-of-type {\n",
       "        vertical-align: middle;\n",
       "    }\n",
       "\n",
       "    .dataframe tbody tr th {\n",
       "        vertical-align: top;\n",
       "    }\n",
       "\n",
       "    .dataframe thead th {\n",
       "        text-align: right;\n",
       "    }\n",
       "</style>\n",
       "<table border=\"1\" class=\"dataframe\">\n",
       "  <thead>\n",
       "    <tr style=\"text-align: right;\">\n",
       "      <th></th>\n",
       "      <th>Hour</th>\n",
       "      <th>Minute</th>\n",
       "      <th>TemperatureC</th>\n",
       "      <th>DewpointC</th>\n",
       "      <th>PressurehPa</th>\n",
       "      <th>WindDirectionDegrees</th>\n",
       "      <th>WindSpeedKMH</th>\n",
       "      <th>WindSpeedGustKMH</th>\n",
       "      <th>Humidity</th>\n",
       "      <th>HourlyPrecipMM</th>\n",
       "      <th>dailyrainMM</th>\n",
       "      <th>SolarRadiationWatts_m2</th>\n",
       "    </tr>\n",
       "  </thead>\n",
       "  <tbody>\n",
       "    <tr>\n",
       "      <th>0</th>\n",
       "      <td>0.0</td>\n",
       "      <td>15.0</td>\n",
       "      <td>11.000000</td>\n",
       "      <td>8.000000</td>\n",
       "      <td>1021.0</td>\n",
       "      <td>128.333333</td>\n",
       "      <td>8.666667</td>\n",
       "      <td>17.000000</td>\n",
       "      <td>83.000000</td>\n",
       "      <td>0.0</td>\n",
       "      <td>0.0</td>\n",
       "      <td>0.0</td>\n",
       "    </tr>\n",
       "    <tr>\n",
       "      <th>1</th>\n",
       "      <td>0.0</td>\n",
       "      <td>30.0</td>\n",
       "      <td>11.000000</td>\n",
       "      <td>8.000000</td>\n",
       "      <td>1021.0</td>\n",
       "      <td>133.333333</td>\n",
       "      <td>1.333333</td>\n",
       "      <td>19.000000</td>\n",
       "      <td>83.000000</td>\n",
       "      <td>0.0</td>\n",
       "      <td>0.0</td>\n",
       "      <td>0.0</td>\n",
       "    </tr>\n",
       "    <tr>\n",
       "      <th>2</th>\n",
       "      <td>0.0</td>\n",
       "      <td>45.0</td>\n",
       "      <td>11.000000</td>\n",
       "      <td>8.000000</td>\n",
       "      <td>1021.0</td>\n",
       "      <td>127.666667</td>\n",
       "      <td>3.000000</td>\n",
       "      <td>12.333333</td>\n",
       "      <td>82.333333</td>\n",
       "      <td>0.0</td>\n",
       "      <td>0.0</td>\n",
       "      <td>0.0</td>\n",
       "    </tr>\n",
       "    <tr>\n",
       "      <th>3</th>\n",
       "      <td>1.0</td>\n",
       "      <td>0.0</td>\n",
       "      <td>11.000000</td>\n",
       "      <td>8.000000</td>\n",
       "      <td>1021.0</td>\n",
       "      <td>128.000000</td>\n",
       "      <td>1.333333</td>\n",
       "      <td>10.000000</td>\n",
       "      <td>81.000000</td>\n",
       "      <td>0.0</td>\n",
       "      <td>0.0</td>\n",
       "      <td>0.0</td>\n",
       "    </tr>\n",
       "    <tr>\n",
       "      <th>4</th>\n",
       "      <td>1.0</td>\n",
       "      <td>15.0</td>\n",
       "      <td>11.000000</td>\n",
       "      <td>8.000000</td>\n",
       "      <td>1021.0</td>\n",
       "      <td>130.000000</td>\n",
       "      <td>2.666667</td>\n",
       "      <td>11.000000</td>\n",
       "      <td>80.666667</td>\n",
       "      <td>0.0</td>\n",
       "      <td>0.0</td>\n",
       "      <td>0.0</td>\n",
       "    </tr>\n",
       "    <tr>\n",
       "      <th>...</th>\n",
       "      <td>...</td>\n",
       "      <td>...</td>\n",
       "      <td>...</td>\n",
       "      <td>...</td>\n",
       "      <td>...</td>\n",
       "      <td>...</td>\n",
       "      <td>...</td>\n",
       "      <td>...</td>\n",
       "      <td>...</td>\n",
       "      <td>...</td>\n",
       "      <td>...</td>\n",
       "      <td>...</td>\n",
       "    </tr>\n",
       "    <tr>\n",
       "      <th>63354</th>\n",
       "      <td>22.0</td>\n",
       "      <td>45.0</td>\n",
       "      <td>9.333333</td>\n",
       "      <td>5.000000</td>\n",
       "      <td>1030.0</td>\n",
       "      <td>135.000000</td>\n",
       "      <td>1.666667</td>\n",
       "      <td>3.333333</td>\n",
       "      <td>74.000000</td>\n",
       "      <td>0.0</td>\n",
       "      <td>0.0</td>\n",
       "      <td>0.0</td>\n",
       "    </tr>\n",
       "    <tr>\n",
       "      <th>63355</th>\n",
       "      <td>23.0</td>\n",
       "      <td>0.0</td>\n",
       "      <td>9.000000</td>\n",
       "      <td>5.000000</td>\n",
       "      <td>1030.0</td>\n",
       "      <td>135.000000</td>\n",
       "      <td>3.000000</td>\n",
       "      <td>3.666667</td>\n",
       "      <td>74.000000</td>\n",
       "      <td>0.0</td>\n",
       "      <td>0.0</td>\n",
       "      <td>0.0</td>\n",
       "    </tr>\n",
       "    <tr>\n",
       "      <th>63356</th>\n",
       "      <td>23.0</td>\n",
       "      <td>15.0</td>\n",
       "      <td>9.000000</td>\n",
       "      <td>5.000000</td>\n",
       "      <td>1030.0</td>\n",
       "      <td>135.000000</td>\n",
       "      <td>2.666667</td>\n",
       "      <td>4.000000</td>\n",
       "      <td>74.000000</td>\n",
       "      <td>0.0</td>\n",
       "      <td>0.0</td>\n",
       "      <td>0.0</td>\n",
       "    </tr>\n",
       "    <tr>\n",
       "      <th>63357</th>\n",
       "      <td>23.0</td>\n",
       "      <td>30.0</td>\n",
       "      <td>8.666667</td>\n",
       "      <td>5.000000</td>\n",
       "      <td>1030.0</td>\n",
       "      <td>132.000000</td>\n",
       "      <td>6.000000</td>\n",
       "      <td>5.333333</td>\n",
       "      <td>75.000000</td>\n",
       "      <td>0.0</td>\n",
       "      <td>0.0</td>\n",
       "      <td>0.0</td>\n",
       "    </tr>\n",
       "    <tr>\n",
       "      <th>63358</th>\n",
       "      <td>23.0</td>\n",
       "      <td>45.0</td>\n",
       "      <td>8.333333</td>\n",
       "      <td>4.666667</td>\n",
       "      <td>1030.0</td>\n",
       "      <td>134.666667</td>\n",
       "      <td>3.000000</td>\n",
       "      <td>8.333333</td>\n",
       "      <td>75.000000</td>\n",
       "      <td>0.0</td>\n",
       "      <td>0.0</td>\n",
       "      <td>0.0</td>\n",
       "    </tr>\n",
       "  </tbody>\n",
       "</table>\n",
       "<p>63359 rows × 12 columns</p>\n",
       "</div>"
      ],
      "text/plain": [
       "       Hour  Minute  TemperatureC  DewpointC  PressurehPa  \\\n",
       "0       0.0    15.0     11.000000   8.000000       1021.0   \n",
       "1       0.0    30.0     11.000000   8.000000       1021.0   \n",
       "2       0.0    45.0     11.000000   8.000000       1021.0   \n",
       "3       1.0     0.0     11.000000   8.000000       1021.0   \n",
       "4       1.0    15.0     11.000000   8.000000       1021.0   \n",
       "...     ...     ...           ...        ...          ...   \n",
       "63354  22.0    45.0      9.333333   5.000000       1030.0   \n",
       "63355  23.0     0.0      9.000000   5.000000       1030.0   \n",
       "63356  23.0    15.0      9.000000   5.000000       1030.0   \n",
       "63357  23.0    30.0      8.666667   5.000000       1030.0   \n",
       "63358  23.0    45.0      8.333333   4.666667       1030.0   \n",
       "\n",
       "       WindDirectionDegrees  WindSpeedKMH  WindSpeedGustKMH   Humidity  \\\n",
       "0                128.333333      8.666667         17.000000  83.000000   \n",
       "1                133.333333      1.333333         19.000000  83.000000   \n",
       "2                127.666667      3.000000         12.333333  82.333333   \n",
       "3                128.000000      1.333333         10.000000  81.000000   \n",
       "4                130.000000      2.666667         11.000000  80.666667   \n",
       "...                     ...           ...               ...        ...   \n",
       "63354            135.000000      1.666667          3.333333  74.000000   \n",
       "63355            135.000000      3.000000          3.666667  74.000000   \n",
       "63356            135.000000      2.666667          4.000000  74.000000   \n",
       "63357            132.000000      6.000000          5.333333  75.000000   \n",
       "63358            134.666667      3.000000          8.333333  75.000000   \n",
       "\n",
       "       HourlyPrecipMM  dailyrainMM  SolarRadiationWatts_m2  \n",
       "0                 0.0          0.0                     0.0  \n",
       "1                 0.0          0.0                     0.0  \n",
       "2                 0.0          0.0                     0.0  \n",
       "3                 0.0          0.0                     0.0  \n",
       "4                 0.0          0.0                     0.0  \n",
       "...               ...          ...                     ...  \n",
       "63354             0.0          0.0                     0.0  \n",
       "63355             0.0          0.0                     0.0  \n",
       "63356             0.0          0.0                     0.0  \n",
       "63357             0.0          0.0                     0.0  \n",
       "63358             0.0          0.0                     0.0  \n",
       "\n",
       "[63359 rows x 12 columns]"
      ]
     },
     "execution_count": 8,
     "metadata": {},
     "output_type": "execute_result"
    }
   ],
   "source": [
    "df_x"
   ]
  },
  {
   "attachments": {},
   "cell_type": "markdown",
   "metadata": {},
   "source": [
    "## Use one standardization"
   ]
  },
  {
   "attachments": {},
   "cell_type": "markdown",
   "metadata": {},
   "source": [
    "### Standard Scaler"
   ]
  },
  {
   "cell_type": "code",
   "execution_count": 23,
   "metadata": {},
   "outputs": [],
   "source": [
    "### Standardization of data ###\n",
    "from sklearn.preprocessing import StandardScaler\n",
    "PredictorScaler=StandardScaler()\n",
    "TargetVarScaler=StandardScaler()\n",
    " \n",
    "# Storing the fit object for later reference\n",
    "PredictorScalerFit=PredictorScaler.fit(X)\n",
    "TargetVarScalerFit=TargetVarScaler.fit(y)\n"
   ]
  },
  {
   "attachments": {},
   "cell_type": "markdown",
   "metadata": {},
   "source": [
    "### MinMaxScaler"
   ]
  },
  {
   "cell_type": "code",
   "execution_count": 18,
   "metadata": {},
   "outputs": [],
   "source": [
    "### Standardization of data ###\n",
    "from sklearn.preprocessing import MinMaxScaler\n",
    "PredictorScaler=MinMaxScaler()\n",
    "TargetVarScaler=MinMaxScaler()\n",
    " \n",
    "# Storing the fit object for later reference\n",
    "PredictorScalerFit=PredictorScaler.fit(X)\n",
    "TargetVarScalerFit=TargetVarScaler.fit(y)\n"
   ]
  },
  {
   "cell_type": "code",
   "execution_count": 24,
   "metadata": {},
   "outputs": [],
   "source": [
    "# Generating the standardized values of X and y\n",
    "\n",
    "\n",
    "X=PredictorScalerFit.transform(X)\n",
    "y=TargetVarScalerFit.transform(y)\n",
    " "
   ]
  },
  {
   "cell_type": "code",
   "execution_count": 25,
   "metadata": {},
   "outputs": [],
   "source": [
    "# Split the data into training and testing set\n",
    "from sklearn.model_selection import train_test_split\n",
    "X_train, X_test, y_train, y_test = train_test_split(X, y, test_size=0.3, random_state=42)"
   ]
  },
  {
   "cell_type": "code",
   "execution_count": 8,
   "metadata": {},
   "outputs": [
    {
     "name": "stdout",
     "output_type": "stream",
     "text": [
      "(44351, 12)\n",
      "(44351, 1)\n",
      "(19008, 12)\n",
      "(19008, 1)\n"
     ]
    }
   ],
   "source": [
    "# Quick sanity check with the shapes of Training and testing datasets\n",
    "print(X_train.shape)\n",
    "print(y_train.shape)\n",
    "print(X_test.shape)\n",
    "print(y_test.shape)"
   ]
  },
  {
   "cell_type": "code",
   "execution_count": 9,
   "metadata": {},
   "outputs": [],
   "source": [
    "from keras.models import Sequential\n",
    "from keras.layers import Dense\n",
    " \n",
    "# create ANN model\n",
    "model = Sequential()\n",
    " \n",
    "# Defining the Input layer and FIRST hidden layer, both are same!\n",
    "model.add(Dense(units=5, input_dim=X_train.shape[1], kernel_initializer='normal', activation='relu'))\n",
    " \n",
    "# Defining the Second layer of the model\n",
    "# after the first layer we don't have to specify input_dim as keras configure it automatically\n",
    "model.add(Dense(units=10, kernel_initializer='normal', activation='tanh'))\n",
    "model.add(Dense(units=8, kernel_initializer='normal', activation='tanh'))\n",
    "# model.add(Dense(units=5, kernel_initializer='normal', activation='tanh'))\n",
    "\n",
    " \n",
    "# The output neuron is a single fully connected node \n",
    "# Since we will be predicting a single number\n",
    "model.add(Dense(1, kernel_initializer='normal'))"
   ]
  },
  {
   "cell_type": "code",
   "execution_count": 10,
   "metadata": {},
   "outputs": [],
   "source": [
    "\n",
    "# Compiling the model\n",
    "model.compile(loss='mean_squared_error', optimizer='adam',metrics=['mean_absolute_error'])"
   ]
  },
  {
   "cell_type": "code",
   "execution_count": 20,
   "metadata": {},
   "outputs": [
    {
     "name": "stdout",
     "output_type": "stream",
     "text": [
      "Epoch 1/100\n",
      "1981/1981 [==============================] - 3s 2ms/step - loss: 0.1161 - mean_absolute_error: 0.1791 - val_loss: 0.1110 - val_mean_absolute_error: 0.1863\n",
      "Epoch 2/100\n",
      "1981/1981 [==============================] - 3s 2ms/step - loss: 0.1156 - mean_absolute_error: 0.1788 - val_loss: 0.1108 - val_mean_absolute_error: 0.1757\n",
      "Epoch 3/100\n",
      "1981/1981 [==============================] - 3s 2ms/step - loss: 0.1153 - mean_absolute_error: 0.1793 - val_loss: 0.1114 - val_mean_absolute_error: 0.1821\n",
      "Epoch 4/100\n",
      "1981/1981 [==============================] - 3s 2ms/step - loss: 0.1152 - mean_absolute_error: 0.1776 - val_loss: 0.1122 - val_mean_absolute_error: 0.1837\n",
      "Epoch 5/100\n",
      "1981/1981 [==============================] - 3s 2ms/step - loss: 0.1152 - mean_absolute_error: 0.1780 - val_loss: 0.1083 - val_mean_absolute_error: 0.1692\n",
      "Epoch 6/100\n",
      "1981/1981 [==============================] - 3s 2ms/step - loss: 0.1148 - mean_absolute_error: 0.1769 - val_loss: 0.1091 - val_mean_absolute_error: 0.1781\n",
      "Epoch 7/100\n",
      "1981/1981 [==============================] - 3s 2ms/step - loss: 0.1140 - mean_absolute_error: 0.1762 - val_loss: 0.1100 - val_mean_absolute_error: 0.1635\n",
      "Epoch 8/100\n",
      "1981/1981 [==============================] - 3s 2ms/step - loss: 0.1143 - mean_absolute_error: 0.1767 - val_loss: 0.1103 - val_mean_absolute_error: 0.1693\n",
      "Epoch 9/100\n",
      "1981/1981 [==============================] - 3s 2ms/step - loss: 0.1137 - mean_absolute_error: 0.1769 - val_loss: 0.1094 - val_mean_absolute_error: 0.1653\n",
      "Epoch 10/100\n",
      "1981/1981 [==============================] - 3s 2ms/step - loss: 0.1137 - mean_absolute_error: 0.1762 - val_loss: 0.1087 - val_mean_absolute_error: 0.1842\n",
      "Epoch 11/100\n",
      "1981/1981 [==============================] - 3s 2ms/step - loss: 0.1131 - mean_absolute_error: 0.1757 - val_loss: 0.1088 - val_mean_absolute_error: 0.1598\n",
      "Epoch 12/100\n",
      "1981/1981 [==============================] - 3s 2ms/step - loss: 0.1132 - mean_absolute_error: 0.1754 - val_loss: 0.1079 - val_mean_absolute_error: 0.1643\n",
      "Epoch 13/100\n",
      "1981/1981 [==============================] - 3s 2ms/step - loss: 0.1135 - mean_absolute_error: 0.1759 - val_loss: 0.1093 - val_mean_absolute_error: 0.1912\n",
      "Epoch 14/100\n",
      "1981/1981 [==============================] - 3s 2ms/step - loss: 0.1127 - mean_absolute_error: 0.1753 - val_loss: 0.1141 - val_mean_absolute_error: 0.1772\n",
      "Epoch 15/100\n",
      "1981/1981 [==============================] - 3s 2ms/step - loss: 0.1128 - mean_absolute_error: 0.1751 - val_loss: 0.1088 - val_mean_absolute_error: 0.1671\n",
      "Epoch 16/100\n",
      "1981/1981 [==============================] - 3s 2ms/step - loss: 0.1127 - mean_absolute_error: 0.1745 - val_loss: 0.1069 - val_mean_absolute_error: 0.1726\n",
      "Epoch 17/100\n",
      "1981/1981 [==============================] - 3s 2ms/step - loss: 0.1119 - mean_absolute_error: 0.1752 - val_loss: 0.1078 - val_mean_absolute_error: 0.1729\n",
      "Epoch 18/100\n",
      "1981/1981 [==============================] - 3s 2ms/step - loss: 0.1128 - mean_absolute_error: 0.1752 - val_loss: 0.1127 - val_mean_absolute_error: 0.1831\n",
      "Epoch 19/100\n",
      "1981/1981 [==============================] - 3s 2ms/step - loss: 0.1121 - mean_absolute_error: 0.1749 - val_loss: 0.1067 - val_mean_absolute_error: 0.1677\n",
      "Epoch 20/100\n",
      "1981/1981 [==============================] - 3s 2ms/step - loss: 0.1120 - mean_absolute_error: 0.1741 - val_loss: 0.1076 - val_mean_absolute_error: 0.1657\n",
      "Epoch 21/100\n",
      "1981/1981 [==============================] - 3s 2ms/step - loss: 0.1119 - mean_absolute_error: 0.1745 - val_loss: 0.1071 - val_mean_absolute_error: 0.1717\n",
      "Epoch 22/100\n",
      "1981/1981 [==============================] - 3s 2ms/step - loss: 0.1119 - mean_absolute_error: 0.1741 - val_loss: 0.1138 - val_mean_absolute_error: 0.1790\n",
      "Epoch 23/100\n",
      "1981/1981 [==============================] - 3s 2ms/step - loss: 0.1122 - mean_absolute_error: 0.1737 - val_loss: 0.1076 - val_mean_absolute_error: 0.1652\n",
      "Epoch 24/100\n",
      "1981/1981 [==============================] - 3s 2ms/step - loss: 0.1117 - mean_absolute_error: 0.1728 - val_loss: 0.1131 - val_mean_absolute_error: 0.1846\n",
      "Epoch 25/100\n",
      "1981/1981 [==============================] - 3s 2ms/step - loss: 0.1120 - mean_absolute_error: 0.1736 - val_loss: 0.1086 - val_mean_absolute_error: 0.1640\n",
      "Epoch 26/100\n",
      "1981/1981 [==============================] - 3s 2ms/step - loss: 0.1114 - mean_absolute_error: 0.1736 - val_loss: 0.1164 - val_mean_absolute_error: 0.1763\n",
      "Epoch 27/100\n",
      "1981/1981 [==============================] - 3s 2ms/step - loss: 0.1121 - mean_absolute_error: 0.1740 - val_loss: 0.1074 - val_mean_absolute_error: 0.1732\n",
      "Epoch 28/100\n",
      "1981/1981 [==============================] - 3s 2ms/step - loss: 0.1113 - mean_absolute_error: 0.1728 - val_loss: 0.1078 - val_mean_absolute_error: 0.1714\n",
      "Epoch 29/100\n",
      "1981/1981 [==============================] - 3s 2ms/step - loss: 0.1115 - mean_absolute_error: 0.1734 - val_loss: 0.1067 - val_mean_absolute_error: 0.1691\n",
      "Epoch 30/100\n",
      "1981/1981 [==============================] - 3s 2ms/step - loss: 0.1113 - mean_absolute_error: 0.1735 - val_loss: 0.1110 - val_mean_absolute_error: 0.1679\n",
      "Epoch 31/100\n",
      "1981/1981 [==============================] - 3s 2ms/step - loss: 0.1115 - mean_absolute_error: 0.1732 - val_loss: 0.1069 - val_mean_absolute_error: 0.1741\n",
      "Epoch 32/100\n",
      "1981/1981 [==============================] - 3s 2ms/step - loss: 0.1113 - mean_absolute_error: 0.1730 - val_loss: 0.1069 - val_mean_absolute_error: 0.1830\n",
      "Epoch 33/100\n",
      "1981/1981 [==============================] - 3s 2ms/step - loss: 0.1112 - mean_absolute_error: 0.1733 - val_loss: 0.1087 - val_mean_absolute_error: 0.1681\n",
      "Epoch 34/100\n",
      "1981/1981 [==============================] - 3s 2ms/step - loss: 0.1112 - mean_absolute_error: 0.1728 - val_loss: 0.1071 - val_mean_absolute_error: 0.1561\n",
      "Epoch 35/100\n",
      "1981/1981 [==============================] - 3s 2ms/step - loss: 0.1112 - mean_absolute_error: 0.1727 - val_loss: 0.1076 - val_mean_absolute_error: 0.1576\n",
      "Epoch 36/100\n",
      "1981/1981 [==============================] - 3s 2ms/step - loss: 0.1109 - mean_absolute_error: 0.1725 - val_loss: 0.1069 - val_mean_absolute_error: 0.1715\n",
      "Epoch 37/100\n",
      "1981/1981 [==============================] - 3s 2ms/step - loss: 0.1110 - mean_absolute_error: 0.1719 - val_loss: 0.1072 - val_mean_absolute_error: 0.1780\n",
      "Epoch 38/100\n",
      "1981/1981 [==============================] - 3s 2ms/step - loss: 0.1107 - mean_absolute_error: 0.1727 - val_loss: 0.1063 - val_mean_absolute_error: 0.1611\n",
      "Epoch 39/100\n",
      "1981/1981 [==============================] - 3s 2ms/step - loss: 0.1111 - mean_absolute_error: 0.1724 - val_loss: 0.1070 - val_mean_absolute_error: 0.1711\n",
      "Epoch 40/100\n",
      "1981/1981 [==============================] - 3s 2ms/step - loss: 0.1109 - mean_absolute_error: 0.1720 - val_loss: 0.1059 - val_mean_absolute_error: 0.1667\n",
      "Epoch 41/100\n",
      "1981/1981 [==============================] - 3s 2ms/step - loss: 0.1102 - mean_absolute_error: 0.1720 - val_loss: 0.1070 - val_mean_absolute_error: 0.1658\n",
      "Epoch 42/100\n",
      "1981/1981 [==============================] - 3s 2ms/step - loss: 0.1107 - mean_absolute_error: 0.1718 - val_loss: 0.1054 - val_mean_absolute_error: 0.1670\n",
      "Epoch 43/100\n",
      "1981/1981 [==============================] - 3s 2ms/step - loss: 0.1107 - mean_absolute_error: 0.1716 - val_loss: 0.1090 - val_mean_absolute_error: 0.1766\n",
      "Epoch 44/100\n",
      "1981/1981 [==============================] - 3s 2ms/step - loss: 0.1106 - mean_absolute_error: 0.1717 - val_loss: 0.1068 - val_mean_absolute_error: 0.1774\n",
      "Epoch 45/100\n",
      "1981/1981 [==============================] - 3s 2ms/step - loss: 0.1104 - mean_absolute_error: 0.1718 - val_loss: 0.1069 - val_mean_absolute_error: 0.1656\n",
      "Epoch 46/100\n",
      "1981/1981 [==============================] - 3s 2ms/step - loss: 0.1107 - mean_absolute_error: 0.1721 - val_loss: 0.1055 - val_mean_absolute_error: 0.1689\n",
      "Epoch 47/100\n",
      "1981/1981 [==============================] - 3s 2ms/step - loss: 0.1106 - mean_absolute_error: 0.1720 - val_loss: 0.1086 - val_mean_absolute_error: 0.1695\n",
      "Epoch 48/100\n",
      "1981/1981 [==============================] - 3s 2ms/step - loss: 0.1103 - mean_absolute_error: 0.1719 - val_loss: 0.1064 - val_mean_absolute_error: 0.1602\n",
      "Epoch 49/100\n",
      "1981/1981 [==============================] - 3s 2ms/step - loss: 0.1103 - mean_absolute_error: 0.1716 - val_loss: 0.1061 - val_mean_absolute_error: 0.1632\n",
      "Epoch 50/100\n",
      "1981/1981 [==============================] - 3s 2ms/step - loss: 0.1100 - mean_absolute_error: 0.1714 - val_loss: 0.1052 - val_mean_absolute_error: 0.1730\n",
      "Epoch 51/100\n",
      "1981/1981 [==============================] - 3s 2ms/step - loss: 0.1102 - mean_absolute_error: 0.1709 - val_loss: 0.1055 - val_mean_absolute_error: 0.1631\n",
      "Epoch 52/100\n",
      "1981/1981 [==============================] - 3s 2ms/step - loss: 0.1102 - mean_absolute_error: 0.1711 - val_loss: 0.1075 - val_mean_absolute_error: 0.1650\n",
      "Epoch 53/100\n",
      "1981/1981 [==============================] - 3s 2ms/step - loss: 0.1102 - mean_absolute_error: 0.1709 - val_loss: 0.1057 - val_mean_absolute_error: 0.1790\n",
      "Epoch 54/100\n",
      "1981/1981 [==============================] - 3s 2ms/step - loss: 0.1100 - mean_absolute_error: 0.1713 - val_loss: 0.1075 - val_mean_absolute_error: 0.1644\n",
      "Epoch 55/100\n",
      "1981/1981 [==============================] - 3s 2ms/step - loss: 0.1100 - mean_absolute_error: 0.1711 - val_loss: 0.1088 - val_mean_absolute_error: 0.1664\n",
      "Epoch 56/100\n",
      "1981/1981 [==============================] - 3s 2ms/step - loss: 0.1098 - mean_absolute_error: 0.1714 - val_loss: 0.1077 - val_mean_absolute_error: 0.1680\n",
      "Epoch 57/100\n",
      "1981/1981 [==============================] - 3s 2ms/step - loss: 0.1099 - mean_absolute_error: 0.1712 - val_loss: 0.1061 - val_mean_absolute_error: 0.1632\n",
      "Epoch 58/100\n",
      "1981/1981 [==============================] - 3s 2ms/step - loss: 0.1100 - mean_absolute_error: 0.1708 - val_loss: 0.1059 - val_mean_absolute_error: 0.1743\n",
      "Epoch 59/100\n",
      "1981/1981 [==============================] - 3s 2ms/step - loss: 0.1097 - mean_absolute_error: 0.1704 - val_loss: 0.1071 - val_mean_absolute_error: 0.1675\n",
      "Epoch 60/100\n",
      "1981/1981 [==============================] - 3s 2ms/step - loss: 0.1096 - mean_absolute_error: 0.1706 - val_loss: 0.1059 - val_mean_absolute_error: 0.1589\n",
      "Epoch 61/100\n",
      "1981/1981 [==============================] - 3s 2ms/step - loss: 0.1098 - mean_absolute_error: 0.1710 - val_loss: 0.1090 - val_mean_absolute_error: 0.1802\n",
      "Epoch 62/100\n",
      "1981/1981 [==============================] - 3s 2ms/step - loss: 0.1094 - mean_absolute_error: 0.1701 - val_loss: 0.1080 - val_mean_absolute_error: 0.1690\n",
      "Epoch 63/100\n",
      "1981/1981 [==============================] - 3s 2ms/step - loss: 0.1091 - mean_absolute_error: 0.1705 - val_loss: 0.1059 - val_mean_absolute_error: 0.1760\n",
      "Epoch 64/100\n",
      "1981/1981 [==============================] - 3s 2ms/step - loss: 0.1095 - mean_absolute_error: 0.1703 - val_loss: 0.1096 - val_mean_absolute_error: 0.1671\n",
      "Epoch 65/100\n",
      "1981/1981 [==============================] - 3s 2ms/step - loss: 0.1099 - mean_absolute_error: 0.1712 - val_loss: 0.1063 - val_mean_absolute_error: 0.1662\n",
      "Epoch 66/100\n",
      "1981/1981 [==============================] - 3s 2ms/step - loss: 0.1091 - mean_absolute_error: 0.1695 - val_loss: 0.1057 - val_mean_absolute_error: 0.1711\n",
      "Epoch 67/100\n",
      "1981/1981 [==============================] - 3s 2ms/step - loss: 0.1099 - mean_absolute_error: 0.1709 - val_loss: 0.1072 - val_mean_absolute_error: 0.1674\n",
      "Epoch 68/100\n",
      "1981/1981 [==============================] - 3s 2ms/step - loss: 0.1097 - mean_absolute_error: 0.1703 - val_loss: 0.1103 - val_mean_absolute_error: 0.1682\n",
      "Epoch 69/100\n",
      "1981/1981 [==============================] - 3s 2ms/step - loss: 0.1095 - mean_absolute_error: 0.1704 - val_loss: 0.1078 - val_mean_absolute_error: 0.1706\n",
      "Epoch 70/100\n",
      "1981/1981 [==============================] - 3s 2ms/step - loss: 0.1092 - mean_absolute_error: 0.1702 - val_loss: 0.1072 - val_mean_absolute_error: 0.1620\n",
      "Epoch 71/100\n",
      "1981/1981 [==============================] - 3s 2ms/step - loss: 0.1092 - mean_absolute_error: 0.1699 - val_loss: 0.1103 - val_mean_absolute_error: 0.1780\n",
      "Epoch 72/100\n",
      "1981/1981 [==============================] - 3s 2ms/step - loss: 0.1095 - mean_absolute_error: 0.1704 - val_loss: 0.1064 - val_mean_absolute_error: 0.1659\n",
      "Epoch 73/100\n",
      "1981/1981 [==============================] - 3s 2ms/step - loss: 0.1092 - mean_absolute_error: 0.1695 - val_loss: 0.1063 - val_mean_absolute_error: 0.1622\n",
      "Epoch 74/100\n",
      "1981/1981 [==============================] - 3s 2ms/step - loss: 0.1091 - mean_absolute_error: 0.1700 - val_loss: 0.1087 - val_mean_absolute_error: 0.1639\n",
      "Epoch 75/100\n",
      "1981/1981 [==============================] - 3s 2ms/step - loss: 0.1094 - mean_absolute_error: 0.1705 - val_loss: 0.1065 - val_mean_absolute_error: 0.1740\n",
      "Epoch 76/100\n",
      "1981/1981 [==============================] - 3s 2ms/step - loss: 0.1090 - mean_absolute_error: 0.1699 - val_loss: 0.1058 - val_mean_absolute_error: 0.1714\n",
      "Epoch 77/100\n",
      "1981/1981 [==============================] - 3s 2ms/step - loss: 0.1091 - mean_absolute_error: 0.1698 - val_loss: 0.1061 - val_mean_absolute_error: 0.1616\n",
      "Epoch 78/100\n",
      "1981/1981 [==============================] - 3s 2ms/step - loss: 0.1087 - mean_absolute_error: 0.1693 - val_loss: 0.1061 - val_mean_absolute_error: 0.1587\n",
      "Epoch 79/100\n",
      "1981/1981 [==============================] - 3s 2ms/step - loss: 0.1092 - mean_absolute_error: 0.1696 - val_loss: 0.1066 - val_mean_absolute_error: 0.1670\n",
      "Epoch 80/100\n",
      "1981/1981 [==============================] - 3s 2ms/step - loss: 0.1088 - mean_absolute_error: 0.1695 - val_loss: 0.1052 - val_mean_absolute_error: 0.1691\n",
      "Epoch 81/100\n",
      "1981/1981 [==============================] - 3s 2ms/step - loss: 0.1088 - mean_absolute_error: 0.1690 - val_loss: 0.1078 - val_mean_absolute_error: 0.1659\n",
      "Epoch 82/100\n",
      "1981/1981 [==============================] - 3s 2ms/step - loss: 0.1087 - mean_absolute_error: 0.1692 - val_loss: 0.1075 - val_mean_absolute_error: 0.1683\n",
      "Epoch 83/100\n",
      "1981/1981 [==============================] - 3s 2ms/step - loss: 0.1089 - mean_absolute_error: 0.1698 - val_loss: 0.1072 - val_mean_absolute_error: 0.1659\n",
      "Epoch 84/100\n",
      "1981/1981 [==============================] - 3s 2ms/step - loss: 0.1085 - mean_absolute_error: 0.1689 - val_loss: 0.1063 - val_mean_absolute_error: 0.1674\n",
      "Epoch 85/100\n",
      "1981/1981 [==============================] - 3s 2ms/step - loss: 0.1090 - mean_absolute_error: 0.1695 - val_loss: 0.1058 - val_mean_absolute_error: 0.1711\n",
      "Epoch 86/100\n",
      "1981/1981 [==============================] - 3s 2ms/step - loss: 0.1084 - mean_absolute_error: 0.1689 - val_loss: 0.1064 - val_mean_absolute_error: 0.1600\n",
      "Epoch 87/100\n",
      "1981/1981 [==============================] - 3s 2ms/step - loss: 0.1088 - mean_absolute_error: 0.1696 - val_loss: 0.1047 - val_mean_absolute_error: 0.1676\n",
      "Epoch 88/100\n",
      "1981/1981 [==============================] - 3s 2ms/step - loss: 0.1090 - mean_absolute_error: 0.1692 - val_loss: 0.1047 - val_mean_absolute_error: 0.1712\n",
      "Epoch 89/100\n",
      "1981/1981 [==============================] - 3s 2ms/step - loss: 0.1083 - mean_absolute_error: 0.1687 - val_loss: 0.1067 - val_mean_absolute_error: 0.1812\n",
      "Epoch 90/100\n",
      "1981/1981 [==============================] - 3s 2ms/step - loss: 0.1089 - mean_absolute_error: 0.1691 - val_loss: 0.1072 - val_mean_absolute_error: 0.1736\n",
      "Epoch 91/100\n",
      "1981/1981 [==============================] - 3s 2ms/step - loss: 0.1083 - mean_absolute_error: 0.1691 - val_loss: 0.1057 - val_mean_absolute_error: 0.1768\n",
      "Epoch 92/100\n",
      "1981/1981 [==============================] - 3s 2ms/step - loss: 0.1086 - mean_absolute_error: 0.1690 - val_loss: 0.1052 - val_mean_absolute_error: 0.1530\n",
      "Epoch 93/100\n",
      "1981/1981 [==============================] - 3s 2ms/step - loss: 0.1085 - mean_absolute_error: 0.1689 - val_loss: 0.1050 - val_mean_absolute_error: 0.1587\n",
      "Epoch 94/100\n",
      "1981/1981 [==============================] - 3s 2ms/step - loss: 0.1088 - mean_absolute_error: 0.1695 - val_loss: 0.1073 - val_mean_absolute_error: 0.1780\n",
      "Epoch 95/100\n",
      "1981/1981 [==============================] - 3s 2ms/step - loss: 0.1080 - mean_absolute_error: 0.1683 - val_loss: 0.1060 - val_mean_absolute_error: 0.1687\n",
      "Epoch 96/100\n",
      "1981/1981 [==============================] - 3s 2ms/step - loss: 0.1079 - mean_absolute_error: 0.1688 - val_loss: 0.1053 - val_mean_absolute_error: 0.1578\n",
      "Epoch 97/100\n",
      "1981/1981 [==============================] - 3s 2ms/step - loss: 0.1084 - mean_absolute_error: 0.1683 - val_loss: 0.1061 - val_mean_absolute_error: 0.1568\n",
      "Epoch 98/100\n",
      "1981/1981 [==============================] - 3s 2ms/step - loss: 0.1083 - mean_absolute_error: 0.1685 - val_loss: 0.1092 - val_mean_absolute_error: 0.1670\n",
      "Epoch 99/100\n",
      "1981/1981 [==============================] - 3s 2ms/step - loss: 0.1083 - mean_absolute_error: 0.1687 - val_loss: 0.1045 - val_mean_absolute_error: 0.1692\n",
      "Epoch 100/100\n",
      "1981/1981 [==============================] - 3s 2ms/step - loss: 0.1083 - mean_absolute_error: 0.1689 - val_loss: 0.1062 - val_mean_absolute_error: 0.1603\n"
     ]
    }
   ],
   "source": [
    "# Fitting the ANN to the Training set\n",
    "history=model.fit(X_train, y_train ,batch_size = 15, epochs = 100, verbose=1, validation_split= 0.33)\n"
   ]
  },
  {
   "attachments": {},
   "cell_type": "markdown",
   "metadata": {},
   "source": [
    "# Hyperparameter tuning of ANN\n"
   ]
  },
  {
   "attachments": {},
   "cell_type": "markdown",
   "metadata": {},
   "source": [
    "# Finding best set of parameters using manual grid search\n"
   ]
  },
  {
   "cell_type": "code",
   "execution_count": null,
   "metadata": {},
   "outputs": [],
   "source": [
    "import numpy as np\n",
    "\n",
    "# Defining a function to find the best parameters for ANN\n",
    "def FunctionFindBestParams(X_train, y_train, X_test, y_test):\n",
    "    \n",
    "    # Defining the list of hyper parameters to try\n",
    "    batch_size_list=[5, 10, 15, 20]\n",
    "    epoch_list  =   [5, 10, 50, 100]\n",
    "    \n",
    "    import pandas as pd\n",
    "    SearchResultsData=pd.DataFrame(columns=['TrialNumber', 'Parameters', 'Accuracy'])\n",
    "    \n",
    "    # initializing the trials\n",
    "    TrialNumber=0\n",
    "    for batch_size_trial in batch_size_list:\n",
    "        for epochs_trial in epoch_list:\n",
    "            TrialNumber+=1\n",
    "            # create ANN model\n",
    "            model = Sequential()\n",
    "            # Defining the first layer of the model\n",
    "            model.add(Dense(units=5, input_dim=X_train.shape[1], kernel_initializer='normal', activation='relu'))\n",
    "\n",
    "            # Defining the Second layer of the model\n",
    "            model.add(Dense(units=5, kernel_initializer='normal', activation='relu'))\n",
    "\n",
    "            # The output neuron is a single fully connected node \n",
    "            # Since we will be predicting a single number\n",
    "            model.add(Dense(1, kernel_initializer='normal'))\n",
    "\n",
    "            # Compiling the model\n",
    "            model.compile(loss='mean_squared_error', optimizer='adam',metrics=['mean_absolute_error'])\n",
    "\n",
    "            # Fitting the ANN to the Training set\n",
    "            model.fit(X_train, y_train ,batch_size = batch_size_trial, epochs = epochs_trial, verbose=1)\n",
    "\n",
    "            mean_squared_error, mean_absolute_error = model.evaluate(X_test,y_test)\n",
    "\n",
    "            # print(\"y_test: \",y_test)\n",
    "            predictions = model.predict(X_test)\n",
    "            # print(\"model.predict(X_test)\",predictions)\n",
    "            MAPE = np.mean(100 * (np.abs(y_test-predictions)/y_test))\n",
    "            \n",
    "            # printing the results of the current iteration\n",
    "            print(TrialNumber, 'Parameters:','batch_size:', batch_size_trial,'-', 'epochs:',epochs_trial, 'MAPE:',MAPE,'Accuracy:', 100-MAPE,'mean_squared_error: ',mean_squared_error,\n",
    "                  'mean_absolute_error: ',mean_absolute_error)\n",
    "            \n",
    "            SearchResultsData=SearchResultsData.append(pd.DataFrame(data=[[TrialNumber, str(batch_size_trial)+'-'+str(epochs_trial), 100-MAPE,mean_squared_error,mean_absolute_error]],\n",
    "                                                                    columns=['TrialNumber', 'Parameters', 'Accuracy','mean_squared_error','mean_absolute_error'] ))\n",
    "    return(SearchResultsData)\n",
    "\n",
    "\n",
    "######################################################\n",
    "# Calling the function\n",
    "ResultsData=FunctionFindBestParams(X_train, y_train, X_test, y_test)"
   ]
  },
  {
   "cell_type": "code",
   "execution_count": null,
   "metadata": {},
   "outputs": [],
   "source": [
    "ResultsData"
   ]
  },
  {
   "cell_type": "code",
   "execution_count": null,
   "metadata": {},
   "outputs": [],
   "source": [
    "%matplotlib inline\n",
    "ResultsData.plot(x='Parameters', y='mean_squared_error',figsize=(15,4), kind='line')"
   ]
  },
  {
   "cell_type": "code",
   "execution_count": null,
   "metadata": {},
   "outputs": [],
   "source": [
    "%matplotlib inline\n",
    "ResultsData.plot(x='Parameters', y='mean_absolute_error',figsize=(15,4), kind='line')"
   ]
  },
  {
   "cell_type": "code",
   "execution_count": null,
   "metadata": {},
   "outputs": [],
   "source": [
    "%matplotlib inline\n",
    "ResultsData.plot(x='Parameters', y='Accuracy', figsize=(15,4), kind='line')"
   ]
  },
  {
   "cell_type": "code",
   "execution_count": null,
   "metadata": {},
   "outputs": [],
   "source": [
    "\n",
    "# importing package\n",
    "import matplotlib.pyplot as plt\n",
    "import numpy as np\n",
    "\n",
    "x = ResultsData[\"Parameters\"]  \n",
    "\n",
    "# plot lines\n",
    "plt.plot(x, ResultsData[\"mean_squared_error\"], label = \"mean squared\")\n",
    "plt.plot(ResultsData[\"Parameters\"], ResultsData[\"mean_absolute_error\"], label = \"mean absolute\")\n",
    "plt.legend()\n",
    "plt.show()"
   ]
  },
  {
   "attachments": {},
   "cell_type": "markdown",
   "metadata": {},
   "source": [
    "#### Results Data to CSV"
   ]
  },
  {
   "cell_type": "code",
   "execution_count": null,
   "metadata": {},
   "outputs": [],
   "source": [
    "ResultsData.to_csv('ResultsData.csv', index=False)"
   ]
  },
  {
   "attachments": {},
   "cell_type": "markdown",
   "metadata": {},
   "source": [
    "#### Load Results Data"
   ]
  },
  {
   "cell_type": "code",
   "execution_count": null,
   "metadata": {},
   "outputs": [],
   "source": [
    "import pandas as pd\n",
    "\n",
    "# Load the CSV file into a DataFrame with custom options\n",
    "LoadedResultsData = pd.read_csv('ResultsData.csv', delimiter=',', encoding='utf-8', header=0, names=['TrialNumber','Parameters','Accuracy','mean_squared_error','mean_absolute_error'])\n",
    "\n",
    "# Display the DataFrame\n",
    "print(LoadedResultsData)\n"
   ]
  },
  {
   "cell_type": "code",
   "execution_count": null,
   "metadata": {},
   "outputs": [],
   "source": [
    "%matplotlib inline\n",
    "LoadedResultsData.plot(x='Parameters', y='mean_squared_error',figsize=(15,4), kind='line')"
   ]
  },
  {
   "cell_type": "code",
   "execution_count": null,
   "metadata": {},
   "outputs": [],
   "source": [
    "%matplotlib inline\n",
    "LoadedResultsData.plot(x='Parameters', y='mean_absolute_error',figsize=(15,4), kind='line')"
   ]
  },
  {
   "attachments": {},
   "cell_type": "markdown",
   "metadata": {},
   "source": [
    "# Training the ANN model with the best parameters\n"
   ]
  },
  {
   "cell_type": "code",
   "execution_count": 15,
   "metadata": {},
   "outputs": [
    {
     "name": "stdout",
     "output_type": "stream",
     "text": [
      "Epoch 1/130\n",
      "1981/1981 [==============================] - 4s 2ms/step - loss: 0.1098 - mean_absolute_error: 0.1724 - val_loss: 0.1054 - val_mean_absolute_error: 0.1670\n",
      "Epoch 2/130\n",
      "1981/1981 [==============================] - 4s 2ms/step - loss: 0.1095 - mean_absolute_error: 0.1725 - val_loss: 0.1055 - val_mean_absolute_error: 0.1707\n",
      "Epoch 3/130\n",
      "1981/1981 [==============================] - 3s 2ms/step - loss: 0.1094 - mean_absolute_error: 0.1714 - val_loss: 0.1049 - val_mean_absolute_error: 0.1662\n",
      "Epoch 4/130\n",
      "1981/1981 [==============================] - 3s 2ms/step - loss: 0.1093 - mean_absolute_error: 0.1710 - val_loss: 0.1058 - val_mean_absolute_error: 0.1669\n",
      "Epoch 5/130\n",
      "1981/1981 [==============================] - 3s 2ms/step - loss: 0.1091 - mean_absolute_error: 0.1708 - val_loss: 0.1070 - val_mean_absolute_error: 0.1661\n",
      "Epoch 6/130\n",
      "1981/1981 [==============================] - 4s 2ms/step - loss: 0.1089 - mean_absolute_error: 0.1712 - val_loss: 0.1037 - val_mean_absolute_error: 0.1601\n",
      "Epoch 7/130\n",
      "1981/1981 [==============================] - 4s 2ms/step - loss: 0.1091 - mean_absolute_error: 0.1705 - val_loss: 0.1047 - val_mean_absolute_error: 0.1613\n",
      "Epoch 8/130\n",
      "1981/1981 [==============================] - 3s 2ms/step - loss: 0.1089 - mean_absolute_error: 0.1708 - val_loss: 0.1039 - val_mean_absolute_error: 0.1654\n",
      "Epoch 9/130\n",
      "1981/1981 [==============================] - 3s 2ms/step - loss: 0.1092 - mean_absolute_error: 0.1707 - val_loss: 0.1037 - val_mean_absolute_error: 0.1620\n",
      "Epoch 10/130\n",
      "1981/1981 [==============================] - 4s 2ms/step - loss: 0.1087 - mean_absolute_error: 0.1702 - val_loss: 0.1037 - val_mean_absolute_error: 0.1698\n",
      "Epoch 11/130\n",
      "1981/1981 [==============================] - 3s 2ms/step - loss: 0.1088 - mean_absolute_error: 0.1708 - val_loss: 0.1040 - val_mean_absolute_error: 0.1625\n",
      "Epoch 12/130\n",
      "1981/1981 [==============================] - 3s 2ms/step - loss: 0.1085 - mean_absolute_error: 0.1700 - val_loss: 0.1060 - val_mean_absolute_error: 0.1790\n",
      "Epoch 13/130\n",
      "1981/1981 [==============================] - 3s 2ms/step - loss: 0.1086 - mean_absolute_error: 0.1712 - val_loss: 0.1059 - val_mean_absolute_error: 0.1732\n",
      "Epoch 14/130\n",
      "1981/1981 [==============================] - 3s 2ms/step - loss: 0.1087 - mean_absolute_error: 0.1701 - val_loss: 0.1039 - val_mean_absolute_error: 0.1622\n",
      "Epoch 15/130\n",
      "1981/1981 [==============================] - 3s 2ms/step - loss: 0.1086 - mean_absolute_error: 0.1701 - val_loss: 0.1034 - val_mean_absolute_error: 0.1660\n",
      "Epoch 16/130\n",
      "1981/1981 [==============================] - 3s 2ms/step - loss: 0.1086 - mean_absolute_error: 0.1699 - val_loss: 0.1043 - val_mean_absolute_error: 0.1596\n",
      "Epoch 17/130\n",
      "1981/1981 [==============================] - 3s 2ms/step - loss: 0.1086 - mean_absolute_error: 0.1699 - val_loss: 0.1032 - val_mean_absolute_error: 0.1686\n",
      "Epoch 18/130\n",
      "1981/1981 [==============================] - 3s 2ms/step - loss: 0.1081 - mean_absolute_error: 0.1694 - val_loss: 0.1033 - val_mean_absolute_error: 0.1604\n",
      "Epoch 19/130\n",
      "1981/1981 [==============================] - 3s 2ms/step - loss: 0.1083 - mean_absolute_error: 0.1693 - val_loss: 0.1086 - val_mean_absolute_error: 0.1764\n",
      "Epoch 20/130\n",
      "1981/1981 [==============================] - 3s 2ms/step - loss: 0.1087 - mean_absolute_error: 0.1704 - val_loss: 0.1031 - val_mean_absolute_error: 0.1669\n",
      "Epoch 21/130\n",
      "1981/1981 [==============================] - 3s 2ms/step - loss: 0.1081 - mean_absolute_error: 0.1696 - val_loss: 0.1056 - val_mean_absolute_error: 0.1626\n",
      "Epoch 22/130\n",
      "1981/1981 [==============================] - 3s 2ms/step - loss: 0.1082 - mean_absolute_error: 0.1689 - val_loss: 0.1061 - val_mean_absolute_error: 0.1823\n",
      "Epoch 23/130\n",
      "1981/1981 [==============================] - 3s 2ms/step - loss: 0.1080 - mean_absolute_error: 0.1694 - val_loss: 0.1037 - val_mean_absolute_error: 0.1661\n",
      "Epoch 24/130\n",
      "1981/1981 [==============================] - 3s 2ms/step - loss: 0.1080 - mean_absolute_error: 0.1688 - val_loss: 0.1039 - val_mean_absolute_error: 0.1670\n",
      "Epoch 25/130\n",
      "1981/1981 [==============================] - 3s 2ms/step - loss: 0.1079 - mean_absolute_error: 0.1690 - val_loss: 0.1055 - val_mean_absolute_error: 0.1679\n",
      "Epoch 26/130\n",
      "1981/1981 [==============================] - 3s 2ms/step - loss: 0.1078 - mean_absolute_error: 0.1692 - val_loss: 0.1036 - val_mean_absolute_error: 0.1589\n",
      "Epoch 27/130\n",
      "1981/1981 [==============================] - 3s 2ms/step - loss: 0.1078 - mean_absolute_error: 0.1684 - val_loss: 0.1041 - val_mean_absolute_error: 0.1727\n",
      "Epoch 28/130\n",
      "1981/1981 [==============================] - 3s 2ms/step - loss: 0.1078 - mean_absolute_error: 0.1686 - val_loss: 0.1026 - val_mean_absolute_error: 0.1652\n",
      "Epoch 29/130\n",
      "1981/1981 [==============================] - 3s 2ms/step - loss: 0.1078 - mean_absolute_error: 0.1691 - val_loss: 0.1064 - val_mean_absolute_error: 0.1741\n",
      "Epoch 30/130\n",
      "1981/1981 [==============================] - 3s 2ms/step - loss: 0.1075 - mean_absolute_error: 0.1687 - val_loss: 0.1040 - val_mean_absolute_error: 0.1722\n",
      "Epoch 31/130\n",
      "1981/1981 [==============================] - 3s 2ms/step - loss: 0.1075 - mean_absolute_error: 0.1693 - val_loss: 0.1033 - val_mean_absolute_error: 0.1641\n",
      "Epoch 32/130\n",
      "1981/1981 [==============================] - 3s 2ms/step - loss: 0.1077 - mean_absolute_error: 0.1690 - val_loss: 0.1032 - val_mean_absolute_error: 0.1713\n",
      "Epoch 33/130\n",
      "1981/1981 [==============================] - 3s 2ms/step - loss: 0.1076 - mean_absolute_error: 0.1685 - val_loss: 0.1049 - val_mean_absolute_error: 0.1756\n",
      "Epoch 34/130\n",
      "1981/1981 [==============================] - 3s 2ms/step - loss: 0.1075 - mean_absolute_error: 0.1686 - val_loss: 0.1052 - val_mean_absolute_error: 0.1706\n",
      "Epoch 35/130\n",
      "1981/1981 [==============================] - 3s 2ms/step - loss: 0.1076 - mean_absolute_error: 0.1689 - val_loss: 0.1041 - val_mean_absolute_error: 0.1727\n",
      "Epoch 36/130\n",
      "1981/1981 [==============================] - 3s 2ms/step - loss: 0.1072 - mean_absolute_error: 0.1683 - val_loss: 0.1035 - val_mean_absolute_error: 0.1607\n",
      "Epoch 37/130\n",
      "1981/1981 [==============================] - 3s 2ms/step - loss: 0.1073 - mean_absolute_error: 0.1681 - val_loss: 0.1072 - val_mean_absolute_error: 0.1756\n",
      "Epoch 38/130\n",
      "1981/1981 [==============================] - 3s 2ms/step - loss: 0.1069 - mean_absolute_error: 0.1682 - val_loss: 0.1027 - val_mean_absolute_error: 0.1626\n",
      "Epoch 39/130\n",
      "1981/1981 [==============================] - 3s 2ms/step - loss: 0.1073 - mean_absolute_error: 0.1681 - val_loss: 0.1030 - val_mean_absolute_error: 0.1601\n",
      "Epoch 40/130\n",
      "1981/1981 [==============================] - 3s 2ms/step - loss: 0.1069 - mean_absolute_error: 0.1686 - val_loss: 0.1033 - val_mean_absolute_error: 0.1605\n",
      "Epoch 41/130\n",
      "1981/1981 [==============================] - 3s 2ms/step - loss: 0.1070 - mean_absolute_error: 0.1676 - val_loss: 0.1055 - val_mean_absolute_error: 0.1803\n",
      "Epoch 42/130\n",
      "1981/1981 [==============================] - 4s 2ms/step - loss: 0.1070 - mean_absolute_error: 0.1684 - val_loss: 0.1033 - val_mean_absolute_error: 0.1611\n",
      "Epoch 43/130\n",
      "1981/1981 [==============================] - 3s 2ms/step - loss: 0.1072 - mean_absolute_error: 0.1683 - val_loss: 0.1047 - val_mean_absolute_error: 0.1657\n",
      "Epoch 44/130\n",
      "1981/1981 [==============================] - 3s 2ms/step - loss: 0.1070 - mean_absolute_error: 0.1681 - val_loss: 0.1026 - val_mean_absolute_error: 0.1700\n",
      "Epoch 45/130\n",
      "1981/1981 [==============================] - 3s 2ms/step - loss: 0.1068 - mean_absolute_error: 0.1678 - val_loss: 0.1023 - val_mean_absolute_error: 0.1583\n",
      "Epoch 46/130\n",
      "1981/1981 [==============================] - 3s 2ms/step - loss: 0.1070 - mean_absolute_error: 0.1681 - val_loss: 0.1023 - val_mean_absolute_error: 0.1597\n",
      "Epoch 47/130\n",
      "1981/1981 [==============================] - 3s 2ms/step - loss: 0.1069 - mean_absolute_error: 0.1679 - val_loss: 0.1053 - val_mean_absolute_error: 0.1636\n",
      "Epoch 48/130\n",
      "1981/1981 [==============================] - 3s 2ms/step - loss: 0.1069 - mean_absolute_error: 0.1680 - val_loss: 0.1055 - val_mean_absolute_error: 0.1618\n",
      "Epoch 49/130\n",
      "1981/1981 [==============================] - 3s 2ms/step - loss: 0.1067 - mean_absolute_error: 0.1681 - val_loss: 0.1066 - val_mean_absolute_error: 0.1818\n",
      "Epoch 50/130\n",
      "1981/1981 [==============================] - 3s 2ms/step - loss: 0.1066 - mean_absolute_error: 0.1676 - val_loss: 0.1028 - val_mean_absolute_error: 0.1636\n",
      "Epoch 51/130\n",
      "1981/1981 [==============================] - 3s 2ms/step - loss: 0.1068 - mean_absolute_error: 0.1682 - val_loss: 0.1036 - val_mean_absolute_error: 0.1644\n",
      "Epoch 52/130\n",
      "1981/1981 [==============================] - 3s 2ms/step - loss: 0.1063 - mean_absolute_error: 0.1674 - val_loss: 0.1056 - val_mean_absolute_error: 0.1710\n",
      "Epoch 53/130\n",
      "1981/1981 [==============================] - 3s 2ms/step - loss: 0.1067 - mean_absolute_error: 0.1680 - val_loss: 0.1034 - val_mean_absolute_error: 0.1611\n",
      "Epoch 54/130\n",
      "1981/1981 [==============================] - 3s 2ms/step - loss: 0.1064 - mean_absolute_error: 0.1676 - val_loss: 0.1039 - val_mean_absolute_error: 0.1678\n",
      "Epoch 55/130\n",
      "1981/1981 [==============================] - 3s 2ms/step - loss: 0.1066 - mean_absolute_error: 0.1683 - val_loss: 0.1030 - val_mean_absolute_error: 0.1688\n",
      "Epoch 56/130\n",
      "1981/1981 [==============================] - 3s 2ms/step - loss: 0.1065 - mean_absolute_error: 0.1671 - val_loss: 0.1026 - val_mean_absolute_error: 0.1652\n",
      "Epoch 57/130\n",
      "1981/1981 [==============================] - 3s 2ms/step - loss: 0.1066 - mean_absolute_error: 0.1676 - val_loss: 0.1038 - val_mean_absolute_error: 0.1677\n",
      "Epoch 58/130\n",
      "1981/1981 [==============================] - 3s 2ms/step - loss: 0.1063 - mean_absolute_error: 0.1680 - val_loss: 0.1027 - val_mean_absolute_error: 0.1589\n",
      "Epoch 59/130\n",
      "1981/1981 [==============================] - 3s 2ms/step - loss: 0.1060 - mean_absolute_error: 0.1671 - val_loss: 0.1038 - val_mean_absolute_error: 0.1711\n",
      "Epoch 60/130\n",
      "1981/1981 [==============================] - 3s 2ms/step - loss: 0.1065 - mean_absolute_error: 0.1674 - val_loss: 0.1044 - val_mean_absolute_error: 0.1711\n",
      "Epoch 61/130\n",
      "1981/1981 [==============================] - 3s 2ms/step - loss: 0.1065 - mean_absolute_error: 0.1670 - val_loss: 0.1036 - val_mean_absolute_error: 0.1695\n",
      "Epoch 62/130\n",
      "1981/1981 [==============================] - 3s 2ms/step - loss: 0.1059 - mean_absolute_error: 0.1670 - val_loss: 0.1039 - val_mean_absolute_error: 0.1622\n",
      "Epoch 63/130\n",
      "1981/1981 [==============================] - 4s 2ms/step - loss: 0.1065 - mean_absolute_error: 0.1673 - val_loss: 0.1027 - val_mean_absolute_error: 0.1710\n",
      "Epoch 64/130\n",
      "1981/1981 [==============================] - 3s 2ms/step - loss: 0.1062 - mean_absolute_error: 0.1668 - val_loss: 0.1024 - val_mean_absolute_error: 0.1645\n",
      "Epoch 65/130\n",
      "1981/1981 [==============================] - 4s 2ms/step - loss: 0.1058 - mean_absolute_error: 0.1670 - val_loss: 0.1039 - val_mean_absolute_error: 0.1665\n",
      "Epoch 66/130\n",
      "1981/1981 [==============================] - 4s 2ms/step - loss: 0.1058 - mean_absolute_error: 0.1664 - val_loss: 0.1044 - val_mean_absolute_error: 0.1817\n",
      "Epoch 67/130\n",
      "1981/1981 [==============================] - 4s 2ms/step - loss: 0.1054 - mean_absolute_error: 0.1671 - val_loss: 0.1038 - val_mean_absolute_error: 0.1685\n",
      "Epoch 68/130\n",
      "1981/1981 [==============================] - 3s 2ms/step - loss: 0.1058 - mean_absolute_error: 0.1670 - val_loss: 0.1043 - val_mean_absolute_error: 0.1633\n",
      "Epoch 69/130\n",
      "1981/1981 [==============================] - 3s 2ms/step - loss: 0.1057 - mean_absolute_error: 0.1663 - val_loss: 0.1023 - val_mean_absolute_error: 0.1688\n",
      "Epoch 70/130\n",
      "1981/1981 [==============================] - 3s 2ms/step - loss: 0.1059 - mean_absolute_error: 0.1672 - val_loss: 0.1046 - val_mean_absolute_error: 0.1645\n",
      "Epoch 71/130\n",
      "1981/1981 [==============================] - 3s 2ms/step - loss: 0.1055 - mean_absolute_error: 0.1670 - val_loss: 0.1033 - val_mean_absolute_error: 0.1606\n",
      "Epoch 72/130\n",
      "1981/1981 [==============================] - 4s 2ms/step - loss: 0.1055 - mean_absolute_error: 0.1660 - val_loss: 0.1026 - val_mean_absolute_error: 0.1649\n",
      "Epoch 73/130\n",
      "1981/1981 [==============================] - 3s 2ms/step - loss: 0.1060 - mean_absolute_error: 0.1669 - val_loss: 0.1049 - val_mean_absolute_error: 0.1688\n",
      "Epoch 74/130\n",
      "1981/1981 [==============================] - 3s 2ms/step - loss: 0.1051 - mean_absolute_error: 0.1665 - val_loss: 0.1066 - val_mean_absolute_error: 0.1658\n",
      "Epoch 75/130\n",
      "1981/1981 [==============================] - 3s 2ms/step - loss: 0.1057 - mean_absolute_error: 0.1664 - val_loss: 0.1056 - val_mean_absolute_error: 0.1675\n",
      "Epoch 76/130\n",
      "1981/1981 [==============================] - 3s 2ms/step - loss: 0.1058 - mean_absolute_error: 0.1664 - val_loss: 0.1046 - val_mean_absolute_error: 0.1684\n",
      "Epoch 77/130\n",
      "1981/1981 [==============================] - 3s 2ms/step - loss: 0.1056 - mean_absolute_error: 0.1665 - val_loss: 0.1027 - val_mean_absolute_error: 0.1701\n",
      "Epoch 78/130\n",
      "1981/1981 [==============================] - 3s 2ms/step - loss: 0.1055 - mean_absolute_error: 0.1670 - val_loss: 0.1021 - val_mean_absolute_error: 0.1593\n",
      "Epoch 79/130\n",
      "1981/1981 [==============================] - 3s 2ms/step - loss: 0.1053 - mean_absolute_error: 0.1659 - val_loss: 0.1036 - val_mean_absolute_error: 0.1671\n",
      "Epoch 80/130\n",
      "1981/1981 [==============================] - 3s 2ms/step - loss: 0.1051 - mean_absolute_error: 0.1659 - val_loss: 0.1025 - val_mean_absolute_error: 0.1593\n",
      "Epoch 81/130\n",
      "1981/1981 [==============================] - 3s 2ms/step - loss: 0.1051 - mean_absolute_error: 0.1660 - val_loss: 0.1022 - val_mean_absolute_error: 0.1706\n",
      "Epoch 82/130\n",
      "1981/1981 [==============================] - 3s 2ms/step - loss: 0.1052 - mean_absolute_error: 0.1663 - val_loss: 0.1028 - val_mean_absolute_error: 0.1617\n",
      "Epoch 83/130\n",
      "1981/1981 [==============================] - 3s 2ms/step - loss: 0.1053 - mean_absolute_error: 0.1651 - val_loss: 0.1029 - val_mean_absolute_error: 0.1754\n",
      "Epoch 84/130\n",
      "1981/1981 [==============================] - 3s 2ms/step - loss: 0.1054 - mean_absolute_error: 0.1662 - val_loss: 0.1032 - val_mean_absolute_error: 0.1648\n",
      "Epoch 85/130\n",
      "1981/1981 [==============================] - 3s 2ms/step - loss: 0.1049 - mean_absolute_error: 0.1658 - val_loss: 0.1027 - val_mean_absolute_error: 0.1615\n",
      "Epoch 86/130\n",
      "1981/1981 [==============================] - 3s 2ms/step - loss: 0.1050 - mean_absolute_error: 0.1660 - val_loss: 0.1030 - val_mean_absolute_error: 0.1710\n",
      "Epoch 87/130\n",
      "1981/1981 [==============================] - 3s 2ms/step - loss: 0.1051 - mean_absolute_error: 0.1656 - val_loss: 0.1023 - val_mean_absolute_error: 0.1629\n",
      "Epoch 88/130\n",
      "1981/1981 [==============================] - 3s 2ms/step - loss: 0.1049 - mean_absolute_error: 0.1656 - val_loss: 0.1027 - val_mean_absolute_error: 0.1588\n",
      "Epoch 89/130\n",
      "1981/1981 [==============================] - 3s 2ms/step - loss: 0.1049 - mean_absolute_error: 0.1655 - val_loss: 0.1047 - val_mean_absolute_error: 0.1632\n",
      "Epoch 90/130\n",
      "1981/1981 [==============================] - 3s 2ms/step - loss: 0.1049 - mean_absolute_error: 0.1659 - val_loss: 0.1017 - val_mean_absolute_error: 0.1627\n",
      "Epoch 91/130\n",
      "1981/1981 [==============================] - 3s 2ms/step - loss: 0.1049 - mean_absolute_error: 0.1657 - val_loss: 0.1032 - val_mean_absolute_error: 0.1670\n",
      "Epoch 92/130\n",
      "1981/1981 [==============================] - 3s 2ms/step - loss: 0.1049 - mean_absolute_error: 0.1653 - val_loss: 0.1055 - val_mean_absolute_error: 0.1717\n",
      "Epoch 93/130\n",
      "1981/1981 [==============================] - 3s 2ms/step - loss: 0.1050 - mean_absolute_error: 0.1653 - val_loss: 0.1014 - val_mean_absolute_error: 0.1606\n",
      "Epoch 94/130\n",
      "1981/1981 [==============================] - 3s 2ms/step - loss: 0.1046 - mean_absolute_error: 0.1653 - val_loss: 0.1028 - val_mean_absolute_error: 0.1649\n",
      "Epoch 95/130\n",
      "1981/1981 [==============================] - 3s 2ms/step - loss: 0.1046 - mean_absolute_error: 0.1650 - val_loss: 0.1035 - val_mean_absolute_error: 0.1661\n",
      "Epoch 96/130\n",
      "1981/1981 [==============================] - 3s 2ms/step - loss: 0.1043 - mean_absolute_error: 0.1652 - val_loss: 0.1041 - val_mean_absolute_error: 0.1657\n",
      "Epoch 97/130\n",
      "1981/1981 [==============================] - 3s 2ms/step - loss: 0.1046 - mean_absolute_error: 0.1647 - val_loss: 0.1036 - val_mean_absolute_error: 0.1702\n",
      "Epoch 98/130\n",
      "1981/1981 [==============================] - 3s 2ms/step - loss: 0.1049 - mean_absolute_error: 0.1657 - val_loss: 0.1062 - val_mean_absolute_error: 0.1643\n",
      "Epoch 99/130\n",
      "1981/1981 [==============================] - 3s 2ms/step - loss: 0.1047 - mean_absolute_error: 0.1653 - val_loss: 0.1051 - val_mean_absolute_error: 0.1677\n",
      "Epoch 100/130\n",
      "1981/1981 [==============================] - 3s 2ms/step - loss: 0.1044 - mean_absolute_error: 0.1652 - val_loss: 0.1034 - val_mean_absolute_error: 0.1688\n",
      "Epoch 101/130\n",
      "1981/1981 [==============================] - 4s 2ms/step - loss: 0.1046 - mean_absolute_error: 0.1650 - val_loss: 0.1015 - val_mean_absolute_error: 0.1570\n",
      "Epoch 102/130\n",
      "1981/1981 [==============================] - 4s 2ms/step - loss: 0.1045 - mean_absolute_error: 0.1650 - val_loss: 0.1030 - val_mean_absolute_error: 0.1649\n",
      "Epoch 103/130\n",
      "1981/1981 [==============================] - 4s 2ms/step - loss: 0.1044 - mean_absolute_error: 0.1645 - val_loss: 0.1018 - val_mean_absolute_error: 0.1586\n",
      "Epoch 104/130\n",
      "1981/1981 [==============================] - 4s 2ms/step - loss: 0.1046 - mean_absolute_error: 0.1650 - val_loss: 0.1016 - val_mean_absolute_error: 0.1614\n",
      "Epoch 105/130\n",
      "1981/1981 [==============================] - 4s 2ms/step - loss: 0.1040 - mean_absolute_error: 0.1646 - val_loss: 0.1025 - val_mean_absolute_error: 0.1578\n",
      "Epoch 106/130\n",
      "1981/1981 [==============================] - 3s 2ms/step - loss: 0.1044 - mean_absolute_error: 0.1652 - val_loss: 0.1029 - val_mean_absolute_error: 0.1630\n",
      "Epoch 107/130\n",
      "1981/1981 [==============================] - 3s 2ms/step - loss: 0.1042 - mean_absolute_error: 0.1645 - val_loss: 0.1026 - val_mean_absolute_error: 0.1690\n",
      "Epoch 108/130\n",
      "1981/1981 [==============================] - 4s 2ms/step - loss: 0.1045 - mean_absolute_error: 0.1650 - val_loss: 0.1015 - val_mean_absolute_error: 0.1578\n",
      "Epoch 109/130\n",
      "1981/1981 [==============================] - 3s 2ms/step - loss: 0.1044 - mean_absolute_error: 0.1644 - val_loss: 0.1024 - val_mean_absolute_error: 0.1669\n",
      "Epoch 110/130\n",
      "1981/1981 [==============================] - 3s 2ms/step - loss: 0.1041 - mean_absolute_error: 0.1647 - val_loss: 0.1030 - val_mean_absolute_error: 0.1654\n",
      "Epoch 111/130\n",
      "1981/1981 [==============================] - 3s 2ms/step - loss: 0.1037 - mean_absolute_error: 0.1645 - val_loss: 0.1027 - val_mean_absolute_error: 0.1631\n",
      "Epoch 112/130\n",
      "1981/1981 [==============================] - 3s 2ms/step - loss: 0.1044 - mean_absolute_error: 0.1643 - val_loss: 0.1021 - val_mean_absolute_error: 0.1577\n",
      "Epoch 113/130\n",
      "1981/1981 [==============================] - 3s 2ms/step - loss: 0.1037 - mean_absolute_error: 0.1641 - val_loss: 0.1023 - val_mean_absolute_error: 0.1597\n",
      "Epoch 114/130\n",
      "1981/1981 [==============================] - 3s 2ms/step - loss: 0.1043 - mean_absolute_error: 0.1646 - val_loss: 0.1033 - val_mean_absolute_error: 0.1677\n",
      "Epoch 115/130\n",
      "1981/1981 [==============================] - 3s 2ms/step - loss: 0.1042 - mean_absolute_error: 0.1644 - val_loss: 0.1014 - val_mean_absolute_error: 0.1654\n",
      "Epoch 116/130\n",
      "1981/1981 [==============================] - 3s 2ms/step - loss: 0.1039 - mean_absolute_error: 0.1646 - val_loss: 0.1018 - val_mean_absolute_error: 0.1608\n",
      "Epoch 117/130\n",
      "1981/1981 [==============================] - 3s 2ms/step - loss: 0.1040 - mean_absolute_error: 0.1642 - val_loss: 0.1015 - val_mean_absolute_error: 0.1594\n",
      "Epoch 118/130\n",
      "1981/1981 [==============================] - 3s 2ms/step - loss: 0.1040 - mean_absolute_error: 0.1639 - val_loss: 0.1019 - val_mean_absolute_error: 0.1568\n",
      "Epoch 119/130\n",
      "1981/1981 [==============================] - 3s 2ms/step - loss: 0.1040 - mean_absolute_error: 0.1644 - val_loss: 0.1002 - val_mean_absolute_error: 0.1606\n",
      "Epoch 120/130\n",
      "1981/1981 [==============================] - 3s 2ms/step - loss: 0.1040 - mean_absolute_error: 0.1641 - val_loss: 0.1046 - val_mean_absolute_error: 0.1655\n",
      "Epoch 121/130\n",
      "1981/1981 [==============================] - 3s 2ms/step - loss: 0.1040 - mean_absolute_error: 0.1644 - val_loss: 0.1024 - val_mean_absolute_error: 0.1586\n",
      "Epoch 122/130\n",
      "1981/1981 [==============================] - 3s 2ms/step - loss: 0.1039 - mean_absolute_error: 0.1638 - val_loss: 0.1014 - val_mean_absolute_error: 0.1635\n",
      "Epoch 123/130\n",
      "1981/1981 [==============================] - 3s 2ms/step - loss: 0.1041 - mean_absolute_error: 0.1645 - val_loss: 0.1030 - val_mean_absolute_error: 0.1622\n",
      "Epoch 124/130\n",
      "1981/1981 [==============================] - 3s 2ms/step - loss: 0.1038 - mean_absolute_error: 0.1644 - val_loss: 0.1012 - val_mean_absolute_error: 0.1561\n",
      "Epoch 125/130\n",
      "1981/1981 [==============================] - 3s 2ms/step - loss: 0.1036 - mean_absolute_error: 0.1638 - val_loss: 0.1035 - val_mean_absolute_error: 0.1809\n",
      "Epoch 126/130\n",
      "1981/1981 [==============================] - 3s 2ms/step - loss: 0.1037 - mean_absolute_error: 0.1645 - val_loss: 0.1045 - val_mean_absolute_error: 0.1748\n",
      "Epoch 127/130\n",
      "1981/1981 [==============================] - 3s 2ms/step - loss: 0.1041 - mean_absolute_error: 0.1644 - val_loss: 0.1006 - val_mean_absolute_error: 0.1582\n",
      "Epoch 128/130\n",
      "1981/1981 [==============================] - 3s 2ms/step - loss: 0.1037 - mean_absolute_error: 0.1633 - val_loss: 0.1017 - val_mean_absolute_error: 0.1708\n",
      "Epoch 129/130\n",
      "1981/1981 [==============================] - 3s 2ms/step - loss: 0.1036 - mean_absolute_error: 0.1641 - val_loss: 0.1011 - val_mean_absolute_error: 0.1567\n",
      "Epoch 130/130\n",
      "1981/1981 [==============================] - 4s 2ms/step - loss: 0.1039 - mean_absolute_error: 0.1634 - val_loss: 0.1016 - val_mean_absolute_error: 0.1555\n"
     ]
    }
   ],
   "source": [
    "# Fitting the ANN to the Training set\n",
    "#  batch_size = 15, \n",
    "#    epochs = 5,\n",
    "history=model.fit(\n",
    "    X_train, \n",
    "    y_train ,\n",
    "    batch_size = 15, \n",
    "    epochs = 130,     \n",
    "    verbose=1,\n",
    "    validation_split = 0.33)"
   ]
  },
  {
   "attachments": {},
   "cell_type": "markdown",
   "metadata": {},
   "source": [
    "#### Mean Squared Error, Mean Absolute Error"
   ]
  },
  {
   "cell_type": "code",
   "execution_count": 19,
   "metadata": {},
   "outputs": [
    {
     "name": "stdout",
     "output_type": "stream",
     "text": [
      "594/594 [==============================] - 1s 1ms/step - loss: 0.1076 - mean_absolute_error: 0.1582\n",
      "MSE:  0.10761170834302902\n",
      "MAE: 0.15816757082939148\n"
     ]
    }
   ],
   "source": [
    "mean_squared_error, mean_absolute_error = model.evaluate(X_test,y_test)\n",
    "print(\"MSE: \",mean_squared_error)\n",
    "print(\"MAE:\" ,mean_absolute_error)"
   ]
  },
  {
   "cell_type": "code",
   "execution_count": 27,
   "metadata": {},
   "outputs": [
    {
     "name": "stdout",
     "output_type": "stream",
     "text": [
      "594/594 [==============================] - 1s 953us/step\n"
     ]
    }
   ],
   "source": [
    "# Generating Predictions on testing data\n",
    "Predictions=model.predict(X_test)"
   ]
  },
  {
   "attachments": {},
   "cell_type": "markdown",
   "metadata": {},
   "source": [
    "#### R2 Score"
   ]
  },
  {
   "cell_type": "code",
   "execution_count": 28,
   "metadata": {},
   "outputs": [
    {
     "data": {
      "text/plain": [
       "0.8916851839959781"
      ]
     },
     "execution_count": 28,
     "metadata": {},
     "output_type": "execute_result"
    }
   ],
   "source": [
    "from sklearn.metrics import r2_score\n",
    "r2_score(y_test,Predictions)"
   ]
  },
  {
   "attachments": {},
   "cell_type": "markdown",
   "metadata": {},
   "source": [
    "### Pred / Real Comparison"
   ]
  },
  {
   "cell_type": "code",
   "execution_count": 29,
   "metadata": {},
   "outputs": [
    {
     "data": {
      "text/html": [
       "<div>\n",
       "<style scoped>\n",
       "    .dataframe tbody tr th:only-of-type {\n",
       "        vertical-align: middle;\n",
       "    }\n",
       "\n",
       "    .dataframe tbody tr th {\n",
       "        vertical-align: top;\n",
       "    }\n",
       "\n",
       "    .dataframe thead th {\n",
       "        text-align: right;\n",
       "    }\n",
       "</style>\n",
       "<table border=\"1\" class=\"dataframe\">\n",
       "  <thead>\n",
       "    <tr style=\"text-align: right;\">\n",
       "      <th></th>\n",
       "      <th>Hour</th>\n",
       "      <th>Minute</th>\n",
       "      <th>TemperatureC</th>\n",
       "      <th>DewpointC</th>\n",
       "      <th>PressurehPa</th>\n",
       "      <th>WindDirectionDegrees</th>\n",
       "      <th>WindSpeedKMH</th>\n",
       "      <th>WindSpeedGustKMH</th>\n",
       "      <th>Humidity</th>\n",
       "      <th>HourlyPrecipMM</th>\n",
       "      <th>dailyrainMM</th>\n",
       "      <th>SolarRadiationWatts_m2</th>\n",
       "      <th>Generation</th>\n",
       "      <th>PredictedGeneration</th>\n",
       "    </tr>\n",
       "  </thead>\n",
       "  <tbody>\n",
       "    <tr>\n",
       "      <th>0</th>\n",
       "      <td>15.0</td>\n",
       "      <td>45.0</td>\n",
       "      <td>26.333333</td>\n",
       "      <td>15.666667</td>\n",
       "      <td>1015.0</td>\n",
       "      <td>306.000000</td>\n",
       "      <td>12.333333</td>\n",
       "      <td>27.000000</td>\n",
       "      <td>51.666667</td>\n",
       "      <td>0.0</td>\n",
       "      <td>0.0</td>\n",
       "      <td>710.666667</td>\n",
       "      <td>2065.333333</td>\n",
       "      <td>2257.020264</td>\n",
       "    </tr>\n",
       "    <tr>\n",
       "      <th>1</th>\n",
       "      <td>2.0</td>\n",
       "      <td>0.0</td>\n",
       "      <td>19.000000</td>\n",
       "      <td>16.000000</td>\n",
       "      <td>1016.0</td>\n",
       "      <td>196.000000</td>\n",
       "      <td>0.000000</td>\n",
       "      <td>0.000000</td>\n",
       "      <td>83.000000</td>\n",
       "      <td>0.0</td>\n",
       "      <td>0.0</td>\n",
       "      <td>0.000000</td>\n",
       "      <td>0.000000</td>\n",
       "      <td>-1.074893</td>\n",
       "    </tr>\n",
       "    <tr>\n",
       "      <th>2</th>\n",
       "      <td>5.0</td>\n",
       "      <td>45.0</td>\n",
       "      <td>19.000000</td>\n",
       "      <td>10.000000</td>\n",
       "      <td>1011.0</td>\n",
       "      <td>98.000000</td>\n",
       "      <td>6.333333</td>\n",
       "      <td>17.000000</td>\n",
       "      <td>56.000000</td>\n",
       "      <td>0.0</td>\n",
       "      <td>0.0</td>\n",
       "      <td>0.000000</td>\n",
       "      <td>0.000000</td>\n",
       "      <td>-5.235476</td>\n",
       "    </tr>\n",
       "    <tr>\n",
       "      <th>3</th>\n",
       "      <td>13.0</td>\n",
       "      <td>45.0</td>\n",
       "      <td>27.333333</td>\n",
       "      <td>16.000000</td>\n",
       "      <td>1017.0</td>\n",
       "      <td>285.666667</td>\n",
       "      <td>0.333333</td>\n",
       "      <td>13.333333</td>\n",
       "      <td>49.333333</td>\n",
       "      <td>0.0</td>\n",
       "      <td>0.0</td>\n",
       "      <td>824.666667</td>\n",
       "      <td>5071.333333</td>\n",
       "      <td>4670.899414</td>\n",
       "    </tr>\n",
       "    <tr>\n",
       "      <th>4</th>\n",
       "      <td>19.0</td>\n",
       "      <td>30.0</td>\n",
       "      <td>18.000000</td>\n",
       "      <td>15.000000</td>\n",
       "      <td>1014.0</td>\n",
       "      <td>180.333333</td>\n",
       "      <td>1.000000</td>\n",
       "      <td>11.000000</td>\n",
       "      <td>82.666667</td>\n",
       "      <td>0.0</td>\n",
       "      <td>0.0</td>\n",
       "      <td>0.000000</td>\n",
       "      <td>0.000000</td>\n",
       "      <td>73.855347</td>\n",
       "    </tr>\n",
       "  </tbody>\n",
       "</table>\n",
       "</div>"
      ],
      "text/plain": [
       "   Hour  Minute  TemperatureC  DewpointC  PressurehPa  WindDirectionDegrees  \\\n",
       "0  15.0    45.0     26.333333  15.666667       1015.0            306.000000   \n",
       "1   2.0     0.0     19.000000  16.000000       1016.0            196.000000   \n",
       "2   5.0    45.0     19.000000  10.000000       1011.0             98.000000   \n",
       "3  13.0    45.0     27.333333  16.000000       1017.0            285.666667   \n",
       "4  19.0    30.0     18.000000  15.000000       1014.0            180.333333   \n",
       "\n",
       "   WindSpeedKMH  WindSpeedGustKMH   Humidity  HourlyPrecipMM  dailyrainMM  \\\n",
       "0     12.333333         27.000000  51.666667             0.0          0.0   \n",
       "1      0.000000          0.000000  83.000000             0.0          0.0   \n",
       "2      6.333333         17.000000  56.000000             0.0          0.0   \n",
       "3      0.333333         13.333333  49.333333             0.0          0.0   \n",
       "4      1.000000         11.000000  82.666667             0.0          0.0   \n",
       "\n",
       "   SolarRadiationWatts_m2   Generation  PredictedGeneration  \n",
       "0              710.666667  2065.333333          2257.020264  \n",
       "1                0.000000     0.000000            -1.074893  \n",
       "2                0.000000     0.000000            -5.235476  \n",
       "3              824.666667  5071.333333          4670.899414  \n",
       "4                0.000000     0.000000            73.855347  "
      ]
     },
     "execution_count": 29,
     "metadata": {},
     "output_type": "execute_result"
    }
   ],
   "source": [
    "\n",
    "\n",
    "# Scaling the predicted Price data back to original price scale\n",
    "Predictions=TargetVarScalerFit.inverse_transform(Predictions)\n",
    "\n",
    "# Scaling the y_test Price data back to original price scale\n",
    "y_test_orig=TargetVarScalerFit.inverse_transform(y_test)\n",
    "\n",
    "# Scaling the test data back to original scale\n",
    "Test_Data=PredictorScalerFit.inverse_transform(X_test)\n",
    "\n",
    "TestingData=pd.DataFrame(data=Test_Data, columns=Predictors)\n",
    "TestingData['Generation']=y_test_orig\n",
    "TestingData['PredictedGeneration']=Predictions\n",
    "TestingData.head()"
   ]
  },
  {
   "cell_type": "code",
   "execution_count": 25,
   "metadata": {},
   "outputs": [
    {
     "ename": "ValueError",
     "evalue": "Per-column arrays must each be 1-dimensional",
     "output_type": "error",
     "traceback": [
      "\u001b[1;31m---------------------------------------------------------------------------\u001b[0m",
      "\u001b[1;31mValueError\u001b[0m                                Traceback (most recent call last)",
      "Cell \u001b[1;32mIn [25], line 1\u001b[0m\n\u001b[1;32m----> 1\u001b[0m df_temp \u001b[39m=\u001b[39m pd\u001b[39m.\u001b[39;49mDataFrame({\u001b[39m'\u001b[39;49m\u001b[39mActual\u001b[39;49m\u001b[39m'\u001b[39;49m: y_test_orig, \u001b[39m'\u001b[39;49m\u001b[39mPredicted\u001b[39;49m\u001b[39m'\u001b[39;49m: Predictions})\n\u001b[0;32m      2\u001b[0m df_temp\u001b[39m.\u001b[39mhead()\n",
      "File \u001b[1;32mc:\\Users\\rafae\\AppData\\Local\\Programs\\Python\\Python310\\lib\\site-packages\\pandas\\core\\frame.py:636\u001b[0m, in \u001b[0;36mDataFrame.__init__\u001b[1;34m(self, data, index, columns, dtype, copy)\u001b[0m\n\u001b[0;32m    630\u001b[0m     mgr \u001b[39m=\u001b[39m \u001b[39mself\u001b[39m\u001b[39m.\u001b[39m_init_mgr(\n\u001b[0;32m    631\u001b[0m         data, axes\u001b[39m=\u001b[39m{\u001b[39m\"\u001b[39m\u001b[39mindex\u001b[39m\u001b[39m\"\u001b[39m: index, \u001b[39m\"\u001b[39m\u001b[39mcolumns\u001b[39m\u001b[39m\"\u001b[39m: columns}, dtype\u001b[39m=\u001b[39mdtype, copy\u001b[39m=\u001b[39mcopy\n\u001b[0;32m    632\u001b[0m     )\n\u001b[0;32m    634\u001b[0m \u001b[39melif\u001b[39;00m \u001b[39misinstance\u001b[39m(data, \u001b[39mdict\u001b[39m):\n\u001b[0;32m    635\u001b[0m     \u001b[39m# GH#38939 de facto copy defaults to False only in non-dict cases\u001b[39;00m\n\u001b[1;32m--> 636\u001b[0m     mgr \u001b[39m=\u001b[39m dict_to_mgr(data, index, columns, dtype\u001b[39m=\u001b[39;49mdtype, copy\u001b[39m=\u001b[39;49mcopy, typ\u001b[39m=\u001b[39;49mmanager)\n\u001b[0;32m    637\u001b[0m \u001b[39melif\u001b[39;00m \u001b[39misinstance\u001b[39m(data, ma\u001b[39m.\u001b[39mMaskedArray):\n\u001b[0;32m    638\u001b[0m     \u001b[39mimport\u001b[39;00m \u001b[39mnumpy\u001b[39;00m\u001b[39m.\u001b[39;00m\u001b[39mma\u001b[39;00m\u001b[39m.\u001b[39;00m\u001b[39mmrecords\u001b[39;00m \u001b[39mas\u001b[39;00m \u001b[39mmrecords\u001b[39;00m\n",
      "File \u001b[1;32mc:\\Users\\rafae\\AppData\\Local\\Programs\\Python\\Python310\\lib\\site-packages\\pandas\\core\\internals\\construction.py:502\u001b[0m, in \u001b[0;36mdict_to_mgr\u001b[1;34m(data, index, columns, dtype, typ, copy)\u001b[0m\n\u001b[0;32m    494\u001b[0m     arrays \u001b[39m=\u001b[39m [\n\u001b[0;32m    495\u001b[0m         x\n\u001b[0;32m    496\u001b[0m         \u001b[39mif\u001b[39;00m \u001b[39mnot\u001b[39;00m \u001b[39mhasattr\u001b[39m(x, \u001b[39m\"\u001b[39m\u001b[39mdtype\u001b[39m\u001b[39m\"\u001b[39m) \u001b[39mor\u001b[39;00m \u001b[39mnot\u001b[39;00m \u001b[39misinstance\u001b[39m(x\u001b[39m.\u001b[39mdtype, ExtensionDtype)\n\u001b[0;32m    497\u001b[0m         \u001b[39melse\u001b[39;00m x\u001b[39m.\u001b[39mcopy()\n\u001b[0;32m    498\u001b[0m         \u001b[39mfor\u001b[39;00m x \u001b[39min\u001b[39;00m arrays\n\u001b[0;32m    499\u001b[0m     ]\n\u001b[0;32m    500\u001b[0m     \u001b[39m# TODO: can we get rid of the dt64tz special case above?\u001b[39;00m\n\u001b[1;32m--> 502\u001b[0m \u001b[39mreturn\u001b[39;00m arrays_to_mgr(arrays, columns, index, dtype\u001b[39m=\u001b[39;49mdtype, typ\u001b[39m=\u001b[39;49mtyp, consolidate\u001b[39m=\u001b[39;49mcopy)\n",
      "File \u001b[1;32mc:\\Users\\rafae\\AppData\\Local\\Programs\\Python\\Python310\\lib\\site-packages\\pandas\\core\\internals\\construction.py:120\u001b[0m, in \u001b[0;36marrays_to_mgr\u001b[1;34m(arrays, columns, index, dtype, verify_integrity, typ, consolidate)\u001b[0m\n\u001b[0;32m    117\u001b[0m \u001b[39mif\u001b[39;00m verify_integrity:\n\u001b[0;32m    118\u001b[0m     \u001b[39m# figure out the index, if necessary\u001b[39;00m\n\u001b[0;32m    119\u001b[0m     \u001b[39mif\u001b[39;00m index \u001b[39mis\u001b[39;00m \u001b[39mNone\u001b[39;00m:\n\u001b[1;32m--> 120\u001b[0m         index \u001b[39m=\u001b[39m _extract_index(arrays)\n\u001b[0;32m    121\u001b[0m     \u001b[39melse\u001b[39;00m:\n\u001b[0;32m    122\u001b[0m         index \u001b[39m=\u001b[39m ensure_index(index)\n",
      "File \u001b[1;32mc:\\Users\\rafae\\AppData\\Local\\Programs\\Python\\Python310\\lib\\site-packages\\pandas\\core\\internals\\construction.py:661\u001b[0m, in \u001b[0;36m_extract_index\u001b[1;34m(data)\u001b[0m\n\u001b[0;32m    659\u001b[0m         raw_lengths\u001b[39m.\u001b[39mappend(\u001b[39mlen\u001b[39m(val))\n\u001b[0;32m    660\u001b[0m     \u001b[39melif\u001b[39;00m \u001b[39misinstance\u001b[39m(val, np\u001b[39m.\u001b[39mndarray) \u001b[39mand\u001b[39;00m val\u001b[39m.\u001b[39mndim \u001b[39m>\u001b[39m \u001b[39m1\u001b[39m:\n\u001b[1;32m--> 661\u001b[0m         \u001b[39mraise\u001b[39;00m \u001b[39mValueError\u001b[39;00m(\u001b[39m\"\u001b[39m\u001b[39mPer-column arrays must each be 1-dimensional\u001b[39m\u001b[39m\"\u001b[39m)\n\u001b[0;32m    663\u001b[0m \u001b[39mif\u001b[39;00m \u001b[39mnot\u001b[39;00m indexes \u001b[39mand\u001b[39;00m \u001b[39mnot\u001b[39;00m raw_lengths:\n\u001b[0;32m    664\u001b[0m     \u001b[39mraise\u001b[39;00m \u001b[39mValueError\u001b[39;00m(\u001b[39m\"\u001b[39m\u001b[39mIf using all scalar values, you must pass an index\u001b[39m\u001b[39m\"\u001b[39m)\n",
      "\u001b[1;31mValueError\u001b[0m: Per-column arrays must each be 1-dimensional"
     ]
    }
   ],
   "source": [
    "df_temp = pd.DataFrame({'Actual': y_test_orig, 'Predicted': Predictions})\n",
    "df_temp.head()"
   ]
  },
  {
   "cell_type": "code",
   "execution_count": null,
   "metadata": {},
   "outputs": [],
   "source": [
    "TestingData"
   ]
  },
  {
   "attachments": {},
   "cell_type": "markdown",
   "metadata": {},
   "source": [
    "### Plot Loss"
   ]
  },
  {
   "cell_type": "code",
   "execution_count": 15,
   "metadata": {},
   "outputs": [],
   "source": [
    "import matplotlib.pyplot as plt\n",
    "\n",
    "def plot_loss(history):\n",
    "  plt.plot(history.history['loss'], label='loss')\n",
    "  plt.plot(history.history['val_loss'], label='val_loss')\n",
    "  plt.xlabel('Epoch')\n",
    "  plt.ylabel('Error [MPG]')\n",
    "  plt.legend()\n",
    "  plt.grid(True)"
   ]
  },
  {
   "cell_type": "code",
   "execution_count": 16,
   "metadata": {},
   "outputs": [
    {
     "data": {
      "text/html": [
       "<div>\n",
       "<style scoped>\n",
       "    .dataframe tbody tr th:only-of-type {\n",
       "        vertical-align: middle;\n",
       "    }\n",
       "\n",
       "    .dataframe tbody tr th {\n",
       "        vertical-align: top;\n",
       "    }\n",
       "\n",
       "    .dataframe thead th {\n",
       "        text-align: right;\n",
       "    }\n",
       "</style>\n",
       "<table border=\"1\" class=\"dataframe\">\n",
       "  <thead>\n",
       "    <tr style=\"text-align: right;\">\n",
       "      <th></th>\n",
       "      <th>loss</th>\n",
       "      <th>mean_absolute_error</th>\n",
       "      <th>val_loss</th>\n",
       "      <th>val_mean_absolute_error</th>\n",
       "      <th>epoch</th>\n",
       "    </tr>\n",
       "  </thead>\n",
       "  <tbody>\n",
       "    <tr>\n",
       "      <th>195</th>\n",
       "      <td>0.110421</td>\n",
       "      <td>0.170517</td>\n",
       "      <td>0.106942</td>\n",
       "      <td>0.165131</td>\n",
       "      <td>195</td>\n",
       "    </tr>\n",
       "    <tr>\n",
       "      <th>196</th>\n",
       "      <td>0.110247</td>\n",
       "      <td>0.169620</td>\n",
       "      <td>0.105309</td>\n",
       "      <td>0.159363</td>\n",
       "      <td>196</td>\n",
       "    </tr>\n",
       "    <tr>\n",
       "      <th>197</th>\n",
       "      <td>0.110233</td>\n",
       "      <td>0.169661</td>\n",
       "      <td>0.104817</td>\n",
       "      <td>0.160714</td>\n",
       "      <td>197</td>\n",
       "    </tr>\n",
       "    <tr>\n",
       "      <th>198</th>\n",
       "      <td>0.109862</td>\n",
       "      <td>0.169811</td>\n",
       "      <td>0.105787</td>\n",
       "      <td>0.157290</td>\n",
       "      <td>198</td>\n",
       "    </tr>\n",
       "    <tr>\n",
       "      <th>199</th>\n",
       "      <td>0.109796</td>\n",
       "      <td>0.169449</td>\n",
       "      <td>0.106698</td>\n",
       "      <td>0.160104</td>\n",
       "      <td>199</td>\n",
       "    </tr>\n",
       "  </tbody>\n",
       "</table>\n",
       "</div>"
      ],
      "text/plain": [
       "         loss  mean_absolute_error  val_loss  val_mean_absolute_error  epoch\n",
       "195  0.110421             0.170517  0.106942                 0.165131    195\n",
       "196  0.110247             0.169620  0.105309                 0.159363    196\n",
       "197  0.110233             0.169661  0.104817                 0.160714    197\n",
       "198  0.109862             0.169811  0.105787                 0.157290    198\n",
       "199  0.109796             0.169449  0.106698                 0.160104    199"
      ]
     },
     "execution_count": 16,
     "metadata": {},
     "output_type": "execute_result"
    }
   ],
   "source": [
    "hist = pd.DataFrame(history.history)\n",
    "hist['epoch'] = history.epoch\n",
    "hist.tail()"
   ]
  },
  {
   "cell_type": "code",
   "execution_count": 17,
   "metadata": {},
   "outputs": [
    {
     "data": {
      "image/png": "[encoded data removed]",
      "text/plain": [
       "<Figure size 640x480 with 1 Axes>"
      ]
     },
     "metadata": {},
     "output_type": "display_data"
    }
   ],
   "source": [
    "plot_loss(history)"
   ]
  },
  {
   "attachments": {},
   "cell_type": "markdown",
   "metadata": {},
   "source": [
    "# Save and Load Model"
   ]
  },
  {
   "cell_type": "code",
   "execution_count": 2,
   "metadata": {},
   "outputs": [],
   "source": [
    "filename = './DNN_finalized_model'\n"
   ]
  },
  {
   "cell_type": "code",
   "execution_count": 14,
   "metadata": {},
   "outputs": [
    {
     "ename": "NameError",
     "evalue": "name 'model' is not defined",
     "output_type": "error",
     "traceback": [
      "\u001b[1;31m---------------------------------------------------------------------------\u001b[0m",
      "\u001b[1;31mNameError\u001b[0m                                 Traceback (most recent call last)",
      "Cell \u001b[1;32mIn [14], line 2\u001b[0m\n\u001b[0;32m      1\u001b[0m \u001b[39m# save the model to disk\u001b[39;00m\n\u001b[1;32m----> 2\u001b[0m model\u001b[39m.\u001b[39msave(filename)\n",
      "\u001b[1;31mNameError\u001b[0m: name 'model' is not defined"
     ]
    }
   ],
   "source": [
    "# save the model to disk\n",
    "model.save(filename)"
   ]
  },
  {
   "cell_type": "code",
   "execution_count": 3,
   "metadata": {},
   "outputs": [],
   "source": [
    "import tensorflow as tf\n",
    "\n",
    "# load the model from disk\n",
    "model = tf.keras.models.load_model(filename)"
   ]
  },
  {
   "attachments": {},
   "cell_type": "markdown",
   "metadata": {},
   "source": [
    "### save to single file - .h5"
   ]
  },
  {
   "cell_type": "code",
   "execution_count": 30,
   "metadata": {},
   "outputs": [],
   "source": [
    "save_path = './DNN_model.h5'\n"
   ]
  },
  {
   "cell_type": "code",
   "execution_count": 33,
   "metadata": {},
   "outputs": [],
   "source": [
    "import tensorflow as tf\n"
   ]
  },
  {
   "cell_type": "code",
   "execution_count": 31,
   "metadata": {},
   "outputs": [],
   "source": [
    "## save model single file\n",
    "model.save(save_path)"
   ]
  },
  {
   "cell_type": "code",
   "execution_count": 34,
   "metadata": {},
   "outputs": [],
   "source": [
    "## load tensorflow model\n",
    "model = tf.keras.models.load_model(save_path)"
   ]
  },
  {
   "cell_type": "code",
   "execution_count": 35,
   "metadata": {},
   "outputs": [
    {
     "name": "stdout",
     "output_type": "stream",
     "text": [
      "<class 'keras.engine.sequential.Sequential'>\n"
     ]
    }
   ],
   "source": [
    "print(type(model))"
   ]
  },
  {
   "attachments": {},
   "cell_type": "markdown",
   "metadata": {},
   "source": [
    "### Save using pickle"
   ]
  },
  {
   "cell_type": "code",
   "execution_count": 21,
   "metadata": {},
   "outputs": [],
   "source": [
    "pickle_filename= \"./saved_DNN.pkl\""
   ]
  },
  {
   "cell_type": "code",
   "execution_count": 15,
   "metadata": {},
   "outputs": [],
   "source": [
    "import joblib"
   ]
  },
  {
   "cell_type": "code",
   "execution_count": 25,
   "metadata": {},
   "outputs": [
    {
     "name": "stdout",
     "output_type": "stream",
     "text": [
      "INFO:tensorflow:Assets written to: ram://fe8ad0c1-f1b1-48fb-8b1b-9fe75d3b8225/assets\n"
     ]
    }
   ],
   "source": [
    "pickle.dump(model, open(pickle_filename, 'wb'))"
   ]
  },
  {
   "cell_type": "code",
   "execution_count": 26,
   "metadata": {},
   "outputs": [
    {
     "ename": "FileNotFoundError",
     "evalue": "Unsuccessful TensorSliceReader constructor: Failed to find any matching files for ram://5f4f61f9-9cb8-4027-82dc-00f90d6a725b/variables/variables\n You may be trying to load on a different device from the computational device. Consider setting the `experimental_io_device` option in `tf.saved_model.LoadOptions` to the io_device such as '/job:localhost'.",
     "output_type": "error",
     "traceback": [
      "\u001b[1;31m---------------------------------------------------------------------------\u001b[0m",
      "\u001b[1;31mFileNotFoundError\u001b[0m                         Traceback (most recent call last)",
      "\u001b[1;32md:\\challenge-3\\Generation Prediction DNN\\DNN Regression.ipynb Cell 58\u001b[0m in \u001b[0;36m1\n\u001b[1;32m----> <a href='vscode-notebook-cell:/d%3A/challenge-3/Generation%20Prediction%20DNN/DNN%20Regression.ipynb#Y132sZmlsZQ%3D%3D?line=0'>1</a>\u001b[0m model \u001b[39m=\u001b[39m pickle\u001b[39m.\u001b[39;49mload(\u001b[39mopen\u001b[39;49m(pickle_filename, \u001b[39m'\u001b[39;49m\u001b[39mrb\u001b[39;49m\u001b[39m'\u001b[39;49m))\n",
      "File \u001b[1;32mc:\\Users\\rafae\\AppData\\Local\\Programs\\Python\\Python310\\lib\\site-packages\\keras\\saving\\pickle_utils.py:48\u001b[0m, in \u001b[0;36mdeserialize_model_from_bytecode\u001b[1;34m(serialized_model)\u001b[0m\n\u001b[0;32m     46\u001b[0m       \u001b[39mwith\u001b[39;00m tf\u001b[39m.\u001b[39mio\u001b[39m.\u001b[39mgfile\u001b[39m.\u001b[39mGFile(dest_path, \u001b[39m\"\u001b[39m\u001b[39mwb\u001b[39m\u001b[39m\"\u001b[39m) \u001b[39mas\u001b[39;00m f:\n\u001b[0;32m     47\u001b[0m         f\u001b[39m.\u001b[39mwrite(archive\u001b[39m.\u001b[39mextractfile(name)\u001b[39m.\u001b[39mread())\n\u001b[1;32m---> 48\u001b[0m model \u001b[39m=\u001b[39m save_module\u001b[39m.\u001b[39;49mload_model(temp_dir)\n\u001b[0;32m     49\u001b[0m tf\u001b[39m.\u001b[39mio\u001b[39m.\u001b[39mgfile\u001b[39m.\u001b[39mrmtree(temp_dir)\n\u001b[0;32m     50\u001b[0m \u001b[39mreturn\u001b[39;00m model\n",
      "File \u001b[1;32mc:\\Users\\rafae\\AppData\\Local\\Programs\\Python\\Python310\\lib\\site-packages\\keras\\utils\\traceback_utils.py:67\u001b[0m, in \u001b[0;36mfilter_traceback.<locals>.error_handler\u001b[1;34m(*args, **kwargs)\u001b[0m\n\u001b[0;32m     65\u001b[0m \u001b[39mexcept\u001b[39;00m \u001b[39mException\u001b[39;00m \u001b[39mas\u001b[39;00m e:  \u001b[39m# pylint: disable=broad-except\u001b[39;00m\n\u001b[0;32m     66\u001b[0m   filtered_tb \u001b[39m=\u001b[39m _process_traceback_frames(e\u001b[39m.\u001b[39m__traceback__)\n\u001b[1;32m---> 67\u001b[0m   \u001b[39mraise\u001b[39;00m e\u001b[39m.\u001b[39mwith_traceback(filtered_tb) \u001b[39mfrom\u001b[39;00m \u001b[39mNone\u001b[39m\n\u001b[0;32m     68\u001b[0m \u001b[39mfinally\u001b[39;00m:\n\u001b[0;32m     69\u001b[0m   \u001b[39mdel\u001b[39;00m filtered_tb\n",
      "File \u001b[1;32mc:\\Users\\rafae\\AppData\\Local\\Programs\\Python\\Python310\\lib\\site-packages\\tensorflow\\python\\saved_model\\load.py:915\u001b[0m, in \u001b[0;36mload_partial\u001b[1;34m(export_dir, filters, tags, options)\u001b[0m\n\u001b[0;32m    912\u001b[0m   loader \u001b[39m=\u001b[39m Loader(object_graph_proto, saved_model_proto, export_dir,\n\u001b[0;32m    913\u001b[0m                   ckpt_options, options, filters)\n\u001b[0;32m    914\u001b[0m \u001b[39mexcept\u001b[39;00m errors\u001b[39m.\u001b[39mNotFoundError \u001b[39mas\u001b[39;00m err:\n\u001b[1;32m--> 915\u001b[0m   \u001b[39mraise\u001b[39;00m \u001b[39mFileNotFoundError\u001b[39;00m(\n\u001b[0;32m    916\u001b[0m       \u001b[39mstr\u001b[39m(err) \u001b[39m+\u001b[39m \u001b[39m\"\u001b[39m\u001b[39m\\n\u001b[39;00m\u001b[39m You may be trying to load on a different device \u001b[39m\u001b[39m\"\u001b[39m\n\u001b[0;32m    917\u001b[0m       \u001b[39m\"\u001b[39m\u001b[39mfrom the computational device. Consider setting the \u001b[39m\u001b[39m\"\u001b[39m\n\u001b[0;32m    918\u001b[0m       \u001b[39m\"\u001b[39m\u001b[39m`experimental_io_device` option in `tf.saved_model.LoadOptions` \u001b[39m\u001b[39m\"\u001b[39m\n\u001b[0;32m    919\u001b[0m       \u001b[39m\"\u001b[39m\u001b[39mto the io_device such as \u001b[39m\u001b[39m'\u001b[39m\u001b[39m/job:localhost\u001b[39m\u001b[39m'\u001b[39m\u001b[39m.\u001b[39m\u001b[39m\"\u001b[39m)\n\u001b[0;32m    920\u001b[0m root \u001b[39m=\u001b[39m loader\u001b[39m.\u001b[39mget(\u001b[39m0\u001b[39m)\n\u001b[0;32m    921\u001b[0m root\u001b[39m.\u001b[39mgraph_debug_info \u001b[39m=\u001b[39m loader\u001b[39m.\u001b[39madjust_debug_info_func_names(debug_info)\n",
      "\u001b[1;31mFileNotFoundError\u001b[0m: Unsuccessful TensorSliceReader constructor: Failed to find any matching files for ram://5f4f61f9-9cb8-4027-82dc-00f90d6a725b/variables/variables\n You may be trying to load on a different device from the computational device. Consider setting the `experimental_io_device` option in `tf.saved_model.LoadOptions` to the io_device such as '/job:localhost'."
     ]
    }
   ],
   "source": [
    "model = pickle.load(open(pickle_filename, 'rb'))"
   ]
  },
  {
   "cell_type": "code",
   "execution_count": 36,
   "metadata": {},
   "outputs": [
    {
     "data": {
      "text/plain": [
       "[<keras.layers.core.dense.Dense at 0x1398e916a70>,\n",
       " <keras.layers.core.dense.Dense at 0x1398e916f50>,\n",
       " <keras.layers.core.dense.Dense at 0x1398e9177f0>,\n",
       " <keras.layers.core.dense.Dense at 0x139a57501f0>]"
      ]
     },
     "execution_count": 36,
     "metadata": {},
     "output_type": "execute_result"
    }
   ],
   "source": [
    "model.layers"
   ]
  },
  {
   "cell_type": "code",
   "execution_count": null,
   "metadata": {},
   "outputs": [],
   "source": [
    "# Fitting the ANN to the Training set\n",
    "history=model.fit(\n",
    "    X_train,\n",
    "    y_train, \n",
    "    batch_size = 30,\n",
    "    epochs = 200,\n",
    "    verbose=1,\n",
    "    validation_split = 0.33)\n"
   ]
  },
  {
   "cell_type": "code",
   "execution_count": null,
   "metadata": {},
   "outputs": [],
   "source": [
    "model.summary()"
   ]
  },
  {
   "attachments": {},
   "cell_type": "markdown",
   "metadata": {},
   "source": [
    "# Explainable AI Shap"
   ]
  },
  {
   "cell_type": "code",
   "execution_count": 23,
   "metadata": {},
   "outputs": [
    {
     "name": "stderr",
     "output_type": "stream",
     "text": [
      "c:\\Users\\rafae\\AppData\\Local\\Programs\\Python\\Python310\\lib\\site-packages\\tqdm\\auto.py:22: TqdmWarning: IProgress not found. Please update jupyter and ipywidgets. See https://ipywidgets.readthedocs.io/en/stable/user_install.html\n",
      "  from .autonotebook import tqdm as notebook_tqdm\n"
     ]
    }
   ],
   "source": [
    "\n",
    "import shap\n",
    "import numpy as np\n",
    "\n",
    "# select a set of background examples to take an expectation over\n",
    "background = X_train[np.random.choice(X_train.shape[0], 100, replace=False)]"
   ]
  },
  {
   "cell_type": "code",
   "execution_count": 24,
   "metadata": {},
   "outputs": [
    {
     "name": "stderr",
     "output_type": "stream",
     "text": [
      "keras is no longer supported, please use tf.keras instead.\n",
      "Your TensorFlow version is newer than 2.4.0 and so graph support has been removed in eager mode and some static graphs may not be supported. See PR #1483 for discussion.\n"
     ]
    }
   ],
   "source": [
    "import shap\n",
    "\n",
    "explainer = shap.DeepExplainer(model, background)\n"
   ]
  },
  {
   "cell_type": "code",
   "execution_count": 25,
   "metadata": {},
   "outputs": [
    {
     "name": "stderr",
     "output_type": "stream",
     "text": [
      "`tf.keras.backend.set_learning_phase` is deprecated and will be removed after 2020-10-11. To update it, simply pass a True/False value to the `training` argument of the `__call__` method of your layer or model.\n"
     ]
    }
   ],
   "source": [
    "shap_values = explainer.shap_values(X_test[1:100])"
   ]
  },
  {
   "cell_type": "code",
   "execution_count": 27,
   "metadata": {},
   "outputs": [
    {
     "data": {
      "text/plain": [
       "[array([[-1.68849351e-01, -4.59579317e-03,  6.78882074e-04, ...,\n",
       "          0.00000000e+00,  0.00000000e+00, -4.35601018e-01],\n",
       "        [-1.67048782e-01,  1.12952883e-02,  3.18244101e-03, ...,\n",
       "          0.00000000e+00,  0.00000000e+00, -4.08045558e-01],\n",
       "        [ 6.48089213e-01, -7.61436606e-02,  1.16580426e-01, ...,\n",
       "          0.00000000e+00,  0.00000000e+00,  2.42317476e+00],\n",
       "        ...,\n",
       "        [-2.37279239e-01,  1.15904506e-02, -2.24955262e-02, ...,\n",
       "          0.00000000e+00,  0.00000000e+00, -3.59339714e-01],\n",
       "        [-1.22369200e-01,  1.29492104e-03, -2.83992959e-02, ...,\n",
       "          0.00000000e+00,  0.00000000e+00, -4.70893431e-01],\n",
       "        [-9.32726064e-02, -7.23286108e-03, -7.70393477e-02, ...,\n",
       "          0.00000000e+00,  0.00000000e+00, -4.75574969e-01]])]"
      ]
     },
     "execution_count": 27,
     "metadata": {},
     "output_type": "execute_result"
    }
   ],
   "source": [
    "shap_values"
   ]
  },
  {
   "cell_type": "code",
   "execution_count": 28,
   "metadata": {},
   "outputs": [
    {
     "data": {
      "image/png": "[encoded data removed]",
      "text/plain": [
       "<Figure size 800x630 with 1 Axes>"
      ]
     },
     "metadata": {},
     "output_type": "display_data"
    }
   ],
   "source": [
    "shap.summary_plot(shap_values,df_x.columns)"
   ]
  },
  {
   "cell_type": "code",
   "execution_count": null,
   "metadata": {},
   "outputs": [],
   "source": [
    "# plot the feature attributions\n",
    "shap.image_plot(shap_values, -X_test[1:100])"
   ]
  },
  {
   "attachments": {},
   "cell_type": "markdown",
   "metadata": {},
   "source": [
    "#### Save Shap Values"
   ]
  },
  {
   "cell_type": "code",
   "execution_count": null,
   "metadata": {},
   "outputs": [],
   "source": [
    "import pickle\n",
    "pickle.dump(shap_values, open(\"shap_values.bin\", \"wb\"))"
   ]
  },
  {
   "cell_type": "code",
   "execution_count": 9,
   "metadata": {},
   "outputs": [],
   "source": [
    "import pickle\n",
    "matrix = pickle.load(open(\"shap_values.bin\", \"rb\"))"
   ]
  },
  {
   "cell_type": "code",
   "execution_count": 30,
   "metadata": {},
   "outputs": [
    {
     "ename": "NameError",
     "evalue": "name 'matrix' is not defined",
     "output_type": "error",
     "traceback": [
      "\u001b[1;31m---------------------------------------------------------------------------\u001b[0m",
      "\u001b[1;31mNameError\u001b[0m                                 Traceback (most recent call last)",
      "Cell \u001b[1;32mIn [30], line 2\u001b[0m\n\u001b[0;32m      1\u001b[0m \u001b[39mimport\u001b[39;00m \u001b[39mshap\u001b[39;00m\n\u001b[1;32m----> 2\u001b[0m shap\u001b[39m.\u001b[39msummary_plot(matrix,X_test)\n",
      "\u001b[1;31mNameError\u001b[0m: name 'matrix' is not defined"
     ]
    }
   ],
   "source": [
    "import shap\n",
    "shap.summary_plot(matrix,X_test)"
   ]
  },
  {
   "cell_type": "code",
   "execution_count": null,
   "metadata": {},
   "outputs": [],
   "source": [
    "matrix"
   ]
  },
  {
   "cell_type": "code",
   "execution_count": null,
   "metadata": {},
   "outputs": [],
   "source": [
    "with pd.option_context('display.max_rows', None,\n",
    "                        'display.max_columns', None,\n",
    "                        'display.precision', 3,                        ):\n",
    "    print(matrix)"
   ]
  },
  {
   "cell_type": "code",
   "execution_count": null,
   "metadata": {},
   "outputs": [],
   "source": [
    "print(shap.__version__)\n",
    "print(tf.__version__)\n"
   ]
  }
 ],
 "metadata": {
  "kernelspec": {
   "display_name": "Python 3",
   "language": "python",
   "name": "python3"
  },
  "language_info": {
   "codemirror_mode": {
    "name": "ipython",
    "version": 3
   },
   "file_extension": ".py",
   "mimetype": "text/x-python",
   "name": "python",
   "nbconvert_exporter": "python",
   "pygments_lexer": "ipython3",
   "version": "3.10.5"
  },
  "orig_nbformat": 4,
  "vscode": {
   "interpreter": {
    "hash": "5722daad9755055b013a651651e76bfefcd0039befef69efb03fa00fbea6a530"
   }
  }
 },
 "nbformat": 4,
 "nbformat_minor": 2
}
