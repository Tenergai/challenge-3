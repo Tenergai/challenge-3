{
 "cells": [
  {
   "attachments": {},
   "cell_type": "markdown",
   "metadata": {},
   "source": [
    "# Prepare Data"
   ]
  },
  {
   "cell_type": "code",
   "execution_count": 30,
   "metadata": {},
   "outputs": [],
   "source": [
    "#from https://thinkingneuron.com/using-artificial-neural-networks-for-regression-in-python/\n",
    "\n",
    "import pandas as pd\n",
    "import seaborn as sns\n",
    "from sklearn.neural_network import MLPRegressor\n",
    "import itertools\n",
    "from sklearn.model_selection import cross_validate, RandomizedSearchCV, train_test_split\n",
    "from sklearn.metrics import balanced_accuracy_score, confusion_matrix\n",
    "import pickle\n",
    "df = pd.read_csv(\"../PreProcessamentoDados/cleanedData.csv\")"
   ]
  },
  {
   "cell_type": "code",
   "execution_count": 31,
   "metadata": {},
   "outputs": [],
   "source": [
    "df[['Hour','Minute','Second']] = df.DateTime.str.split(\":\",expand=True)"
   ]
  },
  {
   "cell_type": "code",
   "execution_count": 32,
   "metadata": {},
   "outputs": [],
   "source": [
    "# define a dictionary of column names and their corresponding data types\n",
    "dtypes_dict = {'Hour': float, 'Minute': float}\n",
    "\n",
    "# convert the columns to their corresponding data types\n",
    "df = df.astype(dtypes_dict)"
   ]
  },
  {
   "cell_type": "code",
   "execution_count": null,
   "metadata": {},
   "outputs": [],
   "source": [
    "df.dtypes"
   ]
  },
  {
   "cell_type": "code",
   "execution_count": 4,
   "metadata": {},
   "outputs": [
    {
     "data": {
      "text/html": [
       "<div>\n",
       "<style scoped>\n",
       "    .dataframe tbody tr th:only-of-type {\n",
       "        vertical-align: middle;\n",
       "    }\n",
       "\n",
       "    .dataframe tbody tr th {\n",
       "        vertical-align: top;\n",
       "    }\n",
       "\n",
       "    .dataframe thead th {\n",
       "        text-align: right;\n",
       "    }\n",
       "</style>\n",
       "<table border=\"1\" class=\"dataframe\">\n",
       "  <thead>\n",
       "    <tr style=\"text-align: right;\">\n",
       "      <th></th>\n",
       "      <th>DateTime</th>\n",
       "      <th>Generated power</th>\n",
       "      <th>TemperatureC</th>\n",
       "      <th>DewpointC</th>\n",
       "      <th>PressurehPa</th>\n",
       "      <th>WindDirectionDegrees</th>\n",
       "      <th>WindSpeedKMH</th>\n",
       "      <th>WindSpeedGustKMH</th>\n",
       "      <th>Humidity</th>\n",
       "      <th>HourlyPrecipMM</th>\n",
       "      <th>dailyrainMM</th>\n",
       "      <th>SolarRadiationWatts_m2</th>\n",
       "      <th>Hour</th>\n",
       "      <th>Minute</th>\n",
       "      <th>Second</th>\n",
       "    </tr>\n",
       "  </thead>\n",
       "  <tbody>\n",
       "    <tr>\n",
       "      <th>0</th>\n",
       "      <td>00:15:00</td>\n",
       "      <td>0.0</td>\n",
       "      <td>11.0</td>\n",
       "      <td>8.0</td>\n",
       "      <td>1021.0</td>\n",
       "      <td>128.333333</td>\n",
       "      <td>8.666667</td>\n",
       "      <td>17.000000</td>\n",
       "      <td>83.000000</td>\n",
       "      <td>0.0</td>\n",
       "      <td>0.0</td>\n",
       "      <td>0.0</td>\n",
       "      <td>0.0</td>\n",
       "      <td>15.0</td>\n",
       "      <td>00</td>\n",
       "    </tr>\n",
       "    <tr>\n",
       "      <th>1</th>\n",
       "      <td>00:30:00</td>\n",
       "      <td>0.0</td>\n",
       "      <td>11.0</td>\n",
       "      <td>8.0</td>\n",
       "      <td>1021.0</td>\n",
       "      <td>133.333333</td>\n",
       "      <td>1.333333</td>\n",
       "      <td>19.000000</td>\n",
       "      <td>83.000000</td>\n",
       "      <td>0.0</td>\n",
       "      <td>0.0</td>\n",
       "      <td>0.0</td>\n",
       "      <td>0.0</td>\n",
       "      <td>30.0</td>\n",
       "      <td>00</td>\n",
       "    </tr>\n",
       "    <tr>\n",
       "      <th>2</th>\n",
       "      <td>00:45:00</td>\n",
       "      <td>0.0</td>\n",
       "      <td>11.0</td>\n",
       "      <td>8.0</td>\n",
       "      <td>1021.0</td>\n",
       "      <td>127.666667</td>\n",
       "      <td>3.000000</td>\n",
       "      <td>12.333333</td>\n",
       "      <td>82.333333</td>\n",
       "      <td>0.0</td>\n",
       "      <td>0.0</td>\n",
       "      <td>0.0</td>\n",
       "      <td>0.0</td>\n",
       "      <td>45.0</td>\n",
       "      <td>00</td>\n",
       "    </tr>\n",
       "    <tr>\n",
       "      <th>3</th>\n",
       "      <td>01:00:00</td>\n",
       "      <td>0.0</td>\n",
       "      <td>11.0</td>\n",
       "      <td>8.0</td>\n",
       "      <td>1021.0</td>\n",
       "      <td>128.000000</td>\n",
       "      <td>1.333333</td>\n",
       "      <td>10.000000</td>\n",
       "      <td>81.000000</td>\n",
       "      <td>0.0</td>\n",
       "      <td>0.0</td>\n",
       "      <td>0.0</td>\n",
       "      <td>1.0</td>\n",
       "      <td>0.0</td>\n",
       "      <td>00</td>\n",
       "    </tr>\n",
       "    <tr>\n",
       "      <th>4</th>\n",
       "      <td>01:15:00</td>\n",
       "      <td>0.0</td>\n",
       "      <td>11.0</td>\n",
       "      <td>8.0</td>\n",
       "      <td>1021.0</td>\n",
       "      <td>130.000000</td>\n",
       "      <td>2.666667</td>\n",
       "      <td>11.000000</td>\n",
       "      <td>80.666667</td>\n",
       "      <td>0.0</td>\n",
       "      <td>0.0</td>\n",
       "      <td>0.0</td>\n",
       "      <td>1.0</td>\n",
       "      <td>15.0</td>\n",
       "      <td>00</td>\n",
       "    </tr>\n",
       "  </tbody>\n",
       "</table>\n",
       "</div>"
      ],
      "text/plain": [
       "   DateTime  Generated power  TemperatureC  DewpointC  PressurehPa  \\\n",
       "0  00:15:00              0.0          11.0        8.0       1021.0   \n",
       "1  00:30:00              0.0          11.0        8.0       1021.0   \n",
       "2  00:45:00              0.0          11.0        8.0       1021.0   \n",
       "3  01:00:00              0.0          11.0        8.0       1021.0   \n",
       "4  01:15:00              0.0          11.0        8.0       1021.0   \n",
       "\n",
       "   WindDirectionDegrees  WindSpeedKMH  WindSpeedGustKMH   Humidity  \\\n",
       "0            128.333333      8.666667         17.000000  83.000000   \n",
       "1            133.333333      1.333333         19.000000  83.000000   \n",
       "2            127.666667      3.000000         12.333333  82.333333   \n",
       "3            128.000000      1.333333         10.000000  81.000000   \n",
       "4            130.000000      2.666667         11.000000  80.666667   \n",
       "\n",
       "   HourlyPrecipMM  dailyrainMM  SolarRadiationWatts_m2  Hour  Minute Second  \n",
       "0             0.0          0.0                     0.0   0.0    15.0     00  \n",
       "1             0.0          0.0                     0.0   0.0    30.0     00  \n",
       "2             0.0          0.0                     0.0   0.0    45.0     00  \n",
       "3             0.0          0.0                     0.0   1.0     0.0     00  \n",
       "4             0.0          0.0                     0.0   1.0    15.0     00  "
      ]
     },
     "execution_count": 4,
     "metadata": {},
     "output_type": "execute_result"
    }
   ],
   "source": [
    "df.head()"
   ]
  },
  {
   "cell_type": "code",
   "execution_count": 33,
   "metadata": {},
   "outputs": [],
   "source": [
    "# Separate Target Variable and Predictor Variables\n",
    "TargetVariable = [\"Generated power\"]\n",
    "Predictors= [\"Hour\",\"Minute\",\"TemperatureC\",\"DewpointC\",\"PressurehPa\",\"WindDirectionDegrees\",\"WindSpeedKMH\",\"WindSpeedGustKMH\",\"Humidity\",\"HourlyPrecipMM\",\"dailyrainMM\",\"SolarRadiationWatts_m2\"]\n",
    "df_x = df[Predictors]\n",
    "df_y = df[TargetVariable]\n",
    "X=df[Predictors].values\n",
    "y=df[TargetVariable].values\n",
    "original_X = X\n",
    "original_y = y"
   ]
  },
  {
   "cell_type": "code",
   "execution_count": 49,
   "metadata": {},
   "outputs": [
    {
     "data": {
      "text/html": [
       "<div>\n",
       "<style scoped>\n",
       "    .dataframe tbody tr th:only-of-type {\n",
       "        vertical-align: middle;\n",
       "    }\n",
       "\n",
       "    .dataframe tbody tr th {\n",
       "        vertical-align: top;\n",
       "    }\n",
       "\n",
       "    .dataframe thead th {\n",
       "        text-align: right;\n",
       "    }\n",
       "</style>\n",
       "<table border=\"1\" class=\"dataframe\">\n",
       "  <thead>\n",
       "    <tr style=\"text-align: right;\">\n",
       "      <th></th>\n",
       "      <th>Hour</th>\n",
       "      <th>Minute</th>\n",
       "      <th>TemperatureC</th>\n",
       "      <th>DewpointC</th>\n",
       "      <th>PressurehPa</th>\n",
       "      <th>WindDirectionDegrees</th>\n",
       "      <th>WindSpeedKMH</th>\n",
       "      <th>WindSpeedGustKMH</th>\n",
       "      <th>Humidity</th>\n",
       "      <th>HourlyPrecipMM</th>\n",
       "      <th>dailyrainMM</th>\n",
       "      <th>SolarRadiationWatts_m2</th>\n",
       "    </tr>\n",
       "  </thead>\n",
       "  <tbody>\n",
       "    <tr>\n",
       "      <th>0</th>\n",
       "      <td>0.0</td>\n",
       "      <td>15.0</td>\n",
       "      <td>11.000000</td>\n",
       "      <td>8.000000</td>\n",
       "      <td>1021.0</td>\n",
       "      <td>128.333333</td>\n",
       "      <td>8.666667</td>\n",
       "      <td>17.000000</td>\n",
       "      <td>83.000000</td>\n",
       "      <td>0.0</td>\n",
       "      <td>0.0</td>\n",
       "      <td>0.0</td>\n",
       "    </tr>\n",
       "    <tr>\n",
       "      <th>1</th>\n",
       "      <td>0.0</td>\n",
       "      <td>30.0</td>\n",
       "      <td>11.000000</td>\n",
       "      <td>8.000000</td>\n",
       "      <td>1021.0</td>\n",
       "      <td>133.333333</td>\n",
       "      <td>1.333333</td>\n",
       "      <td>19.000000</td>\n",
       "      <td>83.000000</td>\n",
       "      <td>0.0</td>\n",
       "      <td>0.0</td>\n",
       "      <td>0.0</td>\n",
       "    </tr>\n",
       "    <tr>\n",
       "      <th>2</th>\n",
       "      <td>0.0</td>\n",
       "      <td>45.0</td>\n",
       "      <td>11.000000</td>\n",
       "      <td>8.000000</td>\n",
       "      <td>1021.0</td>\n",
       "      <td>127.666667</td>\n",
       "      <td>3.000000</td>\n",
       "      <td>12.333333</td>\n",
       "      <td>82.333333</td>\n",
       "      <td>0.0</td>\n",
       "      <td>0.0</td>\n",
       "      <td>0.0</td>\n",
       "    </tr>\n",
       "    <tr>\n",
       "      <th>3</th>\n",
       "      <td>1.0</td>\n",
       "      <td>0.0</td>\n",
       "      <td>11.000000</td>\n",
       "      <td>8.000000</td>\n",
       "      <td>1021.0</td>\n",
       "      <td>128.000000</td>\n",
       "      <td>1.333333</td>\n",
       "      <td>10.000000</td>\n",
       "      <td>81.000000</td>\n",
       "      <td>0.0</td>\n",
       "      <td>0.0</td>\n",
       "      <td>0.0</td>\n",
       "    </tr>\n",
       "    <tr>\n",
       "      <th>4</th>\n",
       "      <td>1.0</td>\n",
       "      <td>15.0</td>\n",
       "      <td>11.000000</td>\n",
       "      <td>8.000000</td>\n",
       "      <td>1021.0</td>\n",
       "      <td>130.000000</td>\n",
       "      <td>2.666667</td>\n",
       "      <td>11.000000</td>\n",
       "      <td>80.666667</td>\n",
       "      <td>0.0</td>\n",
       "      <td>0.0</td>\n",
       "      <td>0.0</td>\n",
       "    </tr>\n",
       "    <tr>\n",
       "      <th>...</th>\n",
       "      <td>...</td>\n",
       "      <td>...</td>\n",
       "      <td>...</td>\n",
       "      <td>...</td>\n",
       "      <td>...</td>\n",
       "      <td>...</td>\n",
       "      <td>...</td>\n",
       "      <td>...</td>\n",
       "      <td>...</td>\n",
       "      <td>...</td>\n",
       "      <td>...</td>\n",
       "      <td>...</td>\n",
       "    </tr>\n",
       "    <tr>\n",
       "      <th>63354</th>\n",
       "      <td>22.0</td>\n",
       "      <td>45.0</td>\n",
       "      <td>9.333333</td>\n",
       "      <td>5.000000</td>\n",
       "      <td>1030.0</td>\n",
       "      <td>135.000000</td>\n",
       "      <td>1.666667</td>\n",
       "      <td>3.333333</td>\n",
       "      <td>74.000000</td>\n",
       "      <td>0.0</td>\n",
       "      <td>0.0</td>\n",
       "      <td>0.0</td>\n",
       "    </tr>\n",
       "    <tr>\n",
       "      <th>63355</th>\n",
       "      <td>23.0</td>\n",
       "      <td>0.0</td>\n",
       "      <td>9.000000</td>\n",
       "      <td>5.000000</td>\n",
       "      <td>1030.0</td>\n",
       "      <td>135.000000</td>\n",
       "      <td>3.000000</td>\n",
       "      <td>3.666667</td>\n",
       "      <td>74.000000</td>\n",
       "      <td>0.0</td>\n",
       "      <td>0.0</td>\n",
       "      <td>0.0</td>\n",
       "    </tr>\n",
       "    <tr>\n",
       "      <th>63356</th>\n",
       "      <td>23.0</td>\n",
       "      <td>15.0</td>\n",
       "      <td>9.000000</td>\n",
       "      <td>5.000000</td>\n",
       "      <td>1030.0</td>\n",
       "      <td>135.000000</td>\n",
       "      <td>2.666667</td>\n",
       "      <td>4.000000</td>\n",
       "      <td>74.000000</td>\n",
       "      <td>0.0</td>\n",
       "      <td>0.0</td>\n",
       "      <td>0.0</td>\n",
       "    </tr>\n",
       "    <tr>\n",
       "      <th>63357</th>\n",
       "      <td>23.0</td>\n",
       "      <td>30.0</td>\n",
       "      <td>8.666667</td>\n",
       "      <td>5.000000</td>\n",
       "      <td>1030.0</td>\n",
       "      <td>132.000000</td>\n",
       "      <td>6.000000</td>\n",
       "      <td>5.333333</td>\n",
       "      <td>75.000000</td>\n",
       "      <td>0.0</td>\n",
       "      <td>0.0</td>\n",
       "      <td>0.0</td>\n",
       "    </tr>\n",
       "    <tr>\n",
       "      <th>63358</th>\n",
       "      <td>23.0</td>\n",
       "      <td>45.0</td>\n",
       "      <td>8.333333</td>\n",
       "      <td>4.666667</td>\n",
       "      <td>1030.0</td>\n",
       "      <td>134.666667</td>\n",
       "      <td>3.000000</td>\n",
       "      <td>8.333333</td>\n",
       "      <td>75.000000</td>\n",
       "      <td>0.0</td>\n",
       "      <td>0.0</td>\n",
       "      <td>0.0</td>\n",
       "    </tr>\n",
       "  </tbody>\n",
       "</table>\n",
       "<p>63359 rows × 12 columns</p>\n",
       "</div>"
      ],
      "text/plain": [
       "       Hour  Minute  TemperatureC  DewpointC  PressurehPa  \\\n",
       "0       0.0    15.0     11.000000   8.000000       1021.0   \n",
       "1       0.0    30.0     11.000000   8.000000       1021.0   \n",
       "2       0.0    45.0     11.000000   8.000000       1021.0   \n",
       "3       1.0     0.0     11.000000   8.000000       1021.0   \n",
       "4       1.0    15.0     11.000000   8.000000       1021.0   \n",
       "...     ...     ...           ...        ...          ...   \n",
       "63354  22.0    45.0      9.333333   5.000000       1030.0   \n",
       "63355  23.0     0.0      9.000000   5.000000       1030.0   \n",
       "63356  23.0    15.0      9.000000   5.000000       1030.0   \n",
       "63357  23.0    30.0      8.666667   5.000000       1030.0   \n",
       "63358  23.0    45.0      8.333333   4.666667       1030.0   \n",
       "\n",
       "       WindDirectionDegrees  WindSpeedKMH  WindSpeedGustKMH   Humidity  \\\n",
       "0                128.333333      8.666667         17.000000  83.000000   \n",
       "1                133.333333      1.333333         19.000000  83.000000   \n",
       "2                127.666667      3.000000         12.333333  82.333333   \n",
       "3                128.000000      1.333333         10.000000  81.000000   \n",
       "4                130.000000      2.666667         11.000000  80.666667   \n",
       "...                     ...           ...               ...        ...   \n",
       "63354            135.000000      1.666667          3.333333  74.000000   \n",
       "63355            135.000000      3.000000          3.666667  74.000000   \n",
       "63356            135.000000      2.666667          4.000000  74.000000   \n",
       "63357            132.000000      6.000000          5.333333  75.000000   \n",
       "63358            134.666667      3.000000          8.333333  75.000000   \n",
       "\n",
       "       HourlyPrecipMM  dailyrainMM  SolarRadiationWatts_m2  \n",
       "0                 0.0          0.0                     0.0  \n",
       "1                 0.0          0.0                     0.0  \n",
       "2                 0.0          0.0                     0.0  \n",
       "3                 0.0          0.0                     0.0  \n",
       "4                 0.0          0.0                     0.0  \n",
       "...               ...          ...                     ...  \n",
       "63354             0.0          0.0                     0.0  \n",
       "63355             0.0          0.0                     0.0  \n",
       "63356             0.0          0.0                     0.0  \n",
       "63357             0.0          0.0                     0.0  \n",
       "63358             0.0          0.0                     0.0  \n",
       "\n",
       "[63359 rows x 12 columns]"
      ]
     },
     "execution_count": 49,
     "metadata": {},
     "output_type": "execute_result"
    }
   ],
   "source": [
    "df_x"
   ]
  },
  {
   "attachments": {},
   "cell_type": "markdown",
   "metadata": {},
   "source": [
    "## Use one standardization"
   ]
  },
  {
   "attachments": {},
   "cell_type": "markdown",
   "metadata": {},
   "source": [
    "### Standard Scaler"
   ]
  },
  {
   "cell_type": "code",
   "execution_count": 34,
   "metadata": {},
   "outputs": [],
   "source": [
    "### Standardization of data ###\n",
    "from sklearn.preprocessing import StandardScaler\n",
    "PredictorScaler=StandardScaler()\n",
    "TargetVarScaler=StandardScaler()\n",
    " \n",
    "# Storing the fit object for later reference\n",
    "PredictorScalerFit=PredictorScaler.fit(X)\n",
    "TargetVarScalerFit=TargetVarScaler.fit(y)\n"
   ]
  },
  {
   "attachments": {},
   "cell_type": "markdown",
   "metadata": {},
   "source": [
    "### MinMaxScaler"
   ]
  },
  {
   "cell_type": "code",
   "execution_count": 8,
   "metadata": {},
   "outputs": [],
   "source": [
    "### Standardization of data ###\n",
    "from sklearn.preprocessing import MinMaxScaler\n",
    "PredictorScaler=MinMaxScaler()\n",
    "TargetVarScaler=MinMaxScaler()\n",
    " \n",
    "# Storing the fit object for later reference\n",
    "PredictorScalerFit=PredictorScaler.fit(X)\n",
    "TargetVarScalerFit=TargetVarScaler.fit(y)\n"
   ]
  },
  {
   "cell_type": "code",
   "execution_count": 35,
   "metadata": {},
   "outputs": [],
   "source": [
    "# Generating the standardized values of X and y\n",
    "\n",
    "\n",
    "X=PredictorScalerFit.transform(X)\n",
    "y=TargetVarScalerFit.transform(y)\n",
    " "
   ]
  },
  {
   "cell_type": "code",
   "execution_count": 37,
   "metadata": {},
   "outputs": [],
   "source": [
    "# Split the data into training and testing set\n",
    "from sklearn.model_selection import train_test_split\n",
    "X_train, X_test, y_train, y_test = train_test_split(X, y, test_size=0.3, random_state=42)"
   ]
  },
  {
   "cell_type": "code",
   "execution_count": 38,
   "metadata": {},
   "outputs": [
    {
     "name": "stdout",
     "output_type": "stream",
     "text": [
      "(44351, 12)\n",
      "(44351, 1)\n",
      "(19008, 12)\n",
      "(19008, 1)\n"
     ]
    }
   ],
   "source": [
    "# Quick sanity check with the shapes of Training and testing datasets\n",
    "print(X_train.shape)\n",
    "print(y_train.shape)\n",
    "print(X_test.shape)\n",
    "print(y_test.shape)"
   ]
  },
  {
   "cell_type": "code",
   "execution_count": 54,
   "metadata": {},
   "outputs": [
    {
     "data": {
      "text/plain": [
       "12"
      ]
     },
     "execution_count": 54,
     "metadata": {},
     "output_type": "execute_result"
    }
   ],
   "source": [
    "X_train.shape[1]"
   ]
  },
  {
   "cell_type": "code",
   "execution_count": 40,
   "metadata": {},
   "outputs": [],
   "source": [
    "from keras.models import Sequential\n",
    "from keras.layers import Dense\n",
    " \n",
    "# create ANN model\n",
    "model = Sequential()\n",
    " \n",
    "# Defining the Input layer and FIRST hidden layer, both are same!\n",
    "model.add(Dense(units=5, input_dim=X_train.shape[1], kernel_initializer='normal', activation='relu'))\n",
    " \n",
    "# Defining the Second layer of the model\n",
    "# after the first layer we don't have to specify input_dim as keras configure it automatically\n",
    "model.add(Dense(units=10, kernel_initializer='normal', activation='tanh'))\n",
    "model.add(Dense(units=8, kernel_initializer='normal', activation='tanh'))\n",
    "\n",
    "# model.add(Dense(units=5, kernel_initializer='normal', activation='tanh'))\n",
    "\n",
    " \n",
    "# The output neuron is a single fully connected node \n",
    "# Since we will be predicting a single number\n",
    "model.add(Dense(1, kernel_initializer='normal'))"
   ]
  },
  {
   "cell_type": "code",
   "execution_count": 41,
   "metadata": {},
   "outputs": [],
   "source": [
    "\n",
    "# Compiling the model\n",
    "model.compile(loss='mean_squared_error', optimizer='adam',metrics=['mean_absolute_error'])"
   ]
  },
  {
   "cell_type": "code",
   "execution_count": null,
   "metadata": {},
   "outputs": [],
   "source": [
    "# Fitting the ANN to the Training set\n",
    "history=model.fit(X_train, y_train ,batch_size = 15, epochs = 100, verbose=1, validation_split= 0.33)\n"
   ]
  },
  {
   "attachments": {},
   "cell_type": "markdown",
   "metadata": {},
   "source": [
    "# Hyperparameter tuning of ANN\n"
   ]
  },
  {
   "attachments": {},
   "cell_type": "markdown",
   "metadata": {},
   "source": [
    "# Finding best set of parameters using manual grid search\n"
   ]
  },
  {
   "cell_type": "code",
   "execution_count": null,
   "metadata": {},
   "outputs": [],
   "source": [
    "import numpy as np\n",
    "\n",
    "# Defining a function to find the best parameters for ANN\n",
    "def FunctionFindBestParams(X_train, y_train, X_test, y_test):\n",
    "    \n",
    "    # Defining the list of hyper parameters to try\n",
    "    batch_size_list=[5, 10, 15, 20]\n",
    "    epoch_list  =   [5, 10, 50, 100]\n",
    "    \n",
    "    import pandas as pd\n",
    "    SearchResultsData=pd.DataFrame(columns=['TrialNumber', 'Parameters', 'Accuracy'])\n",
    "    \n",
    "    # initializing the trials\n",
    "    TrialNumber=0\n",
    "    for batch_size_trial in batch_size_list:\n",
    "        for epochs_trial in epoch_list:\n",
    "            TrialNumber+=1\n",
    "            # create ANN model\n",
    "            model = Sequential()\n",
    "            # Defining the first layer of the model\n",
    "            model.add(Dense(units=5, input_dim=X_train.shape[1], kernel_initializer='normal', activation='relu'))\n",
    "\n",
    "            # Defining the Second layer of the model\n",
    "            model.add(Dense(units=5, kernel_initializer='normal', activation='relu'))\n",
    "\n",
    "            # The output neuron is a single fully connected node \n",
    "            # Since we will be predicting a single number\n",
    "            model.add(Dense(1, kernel_initializer='normal'))\n",
    "\n",
    "            # Compiling the model\n",
    "            model.compile(loss='mean_squared_error', optimizer='adam',metrics=['mean_absolute_error'])\n",
    "\n",
    "            # Fitting the ANN to the Training set\n",
    "            model.fit(X_train, y_train ,batch_size = batch_size_trial, epochs = epochs_trial, verbose=1)\n",
    "\n",
    "            mean_squared_error, mean_absolute_error = model.evaluate(X_test,y_test)\n",
    "\n",
    "            # print(\"y_test: \",y_test)\n",
    "            predictions = model.predict(X_test)\n",
    "            # print(\"model.predict(X_test)\",predictions)\n",
    "            MAPE = np.mean(100 * (np.abs(y_test-predictions)/y_test))\n",
    "            \n",
    "            # printing the results of the current iteration\n",
    "            print(TrialNumber, 'Parameters:','batch_size:', batch_size_trial,'-', 'epochs:',epochs_trial, 'MAPE:',MAPE,'Accuracy:', 100-MAPE,'mean_squared_error: ',mean_squared_error,\n",
    "                  'mean_absolute_error: ',mean_absolute_error)\n",
    "            \n",
    "            SearchResultsData=SearchResultsData.append(pd.DataFrame(data=[[TrialNumber, str(batch_size_trial)+'-'+str(epochs_trial), 100-MAPE,mean_squared_error,mean_absolute_error]],\n",
    "                                                                    columns=['TrialNumber', 'Parameters', 'Accuracy','mean_squared_error','mean_absolute_error'] ))\n",
    "    return(SearchResultsData)\n",
    "\n",
    "\n",
    "######################################################\n",
    "# Calling the function\n",
    "ResultsData=FunctionFindBestParams(X_train, y_train, X_test, y_test)"
   ]
  },
  {
   "cell_type": "code",
   "execution_count": null,
   "metadata": {},
   "outputs": [],
   "source": [
    "ResultsData"
   ]
  },
  {
   "cell_type": "code",
   "execution_count": null,
   "metadata": {},
   "outputs": [],
   "source": [
    "%matplotlib inline\n",
    "ResultsData.plot(x='Parameters', y='mean_squared_error',figsize=(15,4), kind='line')"
   ]
  },
  {
   "cell_type": "code",
   "execution_count": null,
   "metadata": {},
   "outputs": [],
   "source": [
    "%matplotlib inline\n",
    "ResultsData.plot(x='Parameters', y='mean_absolute_error',figsize=(15,4), kind='line')"
   ]
  },
  {
   "cell_type": "code",
   "execution_count": null,
   "metadata": {},
   "outputs": [],
   "source": [
    "%matplotlib inline\n",
    "ResultsData.plot(x='Parameters', y='Accuracy', figsize=(15,4), kind='line')"
   ]
  },
  {
   "cell_type": "code",
   "execution_count": null,
   "metadata": {},
   "outputs": [],
   "source": [
    "\n",
    "# importing package\n",
    "import matplotlib.pyplot as plt\n",
    "import numpy as np\n",
    "\n",
    "x = ResultsData[\"Parameters\"]  \n",
    "\n",
    "# plot lines\n",
    "plt.plot(x, ResultsData[\"mean_squared_error\"], label = \"mean squared\")\n",
    "plt.plot(ResultsData[\"Parameters\"], ResultsData[\"mean_absolute_error\"], label = \"mean absolute\")\n",
    "plt.legend()\n",
    "plt.show()"
   ]
  },
  {
   "attachments": {},
   "cell_type": "markdown",
   "metadata": {},
   "source": [
    "#### Results Data to CSV"
   ]
  },
  {
   "cell_type": "code",
   "execution_count": null,
   "metadata": {},
   "outputs": [],
   "source": [
    "ResultsData.to_csv('ResultsData.csv', index=False)"
   ]
  },
  {
   "attachments": {},
   "cell_type": "markdown",
   "metadata": {},
   "source": [
    "#### Load Results Data"
   ]
  },
  {
   "cell_type": "code",
   "execution_count": null,
   "metadata": {},
   "outputs": [],
   "source": [
    "import pandas as pd\n",
    "\n",
    "# Load the CSV file into a DataFrame with custom options\n",
    "LoadedResultsData = pd.read_csv('ResultsData.csv', delimiter=',', encoding='utf-8', header=0, names=['TrialNumber','Parameters','Accuracy','mean_squared_error','mean_absolute_error'])\n",
    "\n",
    "# Display the DataFrame\n",
    "print(LoadedResultsData)\n"
   ]
  },
  {
   "cell_type": "code",
   "execution_count": null,
   "metadata": {},
   "outputs": [],
   "source": [
    "%matplotlib inline\n",
    "LoadedResultsData.plot(x='Parameters', y='mean_squared_error',figsize=(15,4), kind='line')"
   ]
  },
  {
   "cell_type": "code",
   "execution_count": null,
   "metadata": {},
   "outputs": [],
   "source": [
    "%matplotlib inline\n",
    "LoadedResultsData.plot(x='Parameters', y='mean_absolute_error',figsize=(15,4), kind='line')"
   ]
  },
  {
   "attachments": {},
   "cell_type": "markdown",
   "metadata": {},
   "source": [
    "# Training the ANN model with the best parameters\n"
   ]
  },
  {
   "cell_type": "code",
   "execution_count": 42,
   "metadata": {},
   "outputs": [
    {
     "name": "stdout",
     "output_type": "stream",
     "text": [
      "Epoch 1/135\n",
      "1981/1981 [==============================] - 4s 2ms/step - loss: 0.2408 - mean_absolute_error: 0.2851 - val_loss: 0.1529 - val_mean_absolute_error: 0.2330\n",
      "Epoch 2/135\n",
      "1981/1981 [==============================] - 3s 2ms/step - loss: 0.1586 - mean_absolute_error: 0.2318 - val_loss: 0.1537 - val_mean_absolute_error: 0.2304\n",
      "Epoch 3/135\n",
      "1981/1981 [==============================] - 3s 2ms/step - loss: 0.1539 - mean_absolute_error: 0.2276 - val_loss: 0.1427 - val_mean_absolute_error: 0.2153\n",
      "Epoch 4/135\n",
      "1981/1981 [==============================] - 3s 2ms/step - loss: 0.1511 - mean_absolute_error: 0.2210 - val_loss: 0.1392 - val_mean_absolute_error: 0.2120\n",
      "Epoch 5/135\n",
      "1981/1981 [==============================] - 3s 2ms/step - loss: 0.1481 - mean_absolute_error: 0.2180 - val_loss: 0.1369 - val_mean_absolute_error: 0.2088\n",
      "Epoch 6/135\n",
      "1981/1981 [==============================] - 3s 2ms/step - loss: 0.1452 - mean_absolute_error: 0.2135 - val_loss: 0.1330 - val_mean_absolute_error: 0.2142\n",
      "Epoch 7/135\n",
      "1981/1981 [==============================] - 3s 2ms/step - loss: 0.1410 - mean_absolute_error: 0.2099 - val_loss: 0.1345 - val_mean_absolute_error: 0.2049\n",
      "Epoch 8/135\n",
      "1981/1981 [==============================] - 3s 2ms/step - loss: 0.1370 - mean_absolute_error: 0.2071 - val_loss: 0.1290 - val_mean_absolute_error: 0.2197\n",
      "Epoch 9/135\n",
      "1981/1981 [==============================] - 4s 2ms/step - loss: 0.1357 - mean_absolute_error: 0.2066 - val_loss: 0.1302 - val_mean_absolute_error: 0.1999\n",
      "Epoch 10/135\n",
      "1981/1981 [==============================] - 3s 2ms/step - loss: 0.1351 - mean_absolute_error: 0.2057 - val_loss: 0.1261 - val_mean_absolute_error: 0.1971\n",
      "Epoch 11/135\n",
      "1981/1981 [==============================] - 4s 2ms/step - loss: 0.1347 - mean_absolute_error: 0.2047 - val_loss: 0.1272 - val_mean_absolute_error: 0.1969\n",
      "Epoch 12/135\n",
      "1981/1981 [==============================] - 4s 2ms/step - loss: 0.1344 - mean_absolute_error: 0.2041 - val_loss: 0.1316 - val_mean_absolute_error: 0.2040\n",
      "Epoch 13/135\n",
      "1981/1981 [==============================] - 4s 2ms/step - loss: 0.1334 - mean_absolute_error: 0.2025 - val_loss: 0.1260 - val_mean_absolute_error: 0.1906\n",
      "Epoch 14/135\n",
      "1981/1981 [==============================] - 4s 2ms/step - loss: 0.1334 - mean_absolute_error: 0.2027 - val_loss: 0.1245 - val_mean_absolute_error: 0.1919\n",
      "Epoch 15/135\n",
      "1981/1981 [==============================] - 4s 2ms/step - loss: 0.1323 - mean_absolute_error: 0.2014 - val_loss: 0.1252 - val_mean_absolute_error: 0.2031\n",
      "Epoch 16/135\n",
      "1981/1981 [==============================] - 4s 2ms/step - loss: 0.1318 - mean_absolute_error: 0.2001 - val_loss: 0.1291 - val_mean_absolute_error: 0.1999\n",
      "Epoch 17/135\n",
      "1981/1981 [==============================] - 4s 2ms/step - loss: 0.1312 - mean_absolute_error: 0.1998 - val_loss: 0.1249 - val_mean_absolute_error: 0.1934\n",
      "Epoch 18/135\n",
      "1981/1981 [==============================] - 4s 2ms/step - loss: 0.1307 - mean_absolute_error: 0.1991 - val_loss: 0.1241 - val_mean_absolute_error: 0.1860\n",
      "Epoch 19/135\n",
      "1981/1981 [==============================] - 4s 2ms/step - loss: 0.1297 - mean_absolute_error: 0.1985 - val_loss: 0.1216 - val_mean_absolute_error: 0.1906\n",
      "Epoch 20/135\n",
      "1981/1981 [==============================] - 3s 2ms/step - loss: 0.1291 - mean_absolute_error: 0.1985 - val_loss: 0.1217 - val_mean_absolute_error: 0.1855\n",
      "Epoch 21/135\n",
      "1981/1981 [==============================] - 3s 2ms/step - loss: 0.1290 - mean_absolute_error: 0.1983 - val_loss: 0.1222 - val_mean_absolute_error: 0.1997\n",
      "Epoch 22/135\n",
      "1981/1981 [==============================] - 4s 2ms/step - loss: 0.1276 - mean_absolute_error: 0.1978 - val_loss: 0.1211 - val_mean_absolute_error: 0.1913\n",
      "Epoch 23/135\n",
      "1981/1981 [==============================] - 4s 2ms/step - loss: 0.1276 - mean_absolute_error: 0.1968 - val_loss: 0.1222 - val_mean_absolute_error: 0.1996\n",
      "Epoch 24/135\n",
      "1981/1981 [==============================] - 3s 2ms/step - loss: 0.1277 - mean_absolute_error: 0.1972 - val_loss: 0.1206 - val_mean_absolute_error: 0.1926\n",
      "Epoch 25/135\n",
      "1981/1981 [==============================] - 3s 2ms/step - loss: 0.1273 - mean_absolute_error: 0.1958 - val_loss: 0.1203 - val_mean_absolute_error: 0.1970\n",
      "Epoch 26/135\n",
      "1981/1981 [==============================] - 3s 2ms/step - loss: 0.1266 - mean_absolute_error: 0.1958 - val_loss: 0.1200 - val_mean_absolute_error: 0.1919\n",
      "Epoch 27/135\n",
      "1981/1981 [==============================] - 3s 2ms/step - loss: 0.1263 - mean_absolute_error: 0.1958 - val_loss: 0.1241 - val_mean_absolute_error: 0.1837\n",
      "Epoch 28/135\n",
      "1981/1981 [==============================] - 3s 2ms/step - loss: 0.1263 - mean_absolute_error: 0.1948 - val_loss: 0.1204 - val_mean_absolute_error: 0.1957\n",
      "Epoch 29/135\n",
      "1981/1981 [==============================] - 3s 2ms/step - loss: 0.1260 - mean_absolute_error: 0.1942 - val_loss: 0.1206 - val_mean_absolute_error: 0.1916\n",
      "Epoch 30/135\n",
      "1981/1981 [==============================] - 3s 2ms/step - loss: 0.1261 - mean_absolute_error: 0.1945 - val_loss: 0.1208 - val_mean_absolute_error: 0.1933\n",
      "Epoch 31/135\n",
      "1981/1981 [==============================] - 3s 2ms/step - loss: 0.1260 - mean_absolute_error: 0.1947 - val_loss: 0.1192 - val_mean_absolute_error: 0.1884\n",
      "Epoch 32/135\n",
      "1981/1981 [==============================] - 3s 2ms/step - loss: 0.1256 - mean_absolute_error: 0.1945 - val_loss: 0.1204 - val_mean_absolute_error: 0.1969\n",
      "Epoch 33/135\n",
      "1981/1981 [==============================] - 3s 2ms/step - loss: 0.1253 - mean_absolute_error: 0.1935 - val_loss: 0.1212 - val_mean_absolute_error: 0.1962\n",
      "Epoch 34/135\n",
      "1981/1981 [==============================] - 3s 2ms/step - loss: 0.1255 - mean_absolute_error: 0.1936 - val_loss: 0.1188 - val_mean_absolute_error: 0.1961\n",
      "Epoch 35/135\n",
      "1981/1981 [==============================] - 3s 2ms/step - loss: 0.1256 - mean_absolute_error: 0.1942 - val_loss: 0.1219 - val_mean_absolute_error: 0.2037\n",
      "Epoch 36/135\n",
      "1981/1981 [==============================] - 4s 2ms/step - loss: 0.1251 - mean_absolute_error: 0.1925 - val_loss: 0.1267 - val_mean_absolute_error: 0.1962\n",
      "Epoch 37/135\n",
      "1981/1981 [==============================] - 4s 2ms/step - loss: 0.1246 - mean_absolute_error: 0.1929 - val_loss: 0.1197 - val_mean_absolute_error: 0.1971\n",
      "Epoch 38/135\n",
      "1981/1981 [==============================] - 4s 2ms/step - loss: 0.1251 - mean_absolute_error: 0.1927 - val_loss: 0.1201 - val_mean_absolute_error: 0.1927\n",
      "Epoch 39/135\n",
      "1981/1981 [==============================] - 4s 2ms/step - loss: 0.1248 - mean_absolute_error: 0.1924 - val_loss: 0.1203 - val_mean_absolute_error: 0.1891\n",
      "Epoch 40/135\n",
      "1981/1981 [==============================] - 4s 2ms/step - loss: 0.1250 - mean_absolute_error: 0.1934 - val_loss: 0.1182 - val_mean_absolute_error: 0.1836\n",
      "Epoch 41/135\n",
      "1981/1981 [==============================] - 4s 2ms/step - loss: 0.1248 - mean_absolute_error: 0.1925 - val_loss: 0.1189 - val_mean_absolute_error: 0.1880\n",
      "Epoch 42/135\n",
      "1981/1981 [==============================] - 4s 2ms/step - loss: 0.1249 - mean_absolute_error: 0.1927 - val_loss: 0.1186 - val_mean_absolute_error: 0.1864\n",
      "Epoch 43/135\n",
      "1981/1981 [==============================] - 4s 2ms/step - loss: 0.1245 - mean_absolute_error: 0.1929 - val_loss: 0.1201 - val_mean_absolute_error: 0.1831\n",
      "Epoch 44/135\n",
      "1981/1981 [==============================] - 3s 2ms/step - loss: 0.1242 - mean_absolute_error: 0.1923 - val_loss: 0.1196 - val_mean_absolute_error: 0.1881\n",
      "Epoch 45/135\n",
      "1981/1981 [==============================] - 3s 2ms/step - loss: 0.1242 - mean_absolute_error: 0.1918 - val_loss: 0.1179 - val_mean_absolute_error: 0.1941\n",
      "Epoch 46/135\n",
      "1981/1981 [==============================] - 3s 2ms/step - loss: 0.1242 - mean_absolute_error: 0.1925 - val_loss: 0.1183 - val_mean_absolute_error: 0.1839\n",
      "Epoch 47/135\n",
      "1981/1981 [==============================] - 3s 2ms/step - loss: 0.1240 - mean_absolute_error: 0.1914 - val_loss: 0.1192 - val_mean_absolute_error: 0.1872\n",
      "Epoch 48/135\n",
      "1981/1981 [==============================] - 3s 2ms/step - loss: 0.1235 - mean_absolute_error: 0.1918 - val_loss: 0.1194 - val_mean_absolute_error: 0.1832\n",
      "Epoch 49/135\n",
      "1981/1981 [==============================] - 4s 2ms/step - loss: 0.1237 - mean_absolute_error: 0.1907 - val_loss: 0.1165 - val_mean_absolute_error: 0.1819\n",
      "Epoch 50/135\n",
      "1981/1981 [==============================] - 4s 2ms/step - loss: 0.1235 - mean_absolute_error: 0.1913 - val_loss: 0.1240 - val_mean_absolute_error: 0.1923\n",
      "Epoch 51/135\n",
      "1981/1981 [==============================] - 4s 2ms/step - loss: 0.1236 - mean_absolute_error: 0.1914 - val_loss: 0.1170 - val_mean_absolute_error: 0.1813\n",
      "Epoch 52/135\n",
      "1981/1981 [==============================] - 4s 2ms/step - loss: 0.1231 - mean_absolute_error: 0.1904 - val_loss: 0.1179 - val_mean_absolute_error: 0.1868\n",
      "Epoch 53/135\n",
      "1981/1981 [==============================] - 4s 2ms/step - loss: 0.1229 - mean_absolute_error: 0.1906 - val_loss: 0.1175 - val_mean_absolute_error: 0.2001\n",
      "Epoch 54/135\n",
      "1981/1981 [==============================] - 4s 2ms/step - loss: 0.1229 - mean_absolute_error: 0.1901 - val_loss: 0.1167 - val_mean_absolute_error: 0.1851\n",
      "Epoch 55/135\n",
      "1981/1981 [==============================] - 3s 2ms/step - loss: 0.1228 - mean_absolute_error: 0.1905 - val_loss: 0.1179 - val_mean_absolute_error: 0.1883\n",
      "Epoch 56/135\n",
      "1981/1981 [==============================] - 3s 2ms/step - loss: 0.1222 - mean_absolute_error: 0.1899 - val_loss: 0.1161 - val_mean_absolute_error: 0.1774\n",
      "Epoch 57/135\n",
      "1981/1981 [==============================] - 3s 2ms/step - loss: 0.1223 - mean_absolute_error: 0.1906 - val_loss: 0.1171 - val_mean_absolute_error: 0.1856\n",
      "Epoch 58/135\n",
      "1981/1981 [==============================] - 3s 2ms/step - loss: 0.1222 - mean_absolute_error: 0.1899 - val_loss: 0.1151 - val_mean_absolute_error: 0.1824\n",
      "Epoch 59/135\n",
      "1981/1981 [==============================] - 3s 1ms/step - loss: 0.1220 - mean_absolute_error: 0.1896 - val_loss: 0.1155 - val_mean_absolute_error: 0.1872\n",
      "Epoch 60/135\n",
      "1981/1981 [==============================] - 3s 2ms/step - loss: 0.1219 - mean_absolute_error: 0.1894 - val_loss: 0.1187 - val_mean_absolute_error: 0.1823\n",
      "Epoch 61/135\n",
      "1981/1981 [==============================] - 4s 2ms/step - loss: 0.1218 - mean_absolute_error: 0.1897 - val_loss: 0.1172 - val_mean_absolute_error: 0.1932\n",
      "Epoch 62/135\n",
      "1981/1981 [==============================] - 5s 2ms/step - loss: 0.1214 - mean_absolute_error: 0.1896 - val_loss: 0.1178 - val_mean_absolute_error: 0.1848\n",
      "Epoch 63/135\n",
      "1981/1981 [==============================] - 3s 2ms/step - loss: 0.1210 - mean_absolute_error: 0.1879 - val_loss: 0.1166 - val_mean_absolute_error: 0.1782\n",
      "Epoch 64/135\n",
      "1981/1981 [==============================] - 3s 2ms/step - loss: 0.1210 - mean_absolute_error: 0.1883 - val_loss: 0.1154 - val_mean_absolute_error: 0.1869\n",
      "Epoch 65/135\n",
      "1981/1981 [==============================] - 3s 2ms/step - loss: 0.1212 - mean_absolute_error: 0.1884 - val_loss: 0.1162 - val_mean_absolute_error: 0.1873\n",
      "Epoch 66/135\n",
      "1981/1981 [==============================] - 3s 2ms/step - loss: 0.1209 - mean_absolute_error: 0.1877 - val_loss: 0.1149 - val_mean_absolute_error: 0.1799\n",
      "Epoch 67/135\n",
      "1981/1981 [==============================] - 4s 2ms/step - loss: 0.1209 - mean_absolute_error: 0.1880 - val_loss: 0.1156 - val_mean_absolute_error: 0.1792\n",
      "Epoch 68/135\n",
      "1981/1981 [==============================] - 3s 2ms/step - loss: 0.1201 - mean_absolute_error: 0.1882 - val_loss: 0.1153 - val_mean_absolute_error: 0.1801\n",
      "Epoch 69/135\n",
      "1981/1981 [==============================] - 3s 2ms/step - loss: 0.1205 - mean_absolute_error: 0.1881 - val_loss: 0.1156 - val_mean_absolute_error: 0.1797\n",
      "Epoch 70/135\n",
      "1981/1981 [==============================] - 3s 2ms/step - loss: 0.1206 - mean_absolute_error: 0.1884 - val_loss: 0.1143 - val_mean_absolute_error: 0.1779\n",
      "Epoch 71/135\n",
      "1981/1981 [==============================] - 3s 2ms/step - loss: 0.1204 - mean_absolute_error: 0.1879 - val_loss: 0.1166 - val_mean_absolute_error: 0.1766\n",
      "Epoch 72/135\n",
      "1981/1981 [==============================] - 3s 2ms/step - loss: 0.1201 - mean_absolute_error: 0.1874 - val_loss: 0.1164 - val_mean_absolute_error: 0.1868\n",
      "Epoch 73/135\n",
      "1981/1981 [==============================] - 3s 2ms/step - loss: 0.1197 - mean_absolute_error: 0.1879 - val_loss: 0.1147 - val_mean_absolute_error: 0.1784\n",
      "Epoch 74/135\n",
      "1981/1981 [==============================] - 3s 2ms/step - loss: 0.1200 - mean_absolute_error: 0.1870 - val_loss: 0.1141 - val_mean_absolute_error: 0.1845\n",
      "Epoch 75/135\n",
      "1981/1981 [==============================] - 3s 2ms/step - loss: 0.1197 - mean_absolute_error: 0.1869 - val_loss: 0.1172 - val_mean_absolute_error: 0.1834\n",
      "Epoch 76/135\n",
      "1981/1981 [==============================] - 3s 2ms/step - loss: 0.1195 - mean_absolute_error: 0.1877 - val_loss: 0.1141 - val_mean_absolute_error: 0.1782\n",
      "Epoch 77/135\n",
      "1981/1981 [==============================] - 3s 2ms/step - loss: 0.1197 - mean_absolute_error: 0.1871 - val_loss: 0.1143 - val_mean_absolute_error: 0.1804\n",
      "Epoch 78/135\n",
      "1981/1981 [==============================] - 4s 2ms/step - loss: 0.1195 - mean_absolute_error: 0.1873 - val_loss: 0.1153 - val_mean_absolute_error: 0.1793\n",
      "Epoch 79/135\n",
      "1981/1981 [==============================] - 3s 2ms/step - loss: 0.1192 - mean_absolute_error: 0.1863 - val_loss: 0.1138 - val_mean_absolute_error: 0.1816\n",
      "Epoch 80/135\n",
      "1981/1981 [==============================] - 3s 2ms/step - loss: 0.1188 - mean_absolute_error: 0.1861 - val_loss: 0.1143 - val_mean_absolute_error: 0.1777\n",
      "Epoch 81/135\n",
      "1981/1981 [==============================] - 3s 2ms/step - loss: 0.1191 - mean_absolute_error: 0.1860 - val_loss: 0.1147 - val_mean_absolute_error: 0.1979\n",
      "Epoch 82/135\n",
      "1981/1981 [==============================] - 3s 2ms/step - loss: 0.1189 - mean_absolute_error: 0.1864 - val_loss: 0.1154 - val_mean_absolute_error: 0.1903\n",
      "Epoch 83/135\n",
      "1981/1981 [==============================] - 3s 2ms/step - loss: 0.1185 - mean_absolute_error: 0.1861 - val_loss: 0.1152 - val_mean_absolute_error: 0.1897\n",
      "Epoch 84/135\n",
      "1981/1981 [==============================] - 3s 2ms/step - loss: 0.1188 - mean_absolute_error: 0.1858 - val_loss: 0.1135 - val_mean_absolute_error: 0.1783\n",
      "Epoch 85/135\n",
      "1981/1981 [==============================] - 3s 2ms/step - loss: 0.1180 - mean_absolute_error: 0.1857 - val_loss: 0.1130 - val_mean_absolute_error: 0.1830\n",
      "Epoch 86/135\n",
      "1981/1981 [==============================] - 3s 2ms/step - loss: 0.1185 - mean_absolute_error: 0.1857 - val_loss: 0.1122 - val_mean_absolute_error: 0.1793\n",
      "Epoch 87/135\n",
      "1981/1981 [==============================] - 3s 2ms/step - loss: 0.1179 - mean_absolute_error: 0.1852 - val_loss: 0.1134 - val_mean_absolute_error: 0.1764\n",
      "Epoch 88/135\n",
      "1981/1981 [==============================] - 3s 2ms/step - loss: 0.1180 - mean_absolute_error: 0.1855 - val_loss: 0.1118 - val_mean_absolute_error: 0.1782\n",
      "Epoch 89/135\n",
      "1981/1981 [==============================] - 3s 2ms/step - loss: 0.1178 - mean_absolute_error: 0.1844 - val_loss: 0.1123 - val_mean_absolute_error: 0.1755\n",
      "Epoch 90/135\n",
      "1981/1981 [==============================] - 3s 2ms/step - loss: 0.1176 - mean_absolute_error: 0.1844 - val_loss: 0.1120 - val_mean_absolute_error: 0.1790\n",
      "Epoch 91/135\n",
      "1981/1981 [==============================] - 3s 2ms/step - loss: 0.1174 - mean_absolute_error: 0.1848 - val_loss: 0.1154 - val_mean_absolute_error: 0.1837\n",
      "Epoch 92/135\n",
      "1981/1981 [==============================] - 3s 2ms/step - loss: 0.1172 - mean_absolute_error: 0.1846 - val_loss: 0.1124 - val_mean_absolute_error: 0.1888\n",
      "Epoch 93/135\n",
      "1981/1981 [==============================] - 3s 2ms/step - loss: 0.1172 - mean_absolute_error: 0.1844 - val_loss: 0.1131 - val_mean_absolute_error: 0.1781\n",
      "Epoch 94/135\n",
      "1981/1981 [==============================] - 3s 2ms/step - loss: 0.1172 - mean_absolute_error: 0.1840 - val_loss: 0.1130 - val_mean_absolute_error: 0.1796\n",
      "Epoch 95/135\n",
      "1981/1981 [==============================] - 3s 2ms/step - loss: 0.1175 - mean_absolute_error: 0.1841 - val_loss: 0.1116 - val_mean_absolute_error: 0.1889\n",
      "Epoch 96/135\n",
      "1981/1981 [==============================] - 3s 2ms/step - loss: 0.1166 - mean_absolute_error: 0.1834 - val_loss: 0.1126 - val_mean_absolute_error: 0.1792\n",
      "Epoch 97/135\n",
      "1981/1981 [==============================] - 4s 2ms/step - loss: 0.1164 - mean_absolute_error: 0.1836 - val_loss: 0.1141 - val_mean_absolute_error: 0.1809\n",
      "Epoch 98/135\n",
      "1981/1981 [==============================] - 3s 2ms/step - loss: 0.1168 - mean_absolute_error: 0.1844 - val_loss: 0.1110 - val_mean_absolute_error: 0.1758\n",
      "Epoch 99/135\n",
      "1981/1981 [==============================] - 3s 2ms/step - loss: 0.1166 - mean_absolute_error: 0.1831 - val_loss: 0.1121 - val_mean_absolute_error: 0.1876\n",
      "Epoch 100/135\n",
      "1981/1981 [==============================] - 3s 2ms/step - loss: 0.1167 - mean_absolute_error: 0.1837 - val_loss: 0.1110 - val_mean_absolute_error: 0.1755\n",
      "Epoch 101/135\n",
      "1981/1981 [==============================] - 3s 2ms/step - loss: 0.1164 - mean_absolute_error: 0.1833 - val_loss: 0.1112 - val_mean_absolute_error: 0.1719\n",
      "Epoch 102/135\n",
      "1981/1981 [==============================] - 3s 2ms/step - loss: 0.1162 - mean_absolute_error: 0.1824 - val_loss: 0.1114 - val_mean_absolute_error: 0.1755\n",
      "Epoch 103/135\n",
      "1981/1981 [==============================] - 3s 2ms/step - loss: 0.1163 - mean_absolute_error: 0.1832 - val_loss: 0.1105 - val_mean_absolute_error: 0.1796\n",
      "Epoch 104/135\n",
      "1981/1981 [==============================] - 4s 2ms/step - loss: 0.1157 - mean_absolute_error: 0.1824 - val_loss: 0.1144 - val_mean_absolute_error: 0.1826\n",
      "Epoch 105/135\n",
      "1981/1981 [==============================] - 3s 2ms/step - loss: 0.1162 - mean_absolute_error: 0.1834 - val_loss: 0.1104 - val_mean_absolute_error: 0.1825\n",
      "Epoch 106/135\n",
      "1981/1981 [==============================] - 3s 2ms/step - loss: 0.1156 - mean_absolute_error: 0.1829 - val_loss: 0.1108 - val_mean_absolute_error: 0.1766\n",
      "Epoch 107/135\n",
      "1981/1981 [==============================] - 3s 2ms/step - loss: 0.1156 - mean_absolute_error: 0.1820 - val_loss: 0.1103 - val_mean_absolute_error: 0.1775\n",
      "Epoch 108/135\n",
      "1981/1981 [==============================] - 3s 2ms/step - loss: 0.1153 - mean_absolute_error: 0.1818 - val_loss: 0.1107 - val_mean_absolute_error: 0.1832\n",
      "Epoch 109/135\n",
      "1981/1981 [==============================] - 3s 2ms/step - loss: 0.1153 - mean_absolute_error: 0.1819 - val_loss: 0.1140 - val_mean_absolute_error: 0.1901\n",
      "Epoch 110/135\n",
      "1981/1981 [==============================] - 3s 2ms/step - loss: 0.1151 - mean_absolute_error: 0.1816 - val_loss: 0.1126 - val_mean_absolute_error: 0.1837\n",
      "Epoch 111/135\n",
      "1981/1981 [==============================] - 4s 2ms/step - loss: 0.1147 - mean_absolute_error: 0.1812 - val_loss: 0.1108 - val_mean_absolute_error: 0.1744\n",
      "Epoch 112/135\n",
      "1981/1981 [==============================] - 3s 2ms/step - loss: 0.1150 - mean_absolute_error: 0.1810 - val_loss: 0.1107 - val_mean_absolute_error: 0.1774\n",
      "Epoch 113/135\n",
      "1981/1981 [==============================] - 3s 2ms/step - loss: 0.1153 - mean_absolute_error: 0.1810 - val_loss: 0.1136 - val_mean_absolute_error: 0.1870\n",
      "Epoch 114/135\n",
      "1981/1981 [==============================] - 3s 2ms/step - loss: 0.1151 - mean_absolute_error: 0.1811 - val_loss: 0.1109 - val_mean_absolute_error: 0.1778\n",
      "Epoch 115/135\n",
      "1981/1981 [==============================] - 4s 2ms/step - loss: 0.1150 - mean_absolute_error: 0.1802 - val_loss: 0.1095 - val_mean_absolute_error: 0.1790\n",
      "Epoch 116/135\n",
      "1981/1981 [==============================] - 3s 2ms/step - loss: 0.1148 - mean_absolute_error: 0.1806 - val_loss: 0.1094 - val_mean_absolute_error: 0.1735\n",
      "Epoch 117/135\n",
      "1981/1981 [==============================] - 3s 2ms/step - loss: 0.1148 - mean_absolute_error: 0.1802 - val_loss: 0.1093 - val_mean_absolute_error: 0.1734\n",
      "Epoch 118/135\n",
      "1981/1981 [==============================] - 3s 2ms/step - loss: 0.1145 - mean_absolute_error: 0.1800 - val_loss: 0.1096 - val_mean_absolute_error: 0.1708\n",
      "Epoch 119/135\n",
      "1981/1981 [==============================] - 3s 2ms/step - loss: 0.1141 - mean_absolute_error: 0.1792 - val_loss: 0.1091 - val_mean_absolute_error: 0.1762\n",
      "Epoch 120/135\n",
      "1981/1981 [==============================] - 3s 2ms/step - loss: 0.1141 - mean_absolute_error: 0.1795 - val_loss: 0.1107 - val_mean_absolute_error: 0.1843\n",
      "Epoch 121/135\n",
      "1981/1981 [==============================] - 3s 2ms/step - loss: 0.1140 - mean_absolute_error: 0.1797 - val_loss: 0.1083 - val_mean_absolute_error: 0.1797\n",
      "Epoch 122/135\n",
      "1981/1981 [==============================] - 3s 2ms/step - loss: 0.1138 - mean_absolute_error: 0.1787 - val_loss: 0.1125 - val_mean_absolute_error: 0.1800\n",
      "Epoch 123/135\n",
      "1981/1981 [==============================] - 3s 2ms/step - loss: 0.1140 - mean_absolute_error: 0.1786 - val_loss: 0.1106 - val_mean_absolute_error: 0.1848\n",
      "Epoch 124/135\n",
      "1981/1981 [==============================] - 3s 2ms/step - loss: 0.1138 - mean_absolute_error: 0.1792 - val_loss: 0.1082 - val_mean_absolute_error: 0.1718\n",
      "Epoch 125/135\n",
      "1981/1981 [==============================] - 4s 2ms/step - loss: 0.1136 - mean_absolute_error: 0.1780 - val_loss: 0.1095 - val_mean_absolute_error: 0.1729\n",
      "Epoch 126/135\n",
      "1981/1981 [==============================] - 3s 2ms/step - loss: 0.1137 - mean_absolute_error: 0.1785 - val_loss: 0.1088 - val_mean_absolute_error: 0.1715\n",
      "Epoch 127/135\n",
      "1981/1981 [==============================] - 3s 2ms/step - loss: 0.1132 - mean_absolute_error: 0.1780 - val_loss: 0.1144 - val_mean_absolute_error: 0.1818\n",
      "Epoch 128/135\n",
      "1981/1981 [==============================] - 3s 2ms/step - loss: 0.1137 - mean_absolute_error: 0.1781 - val_loss: 0.1078 - val_mean_absolute_error: 0.1745\n",
      "Epoch 129/135\n",
      "1981/1981 [==============================] - 3s 2ms/step - loss: 0.1134 - mean_absolute_error: 0.1787 - val_loss: 0.1098 - val_mean_absolute_error: 0.1773\n",
      "Epoch 130/135\n",
      "1981/1981 [==============================] - 3s 2ms/step - loss: 0.1133 - mean_absolute_error: 0.1781 - val_loss: 0.1077 - val_mean_absolute_error: 0.1711\n",
      "Epoch 131/135\n",
      "1981/1981 [==============================] - 4s 2ms/step - loss: 0.1135 - mean_absolute_error: 0.1786 - val_loss: 0.1081 - val_mean_absolute_error: 0.1688\n",
      "Epoch 132/135\n",
      "1981/1981 [==============================] - 3s 2ms/step - loss: 0.1132 - mean_absolute_error: 0.1773 - val_loss: 0.1089 - val_mean_absolute_error: 0.1677\n",
      "Epoch 133/135\n",
      "1981/1981 [==============================] - 4s 2ms/step - loss: 0.1135 - mean_absolute_error: 0.1778 - val_loss: 0.1082 - val_mean_absolute_error: 0.1740\n",
      "Epoch 134/135\n",
      "1981/1981 [==============================] - 3s 2ms/step - loss: 0.1129 - mean_absolute_error: 0.1773 - val_loss: 0.1080 - val_mean_absolute_error: 0.1754\n",
      "Epoch 135/135\n",
      "1981/1981 [==============================] - 3s 2ms/step - loss: 0.1128 - mean_absolute_error: 0.1766 - val_loss: 0.1079 - val_mean_absolute_error: 0.1762\n"
     ]
    }
   ],
   "source": [
    "# Fitting the ANN to the Training set\n",
    "#  batch_size = 15, \n",
    "#    epochs = 5,\n",
    "history=model.fit(\n",
    "    X_train, \n",
    "    y_train ,\n",
    "    batch_size = 15, \n",
    "    epochs = 130,     \n",
    "    verbose=1,\n",
    "    validation_split = 0.33)"
   ]
  },
  {
   "attachments": {},
   "cell_type": "markdown",
   "metadata": {},
   "source": [
    "#### Mean Squared Error, Mean Absolute Error"
   ]
  },
  {
   "cell_type": "code",
   "execution_count": 43,
   "metadata": {},
   "outputs": [
    {
     "name": "stdout",
     "output_type": "stream",
     "text": [
      "594/594 [==============================] - 1s 1ms/step - loss: 0.1138 - mean_absolute_error: 0.1788\n",
      "MSE:  0.1138383001089096\n",
      "MAE: 0.17881622910499573\n"
     ]
    }
   ],
   "source": [
    "mean_squared_error, mean_absolute_error = model.evaluate(X_test,y_test)\n",
    "print(\"MSE: \",mean_squared_error)\n",
    "print(\"MAE:\" ,mean_absolute_error)"
   ]
  },
  {
   "cell_type": "code",
   "execution_count": 44,
   "metadata": {},
   "outputs": [
    {
     "name": "stdout",
     "output_type": "stream",
     "text": [
      "594/594 [==============================] - 1s 918us/step\n"
     ]
    }
   ],
   "source": [
    "# Generating Predictions on testing data\n",
    "Predictions=model.predict(X_test)"
   ]
  },
  {
   "attachments": {},
   "cell_type": "markdown",
   "metadata": {},
   "source": [
    "#### R2 Score"
   ]
  },
  {
   "cell_type": "code",
   "execution_count": 45,
   "metadata": {},
   "outputs": [
    {
     "data": {
      "text/plain": [
       "0.885417972922111"
      ]
     },
     "execution_count": 45,
     "metadata": {},
     "output_type": "execute_result"
    }
   ],
   "source": [
    "from sklearn.metrics import r2_score\n",
    "r2_score(y_test,Predictions)"
   ]
  },
  {
   "attachments": {},
   "cell_type": "markdown",
   "metadata": {},
   "source": [
    "### Pred / Real Comparison"
   ]
  },
  {
   "cell_type": "code",
   "execution_count": null,
   "metadata": {},
   "outputs": [],
   "source": [
    "\n",
    "\n",
    "# Scaling the predicted Price data back to original price scale\n",
    "Predictions=TargetVarScalerFit.inverse_transform(Predictions)\n",
    "\n",
    "# Scaling the y_test Price data back to original price scale\n",
    "y_test_orig=TargetVarScalerFit.inverse_transform(y_test)\n",
    "\n",
    "# Scaling the test data back to original scale\n",
    "Test_Data=PredictorScalerFit.inverse_transform(X_test)\n",
    "\n",
    "TestingData=pd.DataFrame(data=Test_Data, columns=Predictors)\n",
    "TestingData['Generation']=y_test_orig\n",
    "TestingData['PredictedGeneration']=Predictions\n",
    "TestingData.head()"
   ]
  },
  {
   "cell_type": "code",
   "execution_count": 25,
   "metadata": {},
   "outputs": [
    {
     "ename": "ValueError",
     "evalue": "Per-column arrays must each be 1-dimensional",
     "output_type": "error",
     "traceback": [
      "\u001b[1;31m---------------------------------------------------------------------------\u001b[0m",
      "\u001b[1;31mValueError\u001b[0m                                Traceback (most recent call last)",
      "Cell \u001b[1;32mIn [25], line 1\u001b[0m\n\u001b[1;32m----> 1\u001b[0m df_temp \u001b[39m=\u001b[39m pd\u001b[39m.\u001b[39;49mDataFrame({\u001b[39m'\u001b[39;49m\u001b[39mActual\u001b[39;49m\u001b[39m'\u001b[39;49m: y_test_orig, \u001b[39m'\u001b[39;49m\u001b[39mPredicted\u001b[39;49m\u001b[39m'\u001b[39;49m: Predictions})\n\u001b[0;32m      2\u001b[0m df_temp\u001b[39m.\u001b[39mhead()\n",
      "File \u001b[1;32mc:\\Users\\rafae\\AppData\\Local\\Programs\\Python\\Python310\\lib\\site-packages\\pandas\\core\\frame.py:636\u001b[0m, in \u001b[0;36mDataFrame.__init__\u001b[1;34m(self, data, index, columns, dtype, copy)\u001b[0m\n\u001b[0;32m    630\u001b[0m     mgr \u001b[39m=\u001b[39m \u001b[39mself\u001b[39m\u001b[39m.\u001b[39m_init_mgr(\n\u001b[0;32m    631\u001b[0m         data, axes\u001b[39m=\u001b[39m{\u001b[39m\"\u001b[39m\u001b[39mindex\u001b[39m\u001b[39m\"\u001b[39m: index, \u001b[39m\"\u001b[39m\u001b[39mcolumns\u001b[39m\u001b[39m\"\u001b[39m: columns}, dtype\u001b[39m=\u001b[39mdtype, copy\u001b[39m=\u001b[39mcopy\n\u001b[0;32m    632\u001b[0m     )\n\u001b[0;32m    634\u001b[0m \u001b[39melif\u001b[39;00m \u001b[39misinstance\u001b[39m(data, \u001b[39mdict\u001b[39m):\n\u001b[0;32m    635\u001b[0m     \u001b[39m# GH#38939 de facto copy defaults to False only in non-dict cases\u001b[39;00m\n\u001b[1;32m--> 636\u001b[0m     mgr \u001b[39m=\u001b[39m dict_to_mgr(data, index, columns, dtype\u001b[39m=\u001b[39;49mdtype, copy\u001b[39m=\u001b[39;49mcopy, typ\u001b[39m=\u001b[39;49mmanager)\n\u001b[0;32m    637\u001b[0m \u001b[39melif\u001b[39;00m \u001b[39misinstance\u001b[39m(data, ma\u001b[39m.\u001b[39mMaskedArray):\n\u001b[0;32m    638\u001b[0m     \u001b[39mimport\u001b[39;00m \u001b[39mnumpy\u001b[39;00m\u001b[39m.\u001b[39;00m\u001b[39mma\u001b[39;00m\u001b[39m.\u001b[39;00m\u001b[39mmrecords\u001b[39;00m \u001b[39mas\u001b[39;00m \u001b[39mmrecords\u001b[39;00m\n",
      "File \u001b[1;32mc:\\Users\\rafae\\AppData\\Local\\Programs\\Python\\Python310\\lib\\site-packages\\pandas\\core\\internals\\construction.py:502\u001b[0m, in \u001b[0;36mdict_to_mgr\u001b[1;34m(data, index, columns, dtype, typ, copy)\u001b[0m\n\u001b[0;32m    494\u001b[0m     arrays \u001b[39m=\u001b[39m [\n\u001b[0;32m    495\u001b[0m         x\n\u001b[0;32m    496\u001b[0m         \u001b[39mif\u001b[39;00m \u001b[39mnot\u001b[39;00m \u001b[39mhasattr\u001b[39m(x, \u001b[39m\"\u001b[39m\u001b[39mdtype\u001b[39m\u001b[39m\"\u001b[39m) \u001b[39mor\u001b[39;00m \u001b[39mnot\u001b[39;00m \u001b[39misinstance\u001b[39m(x\u001b[39m.\u001b[39mdtype, ExtensionDtype)\n\u001b[0;32m    497\u001b[0m         \u001b[39melse\u001b[39;00m x\u001b[39m.\u001b[39mcopy()\n\u001b[0;32m    498\u001b[0m         \u001b[39mfor\u001b[39;00m x \u001b[39min\u001b[39;00m arrays\n\u001b[0;32m    499\u001b[0m     ]\n\u001b[0;32m    500\u001b[0m     \u001b[39m# TODO: can we get rid of the dt64tz special case above?\u001b[39;00m\n\u001b[1;32m--> 502\u001b[0m \u001b[39mreturn\u001b[39;00m arrays_to_mgr(arrays, columns, index, dtype\u001b[39m=\u001b[39;49mdtype, typ\u001b[39m=\u001b[39;49mtyp, consolidate\u001b[39m=\u001b[39;49mcopy)\n",
      "File \u001b[1;32mc:\\Users\\rafae\\AppData\\Local\\Programs\\Python\\Python310\\lib\\site-packages\\pandas\\core\\internals\\construction.py:120\u001b[0m, in \u001b[0;36marrays_to_mgr\u001b[1;34m(arrays, columns, index, dtype, verify_integrity, typ, consolidate)\u001b[0m\n\u001b[0;32m    117\u001b[0m \u001b[39mif\u001b[39;00m verify_integrity:\n\u001b[0;32m    118\u001b[0m     \u001b[39m# figure out the index, if necessary\u001b[39;00m\n\u001b[0;32m    119\u001b[0m     \u001b[39mif\u001b[39;00m index \u001b[39mis\u001b[39;00m \u001b[39mNone\u001b[39;00m:\n\u001b[1;32m--> 120\u001b[0m         index \u001b[39m=\u001b[39m _extract_index(arrays)\n\u001b[0;32m    121\u001b[0m     \u001b[39melse\u001b[39;00m:\n\u001b[0;32m    122\u001b[0m         index \u001b[39m=\u001b[39m ensure_index(index)\n",
      "File \u001b[1;32mc:\\Users\\rafae\\AppData\\Local\\Programs\\Python\\Python310\\lib\\site-packages\\pandas\\core\\internals\\construction.py:661\u001b[0m, in \u001b[0;36m_extract_index\u001b[1;34m(data)\u001b[0m\n\u001b[0;32m    659\u001b[0m         raw_lengths\u001b[39m.\u001b[39mappend(\u001b[39mlen\u001b[39m(val))\n\u001b[0;32m    660\u001b[0m     \u001b[39melif\u001b[39;00m \u001b[39misinstance\u001b[39m(val, np\u001b[39m.\u001b[39mndarray) \u001b[39mand\u001b[39;00m val\u001b[39m.\u001b[39mndim \u001b[39m>\u001b[39m \u001b[39m1\u001b[39m:\n\u001b[1;32m--> 661\u001b[0m         \u001b[39mraise\u001b[39;00m \u001b[39mValueError\u001b[39;00m(\u001b[39m\"\u001b[39m\u001b[39mPer-column arrays must each be 1-dimensional\u001b[39m\u001b[39m\"\u001b[39m)\n\u001b[0;32m    663\u001b[0m \u001b[39mif\u001b[39;00m \u001b[39mnot\u001b[39;00m indexes \u001b[39mand\u001b[39;00m \u001b[39mnot\u001b[39;00m raw_lengths:\n\u001b[0;32m    664\u001b[0m     \u001b[39mraise\u001b[39;00m \u001b[39mValueError\u001b[39;00m(\u001b[39m\"\u001b[39m\u001b[39mIf using all scalar values, you must pass an index\u001b[39m\u001b[39m\"\u001b[39m)\n",
      "\u001b[1;31mValueError\u001b[0m: Per-column arrays must each be 1-dimensional"
     ]
    }
   ],
   "source": [
    "df_temp = pd.DataFrame({'Actual': y_test_orig, 'Predicted': Predictions})\n",
    "df_temp.head()"
   ]
  },
  {
   "cell_type": "code",
   "execution_count": null,
   "metadata": {},
   "outputs": [],
   "source": [
    "TestingData"
   ]
  },
  {
   "attachments": {},
   "cell_type": "markdown",
   "metadata": {},
   "source": [
    "### Plot Loss"
   ]
  },
  {
   "cell_type": "code",
   "execution_count": 22,
   "metadata": {},
   "outputs": [],
   "source": [
    "import matplotlib.pyplot as plt\n",
    "\n",
    "def plot_loss(history):\n",
    "  plt.plot(history.history['loss'], label='loss')\n",
    "  plt.plot(history.history['val_loss'], label='val_loss')\n",
    "  plt.xlabel('Epoch')\n",
    "  plt.ylabel('Error [MPG]')\n",
    "  plt.legend()\n",
    "  plt.grid(True)"
   ]
  },
  {
   "cell_type": "code",
   "execution_count": 23,
   "metadata": {},
   "outputs": [
    {
     "data": {
      "text/html": [
       "<div>\n",
       "<style scoped>\n",
       "    .dataframe tbody tr th:only-of-type {\n",
       "        vertical-align: middle;\n",
       "    }\n",
       "\n",
       "    .dataframe tbody tr th {\n",
       "        vertical-align: top;\n",
       "    }\n",
       "\n",
       "    .dataframe thead th {\n",
       "        text-align: right;\n",
       "    }\n",
       "</style>\n",
       "<table border=\"1\" class=\"dataframe\">\n",
       "  <thead>\n",
       "    <tr style=\"text-align: right;\">\n",
       "      <th></th>\n",
       "      <th>loss</th>\n",
       "      <th>mean_absolute_error</th>\n",
       "      <th>val_loss</th>\n",
       "      <th>val_mean_absolute_error</th>\n",
       "      <th>epoch</th>\n",
       "    </tr>\n",
       "  </thead>\n",
       "  <tbody>\n",
       "    <tr>\n",
       "      <th>125</th>\n",
       "      <td>0.112847</td>\n",
       "      <td>0.175750</td>\n",
       "      <td>0.109161</td>\n",
       "      <td>0.163888</td>\n",
       "      <td>125</td>\n",
       "    </tr>\n",
       "    <tr>\n",
       "      <th>126</th>\n",
       "      <td>0.112858</td>\n",
       "      <td>0.174268</td>\n",
       "      <td>0.110119</td>\n",
       "      <td>0.167644</td>\n",
       "      <td>126</td>\n",
       "    </tr>\n",
       "    <tr>\n",
       "      <th>127</th>\n",
       "      <td>0.112280</td>\n",
       "      <td>0.174568</td>\n",
       "      <td>0.108385</td>\n",
       "      <td>0.163441</td>\n",
       "      <td>127</td>\n",
       "    </tr>\n",
       "    <tr>\n",
       "      <th>128</th>\n",
       "      <td>0.112370</td>\n",
       "      <td>0.173815</td>\n",
       "      <td>0.108658</td>\n",
       "      <td>0.178637</td>\n",
       "      <td>128</td>\n",
       "    </tr>\n",
       "    <tr>\n",
       "      <th>129</th>\n",
       "      <td>0.112591</td>\n",
       "      <td>0.174998</td>\n",
       "      <td>0.106889</td>\n",
       "      <td>0.167462</td>\n",
       "      <td>129</td>\n",
       "    </tr>\n",
       "  </tbody>\n",
       "</table>\n",
       "</div>"
      ],
      "text/plain": [
       "         loss  mean_absolute_error  val_loss  val_mean_absolute_error  epoch\n",
       "125  0.112847             0.175750  0.109161                 0.163888    125\n",
       "126  0.112858             0.174268  0.110119                 0.167644    126\n",
       "127  0.112280             0.174568  0.108385                 0.163441    127\n",
       "128  0.112370             0.173815  0.108658                 0.178637    128\n",
       "129  0.112591             0.174998  0.106889                 0.167462    129"
      ]
     },
     "execution_count": 23,
     "metadata": {},
     "output_type": "execute_result"
    }
   ],
   "source": [
    "hist = pd.DataFrame(history.history)\n",
    "hist['epoch'] = history.epoch\n",
    "hist.tail()"
   ]
  },
  {
   "cell_type": "code",
   "execution_count": 24,
   "metadata": {},
   "outputs": [
    {
     "data": {
      "image/png": "[encoded data removed]",
      "text/plain": [
       "<Figure size 640x480 with 1 Axes>"
      ]
     },
     "metadata": {},
     "output_type": "display_data"
    }
   ],
   "source": [
    "plot_loss(history)"
   ]
  },
  {
   "attachments": {},
   "cell_type": "markdown",
   "metadata": {},
   "source": [
    "# Save and Load Model"
   ]
  },
  {
   "cell_type": "code",
   "execution_count": 2,
   "metadata": {},
   "outputs": [],
   "source": [
    "filename = './DNN_finalized_model'\n"
   ]
  },
  {
   "cell_type": "code",
   "execution_count": 14,
   "metadata": {},
   "outputs": [
    {
     "ename": "NameError",
     "evalue": "name 'model' is not defined",
     "output_type": "error",
     "traceback": [
      "\u001b[1;31m---------------------------------------------------------------------------\u001b[0m",
      "\u001b[1;31mNameError\u001b[0m                                 Traceback (most recent call last)",
      "Cell \u001b[1;32mIn [14], line 2\u001b[0m\n\u001b[0;32m      1\u001b[0m \u001b[39m# save the model to disk\u001b[39;00m\n\u001b[1;32m----> 2\u001b[0m model\u001b[39m.\u001b[39msave(filename)\n",
      "\u001b[1;31mNameError\u001b[0m: name 'model' is not defined"
     ]
    }
   ],
   "source": [
    "# save the model to disk\n",
    "model.save(filename)"
   ]
  },
  {
   "cell_type": "code",
   "execution_count": 3,
   "metadata": {},
   "outputs": [],
   "source": [
    "import tensorflow as tf\n",
    "\n",
    "# load the model from disk\n",
    "model = tf.keras.models.load_model(filename)"
   ]
  },
  {
   "attachments": {},
   "cell_type": "markdown",
   "metadata": {},
   "source": [
    "### save to single file - .h5"
   ]
  },
  {
   "cell_type": "code",
   "execution_count": 30,
   "metadata": {},
   "outputs": [],
   "source": [
    "save_path = './DNN_model.h5'\n"
   ]
  },
  {
   "cell_type": "code",
   "execution_count": 33,
   "metadata": {},
   "outputs": [],
   "source": [
    "import tensorflow as tf\n"
   ]
  },
  {
   "cell_type": "code",
   "execution_count": 31,
   "metadata": {},
   "outputs": [],
   "source": [
    "## save model single file\n",
    "model.save(save_path)"
   ]
  },
  {
   "cell_type": "code",
   "execution_count": 34,
   "metadata": {},
   "outputs": [],
   "source": [
    "## load tensorflow model\n",
    "model = tf.keras.models.load_model(save_path)"
   ]
  },
  {
   "cell_type": "code",
   "execution_count": 35,
   "metadata": {},
   "outputs": [
    {
     "name": "stdout",
     "output_type": "stream",
     "text": [
      "<class 'keras.engine.sequential.Sequential'>\n"
     ]
    }
   ],
   "source": [
    "print(type(model))"
   ]
  },
  {
   "attachments": {},
   "cell_type": "markdown",
   "metadata": {},
   "source": [
    "### Save using pickle"
   ]
  },
  {
   "cell_type": "code",
   "execution_count": 21,
   "metadata": {},
   "outputs": [],
   "source": [
    "pickle_filename= \"./saved_DNN.pkl\""
   ]
  },
  {
   "cell_type": "code",
   "execution_count": 15,
   "metadata": {},
   "outputs": [],
   "source": [
    "import joblib"
   ]
  },
  {
   "cell_type": "code",
   "execution_count": 25,
   "metadata": {},
   "outputs": [
    {
     "name": "stdout",
     "output_type": "stream",
     "text": [
      "INFO:tensorflow:Assets written to: ram://fe8ad0c1-f1b1-48fb-8b1b-9fe75d3b8225/assets\n"
     ]
    }
   ],
   "source": [
    "pickle.dump(model, open(pickle_filename, 'wb'))"
   ]
  },
  {
   "cell_type": "code",
   "execution_count": 26,
   "metadata": {},
   "outputs": [
    {
     "ename": "FileNotFoundError",
     "evalue": "Unsuccessful TensorSliceReader constructor: Failed to find any matching files for ram://5f4f61f9-9cb8-4027-82dc-00f90d6a725b/variables/variables\n You may be trying to load on a different device from the computational device. Consider setting the `experimental_io_device` option in `tf.saved_model.LoadOptions` to the io_device such as '/job:localhost'.",
     "output_type": "error",
     "traceback": [
      "\u001b[1;31m---------------------------------------------------------------------------\u001b[0m",
      "\u001b[1;31mFileNotFoundError\u001b[0m                         Traceback (most recent call last)",
      "\u001b[1;32md:\\challenge-3\\Generation Prediction DNN\\DNN Regression.ipynb Cell 58\u001b[0m in \u001b[0;36m1\n\u001b[1;32m----> <a href='vscode-notebook-cell:/d%3A/challenge-3/Generation%20Prediction%20DNN/DNN%20Regression.ipynb#Y132sZmlsZQ%3D%3D?line=0'>1</a>\u001b[0m model \u001b[39m=\u001b[39m pickle\u001b[39m.\u001b[39;49mload(\u001b[39mopen\u001b[39;49m(pickle_filename, \u001b[39m'\u001b[39;49m\u001b[39mrb\u001b[39;49m\u001b[39m'\u001b[39;49m))\n",
      "File \u001b[1;32mc:\\Users\\rafae\\AppData\\Local\\Programs\\Python\\Python310\\lib\\site-packages\\keras\\saving\\pickle_utils.py:48\u001b[0m, in \u001b[0;36mdeserialize_model_from_bytecode\u001b[1;34m(serialized_model)\u001b[0m\n\u001b[0;32m     46\u001b[0m       \u001b[39mwith\u001b[39;00m tf\u001b[39m.\u001b[39mio\u001b[39m.\u001b[39mgfile\u001b[39m.\u001b[39mGFile(dest_path, \u001b[39m\"\u001b[39m\u001b[39mwb\u001b[39m\u001b[39m\"\u001b[39m) \u001b[39mas\u001b[39;00m f:\n\u001b[0;32m     47\u001b[0m         f\u001b[39m.\u001b[39mwrite(archive\u001b[39m.\u001b[39mextractfile(name)\u001b[39m.\u001b[39mread())\n\u001b[1;32m---> 48\u001b[0m model \u001b[39m=\u001b[39m save_module\u001b[39m.\u001b[39;49mload_model(temp_dir)\n\u001b[0;32m     49\u001b[0m tf\u001b[39m.\u001b[39mio\u001b[39m.\u001b[39mgfile\u001b[39m.\u001b[39mrmtree(temp_dir)\n\u001b[0;32m     50\u001b[0m \u001b[39mreturn\u001b[39;00m model\n",
      "File \u001b[1;32mc:\\Users\\rafae\\AppData\\Local\\Programs\\Python\\Python310\\lib\\site-packages\\keras\\utils\\traceback_utils.py:67\u001b[0m, in \u001b[0;36mfilter_traceback.<locals>.error_handler\u001b[1;34m(*args, **kwargs)\u001b[0m\n\u001b[0;32m     65\u001b[0m \u001b[39mexcept\u001b[39;00m \u001b[39mException\u001b[39;00m \u001b[39mas\u001b[39;00m e:  \u001b[39m# pylint: disable=broad-except\u001b[39;00m\n\u001b[0;32m     66\u001b[0m   filtered_tb \u001b[39m=\u001b[39m _process_traceback_frames(e\u001b[39m.\u001b[39m__traceback__)\n\u001b[1;32m---> 67\u001b[0m   \u001b[39mraise\u001b[39;00m e\u001b[39m.\u001b[39mwith_traceback(filtered_tb) \u001b[39mfrom\u001b[39;00m \u001b[39mNone\u001b[39m\n\u001b[0;32m     68\u001b[0m \u001b[39mfinally\u001b[39;00m:\n\u001b[0;32m     69\u001b[0m   \u001b[39mdel\u001b[39;00m filtered_tb\n",
      "File \u001b[1;32mc:\\Users\\rafae\\AppData\\Local\\Programs\\Python\\Python310\\lib\\site-packages\\tensorflow\\python\\saved_model\\load.py:915\u001b[0m, in \u001b[0;36mload_partial\u001b[1;34m(export_dir, filters, tags, options)\u001b[0m\n\u001b[0;32m    912\u001b[0m   loader \u001b[39m=\u001b[39m Loader(object_graph_proto, saved_model_proto, export_dir,\n\u001b[0;32m    913\u001b[0m                   ckpt_options, options, filters)\n\u001b[0;32m    914\u001b[0m \u001b[39mexcept\u001b[39;00m errors\u001b[39m.\u001b[39mNotFoundError \u001b[39mas\u001b[39;00m err:\n\u001b[1;32m--> 915\u001b[0m   \u001b[39mraise\u001b[39;00m \u001b[39mFileNotFoundError\u001b[39;00m(\n\u001b[0;32m    916\u001b[0m       \u001b[39mstr\u001b[39m(err) \u001b[39m+\u001b[39m \u001b[39m\"\u001b[39m\u001b[39m\\n\u001b[39;00m\u001b[39m You may be trying to load on a different device \u001b[39m\u001b[39m\"\u001b[39m\n\u001b[0;32m    917\u001b[0m       \u001b[39m\"\u001b[39m\u001b[39mfrom the computational device. Consider setting the \u001b[39m\u001b[39m\"\u001b[39m\n\u001b[0;32m    918\u001b[0m       \u001b[39m\"\u001b[39m\u001b[39m`experimental_io_device` option in `tf.saved_model.LoadOptions` \u001b[39m\u001b[39m\"\u001b[39m\n\u001b[0;32m    919\u001b[0m       \u001b[39m\"\u001b[39m\u001b[39mto the io_device such as \u001b[39m\u001b[39m'\u001b[39m\u001b[39m/job:localhost\u001b[39m\u001b[39m'\u001b[39m\u001b[39m.\u001b[39m\u001b[39m\"\u001b[39m)\n\u001b[0;32m    920\u001b[0m root \u001b[39m=\u001b[39m loader\u001b[39m.\u001b[39mget(\u001b[39m0\u001b[39m)\n\u001b[0;32m    921\u001b[0m root\u001b[39m.\u001b[39mgraph_debug_info \u001b[39m=\u001b[39m loader\u001b[39m.\u001b[39madjust_debug_info_func_names(debug_info)\n",
      "\u001b[1;31mFileNotFoundError\u001b[0m: Unsuccessful TensorSliceReader constructor: Failed to find any matching files for ram://5f4f61f9-9cb8-4027-82dc-00f90d6a725b/variables/variables\n You may be trying to load on a different device from the computational device. Consider setting the `experimental_io_device` option in `tf.saved_model.LoadOptions` to the io_device such as '/job:localhost'."
     ]
    }
   ],
   "source": [
    "model = pickle.load(open(pickle_filename, 'rb'))"
   ]
  },
  {
   "cell_type": "code",
   "execution_count": 25,
   "metadata": {},
   "outputs": [
    {
     "data": {
      "text/plain": [
       "[<keras.layers.core.dense.Dense at 0x1a5ce51cac0>,\n",
       " <keras.layers.core.dense.Dense at 0x1a5ce77cca0>,\n",
       " <keras.layers.core.dense.Dense at 0x1a5d8b3e410>,\n",
       " <keras.layers.core.dense.Dense at 0x1a5d8b3e7a0>,\n",
       " <keras.layers.core.dense.Dense at 0x1a5d8b3eaa0>,\n",
       " <keras.layers.core.dense.Dense at 0x1a5ce88f820>]"
      ]
     },
     "execution_count": 25,
     "metadata": {},
     "output_type": "execute_result"
    }
   ],
   "source": [
    "model.layers"
   ]
  },
  {
   "cell_type": "code",
   "execution_count": null,
   "metadata": {},
   "outputs": [],
   "source": [
    "# Fitting the ANN to the Training set\n",
    "history=model.fit(\n",
    "    X_train,\n",
    "    y_train, \n",
    "    batch_size = 30,\n",
    "    epochs = 200,\n",
    "    verbose=1,\n",
    "    validation_split = 0.33)\n"
   ]
  },
  {
   "cell_type": "code",
   "execution_count": 26,
   "metadata": {},
   "outputs": [
    {
     "name": "stdout",
     "output_type": "stream",
     "text": [
      "Model: \"sequential\"\n",
      "_________________________________________________________________\n",
      " Layer (type)                Output Shape              Param #   \n",
      "=================================================================\n",
      " dense (Dense)               (None, 5)                 65        \n",
      "                                                                 \n",
      " dense_1 (Dense)             (None, 10)                60        \n",
      "                                                                 \n",
      " dense_2 (Dense)             (None, 8)                 88        \n",
      "                                                                 \n",
      " dense_3 (Dense)             (None, 4)                 36        \n",
      "                                                                 \n",
      " dense_4 (Dense)             (None, 2)                 10        \n",
      "                                                                 \n",
      " dense_5 (Dense)             (None, 1)                 3         \n",
      "                                                                 \n",
      "=================================================================\n",
      "Total params: 262\n",
      "Trainable params: 262\n",
      "Non-trainable params: 0\n",
      "_________________________________________________________________\n"
     ]
    }
   ],
   "source": [
    "model.summary()"
   ]
  },
  {
   "attachments": {},
   "cell_type": "markdown",
   "metadata": {},
   "source": [
    "# Explainable AI Shap"
   ]
  },
  {
   "cell_type": "code",
   "execution_count": 23,
   "metadata": {},
   "outputs": [
    {
     "name": "stderr",
     "output_type": "stream",
     "text": [
      "c:\\Users\\rafae\\AppData\\Local\\Programs\\Python\\Python310\\lib\\site-packages\\tqdm\\auto.py:22: TqdmWarning: IProgress not found. Please update jupyter and ipywidgets. See https://ipywidgets.readthedocs.io/en/stable/user_install.html\n",
      "  from .autonotebook import tqdm as notebook_tqdm\n"
     ]
    }
   ],
   "source": [
    "\n",
    "import shap\n",
    "import numpy as np\n",
    "\n",
    "# select a set of background examples to take an expectation over\n",
    "background = X_train[np.random.choice(X_train.shape[0], 100, replace=False)]"
   ]
  },
  {
   "cell_type": "code",
   "execution_count": 24,
   "metadata": {},
   "outputs": [
    {
     "name": "stderr",
     "output_type": "stream",
     "text": [
      "keras is no longer supported, please use tf.keras instead.\n",
      "Your TensorFlow version is newer than 2.4.0 and so graph support has been removed in eager mode and some static graphs may not be supported. See PR #1483 for discussion.\n"
     ]
    }
   ],
   "source": [
    "import shap\n",
    "\n",
    "explainer = shap.DeepExplainer(model, background)\n"
   ]
  },
  {
   "cell_type": "code",
   "execution_count": 25,
   "metadata": {},
   "outputs": [
    {
     "name": "stderr",
     "output_type": "stream",
     "text": [
      "`tf.keras.backend.set_learning_phase` is deprecated and will be removed after 2020-10-11. To update it, simply pass a True/False value to the `training` argument of the `__call__` method of your layer or model.\n"
     ]
    }
   ],
   "source": [
    "shap_values = explainer.shap_values(X_test[1:100])"
   ]
  },
  {
   "cell_type": "code",
   "execution_count": 27,
   "metadata": {},
   "outputs": [
    {
     "data": {
      "text/plain": [
       "[array([[-1.68849351e-01, -4.59579317e-03,  6.78882074e-04, ...,\n",
       "          0.00000000e+00,  0.00000000e+00, -4.35601018e-01],\n",
       "        [-1.67048782e-01,  1.12952883e-02,  3.18244101e-03, ...,\n",
       "          0.00000000e+00,  0.00000000e+00, -4.08045558e-01],\n",
       "        [ 6.48089213e-01, -7.61436606e-02,  1.16580426e-01, ...,\n",
       "          0.00000000e+00,  0.00000000e+00,  2.42317476e+00],\n",
       "        ...,\n",
       "        [-2.37279239e-01,  1.15904506e-02, -2.24955262e-02, ...,\n",
       "          0.00000000e+00,  0.00000000e+00, -3.59339714e-01],\n",
       "        [-1.22369200e-01,  1.29492104e-03, -2.83992959e-02, ...,\n",
       "          0.00000000e+00,  0.00000000e+00, -4.70893431e-01],\n",
       "        [-9.32726064e-02, -7.23286108e-03, -7.70393477e-02, ...,\n",
       "          0.00000000e+00,  0.00000000e+00, -4.75574969e-01]])]"
      ]
     },
     "execution_count": 27,
     "metadata": {},
     "output_type": "execute_result"
    }
   ],
   "source": [
    "shap_values"
   ]
  },
  {
   "cell_type": "code",
   "execution_count": 28,
   "metadata": {},
   "outputs": [
    {
     "data": {
      "image/png": "[encoded data removed]",
      "text/plain": [
       "<Figure size 800x630 with 1 Axes>"
      ]
     },
     "metadata": {},
     "output_type": "display_data"
    }
   ],
   "source": [
    "shap.summary_plot(shap_values,df_x.columns)"
   ]
  },
  {
   "cell_type": "code",
   "execution_count": null,
   "metadata": {},
   "outputs": [],
   "source": [
    "# plot the feature attributions\n",
    "shap.image_plot(shap_values, -X_test[1:100])"
   ]
  },
  {
   "attachments": {},
   "cell_type": "markdown",
   "metadata": {},
   "source": [
    "#### Save Shap Values"
   ]
  },
  {
   "cell_type": "code",
   "execution_count": null,
   "metadata": {},
   "outputs": [],
   "source": [
    "import pickle\n",
    "pickle.dump(shap_values, open(\"shap_values.bin\", \"wb\"))"
   ]
  },
  {
   "cell_type": "code",
   "execution_count": 9,
   "metadata": {},
   "outputs": [],
   "source": [
    "import pickle\n",
    "matrix = pickle.load(open(\"shap_values.bin\", \"rb\"))"
   ]
  },
  {
   "cell_type": "code",
   "execution_count": 30,
   "metadata": {},
   "outputs": [
    {
     "ename": "NameError",
     "evalue": "name 'matrix' is not defined",
     "output_type": "error",
     "traceback": [
      "\u001b[1;31m---------------------------------------------------------------------------\u001b[0m",
      "\u001b[1;31mNameError\u001b[0m                                 Traceback (most recent call last)",
      "Cell \u001b[1;32mIn [30], line 2\u001b[0m\n\u001b[0;32m      1\u001b[0m \u001b[39mimport\u001b[39;00m \u001b[39mshap\u001b[39;00m\n\u001b[1;32m----> 2\u001b[0m shap\u001b[39m.\u001b[39msummary_plot(matrix,X_test)\n",
      "\u001b[1;31mNameError\u001b[0m: name 'matrix' is not defined"
     ]
    }
   ],
   "source": [
    "import shap\n",
    "shap.summary_plot(matrix,X_test)"
   ]
  },
  {
   "cell_type": "code",
   "execution_count": null,
   "metadata": {},
   "outputs": [],
   "source": [
    "matrix"
   ]
  },
  {
   "cell_type": "code",
   "execution_count": null,
   "metadata": {},
   "outputs": [],
   "source": [
    "with pd.option_context('display.max_rows', None,\n",
    "                        'display.max_columns', None,\n",
    "                        'display.precision', 3,                        ):\n",
    "    print(matrix)"
   ]
  },
  {
   "cell_type": "code",
   "execution_count": null,
   "metadata": {},
   "outputs": [],
   "source": [
    "print(shap.__version__)\n",
    "print(tf.__version__)\n"
   ]
  }
 ],
 "metadata": {
  "kernelspec": {
   "display_name": "Python 3",
   "language": "python",
   "name": "python3"
  },
  "language_info": {
   "codemirror_mode": {
    "name": "ipython",
    "version": 3
   },
   "file_extension": ".py",
   "mimetype": "text/x-python",
   "name": "python",
   "nbconvert_exporter": "python",
   "pygments_lexer": "ipython3",
   "version": "3.10.5"
  },
  "orig_nbformat": 4,
  "vscode": {
   "interpreter": {
    "hash": "5722daad9755055b013a651651e76bfefcd0039befef69efb03fa00fbea6a530"
   }
  }
 },
 "nbformat": 4,
 "nbformat_minor": 2
}
