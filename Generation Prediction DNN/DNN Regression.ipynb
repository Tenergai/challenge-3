{
 "cells": [
  {
   "attachments": {},
   "cell_type": "markdown",
   "metadata": {},
   "source": [
    "# Prepare Data"
   ]
  },
  {
   "cell_type": "code",
   "execution_count": 1,
   "metadata": {},
   "outputs": [],
   "source": [
    "#from https://thinkingneuron.com/using-artificial-neural-networks-for-regression-in-python/\n",
    "\n",
    "import pandas as pd\n",
    "import seaborn as sns\n",
    "from sklearn.neural_network import MLPRegressor\n",
    "import itertools\n",
    "from sklearn.model_selection import cross_validate, RandomizedSearchCV, train_test_split\n",
    "from sklearn.metrics import balanced_accuracy_score, confusion_matrix\n",
    "import pickle\n",
    "df = pd.read_csv(\"../PreProcessamentoDados/cleanedData.csv\")"
   ]
  },
  {
   "cell_type": "code",
   "execution_count": 2,
   "metadata": {},
   "outputs": [],
   "source": [
    "df[['Hour','Minute','Second']] = df.DateTime.str.split(\":\",expand=True)"
   ]
  },
  {
   "cell_type": "code",
   "execution_count": 3,
   "metadata": {},
   "outputs": [],
   "source": [
    "# define a dictionary of column names and their corresponding data types\n",
    "dtypes_dict = {'Hour': float, 'Minute': float}\n",
    "\n",
    "# convert the columns to their corresponding data types\n",
    "df = df.astype(dtypes_dict)"
   ]
  },
  {
   "cell_type": "code",
   "execution_count": null,
   "metadata": {},
   "outputs": [],
   "source": [
    "df.dtypes"
   ]
  },
  {
   "cell_type": "code",
   "execution_count": 64,
   "metadata": {},
   "outputs": [
    {
     "data": {
      "text/html": [
       "<div>\n",
       "<style scoped>\n",
       "    .dataframe tbody tr th:only-of-type {\n",
       "        vertical-align: middle;\n",
       "    }\n",
       "\n",
       "    .dataframe tbody tr th {\n",
       "        vertical-align: top;\n",
       "    }\n",
       "\n",
       "    .dataframe thead th {\n",
       "        text-align: right;\n",
       "    }\n",
       "</style>\n",
       "<table border=\"1\" class=\"dataframe\">\n",
       "  <thead>\n",
       "    <tr style=\"text-align: right;\">\n",
       "      <th></th>\n",
       "      <th>DateTime</th>\n",
       "      <th>Generated power</th>\n",
       "      <th>TemperatureC</th>\n",
       "      <th>DewpointC</th>\n",
       "      <th>PressurehPa</th>\n",
       "      <th>WindDirectionDegrees</th>\n",
       "      <th>WindSpeedKMH</th>\n",
       "      <th>WindSpeedGustKMH</th>\n",
       "      <th>Humidity</th>\n",
       "      <th>HourlyPrecipMM</th>\n",
       "      <th>dailyrainMM</th>\n",
       "      <th>SolarRadiationWatts_m2</th>\n",
       "      <th>Hour</th>\n",
       "      <th>Minute</th>\n",
       "      <th>Second</th>\n",
       "    </tr>\n",
       "  </thead>\n",
       "  <tbody>\n",
       "    <tr>\n",
       "      <th>0</th>\n",
       "      <td>00:15:00</td>\n",
       "      <td>0.0</td>\n",
       "      <td>11.0</td>\n",
       "      <td>8.0</td>\n",
       "      <td>1021.0</td>\n",
       "      <td>128.333333</td>\n",
       "      <td>8.666667</td>\n",
       "      <td>17.000000</td>\n",
       "      <td>83.000000</td>\n",
       "      <td>0.0</td>\n",
       "      <td>0.0</td>\n",
       "      <td>0.0</td>\n",
       "      <td>0.0</td>\n",
       "      <td>15.0</td>\n",
       "      <td>00</td>\n",
       "    </tr>\n",
       "    <tr>\n",
       "      <th>1</th>\n",
       "      <td>00:30:00</td>\n",
       "      <td>0.0</td>\n",
       "      <td>11.0</td>\n",
       "      <td>8.0</td>\n",
       "      <td>1021.0</td>\n",
       "      <td>133.333333</td>\n",
       "      <td>1.333333</td>\n",
       "      <td>19.000000</td>\n",
       "      <td>83.000000</td>\n",
       "      <td>0.0</td>\n",
       "      <td>0.0</td>\n",
       "      <td>0.0</td>\n",
       "      <td>0.0</td>\n",
       "      <td>30.0</td>\n",
       "      <td>00</td>\n",
       "    </tr>\n",
       "    <tr>\n",
       "      <th>2</th>\n",
       "      <td>00:45:00</td>\n",
       "      <td>0.0</td>\n",
       "      <td>11.0</td>\n",
       "      <td>8.0</td>\n",
       "      <td>1021.0</td>\n",
       "      <td>127.666667</td>\n",
       "      <td>3.000000</td>\n",
       "      <td>12.333333</td>\n",
       "      <td>82.333333</td>\n",
       "      <td>0.0</td>\n",
       "      <td>0.0</td>\n",
       "      <td>0.0</td>\n",
       "      <td>0.0</td>\n",
       "      <td>45.0</td>\n",
       "      <td>00</td>\n",
       "    </tr>\n",
       "    <tr>\n",
       "      <th>3</th>\n",
       "      <td>01:00:00</td>\n",
       "      <td>0.0</td>\n",
       "      <td>11.0</td>\n",
       "      <td>8.0</td>\n",
       "      <td>1021.0</td>\n",
       "      <td>128.000000</td>\n",
       "      <td>1.333333</td>\n",
       "      <td>10.000000</td>\n",
       "      <td>81.000000</td>\n",
       "      <td>0.0</td>\n",
       "      <td>0.0</td>\n",
       "      <td>0.0</td>\n",
       "      <td>1.0</td>\n",
       "      <td>0.0</td>\n",
       "      <td>00</td>\n",
       "    </tr>\n",
       "    <tr>\n",
       "      <th>4</th>\n",
       "      <td>01:15:00</td>\n",
       "      <td>0.0</td>\n",
       "      <td>11.0</td>\n",
       "      <td>8.0</td>\n",
       "      <td>1021.0</td>\n",
       "      <td>130.000000</td>\n",
       "      <td>2.666667</td>\n",
       "      <td>11.000000</td>\n",
       "      <td>80.666667</td>\n",
       "      <td>0.0</td>\n",
       "      <td>0.0</td>\n",
       "      <td>0.0</td>\n",
       "      <td>1.0</td>\n",
       "      <td>15.0</td>\n",
       "      <td>00</td>\n",
       "    </tr>\n",
       "  </tbody>\n",
       "</table>\n",
       "</div>"
      ],
      "text/plain": [
       "   DateTime  Generated power  TemperatureC  DewpointC  PressurehPa  \\\n",
       "0  00:15:00              0.0          11.0        8.0       1021.0   \n",
       "1  00:30:00              0.0          11.0        8.0       1021.0   \n",
       "2  00:45:00              0.0          11.0        8.0       1021.0   \n",
       "3  01:00:00              0.0          11.0        8.0       1021.0   \n",
       "4  01:15:00              0.0          11.0        8.0       1021.0   \n",
       "\n",
       "   WindDirectionDegrees  WindSpeedKMH  WindSpeedGustKMH   Humidity  \\\n",
       "0            128.333333      8.666667         17.000000  83.000000   \n",
       "1            133.333333      1.333333         19.000000  83.000000   \n",
       "2            127.666667      3.000000         12.333333  82.333333   \n",
       "3            128.000000      1.333333         10.000000  81.000000   \n",
       "4            130.000000      2.666667         11.000000  80.666667   \n",
       "\n",
       "   HourlyPrecipMM  dailyrainMM  SolarRadiationWatts_m2  Hour  Minute Second  \n",
       "0             0.0          0.0                     0.0   0.0    15.0     00  \n",
       "1             0.0          0.0                     0.0   0.0    30.0     00  \n",
       "2             0.0          0.0                     0.0   0.0    45.0     00  \n",
       "3             0.0          0.0                     0.0   1.0     0.0     00  \n",
       "4             0.0          0.0                     0.0   1.0    15.0     00  "
      ]
     },
     "execution_count": 64,
     "metadata": {},
     "output_type": "execute_result"
    }
   ],
   "source": [
    "df.head()"
   ]
  },
  {
   "cell_type": "code",
   "execution_count": 7,
   "metadata": {},
   "outputs": [],
   "source": [
    "# Separate Target Variable and Predictor Variables\n",
    "TargetVariable = [\"Generated power\"]\n",
    "Predictors= [\"Hour\",\"Minute\",\"TemperatureC\",\"DewpointC\",\"PressurehPa\",\"WindDirectionDegrees\",\"WindSpeedKMH\",\"WindSpeedGustKMH\",\"Humidity\",\"HourlyPrecipMM\",\"dailyrainMM\",\"SolarRadiationWatts_m2\"]\n",
    "df_x = df[Predictors]\n",
    "df_y = df[TargetVariable]\n",
    "X=df[Predictors].values\n",
    "y=df[TargetVariable].values"
   ]
  },
  {
   "cell_type": "code",
   "execution_count": 8,
   "metadata": {},
   "outputs": [
    {
     "data": {
      "text/html": [
       "<div>\n",
       "<style scoped>\n",
       "    .dataframe tbody tr th:only-of-type {\n",
       "        vertical-align: middle;\n",
       "    }\n",
       "\n",
       "    .dataframe tbody tr th {\n",
       "        vertical-align: top;\n",
       "    }\n",
       "\n",
       "    .dataframe thead th {\n",
       "        text-align: right;\n",
       "    }\n",
       "</style>\n",
       "<table border=\"1\" class=\"dataframe\">\n",
       "  <thead>\n",
       "    <tr style=\"text-align: right;\">\n",
       "      <th></th>\n",
       "      <th>Hour</th>\n",
       "      <th>Minute</th>\n",
       "      <th>TemperatureC</th>\n",
       "      <th>DewpointC</th>\n",
       "      <th>PressurehPa</th>\n",
       "      <th>WindDirectionDegrees</th>\n",
       "      <th>WindSpeedKMH</th>\n",
       "      <th>WindSpeedGustKMH</th>\n",
       "      <th>Humidity</th>\n",
       "      <th>HourlyPrecipMM</th>\n",
       "      <th>dailyrainMM</th>\n",
       "      <th>SolarRadiationWatts_m2</th>\n",
       "    </tr>\n",
       "  </thead>\n",
       "  <tbody>\n",
       "    <tr>\n",
       "      <th>0</th>\n",
       "      <td>0.0</td>\n",
       "      <td>15.0</td>\n",
       "      <td>11.000000</td>\n",
       "      <td>8.000000</td>\n",
       "      <td>1021.0</td>\n",
       "      <td>128.333333</td>\n",
       "      <td>8.666667</td>\n",
       "      <td>17.000000</td>\n",
       "      <td>83.000000</td>\n",
       "      <td>0.0</td>\n",
       "      <td>0.0</td>\n",
       "      <td>0.0</td>\n",
       "    </tr>\n",
       "    <tr>\n",
       "      <th>1</th>\n",
       "      <td>0.0</td>\n",
       "      <td>30.0</td>\n",
       "      <td>11.000000</td>\n",
       "      <td>8.000000</td>\n",
       "      <td>1021.0</td>\n",
       "      <td>133.333333</td>\n",
       "      <td>1.333333</td>\n",
       "      <td>19.000000</td>\n",
       "      <td>83.000000</td>\n",
       "      <td>0.0</td>\n",
       "      <td>0.0</td>\n",
       "      <td>0.0</td>\n",
       "    </tr>\n",
       "    <tr>\n",
       "      <th>2</th>\n",
       "      <td>0.0</td>\n",
       "      <td>45.0</td>\n",
       "      <td>11.000000</td>\n",
       "      <td>8.000000</td>\n",
       "      <td>1021.0</td>\n",
       "      <td>127.666667</td>\n",
       "      <td>3.000000</td>\n",
       "      <td>12.333333</td>\n",
       "      <td>82.333333</td>\n",
       "      <td>0.0</td>\n",
       "      <td>0.0</td>\n",
       "      <td>0.0</td>\n",
       "    </tr>\n",
       "    <tr>\n",
       "      <th>3</th>\n",
       "      <td>1.0</td>\n",
       "      <td>0.0</td>\n",
       "      <td>11.000000</td>\n",
       "      <td>8.000000</td>\n",
       "      <td>1021.0</td>\n",
       "      <td>128.000000</td>\n",
       "      <td>1.333333</td>\n",
       "      <td>10.000000</td>\n",
       "      <td>81.000000</td>\n",
       "      <td>0.0</td>\n",
       "      <td>0.0</td>\n",
       "      <td>0.0</td>\n",
       "    </tr>\n",
       "    <tr>\n",
       "      <th>4</th>\n",
       "      <td>1.0</td>\n",
       "      <td>15.0</td>\n",
       "      <td>11.000000</td>\n",
       "      <td>8.000000</td>\n",
       "      <td>1021.0</td>\n",
       "      <td>130.000000</td>\n",
       "      <td>2.666667</td>\n",
       "      <td>11.000000</td>\n",
       "      <td>80.666667</td>\n",
       "      <td>0.0</td>\n",
       "      <td>0.0</td>\n",
       "      <td>0.0</td>\n",
       "    </tr>\n",
       "    <tr>\n",
       "      <th>...</th>\n",
       "      <td>...</td>\n",
       "      <td>...</td>\n",
       "      <td>...</td>\n",
       "      <td>...</td>\n",
       "      <td>...</td>\n",
       "      <td>...</td>\n",
       "      <td>...</td>\n",
       "      <td>...</td>\n",
       "      <td>...</td>\n",
       "      <td>...</td>\n",
       "      <td>...</td>\n",
       "      <td>...</td>\n",
       "    </tr>\n",
       "    <tr>\n",
       "      <th>63354</th>\n",
       "      <td>22.0</td>\n",
       "      <td>45.0</td>\n",
       "      <td>9.333333</td>\n",
       "      <td>5.000000</td>\n",
       "      <td>1030.0</td>\n",
       "      <td>135.000000</td>\n",
       "      <td>1.666667</td>\n",
       "      <td>3.333333</td>\n",
       "      <td>74.000000</td>\n",
       "      <td>0.0</td>\n",
       "      <td>0.0</td>\n",
       "      <td>0.0</td>\n",
       "    </tr>\n",
       "    <tr>\n",
       "      <th>63355</th>\n",
       "      <td>23.0</td>\n",
       "      <td>0.0</td>\n",
       "      <td>9.000000</td>\n",
       "      <td>5.000000</td>\n",
       "      <td>1030.0</td>\n",
       "      <td>135.000000</td>\n",
       "      <td>3.000000</td>\n",
       "      <td>3.666667</td>\n",
       "      <td>74.000000</td>\n",
       "      <td>0.0</td>\n",
       "      <td>0.0</td>\n",
       "      <td>0.0</td>\n",
       "    </tr>\n",
       "    <tr>\n",
       "      <th>63356</th>\n",
       "      <td>23.0</td>\n",
       "      <td>15.0</td>\n",
       "      <td>9.000000</td>\n",
       "      <td>5.000000</td>\n",
       "      <td>1030.0</td>\n",
       "      <td>135.000000</td>\n",
       "      <td>2.666667</td>\n",
       "      <td>4.000000</td>\n",
       "      <td>74.000000</td>\n",
       "      <td>0.0</td>\n",
       "      <td>0.0</td>\n",
       "      <td>0.0</td>\n",
       "    </tr>\n",
       "    <tr>\n",
       "      <th>63357</th>\n",
       "      <td>23.0</td>\n",
       "      <td>30.0</td>\n",
       "      <td>8.666667</td>\n",
       "      <td>5.000000</td>\n",
       "      <td>1030.0</td>\n",
       "      <td>132.000000</td>\n",
       "      <td>6.000000</td>\n",
       "      <td>5.333333</td>\n",
       "      <td>75.000000</td>\n",
       "      <td>0.0</td>\n",
       "      <td>0.0</td>\n",
       "      <td>0.0</td>\n",
       "    </tr>\n",
       "    <tr>\n",
       "      <th>63358</th>\n",
       "      <td>23.0</td>\n",
       "      <td>45.0</td>\n",
       "      <td>8.333333</td>\n",
       "      <td>4.666667</td>\n",
       "      <td>1030.0</td>\n",
       "      <td>134.666667</td>\n",
       "      <td>3.000000</td>\n",
       "      <td>8.333333</td>\n",
       "      <td>75.000000</td>\n",
       "      <td>0.0</td>\n",
       "      <td>0.0</td>\n",
       "      <td>0.0</td>\n",
       "    </tr>\n",
       "  </tbody>\n",
       "</table>\n",
       "<p>63359 rows × 12 columns</p>\n",
       "</div>"
      ],
      "text/plain": [
       "       Hour  Minute  TemperatureC  DewpointC  PressurehPa  \\\n",
       "0       0.0    15.0     11.000000   8.000000       1021.0   \n",
       "1       0.0    30.0     11.000000   8.000000       1021.0   \n",
       "2       0.0    45.0     11.000000   8.000000       1021.0   \n",
       "3       1.0     0.0     11.000000   8.000000       1021.0   \n",
       "4       1.0    15.0     11.000000   8.000000       1021.0   \n",
       "...     ...     ...           ...        ...          ...   \n",
       "63354  22.0    45.0      9.333333   5.000000       1030.0   \n",
       "63355  23.0     0.0      9.000000   5.000000       1030.0   \n",
       "63356  23.0    15.0      9.000000   5.000000       1030.0   \n",
       "63357  23.0    30.0      8.666667   5.000000       1030.0   \n",
       "63358  23.0    45.0      8.333333   4.666667       1030.0   \n",
       "\n",
       "       WindDirectionDegrees  WindSpeedKMH  WindSpeedGustKMH   Humidity  \\\n",
       "0                128.333333      8.666667         17.000000  83.000000   \n",
       "1                133.333333      1.333333         19.000000  83.000000   \n",
       "2                127.666667      3.000000         12.333333  82.333333   \n",
       "3                128.000000      1.333333         10.000000  81.000000   \n",
       "4                130.000000      2.666667         11.000000  80.666667   \n",
       "...                     ...           ...               ...        ...   \n",
       "63354            135.000000      1.666667          3.333333  74.000000   \n",
       "63355            135.000000      3.000000          3.666667  74.000000   \n",
       "63356            135.000000      2.666667          4.000000  74.000000   \n",
       "63357            132.000000      6.000000          5.333333  75.000000   \n",
       "63358            134.666667      3.000000          8.333333  75.000000   \n",
       "\n",
       "       HourlyPrecipMM  dailyrainMM  SolarRadiationWatts_m2  \n",
       "0                 0.0          0.0                     0.0  \n",
       "1                 0.0          0.0                     0.0  \n",
       "2                 0.0          0.0                     0.0  \n",
       "3                 0.0          0.0                     0.0  \n",
       "4                 0.0          0.0                     0.0  \n",
       "...               ...          ...                     ...  \n",
       "63354             0.0          0.0                     0.0  \n",
       "63355             0.0          0.0                     0.0  \n",
       "63356             0.0          0.0                     0.0  \n",
       "63357             0.0          0.0                     0.0  \n",
       "63358             0.0          0.0                     0.0  \n",
       "\n",
       "[63359 rows x 12 columns]"
      ]
     },
     "execution_count": 8,
     "metadata": {},
     "output_type": "execute_result"
    }
   ],
   "source": [
    "df_x"
   ]
  },
  {
   "attachments": {},
   "cell_type": "markdown",
   "metadata": {},
   "source": [
    "## Use one standardization"
   ]
  },
  {
   "attachments": {},
   "cell_type": "markdown",
   "metadata": {},
   "source": [
    "### Standard Scaler"
   ]
  },
  {
   "cell_type": "code",
   "execution_count": 17,
   "metadata": {},
   "outputs": [],
   "source": [
    "### Standardization of data ###\n",
    "from sklearn.preprocessing import StandardScaler\n",
    "PredictorScaler=StandardScaler()\n",
    "TargetVarScaler=StandardScaler()\n",
    " \n",
    "# Storing the fit object for later reference\n",
    "PredictorScalerFit=PredictorScaler.fit(X)\n",
    "TargetVarScalerFit=TargetVarScaler.fit(y)\n"
   ]
  },
  {
   "attachments": {},
   "cell_type": "markdown",
   "metadata": {},
   "source": [
    "### MinMaxScaler"
   ]
  },
  {
   "cell_type": "code",
   "execution_count": 18,
   "metadata": {},
   "outputs": [],
   "source": [
    "### Standardization of data ###\n",
    "from sklearn.preprocessing import MinMaxScaler\n",
    "PredictorScaler=MinMaxScaler()\n",
    "TargetVarScaler=MinMaxScaler()\n",
    " \n",
    "# Storing the fit object for later reference\n",
    "PredictorScalerFit=PredictorScaler.fit(X)\n",
    "TargetVarScalerFit=TargetVarScaler.fit(y)\n"
   ]
  },
  {
   "cell_type": "code",
   "execution_count": 19,
   "metadata": {},
   "outputs": [],
   "source": [
    "# Generating the standardized values of X and y\n",
    "original_X = X\n",
    "original_y = y\n",
    "\n",
    "X=PredictorScalerFit.transform(X)\n",
    "y=TargetVarScalerFit.transform(y)\n",
    " "
   ]
  },
  {
   "cell_type": "code",
   "execution_count": 20,
   "metadata": {},
   "outputs": [],
   "source": [
    "# Split the data into training and testing set\n",
    "from sklearn.model_selection import train_test_split\n",
    "X_train, X_test, y_train, y_test = train_test_split(X, y, test_size=0.3, random_state=42)"
   ]
  },
  {
   "cell_type": "code",
   "execution_count": 21,
   "metadata": {},
   "outputs": [
    {
     "name": "stdout",
     "output_type": "stream",
     "text": [
      "(44351, 12)\n",
      "(44351, 1)\n",
      "(19008, 12)\n",
      "(19008, 1)\n"
     ]
    }
   ],
   "source": [
    "# Quick sanity check with the shapes of Training and testing datasets\n",
    "print(X_train.shape)\n",
    "print(y_train.shape)\n",
    "print(X_test.shape)\n",
    "print(y_test.shape)"
   ]
  },
  {
   "cell_type": "code",
   "execution_count": 25,
   "metadata": {},
   "outputs": [],
   "source": [
    "from keras.models import Sequential\n",
    "from keras.layers import Dense\n",
    " \n",
    "# create ANN model\n",
    "model = Sequential()\n",
    " \n",
    "# Defining the Input layer and FIRST hidden layer, both are same!\n",
    "model.add(Dense(units=5, input_dim=X_train.shape[1], kernel_initializer='normal', activation='relu'))\n",
    " \n",
    "# Defining the Second layer of the model\n",
    "# after the first layer we don't have to specify input_dim as keras configure it automatically\n",
    "model.add(Dense(units=5, kernel_initializer='normal', activation='tanh'))\n",
    "model.add(Dense(units=5, kernel_initializer='normal', activation='tanh'))\n",
    "model.add(Dense(units=5, kernel_initializer='normal', activation='tanh'))\n",
    "\n",
    " \n",
    "# The output neuron is a single fully connected node \n",
    "# Since we will be predicting a single number\n",
    "model.add(Dense(1, kernel_initializer='normal'))"
   ]
  },
  {
   "cell_type": "code",
   "execution_count": 26,
   "metadata": {},
   "outputs": [],
   "source": [
    "\n",
    "# Compiling the model\n",
    "model.compile(loss='mean_squared_error', optimizer='adam',metrics=['mean_absolute_error'])"
   ]
  },
  {
   "cell_type": "code",
   "execution_count": null,
   "metadata": {},
   "outputs": [],
   "source": [
    "# Fitting the ANN to the Training set\n",
    "model.fit(X_train, y_train ,batch_size = 20, epochs = 50, verbose=1)"
   ]
  },
  {
   "attachments": {},
   "cell_type": "markdown",
   "metadata": {},
   "source": [
    "# Hyperparameter tuning of ANN\n"
   ]
  },
  {
   "attachments": {},
   "cell_type": "markdown",
   "metadata": {},
   "source": [
    "# Finding best set of parameters using manual grid search\n"
   ]
  },
  {
   "cell_type": "code",
   "execution_count": null,
   "metadata": {},
   "outputs": [],
   "source": [
    "import numpy as np\n",
    "\n",
    "# Defining a function to find the best parameters for ANN\n",
    "def FunctionFindBestParams(X_train, y_train, X_test, y_test):\n",
    "    \n",
    "    # Defining the list of hyper parameters to try\n",
    "    batch_size_list=[5, 10, 15, 20]\n",
    "    epoch_list  =   [5, 10, 50, 100]\n",
    "    \n",
    "    import pandas as pd\n",
    "    SearchResultsData=pd.DataFrame(columns=['TrialNumber', 'Parameters', 'Accuracy'])\n",
    "    \n",
    "    # initializing the trials\n",
    "    TrialNumber=0\n",
    "    for batch_size_trial in batch_size_list:\n",
    "        for epochs_trial in epoch_list:\n",
    "            TrialNumber+=1\n",
    "            # create ANN model\n",
    "            model = Sequential()\n",
    "            # Defining the first layer of the model\n",
    "            model.add(Dense(units=5, input_dim=X_train.shape[1], kernel_initializer='normal', activation='relu'))\n",
    "\n",
    "            # Defining the Second layer of the model\n",
    "            model.add(Dense(units=5, kernel_initializer='normal', activation='relu'))\n",
    "\n",
    "            # The output neuron is a single fully connected node \n",
    "            # Since we will be predicting a single number\n",
    "            model.add(Dense(1, kernel_initializer='normal'))\n",
    "\n",
    "            # Compiling the model\n",
    "            model.compile(loss='mean_squared_error', optimizer='adam',metrics=['mean_absolute_error'])\n",
    "\n",
    "            # Fitting the ANN to the Training set\n",
    "            model.fit(X_train, y_train ,batch_size = batch_size_trial, epochs = epochs_trial, verbose=1)\n",
    "\n",
    "            mean_squared_error, mean_absolute_error = model.evaluate(X_test,y_test)\n",
    "\n",
    "            # print(\"y_test: \",y_test)\n",
    "            predictions = model.predict(X_test)\n",
    "            # print(\"model.predict(X_test)\",predictions)\n",
    "            MAPE = np.mean(100 * (np.abs(y_test-predictions)/y_test))\n",
    "            \n",
    "            # printing the results of the current iteration\n",
    "            print(TrialNumber, 'Parameters:','batch_size:', batch_size_trial,'-', 'epochs:',epochs_trial, 'MAPE:',MAPE,'Accuracy:', 100-MAPE,'mean_squared_error: ',mean_squared_error,\n",
    "                  'mean_absolute_error: ',mean_absolute_error)\n",
    "            \n",
    "            SearchResultsData=SearchResultsData.append(pd.DataFrame(data=[[TrialNumber, str(batch_size_trial)+'-'+str(epochs_trial), 100-MAPE,mean_squared_error,mean_absolute_error]],\n",
    "                                                                    columns=['TrialNumber', 'Parameters', 'Accuracy','mean_squared_error','mean_absolute_error'] ))\n",
    "    return(SearchResultsData)\n",
    "\n",
    "\n",
    "######################################################\n",
    "# Calling the function\n",
    "ResultsData=FunctionFindBestParams(X_train, y_train, X_test, y_test)"
   ]
  },
  {
   "cell_type": "code",
   "execution_count": null,
   "metadata": {},
   "outputs": [],
   "source": [
    "ResultsData"
   ]
  },
  {
   "cell_type": "code",
   "execution_count": null,
   "metadata": {},
   "outputs": [],
   "source": [
    "%matplotlib inline\n",
    "ResultsData.plot(x='Parameters', y='mean_squared_error',figsize=(15,4), kind='line')"
   ]
  },
  {
   "cell_type": "code",
   "execution_count": null,
   "metadata": {},
   "outputs": [],
   "source": [
    "%matplotlib inline\n",
    "ResultsData.plot(x='Parameters', y='mean_absolute_error',figsize=(15,4), kind='line')"
   ]
  },
  {
   "cell_type": "code",
   "execution_count": null,
   "metadata": {},
   "outputs": [],
   "source": [
    "%matplotlib inline\n",
    "ResultsData.plot(x='Parameters', y='Accuracy', figsize=(15,4), kind='line')"
   ]
  },
  {
   "cell_type": "code",
   "execution_count": null,
   "metadata": {},
   "outputs": [],
   "source": [
    "\n",
    "# importing package\n",
    "import matplotlib.pyplot as plt\n",
    "import numpy as np\n",
    "\n",
    "x = ResultsData[\"Parameters\"]  \n",
    "\n",
    "# plot lines\n",
    "plt.plot(x, ResultsData[\"mean_squared_error\"], label = \"mean squared\")\n",
    "plt.plot(ResultsData[\"Parameters\"], ResultsData[\"mean_absolute_error\"], label = \"mean absolute\")\n",
    "plt.legend()\n",
    "plt.show()"
   ]
  },
  {
   "attachments": {},
   "cell_type": "markdown",
   "metadata": {},
   "source": [
    "#### Results Data to CSV"
   ]
  },
  {
   "cell_type": "code",
   "execution_count": null,
   "metadata": {},
   "outputs": [],
   "source": [
    "ResultsData.to_csv('ResultsData.csv', index=False)"
   ]
  },
  {
   "attachments": {},
   "cell_type": "markdown",
   "metadata": {},
   "source": [
    "#### Load Results Data"
   ]
  },
  {
   "cell_type": "code",
   "execution_count": null,
   "metadata": {},
   "outputs": [],
   "source": [
    "import pandas as pd\n",
    "\n",
    "# Load the CSV file into a DataFrame with custom options\n",
    "LoadedResultsData = pd.read_csv('ResultsData.csv', delimiter=',', encoding='utf-8', header=0, names=['TrialNumber','Parameters','Accuracy','mean_squared_error','mean_absolute_error'])\n",
    "\n",
    "# Display the DataFrame\n",
    "print(LoadedResultsData)\n"
   ]
  },
  {
   "cell_type": "code",
   "execution_count": null,
   "metadata": {},
   "outputs": [],
   "source": [
    "%matplotlib inline\n",
    "LoadedResultsData.plot(x='Parameters', y='mean_squared_error',figsize=(15,4), kind='line')"
   ]
  },
  {
   "cell_type": "code",
   "execution_count": null,
   "metadata": {},
   "outputs": [],
   "source": [
    "%matplotlib inline\n",
    "LoadedResultsData.plot(x='Parameters', y='mean_absolute_error',figsize=(15,4), kind='line')"
   ]
  },
  {
   "attachments": {},
   "cell_type": "markdown",
   "metadata": {},
   "source": [
    "# Training the ANN model with the best parameters\n"
   ]
  },
  {
   "cell_type": "code",
   "execution_count": 27,
   "metadata": {},
   "outputs": [
    {
     "name": "stdout",
     "output_type": "stream",
     "text": [
      "Epoch 1/100\n",
      "1981/1981 [==============================] - 4s 2ms/step - loss: 0.2791 - mean_absolute_error: 0.3068 - val_loss: 0.1675 - val_mean_absolute_error: 0.2593\n",
      "Epoch 2/100\n",
      "1981/1981 [==============================] - 3s 2ms/step - loss: 0.1619 - mean_absolute_error: 0.2224 - val_loss: 0.1485 - val_mean_absolute_error: 0.2003\n",
      "Epoch 3/100\n",
      "1981/1981 [==============================] - 3s 2ms/step - loss: 0.1555 - mean_absolute_error: 0.2140 - val_loss: 0.1467 - val_mean_absolute_error: 0.2021\n",
      "Epoch 4/100\n",
      "1981/1981 [==============================] - 3s 2ms/step - loss: 0.1523 - mean_absolute_error: 0.2101 - val_loss: 0.1428 - val_mean_absolute_error: 0.1991\n",
      "Epoch 5/100\n",
      "1981/1981 [==============================] - 3s 2ms/step - loss: 0.1509 - mean_absolute_error: 0.2099 - val_loss: 0.1458 - val_mean_absolute_error: 0.2111\n",
      "Epoch 6/100\n",
      "1981/1981 [==============================] - 3s 2ms/step - loss: 0.1503 - mean_absolute_error: 0.2113 - val_loss: 0.1409 - val_mean_absolute_error: 0.1980\n",
      "Epoch 7/100\n",
      "1981/1981 [==============================] - 3s 2ms/step - loss: 0.1484 - mean_absolute_error: 0.2107 - val_loss: 0.1419 - val_mean_absolute_error: 0.2029\n",
      "Epoch 8/100\n",
      "1981/1981 [==============================] - 3s 2ms/step - loss: 0.1463 - mean_absolute_error: 0.2101 - val_loss: 0.1372 - val_mean_absolute_error: 0.2035\n",
      "Epoch 9/100\n",
      "1981/1981 [==============================] - 3s 2ms/step - loss: 0.1416 - mean_absolute_error: 0.2051 - val_loss: 0.1376 - val_mean_absolute_error: 0.2345\n",
      "Epoch 10/100\n",
      "1981/1981 [==============================] - 3s 2ms/step - loss: 0.1380 - mean_absolute_error: 0.2034 - val_loss: 0.1315 - val_mean_absolute_error: 0.1995\n",
      "Epoch 11/100\n",
      "1981/1981 [==============================] - 3s 2ms/step - loss: 0.1357 - mean_absolute_error: 0.2008 - val_loss: 0.1266 - val_mean_absolute_error: 0.1890\n",
      "Epoch 12/100\n",
      "1981/1981 [==============================] - 3s 2ms/step - loss: 0.1342 - mean_absolute_error: 0.1995 - val_loss: 0.1313 - val_mean_absolute_error: 0.1973\n",
      "Epoch 13/100\n",
      "1981/1981 [==============================] - 3s 2ms/step - loss: 0.1334 - mean_absolute_error: 0.1997 - val_loss: 0.1254 - val_mean_absolute_error: 0.2023\n",
      "Epoch 14/100\n",
      "1981/1981 [==============================] - 3s 2ms/step - loss: 0.1336 - mean_absolute_error: 0.1991 - val_loss: 0.1242 - val_mean_absolute_error: 0.1982\n",
      "Epoch 15/100\n",
      "1981/1981 [==============================] - 3s 2ms/step - loss: 0.1330 - mean_absolute_error: 0.1986 - val_loss: 0.1254 - val_mean_absolute_error: 0.1868\n",
      "Epoch 16/100\n",
      "1981/1981 [==============================] - 3s 2ms/step - loss: 0.1327 - mean_absolute_error: 0.1988 - val_loss: 0.1252 - val_mean_absolute_error: 0.1990\n",
      "Epoch 17/100\n",
      "1981/1981 [==============================] - 3s 2ms/step - loss: 0.1325 - mean_absolute_error: 0.1981 - val_loss: 0.1239 - val_mean_absolute_error: 0.1915\n",
      "Epoch 18/100\n",
      "1981/1981 [==============================] - 3s 2ms/step - loss: 0.1326 - mean_absolute_error: 0.1982 - val_loss: 0.1256 - val_mean_absolute_error: 0.1879\n",
      "Epoch 19/100\n",
      "1981/1981 [==============================] - 3s 2ms/step - loss: 0.1322 - mean_absolute_error: 0.1977 - val_loss: 0.1247 - val_mean_absolute_error: 0.2075\n",
      "Epoch 20/100\n",
      "1981/1981 [==============================] - 3s 2ms/step - loss: 0.1321 - mean_absolute_error: 0.1979 - val_loss: 0.1279 - val_mean_absolute_error: 0.1881\n",
      "Epoch 21/100\n",
      "1981/1981 [==============================] - 3s 2ms/step - loss: 0.1325 - mean_absolute_error: 0.1989 - val_loss: 0.1268 - val_mean_absolute_error: 0.2206\n",
      "Epoch 22/100\n",
      "1981/1981 [==============================] - 3s 2ms/step - loss: 0.1320 - mean_absolute_error: 0.1980 - val_loss: 0.1237 - val_mean_absolute_error: 0.2030\n",
      "Epoch 23/100\n",
      "1981/1981 [==============================] - 3s 2ms/step - loss: 0.1324 - mean_absolute_error: 0.1977 - val_loss: 0.1251 - val_mean_absolute_error: 0.1928\n",
      "Epoch 24/100\n",
      "1981/1981 [==============================] - 3s 2ms/step - loss: 0.1319 - mean_absolute_error: 0.1981 - val_loss: 0.1268 - val_mean_absolute_error: 0.2089\n",
      "Epoch 25/100\n",
      "1981/1981 [==============================] - 3s 2ms/step - loss: 0.1317 - mean_absolute_error: 0.1979 - val_loss: 0.1232 - val_mean_absolute_error: 0.1901\n",
      "Epoch 26/100\n",
      "1981/1981 [==============================] - 3s 2ms/step - loss: 0.1319 - mean_absolute_error: 0.1978 - val_loss: 0.1242 - val_mean_absolute_error: 0.2007\n",
      "Epoch 27/100\n",
      "1981/1981 [==============================] - 3s 2ms/step - loss: 0.1315 - mean_absolute_error: 0.1974 - val_loss: 0.1268 - val_mean_absolute_error: 0.1920\n",
      "Epoch 28/100\n",
      "1981/1981 [==============================] - 3s 2ms/step - loss: 0.1321 - mean_absolute_error: 0.1981 - val_loss: 0.1232 - val_mean_absolute_error: 0.1915\n",
      "Epoch 29/100\n",
      "1981/1981 [==============================] - 3s 2ms/step - loss: 0.1315 - mean_absolute_error: 0.1975 - val_loss: 0.1240 - val_mean_absolute_error: 0.2069\n",
      "Epoch 30/100\n",
      "1981/1981 [==============================] - 3s 2ms/step - loss: 0.1319 - mean_absolute_error: 0.1972 - val_loss: 0.1272 - val_mean_absolute_error: 0.2211\n",
      "Epoch 31/100\n",
      "1981/1981 [==============================] - 3s 2ms/step - loss: 0.1317 - mean_absolute_error: 0.1970 - val_loss: 0.1233 - val_mean_absolute_error: 0.1927\n",
      "Epoch 32/100\n",
      "1981/1981 [==============================] - 3s 2ms/step - loss: 0.1316 - mean_absolute_error: 0.1973 - val_loss: 0.1231 - val_mean_absolute_error: 0.1995\n",
      "Epoch 33/100\n",
      "1981/1981 [==============================] - 3s 2ms/step - loss: 0.1314 - mean_absolute_error: 0.1968 - val_loss: 0.1232 - val_mean_absolute_error: 0.1872\n",
      "Epoch 34/100\n",
      "1981/1981 [==============================] - 3s 2ms/step - loss: 0.1315 - mean_absolute_error: 0.1969 - val_loss: 0.1245 - val_mean_absolute_error: 0.1916\n",
      "Epoch 35/100\n",
      "1981/1981 [==============================] - 3s 2ms/step - loss: 0.1316 - mean_absolute_error: 0.1966 - val_loss: 0.1230 - val_mean_absolute_error: 0.1920\n",
      "Epoch 36/100\n",
      "1981/1981 [==============================] - 3s 2ms/step - loss: 0.1311 - mean_absolute_error: 0.1960 - val_loss: 0.1235 - val_mean_absolute_error: 0.1915\n",
      "Epoch 37/100\n",
      "1981/1981 [==============================] - 3s 2ms/step - loss: 0.1309 - mean_absolute_error: 0.1963 - val_loss: 0.1275 - val_mean_absolute_error: 0.2014\n",
      "Epoch 38/100\n",
      "1981/1981 [==============================] - 3s 2ms/step - loss: 0.1311 - mean_absolute_error: 0.1967 - val_loss: 0.1239 - val_mean_absolute_error: 0.2025\n",
      "Epoch 39/100\n",
      "1981/1981 [==============================] - 3s 2ms/step - loss: 0.1313 - mean_absolute_error: 0.1965 - val_loss: 0.1224 - val_mean_absolute_error: 0.1849\n",
      "Epoch 40/100\n",
      "1981/1981 [==============================] - 3s 2ms/step - loss: 0.1312 - mean_absolute_error: 0.1967 - val_loss: 0.1235 - val_mean_absolute_error: 0.1915\n",
      "Epoch 41/100\n",
      "1981/1981 [==============================] - 3s 2ms/step - loss: 0.1309 - mean_absolute_error: 0.1967 - val_loss: 0.1239 - val_mean_absolute_error: 0.1856\n",
      "Epoch 42/100\n",
      "1981/1981 [==============================] - 3s 2ms/step - loss: 0.1310 - mean_absolute_error: 0.1960 - val_loss: 0.1259 - val_mean_absolute_error: 0.1920\n",
      "Epoch 43/100\n",
      "1981/1981 [==============================] - 3s 2ms/step - loss: 0.1305 - mean_absolute_error: 0.1960 - val_loss: 0.1258 - val_mean_absolute_error: 0.2021\n",
      "Epoch 44/100\n",
      "1981/1981 [==============================] - 3s 2ms/step - loss: 0.1310 - mean_absolute_error: 0.1964 - val_loss: 0.1250 - val_mean_absolute_error: 0.1907\n",
      "Epoch 45/100\n",
      "1981/1981 [==============================] - 3s 2ms/step - loss: 0.1310 - mean_absolute_error: 0.1964 - val_loss: 0.1242 - val_mean_absolute_error: 0.1841\n",
      "Epoch 46/100\n",
      "1981/1981 [==============================] - 3s 2ms/step - loss: 0.1309 - mean_absolute_error: 0.1961 - val_loss: 0.1227 - val_mean_absolute_error: 0.2005\n",
      "Epoch 47/100\n",
      "1981/1981 [==============================] - 3s 2ms/step - loss: 0.1308 - mean_absolute_error: 0.1957 - val_loss: 0.1239 - val_mean_absolute_error: 0.1854\n",
      "Epoch 48/100\n",
      "1981/1981 [==============================] - 3s 2ms/step - loss: 0.1308 - mean_absolute_error: 0.1959 - val_loss: 0.1241 - val_mean_absolute_error: 0.1899\n",
      "Epoch 49/100\n",
      "1981/1981 [==============================] - 3s 2ms/step - loss: 0.1308 - mean_absolute_error: 0.1960 - val_loss: 0.1231 - val_mean_absolute_error: 0.1909\n",
      "Epoch 50/100\n",
      "1981/1981 [==============================] - 3s 2ms/step - loss: 0.1308 - mean_absolute_error: 0.1963 - val_loss: 0.1260 - val_mean_absolute_error: 0.1947\n",
      "Epoch 51/100\n",
      "1981/1981 [==============================] - 3s 2ms/step - loss: 0.1304 - mean_absolute_error: 0.1954 - val_loss: 0.1225 - val_mean_absolute_error: 0.1908\n",
      "Epoch 52/100\n",
      "1981/1981 [==============================] - 3s 2ms/step - loss: 0.1309 - mean_absolute_error: 0.1956 - val_loss: 0.1225 - val_mean_absolute_error: 0.1987\n",
      "Epoch 53/100\n",
      "1981/1981 [==============================] - 3s 2ms/step - loss: 0.1304 - mean_absolute_error: 0.1961 - val_loss: 0.1249 - val_mean_absolute_error: 0.2179\n",
      "Epoch 54/100\n",
      "1981/1981 [==============================] - 3s 2ms/step - loss: 0.1308 - mean_absolute_error: 0.1961 - val_loss: 0.1219 - val_mean_absolute_error: 0.1874\n",
      "Epoch 55/100\n",
      "1981/1981 [==============================] - 3s 2ms/step - loss: 0.1305 - mean_absolute_error: 0.1951 - val_loss: 0.1231 - val_mean_absolute_error: 0.1839\n",
      "Epoch 56/100\n",
      "1981/1981 [==============================] - 3s 2ms/step - loss: 0.1303 - mean_absolute_error: 0.1959 - val_loss: 0.1229 - val_mean_absolute_error: 0.2012\n",
      "Epoch 57/100\n",
      "1981/1981 [==============================] - 3s 2ms/step - loss: 0.1305 - mean_absolute_error: 0.1949 - val_loss: 0.1222 - val_mean_absolute_error: 0.1984\n",
      "Epoch 58/100\n",
      "1981/1981 [==============================] - 3s 2ms/step - loss: 0.1302 - mean_absolute_error: 0.1953 - val_loss: 0.1245 - val_mean_absolute_error: 0.1933\n",
      "Epoch 59/100\n",
      "1981/1981 [==============================] - 3s 2ms/step - loss: 0.1306 - mean_absolute_error: 0.1951 - val_loss: 0.1240 - val_mean_absolute_error: 0.1856\n",
      "Epoch 60/100\n",
      "1981/1981 [==============================] - 3s 2ms/step - loss: 0.1301 - mean_absolute_error: 0.1953 - val_loss: 0.1225 - val_mean_absolute_error: 0.1856\n",
      "Epoch 61/100\n",
      "1981/1981 [==============================] - 3s 2ms/step - loss: 0.1301 - mean_absolute_error: 0.1951 - val_loss: 0.1219 - val_mean_absolute_error: 0.1877\n",
      "Epoch 62/100\n",
      "1981/1981 [==============================] - 3s 2ms/step - loss: 0.1309 - mean_absolute_error: 0.1958 - val_loss: 0.1222 - val_mean_absolute_error: 0.1896\n",
      "Epoch 63/100\n",
      "1981/1981 [==============================] - 3s 2ms/step - loss: 0.1302 - mean_absolute_error: 0.1953 - val_loss: 0.1224 - val_mean_absolute_error: 0.1836\n",
      "Epoch 64/100\n",
      "1981/1981 [==============================] - 3s 2ms/step - loss: 0.1299 - mean_absolute_error: 0.1941 - val_loss: 0.1226 - val_mean_absolute_error: 0.1840\n",
      "Epoch 65/100\n",
      "1981/1981 [==============================] - 3s 2ms/step - loss: 0.1304 - mean_absolute_error: 0.1950 - val_loss: 0.1225 - val_mean_absolute_error: 0.1843\n",
      "Epoch 66/100\n",
      "1981/1981 [==============================] - 3s 2ms/step - loss: 0.1298 - mean_absolute_error: 0.1942 - val_loss: 0.1227 - val_mean_absolute_error: 0.1923\n",
      "Epoch 67/100\n",
      "1981/1981 [==============================] - 3s 2ms/step - loss: 0.1299 - mean_absolute_error: 0.1938 - val_loss: 0.1214 - val_mean_absolute_error: 0.1913\n",
      "Epoch 68/100\n",
      "1981/1981 [==============================] - 3s 2ms/step - loss: 0.1300 - mean_absolute_error: 0.1946 - val_loss: 0.1225 - val_mean_absolute_error: 0.1845\n",
      "Epoch 69/100\n",
      "1981/1981 [==============================] - 3s 2ms/step - loss: 0.1298 - mean_absolute_error: 0.1937 - val_loss: 0.1220 - val_mean_absolute_error: 0.1828\n",
      "Epoch 70/100\n",
      "1981/1981 [==============================] - 3s 2ms/step - loss: 0.1304 - mean_absolute_error: 0.1942 - val_loss: 0.1216 - val_mean_absolute_error: 0.1850\n",
      "Epoch 71/100\n",
      "1981/1981 [==============================] - 3s 2ms/step - loss: 0.1299 - mean_absolute_error: 0.1950 - val_loss: 0.1221 - val_mean_absolute_error: 0.1835\n",
      "Epoch 72/100\n",
      "1981/1981 [==============================] - 3s 2ms/step - loss: 0.1298 - mean_absolute_error: 0.1944 - val_loss: 0.1211 - val_mean_absolute_error: 0.1880\n",
      "Epoch 73/100\n",
      "1981/1981 [==============================] - 3s 2ms/step - loss: 0.1298 - mean_absolute_error: 0.1942 - val_loss: 0.1244 - val_mean_absolute_error: 0.1875\n",
      "Epoch 74/100\n",
      "1981/1981 [==============================] - 3s 2ms/step - loss: 0.1296 - mean_absolute_error: 0.1936 - val_loss: 0.1282 - val_mean_absolute_error: 0.1880\n",
      "Epoch 75/100\n",
      "1981/1981 [==============================] - 3s 2ms/step - loss: 0.1298 - mean_absolute_error: 0.1938 - val_loss: 0.1213 - val_mean_absolute_error: 0.1884\n",
      "Epoch 76/100\n",
      "1981/1981 [==============================] - 3s 2ms/step - loss: 0.1296 - mean_absolute_error: 0.1937 - val_loss: 0.1221 - val_mean_absolute_error: 0.1827\n",
      "Epoch 77/100\n",
      "1981/1981 [==============================] - 3s 2ms/step - loss: 0.1297 - mean_absolute_error: 0.1941 - val_loss: 0.1228 - val_mean_absolute_error: 0.1825\n",
      "Epoch 78/100\n",
      "1981/1981 [==============================] - 3s 2ms/step - loss: 0.1294 - mean_absolute_error: 0.1931 - val_loss: 0.1221 - val_mean_absolute_error: 0.1872\n",
      "Epoch 79/100\n",
      "1981/1981 [==============================] - 3s 2ms/step - loss: 0.1293 - mean_absolute_error: 0.1933 - val_loss: 0.1234 - val_mean_absolute_error: 0.1831\n",
      "Epoch 80/100\n",
      "1981/1981 [==============================] - 3s 2ms/step - loss: 0.1292 - mean_absolute_error: 0.1931 - val_loss: 0.1223 - val_mean_absolute_error: 0.1904\n",
      "Epoch 81/100\n",
      "1981/1981 [==============================] - 3s 2ms/step - loss: 0.1292 - mean_absolute_error: 0.1934 - val_loss: 0.1229 - val_mean_absolute_error: 0.1810\n",
      "Epoch 82/100\n",
      "1981/1981 [==============================] - 3s 2ms/step - loss: 0.1296 - mean_absolute_error: 0.1932 - val_loss: 0.1219 - val_mean_absolute_error: 0.1817\n",
      "Epoch 83/100\n",
      "1981/1981 [==============================] - 3s 2ms/step - loss: 0.1288 - mean_absolute_error: 0.1923 - val_loss: 0.1230 - val_mean_absolute_error: 0.2079\n",
      "Epoch 84/100\n",
      "1981/1981 [==============================] - 3s 2ms/step - loss: 0.1289 - mean_absolute_error: 0.1927 - val_loss: 0.1216 - val_mean_absolute_error: 0.1895\n",
      "Epoch 85/100\n",
      "1981/1981 [==============================] - 3s 2ms/step - loss: 0.1290 - mean_absolute_error: 0.1924 - val_loss: 0.1228 - val_mean_absolute_error: 0.2012\n",
      "Epoch 86/100\n",
      "1981/1981 [==============================] - 3s 2ms/step - loss: 0.1291 - mean_absolute_error: 0.1931 - val_loss: 0.1218 - val_mean_absolute_error: 0.1897\n",
      "Epoch 87/100\n",
      "1981/1981 [==============================] - 3s 2ms/step - loss: 0.1291 - mean_absolute_error: 0.1928 - val_loss: 0.1251 - val_mean_absolute_error: 0.1863\n",
      "Epoch 88/100\n",
      "1981/1981 [==============================] - 3s 2ms/step - loss: 0.1288 - mean_absolute_error: 0.1925 - val_loss: 0.1213 - val_mean_absolute_error: 0.1877\n",
      "Epoch 89/100\n",
      "1981/1981 [==============================] - 3s 2ms/step - loss: 0.1289 - mean_absolute_error: 0.1918 - val_loss: 0.1252 - val_mean_absolute_error: 0.1849\n",
      "Epoch 90/100\n",
      "1981/1981 [==============================] - 3s 2ms/step - loss: 0.1287 - mean_absolute_error: 0.1917 - val_loss: 0.1210 - val_mean_absolute_error: 0.1909\n",
      "Epoch 91/100\n",
      "1981/1981 [==============================] - 3s 2ms/step - loss: 0.1288 - mean_absolute_error: 0.1923 - val_loss: 0.1207 - val_mean_absolute_error: 0.1815\n",
      "Epoch 92/100\n",
      "1981/1981 [==============================] - 3s 2ms/step - loss: 0.1290 - mean_absolute_error: 0.1924 - val_loss: 0.1222 - val_mean_absolute_error: 0.1947\n",
      "Epoch 93/100\n",
      "1981/1981 [==============================] - 3s 2ms/step - loss: 0.1287 - mean_absolute_error: 0.1925 - val_loss: 0.1205 - val_mean_absolute_error: 0.1841\n",
      "Epoch 94/100\n",
      "1981/1981 [==============================] - 3s 2ms/step - loss: 0.1286 - mean_absolute_error: 0.1914 - val_loss: 0.1229 - val_mean_absolute_error: 0.1867\n",
      "Epoch 95/100\n",
      "1981/1981 [==============================] - 3s 2ms/step - loss: 0.1288 - mean_absolute_error: 0.1919 - val_loss: 0.1221 - val_mean_absolute_error: 0.1826\n",
      "Epoch 96/100\n",
      "1981/1981 [==============================] - 3s 2ms/step - loss: 0.1285 - mean_absolute_error: 0.1917 - val_loss: 0.1221 - val_mean_absolute_error: 0.1902\n",
      "Epoch 97/100\n",
      "1981/1981 [==============================] - 3s 2ms/step - loss: 0.1286 - mean_absolute_error: 0.1912 - val_loss: 0.1203 - val_mean_absolute_error: 0.1822\n",
      "Epoch 98/100\n",
      "1981/1981 [==============================] - 3s 2ms/step - loss: 0.1283 - mean_absolute_error: 0.1911 - val_loss: 0.1227 - val_mean_absolute_error: 0.1993\n",
      "Epoch 99/100\n",
      "1981/1981 [==============================] - 3s 2ms/step - loss: 0.1284 - mean_absolute_error: 0.1913 - val_loss: 0.1223 - val_mean_absolute_error: 0.1802\n",
      "Epoch 100/100\n",
      "1981/1981 [==============================] - 3s 2ms/step - loss: 0.1285 - mean_absolute_error: 0.1912 - val_loss: 0.1211 - val_mean_absolute_error: 0.1928\n"
     ]
    }
   ],
   "source": [
    "# Fitting the ANN to the Training set\n",
    "#  batch_size = 15, \n",
    "#    epochs = 5,\n",
    "history=model.fit(\n",
    "    X_train, \n",
    "    y_train ,\n",
    "    batch_size = 15, \n",
    "    epochs = 100,     \n",
    "    verbose=1,\n",
    "    validation_split = 0.33)"
   ]
  },
  {
   "attachments": {},
   "cell_type": "markdown",
   "metadata": {},
   "source": [
    "#### Mean Squared Error, Mean Absolute Error"
   ]
  },
  {
   "cell_type": "code",
   "execution_count": 28,
   "metadata": {},
   "outputs": [
    {
     "name": "stdout",
     "output_type": "stream",
     "text": [
      "594/594 [==============================] - 1s 1ms/step - loss: 0.1276 - mean_absolute_error: 0.1959\n",
      "MSE:  0.12763060629367828\n",
      "MAE: 0.19593480229377747\n"
     ]
    }
   ],
   "source": [
    "mean_squared_error, mean_absolute_error = model.evaluate(X_test,y_test)\n",
    "print(\"MSE: \",mean_squared_error)\n",
    "print(\"MAE:\" ,mean_absolute_error)"
   ]
  },
  {
   "cell_type": "code",
   "execution_count": 29,
   "metadata": {},
   "outputs": [
    {
     "name": "stdout",
     "output_type": "stream",
     "text": [
      "594/594 [==============================] - 1s 860us/step\n"
     ]
    }
   ],
   "source": [
    "# Generating Predictions on testing data\n",
    "Predictions=model.predict(X_test)"
   ]
  },
  {
   "attachments": {},
   "cell_type": "markdown",
   "metadata": {},
   "source": [
    "#### R2 Score"
   ]
  },
  {
   "cell_type": "code",
   "execution_count": 30,
   "metadata": {},
   "outputs": [
    {
     "data": {
      "text/plain": [
       "0.8715355196835328"
      ]
     },
     "execution_count": 30,
     "metadata": {},
     "output_type": "execute_result"
    }
   ],
   "source": [
    "from sklearn.metrics import r2_score\n",
    "r2_score(y_test,Predictions)"
   ]
  },
  {
   "attachments": {},
   "cell_type": "markdown",
   "metadata": {},
   "source": [
    "### Pred / Real Comparison"
   ]
  },
  {
   "cell_type": "code",
   "execution_count": null,
   "metadata": {},
   "outputs": [],
   "source": [
    "\n",
    "\n",
    "# Scaling the predicted Price data back to original price scale\n",
    "Predictions=TargetVarScalerFit.inverse_transform(Predictions)\n",
    "\n",
    "# Scaling the y_test Price data back to original price scale\n",
    "y_test_orig=TargetVarScalerFit.inverse_transform(y_test)\n",
    "\n",
    "# Scaling the test data back to original scale\n",
    "Test_Data=PredictorScalerFit.inverse_transform(X_test)\n",
    "\n",
    "TestingData=pd.DataFrame(data=Test_Data, columns=Predictors)\n",
    "TestingData['Generation']=y_test_orig\n",
    "TestingData['PredictedGeneration']=Predictions\n",
    "TestingData.head()"
   ]
  },
  {
   "cell_type": "code",
   "execution_count": null,
   "metadata": {},
   "outputs": [],
   "source": [
    "df_temp = pd.DataFrame({'Actual': y_test_orig, 'Predicted': Predictions})\n",
    "df_temp.head()"
   ]
  },
  {
   "cell_type": "code",
   "execution_count": null,
   "metadata": {},
   "outputs": [],
   "source": [
    "TestingData"
   ]
  },
  {
   "attachments": {},
   "cell_type": "markdown",
   "metadata": {},
   "source": [
    "### Plot Loss"
   ]
  },
  {
   "cell_type": "code",
   "execution_count": 35,
   "metadata": {},
   "outputs": [],
   "source": [
    "import matplotlib.pyplot as plt\n",
    "\n",
    "def plot_loss(history):\n",
    "  plt.plot(history.history['loss'], label='loss')\n",
    "  plt.plot(history.history['val_loss'], label='val_loss')\n",
    "  plt.xlabel('Epoch')\n",
    "  plt.ylabel('Error [MPG]')\n",
    "  plt.legend()\n",
    "  plt.grid(True)"
   ]
  },
  {
   "cell_type": "code",
   "execution_count": 36,
   "metadata": {},
   "outputs": [
    {
     "data": {
      "text/html": [
       "<div>\n",
       "<style scoped>\n",
       "    .dataframe tbody tr th:only-of-type {\n",
       "        vertical-align: middle;\n",
       "    }\n",
       "\n",
       "    .dataframe tbody tr th {\n",
       "        vertical-align: top;\n",
       "    }\n",
       "\n",
       "    .dataframe thead th {\n",
       "        text-align: right;\n",
       "    }\n",
       "</style>\n",
       "<table border=\"1\" class=\"dataframe\">\n",
       "  <thead>\n",
       "    <tr style=\"text-align: right;\">\n",
       "      <th></th>\n",
       "      <th>loss</th>\n",
       "      <th>mean_absolute_error</th>\n",
       "      <th>val_loss</th>\n",
       "      <th>val_mean_absolute_error</th>\n",
       "      <th>epoch</th>\n",
       "    </tr>\n",
       "  </thead>\n",
       "  <tbody>\n",
       "    <tr>\n",
       "      <th>95</th>\n",
       "      <td>0.128456</td>\n",
       "      <td>0.191712</td>\n",
       "      <td>0.122118</td>\n",
       "      <td>0.190182</td>\n",
       "      <td>95</td>\n",
       "    </tr>\n",
       "    <tr>\n",
       "      <th>96</th>\n",
       "      <td>0.128587</td>\n",
       "      <td>0.191216</td>\n",
       "      <td>0.120338</td>\n",
       "      <td>0.182227</td>\n",
       "      <td>96</td>\n",
       "    </tr>\n",
       "    <tr>\n",
       "      <th>97</th>\n",
       "      <td>0.128284</td>\n",
       "      <td>0.191139</td>\n",
       "      <td>0.122663</td>\n",
       "      <td>0.199258</td>\n",
       "      <td>97</td>\n",
       "    </tr>\n",
       "    <tr>\n",
       "      <th>98</th>\n",
       "      <td>0.128386</td>\n",
       "      <td>0.191281</td>\n",
       "      <td>0.122289</td>\n",
       "      <td>0.180188</td>\n",
       "      <td>98</td>\n",
       "    </tr>\n",
       "    <tr>\n",
       "      <th>99</th>\n",
       "      <td>0.128510</td>\n",
       "      <td>0.191232</td>\n",
       "      <td>0.121051</td>\n",
       "      <td>0.192805</td>\n",
       "      <td>99</td>\n",
       "    </tr>\n",
       "  </tbody>\n",
       "</table>\n",
       "</div>"
      ],
      "text/plain": [
       "        loss  mean_absolute_error  val_loss  val_mean_absolute_error  epoch\n",
       "95  0.128456             0.191712  0.122118                 0.190182     95\n",
       "96  0.128587             0.191216  0.120338                 0.182227     96\n",
       "97  0.128284             0.191139  0.122663                 0.199258     97\n",
       "98  0.128386             0.191281  0.122289                 0.180188     98\n",
       "99  0.128510             0.191232  0.121051                 0.192805     99"
      ]
     },
     "execution_count": 36,
     "metadata": {},
     "output_type": "execute_result"
    }
   ],
   "source": [
    "hist = pd.DataFrame(history.history)\n",
    "hist['epoch'] = history.epoch\n",
    "hist.tail()"
   ]
  },
  {
   "cell_type": "code",
   "execution_count": 37,
   "metadata": {},
   "outputs": [
    {
     "data": {
      "image/png": "[encoded data removed]",
      "text/plain": [
       "<Figure size 640x480 with 1 Axes>"
      ]
     },
     "metadata": {},
     "output_type": "display_data"
    }
   ],
   "source": [
    "plot_loss(history)"
   ]
  },
  {
   "attachments": {},
   "cell_type": "markdown",
   "metadata": {},
   "source": [
    "# Save and Load Model"
   ]
  },
  {
   "cell_type": "code",
   "execution_count": 14,
   "metadata": {},
   "outputs": [],
   "source": [
    "filename = './DNN_finalized_model'\n"
   ]
  },
  {
   "cell_type": "code",
   "execution_count": null,
   "metadata": {},
   "outputs": [],
   "source": [
    "# save the model to disk\n",
    "model.save(filename)"
   ]
  },
  {
   "cell_type": "code",
   "execution_count": 15,
   "metadata": {},
   "outputs": [],
   "source": [
    "import tensorflow as tf\n",
    "\n",
    "# load the model from disk\n",
    "model = tf.keras.models.load_model(filename)"
   ]
  },
  {
   "cell_type": "code",
   "execution_count": null,
   "metadata": {},
   "outputs": [],
   "source": [
    "print(type(model))"
   ]
  },
  {
   "cell_type": "code",
   "execution_count": null,
   "metadata": {},
   "outputs": [],
   "source": [
    "# Fitting the ANN to the Training set\n",
    "history=model.fit(\n",
    "    X_train,\n",
    "    y_train, \n",
    "    batch_size = 15,\n",
    "    epochs = 100,\n",
    "    verbose=1,\n",
    "    validation_split = 0.33)\n"
   ]
  },
  {
   "cell_type": "code",
   "execution_count": null,
   "metadata": {},
   "outputs": [],
   "source": [
    "model.summary()"
   ]
  },
  {
   "attachments": {},
   "cell_type": "markdown",
   "metadata": {},
   "source": [
    "# Explainable AI Shap"
   ]
  },
  {
   "cell_type": "code",
   "execution_count": 22,
   "metadata": {},
   "outputs": [],
   "source": [
    "\n",
    "import shap\n",
    "import numpy as np\n",
    "\n",
    "# select a set of background examples to take an expectation over\n",
    "background = X_train[np.random.choice(X_train.shape[0], 100, replace=False)]"
   ]
  },
  {
   "cell_type": "code",
   "execution_count": 23,
   "metadata": {},
   "outputs": [
    {
     "name": "stderr",
     "output_type": "stream",
     "text": [
      "keras is no longer supported, please use tf.keras instead.\n",
      "Your TensorFlow version is newer than 2.4.0 and so graph support has been removed in eager mode and some static graphs may not be supported. See PR #1483 for discussion.\n"
     ]
    }
   ],
   "source": [
    "import shap\n",
    "\n",
    "explainer = shap.DeepExplainer(model, background)\n"
   ]
  },
  {
   "cell_type": "code",
   "execution_count": 24,
   "metadata": {},
   "outputs": [
    {
     "name": "stderr",
     "output_type": "stream",
     "text": [
      "`tf.keras.backend.set_learning_phase` is deprecated and will be removed after 2020-10-11. To update it, simply pass a True/False value to the `training` argument of the `__call__` method of your layer or model.\n"
     ]
    }
   ],
   "source": [
    "shap_values = explainer.shap_values(X_test[1:100])"
   ]
  },
  {
   "cell_type": "code",
   "execution_count": 25,
   "metadata": {},
   "outputs": [
    {
     "data": {
      "text/plain": [
       "[array([[ 2.47746580e-01,  9.43973008e-03, -3.37337492e-04, ...,\n",
       "          0.00000000e+00,  0.00000000e+00, -7.32901355e-02],\n",
       "        [ 1.92086782e-01, -1.27695698e-02, -1.95407061e-04, ...,\n",
       "          0.00000000e+00,  0.00000000e+00, -7.30083960e-02],\n",
       "        [-8.59220991e-02, -1.63192466e-02,  2.33807966e-03, ...,\n",
       "          0.00000000e+00,  0.00000000e+00,  2.39423267e-01],\n",
       "        ...,\n",
       "        [-4.65365271e-01,  1.52629823e-02, -6.18186114e-04, ...,\n",
       "          0.00000000e+00,  0.00000000e+00, -6.55438510e-02],\n",
       "        [ 2.49890293e-01, -4.51094525e-03, -5.91989250e-04, ...,\n",
       "          0.00000000e+00,  0.00000000e+00, -7.68991968e-02],\n",
       "        [ 1.51261722e-01,  1.16998444e-02, -9.77782913e-04, ...,\n",
       "          0.00000000e+00,  0.00000000e+00, -7.20413170e-02]])]"
      ]
     },
     "execution_count": 25,
     "metadata": {},
     "output_type": "execute_result"
    }
   ],
   "source": [
    "shap_values"
   ]
  },
  {
   "cell_type": "code",
   "execution_count": 26,
   "metadata": {},
   "outputs": [
    {
     "data": {
      "image/png": "[encoded data removed]",
      "text/plain": [
       "<Figure size 800x630 with 1 Axes>"
      ]
     },
     "metadata": {},
     "output_type": "display_data"
    }
   ],
   "source": [
    "shap.summary_plot(shap_values,df_x.columns)"
   ]
  },
  {
   "cell_type": "code",
   "execution_count": null,
   "metadata": {},
   "outputs": [],
   "source": [
    "# plot the feature attributions\n",
    "shap.image_plot(shap_values, -X_test[1:100])"
   ]
  },
  {
   "attachments": {},
   "cell_type": "markdown",
   "metadata": {},
   "source": [
    "#### Save Shap Values"
   ]
  },
  {
   "cell_type": "code",
   "execution_count": null,
   "metadata": {},
   "outputs": [],
   "source": [
    "import pickle\n",
    "pickle.dump(shap_values, open(\"shap_values.bin\", \"wb\"))"
   ]
  },
  {
   "cell_type": "code",
   "execution_count": 9,
   "metadata": {},
   "outputs": [],
   "source": [
    "import pickle\n",
    "matrix = pickle.load(open(\"shap_values.bin\", \"rb\"))"
   ]
  },
  {
   "cell_type": "code",
   "execution_count": null,
   "metadata": {},
   "outputs": [],
   "source": [
    "import shap\n",
    "shap.summary_plot(matrix,X_test)"
   ]
  },
  {
   "cell_type": "code",
   "execution_count": null,
   "metadata": {},
   "outputs": [],
   "source": [
    "matrix"
   ]
  },
  {
   "cell_type": "code",
   "execution_count": null,
   "metadata": {},
   "outputs": [],
   "source": [
    "with pd.option_context('display.max_rows', None,\n",
    "                        'display.max_columns', None,\n",
    "                        'display.precision', 3,                        ):\n",
    "    print(matrix)"
   ]
  },
  {
   "cell_type": "code",
   "execution_count": null,
   "metadata": {},
   "outputs": [],
   "source": [
    "print(shap.__version__)\n",
    "print(tf.__version__)\n"
   ]
  }
 ],
 "metadata": {
  "kernelspec": {
   "display_name": "Python 3",
   "language": "python",
   "name": "python3"
  },
  "language_info": {
   "codemirror_mode": {
    "name": "ipython",
    "version": 3
   },
   "file_extension": ".py",
   "mimetype": "text/x-python",
   "name": "python",
   "nbconvert_exporter": "python",
   "pygments_lexer": "ipython3",
   "version": "3.10.5"
  },
  "orig_nbformat": 4,
  "vscode": {
   "interpreter": {
    "hash": "5722daad9755055b013a651651e76bfefcd0039befef69efb03fa00fbea6a530"
   }
  }
 },
 "nbformat": 4,
 "nbformat_minor": 2
}
