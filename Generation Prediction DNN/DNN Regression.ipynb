{
 "cells": [
  {
   "cell_type": "code",
   "execution_count": 2,
   "metadata": {},
   "outputs": [],
   "source": [
    "#from https://thinkingneuron.com/using-artificial-neural-networks-for-regression-in-python/\n",
    "\n",
    "import pandas as pd\n",
    "import seaborn as sns\n",
    "from sklearn.neural_network import MLPRegressor\n",
    "import itertools\n",
    "from sklearn.model_selection import cross_validate, RandomizedSearchCV, train_test_split\n",
    "from sklearn.metrics import balanced_accuracy_score, confusion_matrix\n",
    "df = pd.read_csv(\"datasetFinal.csv\")"
   ]
  },
  {
   "cell_type": "code",
   "execution_count": 3,
   "metadata": {},
   "outputs": [
    {
     "data": {
      "text/html": [
       "<div>\n",
       "<style scoped>\n",
       "    .dataframe tbody tr th:only-of-type {\n",
       "        vertical-align: middle;\n",
       "    }\n",
       "\n",
       "    .dataframe tbody tr th {\n",
       "        vertical-align: top;\n",
       "    }\n",
       "\n",
       "    .dataframe thead th {\n",
       "        text-align: right;\n",
       "    }\n",
       "</style>\n",
       "<table border=\"1\" class=\"dataframe\">\n",
       "  <thead>\n",
       "    <tr style=\"text-align: right;\">\n",
       "      <th></th>\n",
       "      <th>hour</th>\n",
       "      <th>generated_power</th>\n",
       "      <th>temperatureC</th>\n",
       "      <th>dewpointC</th>\n",
       "      <th>pressurehPa</th>\n",
       "      <th>wind_direction_degrees</th>\n",
       "      <th>wind_speed_KMH</th>\n",
       "      <th>wind_speed_gustKMH</th>\n",
       "      <th>Humidity</th>\n",
       "      <th>hourly_precipMM</th>\n",
       "      <th>daily_rainMM</th>\n",
       "      <th>solar_radiation_Watts_m2</th>\n",
       "    </tr>\n",
       "  </thead>\n",
       "  <tbody>\n",
       "    <tr>\n",
       "      <th>0</th>\n",
       "      <td>0</td>\n",
       "      <td>0</td>\n",
       "      <td>11</td>\n",
       "      <td>8</td>\n",
       "      <td>1021</td>\n",
       "      <td>143</td>\n",
       "      <td>0</td>\n",
       "      <td>20</td>\n",
       "      <td>83</td>\n",
       "      <td>0</td>\n",
       "      <td>0</td>\n",
       "      <td>0</td>\n",
       "    </tr>\n",
       "    <tr>\n",
       "      <th>1</th>\n",
       "      <td>1</td>\n",
       "      <td>0</td>\n",
       "      <td>11</td>\n",
       "      <td>8</td>\n",
       "      <td>1021</td>\n",
       "      <td>130</td>\n",
       "      <td>4</td>\n",
       "      <td>6</td>\n",
       "      <td>81</td>\n",
       "      <td>0</td>\n",
       "      <td>0</td>\n",
       "      <td>0</td>\n",
       "    </tr>\n",
       "    <tr>\n",
       "      <th>2</th>\n",
       "      <td>2</td>\n",
       "      <td>0</td>\n",
       "      <td>11</td>\n",
       "      <td>7</td>\n",
       "      <td>1020</td>\n",
       "      <td>121</td>\n",
       "      <td>0</td>\n",
       "      <td>6</td>\n",
       "      <td>80</td>\n",
       "      <td>0</td>\n",
       "      <td>0</td>\n",
       "      <td>0</td>\n",
       "    </tr>\n",
       "    <tr>\n",
       "      <th>3</th>\n",
       "      <td>3</td>\n",
       "      <td>0</td>\n",
       "      <td>11</td>\n",
       "      <td>7</td>\n",
       "      <td>1018</td>\n",
       "      <td>117</td>\n",
       "      <td>12</td>\n",
       "      <td>17</td>\n",
       "      <td>77</td>\n",
       "      <td>0</td>\n",
       "      <td>0</td>\n",
       "      <td>0</td>\n",
       "    </tr>\n",
       "    <tr>\n",
       "      <th>4</th>\n",
       "      <td>4</td>\n",
       "      <td>0</td>\n",
       "      <td>11</td>\n",
       "      <td>7</td>\n",
       "      <td>1018</td>\n",
       "      <td>117</td>\n",
       "      <td>0</td>\n",
       "      <td>17</td>\n",
       "      <td>77</td>\n",
       "      <td>0</td>\n",
       "      <td>0</td>\n",
       "      <td>0</td>\n",
       "    </tr>\n",
       "  </tbody>\n",
       "</table>\n",
       "</div>"
      ],
      "text/plain": [
       "   hour  generated_power  temperatureC  dewpointC  pressurehPa  \\\n",
       "0     0                0            11          8         1021   \n",
       "1     1                0            11          8         1021   \n",
       "2     2                0            11          7         1020   \n",
       "3     3                0            11          7         1018   \n",
       "4     4                0            11          7         1018   \n",
       "\n",
       "   wind_direction_degrees  wind_speed_KMH  wind_speed_gustKMH  Humidity  \\\n",
       "0                     143               0                  20        83   \n",
       "1                     130               4                   6        81   \n",
       "2                     121               0                   6        80   \n",
       "3                     117              12                  17        77   \n",
       "4                     117               0                  17        77   \n",
       "\n",
       "   hourly_precipMM  daily_rainMM  solar_radiation_Watts_m2  \n",
       "0                0             0                         0  \n",
       "1                0             0                         0  \n",
       "2                0             0                         0  \n",
       "3                0             0                         0  \n",
       "4                0             0                         0  "
      ]
     },
     "execution_count": 3,
     "metadata": {},
     "output_type": "execute_result"
    }
   ],
   "source": [
    "df.head()"
   ]
  },
  {
   "cell_type": "code",
   "execution_count": 4,
   "metadata": {},
   "outputs": [],
   "source": [
    "# Separate Target Variable and Predictor Variables\n",
    "TargetVariable = [\"generated_power\"]\n",
    "Predictors= [\"hour\",\"temperatureC\",\"dewpointC\",\"pressurehPa\",\"wind_direction_degrees\",\"wind_speed_KMH\",\"wind_speed_gustKMH\",\"Humidity\",\"hourly_precipMM\",\"daily_rainMM\",\"solar_radiation_Watts_m2\"]\n",
    "\n",
    "X=df[Predictors].values\n",
    "y=df[TargetVariable].values"
   ]
  },
  {
   "cell_type": "code",
   "execution_count": 1,
   "metadata": {},
   "outputs": [
    {
     "ename": "NameError",
     "evalue": "name 'df' is not defined",
     "output_type": "error",
     "traceback": [
      "\u001b[1;31m---------------------------------------------------------------------------\u001b[0m",
      "\u001b[1;31mNameError\u001b[0m                                 Traceback (most recent call last)",
      "Cell \u001b[1;32mIn [1], line 1\u001b[0m\n\u001b[1;32m----> 1\u001b[0m y \u001b[39m=\u001b[39m df[\u001b[39m'\u001b[39m\u001b[39mgenerated_power\u001b[39m\u001b[39m'\u001b[39m]\u001b[39m.\u001b[39mvalues\n\u001b[0;32m      2\u001b[0m X \u001b[39m=\u001b[39m df\u001b[39m.\u001b[39mdrop(columns\u001b[39m=\u001b[39m[\u001b[39m'\u001b[39m\u001b[39mgenerated_power\u001b[39m\u001b[39m'\u001b[39m])\u001b[39m.\u001b[39mvalues\n",
      "\u001b[1;31mNameError\u001b[0m: name 'df' is not defined"
     ]
    }
   ],
   "source": [
    "# y = df['generated_power'].values\n",
    "# X = df.drop(columns=['generated_power']).values"
   ]
  },
  {
   "cell_type": "code",
   "execution_count": 29,
   "metadata": {},
   "outputs": [],
   "source": [
    "# y = y.reshape(-1,1)\n"
   ]
  },
  {
   "cell_type": "code",
   "execution_count": 5,
   "metadata": {},
   "outputs": [],
   "source": [
    "### Standardization of data ###\n",
    "from sklearn.preprocessing import StandardScaler\n",
    "PredictorScaler=StandardScaler()\n",
    "TargetVarScaler=StandardScaler()\n",
    " \n",
    "# Storing the fit object for later reference\n",
    "PredictorScalerFit=PredictorScaler.fit(X)\n",
    "TargetVarScalerFit=TargetVarScaler.fit(y)\n"
   ]
  },
  {
   "cell_type": "code",
   "execution_count": 6,
   "metadata": {},
   "outputs": [],
   "source": [
    "# Generating the standardized values of X and y\n",
    "X=PredictorScalerFit.transform(X)\n",
    "y=TargetVarScalerFit.transform(y)\n",
    " "
   ]
  },
  {
   "cell_type": "code",
   "execution_count": 7,
   "metadata": {},
   "outputs": [],
   "source": [
    "# Split the data into training and testing set\n",
    "from sklearn.model_selection import train_test_split\n",
    "X_train, X_test, y_train, y_test = train_test_split(X, y, test_size=0.3, random_state=42)"
   ]
  },
  {
   "cell_type": "code",
   "execution_count": 9,
   "metadata": {},
   "outputs": [
    {
     "name": "stdout",
     "output_type": "stream",
     "text": [
      "(13580, 11)\n",
      "(13580, 1)\n",
      "(5821, 11)\n",
      "(5821, 1)\n"
     ]
    }
   ],
   "source": [
    "# Quick sanity check with the shapes of Training and testing datasets\n",
    "print(X_train.shape)\n",
    "print(y_train.shape)\n",
    "print(X_test.shape)\n",
    "print(y_test.shape)"
   ]
  },
  {
   "cell_type": "code",
   "execution_count": 10,
   "metadata": {},
   "outputs": [],
   "source": [
    "from keras.models import Sequential\n",
    "from keras.layers import Dense\n",
    " \n",
    "# create ANN model\n",
    "model = Sequential()\n",
    " \n",
    "# Defining the Input layer and FIRST hidden layer, both are same!\n",
    "model.add(Dense(units=5, input_dim=11, kernel_initializer='normal', activation='relu'))\n",
    " \n",
    "# Defining the Second layer of the model\n",
    "# after the first layer we don't have to specify input_dim as keras configure it automatically\n",
    "model.add(Dense(units=5, kernel_initializer='normal', activation='tanh'))\n",
    " \n",
    "# The output neuron is a single fully connected node \n",
    "# Since we will be predicting a single number\n",
    "model.add(Dense(1, kernel_initializer='normal'))"
   ]
  },
  {
   "cell_type": "code",
   "execution_count": 11,
   "metadata": {},
   "outputs": [],
   "source": [
    "\n",
    "# Compiling the model\n",
    "model.compile(loss='mean_squared_error', optimizer='adam')"
   ]
  },
  {
   "cell_type": "code",
   "execution_count": 12,
   "metadata": {},
   "outputs": [
    {
     "name": "stdout",
     "output_type": "stream",
     "text": [
      "Epoch 1/50\n",
      "679/679 [==============================] - 1s 1ms/step - loss: 0.3974\n",
      "Epoch 2/50\n",
      "679/679 [==============================] - 1s 1ms/step - loss: 0.1658\n",
      "Epoch 3/50\n",
      "679/679 [==============================] - 1s 1ms/step - loss: 0.1459\n",
      "Epoch 4/50\n",
      "679/679 [==============================] - 1s 1ms/step - loss: 0.1339\n",
      "Epoch 5/50\n",
      "679/679 [==============================] - 1s 1ms/step - loss: 0.1261\n",
      "Epoch 6/50\n",
      "679/679 [==============================] - 1s 1ms/step - loss: 0.1212\n",
      "Epoch 7/50\n",
      "679/679 [==============================] - 1s 1ms/step - loss: 0.1177\n",
      "Epoch 8/50\n",
      "679/679 [==============================] - 1s 1ms/step - loss: 0.1151\n",
      "Epoch 9/50\n",
      "679/679 [==============================] - 1s 1ms/step - loss: 0.1131\n",
      "Epoch 10/50\n",
      "679/679 [==============================] - 1s 1ms/step - loss: 0.1122\n",
      "Epoch 11/50\n",
      "679/679 [==============================] - 1s 1ms/step - loss: 0.1104\n",
      "Epoch 12/50\n",
      "679/679 [==============================] - 1s 1ms/step - loss: 0.1092\n",
      "Epoch 13/50\n",
      "679/679 [==============================] - 1s 1ms/step - loss: 0.1078\n",
      "Epoch 14/50\n",
      "679/679 [==============================] - 1s 1ms/step - loss: 0.1075\n",
      "Epoch 15/50\n",
      "679/679 [==============================] - 1s 1ms/step - loss: 0.1066\n",
      "Epoch 16/50\n",
      "679/679 [==============================] - 1s 1ms/step - loss: 0.1062\n",
      "Epoch 17/50\n",
      "679/679 [==============================] - 1s 1ms/step - loss: 0.1056\n",
      "Epoch 18/50\n",
      "679/679 [==============================] - 1s 1ms/step - loss: 0.1048\n",
      "Epoch 19/50\n",
      "679/679 [==============================] - 1s 1ms/step - loss: 0.1048\n",
      "Epoch 20/50\n",
      "679/679 [==============================] - 1s 1ms/step - loss: 0.1037\n",
      "Epoch 21/50\n",
      "679/679 [==============================] - 1s 1ms/step - loss: 0.1033\n",
      "Epoch 22/50\n",
      "679/679 [==============================] - 1s 1ms/step - loss: 0.1028\n",
      "Epoch 23/50\n",
      "679/679 [==============================] - 1s 1ms/step - loss: 0.1023\n",
      "Epoch 24/50\n",
      "679/679 [==============================] - 1s 1ms/step - loss: 0.1020\n",
      "Epoch 25/50\n",
      "679/679 [==============================] - 1s 1ms/step - loss: 0.1015\n",
      "Epoch 26/50\n",
      "679/679 [==============================] - 1s 1ms/step - loss: 0.1009\n",
      "Epoch 27/50\n",
      "679/679 [==============================] - 1s 1ms/step - loss: 0.1008\n",
      "Epoch 28/50\n",
      "679/679 [==============================] - 1s 1ms/step - loss: 0.1009\n",
      "Epoch 29/50\n",
      "679/679 [==============================] - 1s 1ms/step - loss: 0.1005\n",
      "Epoch 30/50\n",
      "679/679 [==============================] - 1s 1ms/step - loss: 0.0997\n",
      "Epoch 31/50\n",
      "679/679 [==============================] - 1s 1ms/step - loss: 0.0991\n",
      "Epoch 32/50\n",
      "679/679 [==============================] - 1s 1ms/step - loss: 0.0995\n",
      "Epoch 33/50\n",
      "679/679 [==============================] - 1s 1ms/step - loss: 0.0994\n",
      "Epoch 34/50\n",
      "679/679 [==============================] - 1s 1ms/step - loss: 0.0986\n",
      "Epoch 35/50\n",
      "679/679 [==============================] - 1s 1ms/step - loss: 0.0980\n",
      "Epoch 36/50\n",
      "679/679 [==============================] - 1s 1ms/step - loss: 0.0982\n",
      "Epoch 37/50\n",
      "679/679 [==============================] - 1s 1ms/step - loss: 0.0983\n",
      "Epoch 38/50\n",
      "679/679 [==============================] - 1s 1ms/step - loss: 0.0977\n",
      "Epoch 39/50\n",
      "679/679 [==============================] - 1s 1ms/step - loss: 0.0972\n",
      "Epoch 40/50\n",
      "679/679 [==============================] - 1s 1ms/step - loss: 0.0973\n",
      "Epoch 41/50\n",
      "679/679 [==============================] - 1s 1ms/step - loss: 0.0973\n",
      "Epoch 42/50\n",
      "679/679 [==============================] - 1s 1ms/step - loss: 0.0973\n",
      "Epoch 43/50\n",
      "679/679 [==============================] - 1s 1ms/step - loss: 0.0967\n",
      "Epoch 44/50\n",
      "679/679 [==============================] - 1s 1ms/step - loss: 0.0964\n",
      "Epoch 45/50\n",
      "679/679 [==============================] - 1s 1ms/step - loss: 0.0963\n",
      "Epoch 46/50\n",
      "679/679 [==============================] - 1s 1ms/step - loss: 0.0963\n",
      "Epoch 47/50\n",
      "679/679 [==============================] - 1s 1ms/step - loss: 0.0957\n",
      "Epoch 48/50\n",
      "679/679 [==============================] - 1s 1ms/step - loss: 0.0954\n",
      "Epoch 49/50\n",
      "679/679 [==============================] - 1s 1ms/step - loss: 0.0955\n",
      "Epoch 50/50\n",
      "679/679 [==============================] - 1s 1ms/step - loss: 0.0952\n"
     ]
    },
    {
     "data": {
      "text/plain": [
       "<keras.callbacks.History at 0x1a05a589270>"
      ]
     },
     "execution_count": 12,
     "metadata": {},
     "output_type": "execute_result"
    }
   ],
   "source": [
    "# Fitting the ANN to the Training set\n",
    "model.fit(X_train, y_train ,batch_size = 20, epochs = 50, verbose=1)"
   ]
  },
  {
   "attachments": {},
   "cell_type": "markdown",
   "metadata": {},
   "source": [
    "# Hyperparameter tuning of ANN\n"
   ]
  },
  {
   "attachments": {},
   "cell_type": "markdown",
   "metadata": {},
   "source": [
    "# Finding best set of parameters using manual grid search\n"
   ]
  },
  {
   "cell_type": "code",
   "execution_count": 15,
   "metadata": {},
   "outputs": [
    {
     "name": "stdout",
     "output_type": "stream",
     "text": [
      "182/182 [==============================] - 0s 969us/step\n",
      "1 Parameters: batch_size: 5 - epochs: 5 MAPE: -35.95372365194563 Accuracy: 135.95372365194564\n"
     ]
    },
    {
     "name": "stderr",
     "output_type": "stream",
     "text": [
      "C:\\Users\\rafae\\AppData\\Local\\Temp\\ipykernel_18480\\1551624262.py:41: FutureWarning: The frame.append method is deprecated and will be removed from pandas in a future version. Use pandas.concat instead.\n",
      "  SearchResultsData=SearchResultsData.append(pd.DataFrame(data=[[TrialNumber, str(batch_size_trial)+'-'+str(epochs_trial), 100-MAPE]],\n"
     ]
    },
    {
     "name": "stdout",
     "output_type": "stream",
     "text": [
      "182/182 [==============================] - 0s 862us/step\n",
      "2 Parameters: batch_size: 5 - epochs: 10 MAPE: -45.466781116761645 Accuracy: 145.46678111676164\n"
     ]
    },
    {
     "name": "stderr",
     "output_type": "stream",
     "text": [
      "C:\\Users\\rafae\\AppData\\Local\\Temp\\ipykernel_18480\\1551624262.py:41: FutureWarning: The frame.append method is deprecated and will be removed from pandas in a future version. Use pandas.concat instead.\n",
      "  SearchResultsData=SearchResultsData.append(pd.DataFrame(data=[[TrialNumber, str(batch_size_trial)+'-'+str(epochs_trial), 100-MAPE]],\n"
     ]
    },
    {
     "name": "stdout",
     "output_type": "stream",
     "text": [
      "182/182 [==============================] - 0s 969us/step\n",
      "3 Parameters: batch_size: 5 - epochs: 50 MAPE: -51.88047012127676 Accuracy: 151.88047012127674\n"
     ]
    },
    {
     "name": "stderr",
     "output_type": "stream",
     "text": [
      "C:\\Users\\rafae\\AppData\\Local\\Temp\\ipykernel_18480\\1551624262.py:41: FutureWarning: The frame.append method is deprecated and will be removed from pandas in a future version. Use pandas.concat instead.\n",
      "  SearchResultsData=SearchResultsData.append(pd.DataFrame(data=[[TrialNumber, str(batch_size_trial)+'-'+str(epochs_trial), 100-MAPE]],\n"
     ]
    },
    {
     "name": "stdout",
     "output_type": "stream",
     "text": [
      "182/182 [==============================] - 0s 979us/step\n",
      "4 Parameters: batch_size: 5 - epochs: 100 MAPE: -76.700396445481 Accuracy: 176.700396445481\n"
     ]
    },
    {
     "name": "stderr",
     "output_type": "stream",
     "text": [
      "C:\\Users\\rafae\\AppData\\Local\\Temp\\ipykernel_18480\\1551624262.py:41: FutureWarning: The frame.append method is deprecated and will be removed from pandas in a future version. Use pandas.concat instead.\n",
      "  SearchResultsData=SearchResultsData.append(pd.DataFrame(data=[[TrialNumber, str(batch_size_trial)+'-'+str(epochs_trial), 100-MAPE]],\n"
     ]
    },
    {
     "name": "stdout",
     "output_type": "stream",
     "text": [
      "182/182 [==============================] - 0s 962us/step\n",
      "5 Parameters: batch_size: 10 - epochs: 5 MAPE: -64.31996601557118 Accuracy: 164.3199660155712\n"
     ]
    },
    {
     "name": "stderr",
     "output_type": "stream",
     "text": [
      "C:\\Users\\rafae\\AppData\\Local\\Temp\\ipykernel_18480\\1551624262.py:41: FutureWarning: The frame.append method is deprecated and will be removed from pandas in a future version. Use pandas.concat instead.\n",
      "  SearchResultsData=SearchResultsData.append(pd.DataFrame(data=[[TrialNumber, str(batch_size_trial)+'-'+str(epochs_trial), 100-MAPE]],\n"
     ]
    },
    {
     "name": "stdout",
     "output_type": "stream",
     "text": [
      "182/182 [==============================] - 0s 984us/step\n",
      "6 Parameters: batch_size: 10 - epochs: 10 MAPE: -56.01079826594761 Accuracy: 156.0107982659476\n"
     ]
    },
    {
     "name": "stderr",
     "output_type": "stream",
     "text": [
      "C:\\Users\\rafae\\AppData\\Local\\Temp\\ipykernel_18480\\1551624262.py:41: FutureWarning: The frame.append method is deprecated and will be removed from pandas in a future version. Use pandas.concat instead.\n",
      "  SearchResultsData=SearchResultsData.append(pd.DataFrame(data=[[TrialNumber, str(batch_size_trial)+'-'+str(epochs_trial), 100-MAPE]],\n"
     ]
    },
    {
     "name": "stdout",
     "output_type": "stream",
     "text": [
      "182/182 [==============================] - 0s 873us/step\n",
      "7 Parameters: batch_size: 10 - epochs: 50 MAPE: -56.995171239073464 Accuracy: 156.99517123907347\n"
     ]
    },
    {
     "name": "stderr",
     "output_type": "stream",
     "text": [
      "C:\\Users\\rafae\\AppData\\Local\\Temp\\ipykernel_18480\\1551624262.py:41: FutureWarning: The frame.append method is deprecated and will be removed from pandas in a future version. Use pandas.concat instead.\n",
      "  SearchResultsData=SearchResultsData.append(pd.DataFrame(data=[[TrialNumber, str(batch_size_trial)+'-'+str(epochs_trial), 100-MAPE]],\n"
     ]
    },
    {
     "name": "stdout",
     "output_type": "stream",
     "text": [
      "182/182 [==============================] - 0s 1ms/step\n",
      "8 Parameters: batch_size: 10 - epochs: 100 MAPE: -73.20660392767718 Accuracy: 173.20660392767718\n"
     ]
    },
    {
     "name": "stderr",
     "output_type": "stream",
     "text": [
      "C:\\Users\\rafae\\AppData\\Local\\Temp\\ipykernel_18480\\1551624262.py:41: FutureWarning: The frame.append method is deprecated and will be removed from pandas in a future version. Use pandas.concat instead.\n",
      "  SearchResultsData=SearchResultsData.append(pd.DataFrame(data=[[TrialNumber, str(batch_size_trial)+'-'+str(epochs_trial), 100-MAPE]],\n"
     ]
    },
    {
     "name": "stdout",
     "output_type": "stream",
     "text": [
      "182/182 [==============================] - 0s 913us/step\n",
      "9 Parameters: batch_size: 15 - epochs: 5 MAPE: -100.45000969317165 Accuracy: 200.45000969317164\n"
     ]
    },
    {
     "name": "stderr",
     "output_type": "stream",
     "text": [
      "C:\\Users\\rafae\\AppData\\Local\\Temp\\ipykernel_18480\\1551624262.py:41: FutureWarning: The frame.append method is deprecated and will be removed from pandas in a future version. Use pandas.concat instead.\n",
      "  SearchResultsData=SearchResultsData.append(pd.DataFrame(data=[[TrialNumber, str(batch_size_trial)+'-'+str(epochs_trial), 100-MAPE]],\n"
     ]
    },
    {
     "name": "stdout",
     "output_type": "stream",
     "text": [
      "182/182 [==============================] - 0s 929us/step\n",
      "10 Parameters: batch_size: 15 - epochs: 10 MAPE: -52.27674485629402 Accuracy: 152.27674485629402\n"
     ]
    },
    {
     "name": "stderr",
     "output_type": "stream",
     "text": [
      "C:\\Users\\rafae\\AppData\\Local\\Temp\\ipykernel_18480\\1551624262.py:41: FutureWarning: The frame.append method is deprecated and will be removed from pandas in a future version. Use pandas.concat instead.\n",
      "  SearchResultsData=SearchResultsData.append(pd.DataFrame(data=[[TrialNumber, str(batch_size_trial)+'-'+str(epochs_trial), 100-MAPE]],\n"
     ]
    },
    {
     "name": "stdout",
     "output_type": "stream",
     "text": [
      "182/182 [==============================] - 0s 951us/step\n",
      "11 Parameters: batch_size: 15 - epochs: 50 MAPE: -70.57360693654486 Accuracy: 170.57360693654488\n"
     ]
    },
    {
     "name": "stderr",
     "output_type": "stream",
     "text": [
      "C:\\Users\\rafae\\AppData\\Local\\Temp\\ipykernel_18480\\1551624262.py:41: FutureWarning: The frame.append method is deprecated and will be removed from pandas in a future version. Use pandas.concat instead.\n",
      "  SearchResultsData=SearchResultsData.append(pd.DataFrame(data=[[TrialNumber, str(batch_size_trial)+'-'+str(epochs_trial), 100-MAPE]],\n"
     ]
    },
    {
     "name": "stdout",
     "output_type": "stream",
     "text": [
      "182/182 [==============================] - 0s 926us/step\n",
      "12 Parameters: batch_size: 15 - epochs: 100 MAPE: -38.760797151879785 Accuracy: 138.76079715187979\n"
     ]
    },
    {
     "name": "stderr",
     "output_type": "stream",
     "text": [
      "C:\\Users\\rafae\\AppData\\Local\\Temp\\ipykernel_18480\\1551624262.py:41: FutureWarning: The frame.append method is deprecated and will be removed from pandas in a future version. Use pandas.concat instead.\n",
      "  SearchResultsData=SearchResultsData.append(pd.DataFrame(data=[[TrialNumber, str(batch_size_trial)+'-'+str(epochs_trial), 100-MAPE]],\n"
     ]
    },
    {
     "name": "stdout",
     "output_type": "stream",
     "text": [
      "182/182 [==============================] - 0s 895us/step\n",
      "13 Parameters: batch_size: 20 - epochs: 5 MAPE: -93.62190577706683 Accuracy: 193.62190577706684\n"
     ]
    },
    {
     "name": "stderr",
     "output_type": "stream",
     "text": [
      "C:\\Users\\rafae\\AppData\\Local\\Temp\\ipykernel_18480\\1551624262.py:41: FutureWarning: The frame.append method is deprecated and will be removed from pandas in a future version. Use pandas.concat instead.\n",
      "  SearchResultsData=SearchResultsData.append(pd.DataFrame(data=[[TrialNumber, str(batch_size_trial)+'-'+str(epochs_trial), 100-MAPE]],\n"
     ]
    },
    {
     "name": "stdout",
     "output_type": "stream",
     "text": [
      "182/182 [==============================] - 0s 1ms/step\n",
      "14 Parameters: batch_size: 20 - epochs: 10 MAPE: -49.36694584116114 Accuracy: 149.36694584116114\n"
     ]
    },
    {
     "name": "stderr",
     "output_type": "stream",
     "text": [
      "C:\\Users\\rafae\\AppData\\Local\\Temp\\ipykernel_18480\\1551624262.py:41: FutureWarning: The frame.append method is deprecated and will be removed from pandas in a future version. Use pandas.concat instead.\n",
      "  SearchResultsData=SearchResultsData.append(pd.DataFrame(data=[[TrialNumber, str(batch_size_trial)+'-'+str(epochs_trial), 100-MAPE]],\n"
     ]
    },
    {
     "name": "stdout",
     "output_type": "stream",
     "text": [
      "182/182 [==============================] - 0s 933us/step\n",
      "15 Parameters: batch_size: 20 - epochs: 50 MAPE: -63.67662637718549 Accuracy: 163.6766263771855\n"
     ]
    },
    {
     "name": "stderr",
     "output_type": "stream",
     "text": [
      "C:\\Users\\rafae\\AppData\\Local\\Temp\\ipykernel_18480\\1551624262.py:41: FutureWarning: The frame.append method is deprecated and will be removed from pandas in a future version. Use pandas.concat instead.\n",
      "  SearchResultsData=SearchResultsData.append(pd.DataFrame(data=[[TrialNumber, str(batch_size_trial)+'-'+str(epochs_trial), 100-MAPE]],\n"
     ]
    },
    {
     "name": "stdout",
     "output_type": "stream",
     "text": [
      "182/182 [==============================] - 0s 965us/step\n",
      "16 Parameters: batch_size: 20 - epochs: 100 MAPE: -58.81683491449601 Accuracy: 158.816834914496\n"
     ]
    },
    {
     "name": "stderr",
     "output_type": "stream",
     "text": [
      "C:\\Users\\rafae\\AppData\\Local\\Temp\\ipykernel_18480\\1551624262.py:41: FutureWarning: The frame.append method is deprecated and will be removed from pandas in a future version. Use pandas.concat instead.\n",
      "  SearchResultsData=SearchResultsData.append(pd.DataFrame(data=[[TrialNumber, str(batch_size_trial)+'-'+str(epochs_trial), 100-MAPE]],\n"
     ]
    }
   ],
   "source": [
    "import numpy as np\n",
    "\n",
    "# Defining a function to find the best parameters for ANN\n",
    "def FunctionFindBestParams(X_train, y_train, X_test, y_test):\n",
    "    \n",
    "    # Defining the list of hyper parameters to try\n",
    "    batch_size_list=[5, 10, 15, 20]\n",
    "    epoch_list  =   [5, 10, 50, 100]\n",
    "    \n",
    "    import pandas as pd\n",
    "    SearchResultsData=pd.DataFrame(columns=['TrialNumber', 'Parameters', 'Accuracy'])\n",
    "    \n",
    "    # initializing the trials\n",
    "    TrialNumber=0\n",
    "    for batch_size_trial in batch_size_list:\n",
    "        for epochs_trial in epoch_list:\n",
    "            TrialNumber+=1\n",
    "            # create ANN model\n",
    "            model = Sequential()\n",
    "            # Defining the first layer of the model\n",
    "            model.add(Dense(units=5, input_dim=X_train.shape[1], kernel_initializer='normal', activation='relu'))\n",
    "\n",
    "            # Defining the Second layer of the model\n",
    "            model.add(Dense(units=5, kernel_initializer='normal', activation='relu'))\n",
    "\n",
    "            # The output neuron is a single fully connected node \n",
    "            # Since we will be predicting a single number\n",
    "            model.add(Dense(1, kernel_initializer='normal'))\n",
    "\n",
    "            # Compiling the model\n",
    "            model.compile(loss='mean_squared_error', optimizer='adam')\n",
    "\n",
    "            # Fitting the ANN to the Training set\n",
    "            model.fit(X_train, y_train ,batch_size = batch_size_trial, epochs = epochs_trial, verbose=0)\n",
    "\n",
    "            MAPE = np.mean(100 * (np.abs(y_test-model.predict(X_test))/y_test))\n",
    "            \n",
    "            # printing the results of the current iteration\n",
    "            print(TrialNumber, 'Parameters:','batch_size:', batch_size_trial,'-', 'epochs:',epochs_trial, 'MAPE:',MAPE,'Accuracy:', 100-MAPE)\n",
    "            \n",
    "            SearchResultsData=SearchResultsData.append(pd.DataFrame(data=[[TrialNumber, str(batch_size_trial)+'-'+str(epochs_trial), 100-MAPE]],\n",
    "                                                                    columns=['TrialNumber', 'Parameters', 'Accuracy'] ))\n",
    "    return(SearchResultsData)\n",
    "\n",
    "\n",
    "######################################################\n",
    "# Calling the function\n",
    "ResultsData=FunctionFindBestParams(X_train, y_train, X_test, y_test)"
   ]
  },
  {
   "cell_type": "code",
   "execution_count": 25,
   "metadata": {},
   "outputs": [
    {
     "data": {
      "text/plain": [
       "<AxesSubplot:xlabel='Parameters'>"
      ]
     },
     "execution_count": 25,
     "metadata": {},
     "output_type": "execute_result"
    },
    {
     "data": {
      "image/png": "[encoded data removed]",
      "text/plain": [
       "<Figure size 1500x400 with 1 Axes>"
      ]
     },
     "metadata": {},
     "output_type": "display_data"
    }
   ],
   "source": [
    "%matplotlib inline\n",
    "ResultsData.plot(x='Parameters', y='Accuracy', figsize=(15,4), kind='line')"
   ]
  },
  {
   "cell_type": "code",
   "execution_count": 50,
   "metadata": {},
   "outputs": [
    {
     "data": {
      "text/html": [
       "<div>\n",
       "<style scoped>\n",
       "    .dataframe tbody tr th:only-of-type {\n",
       "        vertical-align: middle;\n",
       "    }\n",
       "\n",
       "    .dataframe tbody tr th {\n",
       "        vertical-align: top;\n",
       "    }\n",
       "\n",
       "    .dataframe thead th {\n",
       "        text-align: right;\n",
       "    }\n",
       "</style>\n",
       "<table border=\"1\" class=\"dataframe\">\n",
       "  <thead>\n",
       "    <tr style=\"text-align: right;\">\n",
       "      <th></th>\n",
       "      <th>TrialNumber</th>\n",
       "      <th>Parameters</th>\n",
       "      <th>Accuracy</th>\n",
       "    </tr>\n",
       "  </thead>\n",
       "  <tbody>\n",
       "    <tr>\n",
       "      <th>0</th>\n",
       "      <td>1</td>\n",
       "      <td>5-5</td>\n",
       "      <td>-135.953724</td>\n",
       "    </tr>\n",
       "    <tr>\n",
       "      <th>0</th>\n",
       "      <td>2</td>\n",
       "      <td>5-10</td>\n",
       "      <td>-145.466781</td>\n",
       "    </tr>\n",
       "    <tr>\n",
       "      <th>0</th>\n",
       "      <td>3</td>\n",
       "      <td>5-50</td>\n",
       "      <td>-151.880470</td>\n",
       "    </tr>\n",
       "    <tr>\n",
       "      <th>0</th>\n",
       "      <td>4</td>\n",
       "      <td>5-100</td>\n",
       "      <td>-176.700396</td>\n",
       "    </tr>\n",
       "    <tr>\n",
       "      <th>0</th>\n",
       "      <td>5</td>\n",
       "      <td>10-5</td>\n",
       "      <td>-164.319966</td>\n",
       "    </tr>\n",
       "    <tr>\n",
       "      <th>0</th>\n",
       "      <td>6</td>\n",
       "      <td>10-10</td>\n",
       "      <td>-156.010798</td>\n",
       "    </tr>\n",
       "    <tr>\n",
       "      <th>0</th>\n",
       "      <td>7</td>\n",
       "      <td>10-50</td>\n",
       "      <td>-156.995171</td>\n",
       "    </tr>\n",
       "    <tr>\n",
       "      <th>0</th>\n",
       "      <td>8</td>\n",
       "      <td>10-100</td>\n",
       "      <td>-173.206604</td>\n",
       "    </tr>\n",
       "    <tr>\n",
       "      <th>0</th>\n",
       "      <td>9</td>\n",
       "      <td>15-5</td>\n",
       "      <td>-200.450010</td>\n",
       "    </tr>\n",
       "    <tr>\n",
       "      <th>0</th>\n",
       "      <td>10</td>\n",
       "      <td>15-10</td>\n",
       "      <td>-152.276745</td>\n",
       "    </tr>\n",
       "    <tr>\n",
       "      <th>0</th>\n",
       "      <td>11</td>\n",
       "      <td>15-50</td>\n",
       "      <td>-170.573607</td>\n",
       "    </tr>\n",
       "    <tr>\n",
       "      <th>0</th>\n",
       "      <td>12</td>\n",
       "      <td>15-100</td>\n",
       "      <td>-138.760797</td>\n",
       "    </tr>\n",
       "    <tr>\n",
       "      <th>0</th>\n",
       "      <td>13</td>\n",
       "      <td>20-5</td>\n",
       "      <td>-193.621906</td>\n",
       "    </tr>\n",
       "    <tr>\n",
       "      <th>0</th>\n",
       "      <td>14</td>\n",
       "      <td>20-10</td>\n",
       "      <td>-149.366946</td>\n",
       "    </tr>\n",
       "    <tr>\n",
       "      <th>0</th>\n",
       "      <td>15</td>\n",
       "      <td>20-50</td>\n",
       "      <td>-163.676626</td>\n",
       "    </tr>\n",
       "    <tr>\n",
       "      <th>0</th>\n",
       "      <td>16</td>\n",
       "      <td>20-100</td>\n",
       "      <td>-158.816835</td>\n",
       "    </tr>\n",
       "  </tbody>\n",
       "</table>\n",
       "</div>"
      ],
      "text/plain": [
       "  TrialNumber Parameters    Accuracy\n",
       "0           1        5-5 -135.953724\n",
       "0           2       5-10 -145.466781\n",
       "0           3       5-50 -151.880470\n",
       "0           4      5-100 -176.700396\n",
       "0           5       10-5 -164.319966\n",
       "0           6      10-10 -156.010798\n",
       "0           7      10-50 -156.995171\n",
       "0           8     10-100 -173.206604\n",
       "0           9       15-5 -200.450010\n",
       "0          10      15-10 -152.276745\n",
       "0          11      15-50 -170.573607\n",
       "0          12     15-100 -138.760797\n",
       "0          13       20-5 -193.621906\n",
       "0          14      20-10 -149.366946\n",
       "0          15      20-50 -163.676626\n",
       "0          16     20-100 -158.816835"
      ]
     },
     "execution_count": 50,
     "metadata": {},
     "output_type": "execute_result"
    }
   ],
   "source": [
    "ResultsData"
   ]
  },
  {
   "cell_type": "code",
   "execution_count": 51,
   "metadata": {},
   "outputs": [],
   "source": [
    "ResultsDataPlot = ResultsData\n"
   ]
  },
  {
   "cell_type": "code",
   "execution_count": 52,
   "metadata": {},
   "outputs": [
    {
     "data": {
      "text/html": [
       "<div>\n",
       "<style scoped>\n",
       "    .dataframe tbody tr th:only-of-type {\n",
       "        vertical-align: middle;\n",
       "    }\n",
       "\n",
       "    .dataframe tbody tr th {\n",
       "        vertical-align: top;\n",
       "    }\n",
       "\n",
       "    .dataframe thead th {\n",
       "        text-align: right;\n",
       "    }\n",
       "</style>\n",
       "<table border=\"1\" class=\"dataframe\">\n",
       "  <thead>\n",
       "    <tr style=\"text-align: right;\">\n",
       "      <th></th>\n",
       "      <th>TrialNumber</th>\n",
       "      <th>Parameters</th>\n",
       "      <th>Accuracy</th>\n",
       "    </tr>\n",
       "  </thead>\n",
       "  <tbody>\n",
       "    <tr>\n",
       "      <th>0</th>\n",
       "      <td>1</td>\n",
       "      <td>5-5</td>\n",
       "      <td>-135.953724</td>\n",
       "    </tr>\n",
       "    <tr>\n",
       "      <th>0</th>\n",
       "      <td>2</td>\n",
       "      <td>5-10</td>\n",
       "      <td>-145.466781</td>\n",
       "    </tr>\n",
       "    <tr>\n",
       "      <th>0</th>\n",
       "      <td>3</td>\n",
       "      <td>5-50</td>\n",
       "      <td>-151.880470</td>\n",
       "    </tr>\n",
       "    <tr>\n",
       "      <th>0</th>\n",
       "      <td>4</td>\n",
       "      <td>5-100</td>\n",
       "      <td>-176.700396</td>\n",
       "    </tr>\n",
       "    <tr>\n",
       "      <th>0</th>\n",
       "      <td>5</td>\n",
       "      <td>10-5</td>\n",
       "      <td>-164.319966</td>\n",
       "    </tr>\n",
       "    <tr>\n",
       "      <th>0</th>\n",
       "      <td>6</td>\n",
       "      <td>10-10</td>\n",
       "      <td>-156.010798</td>\n",
       "    </tr>\n",
       "    <tr>\n",
       "      <th>0</th>\n",
       "      <td>7</td>\n",
       "      <td>10-50</td>\n",
       "      <td>-156.995171</td>\n",
       "    </tr>\n",
       "    <tr>\n",
       "      <th>0</th>\n",
       "      <td>8</td>\n",
       "      <td>10-100</td>\n",
       "      <td>-173.206604</td>\n",
       "    </tr>\n",
       "    <tr>\n",
       "      <th>0</th>\n",
       "      <td>9</td>\n",
       "      <td>15-5</td>\n",
       "      <td>-200.450010</td>\n",
       "    </tr>\n",
       "    <tr>\n",
       "      <th>0</th>\n",
       "      <td>10</td>\n",
       "      <td>15-10</td>\n",
       "      <td>-152.276745</td>\n",
       "    </tr>\n",
       "    <tr>\n",
       "      <th>0</th>\n",
       "      <td>11</td>\n",
       "      <td>15-50</td>\n",
       "      <td>-170.573607</td>\n",
       "    </tr>\n",
       "    <tr>\n",
       "      <th>0</th>\n",
       "      <td>12</td>\n",
       "      <td>15-100</td>\n",
       "      <td>-138.760797</td>\n",
       "    </tr>\n",
       "    <tr>\n",
       "      <th>0</th>\n",
       "      <td>13</td>\n",
       "      <td>20-5</td>\n",
       "      <td>-193.621906</td>\n",
       "    </tr>\n",
       "    <tr>\n",
       "      <th>0</th>\n",
       "      <td>14</td>\n",
       "      <td>20-10</td>\n",
       "      <td>-149.366946</td>\n",
       "    </tr>\n",
       "    <tr>\n",
       "      <th>0</th>\n",
       "      <td>15</td>\n",
       "      <td>20-50</td>\n",
       "      <td>-163.676626</td>\n",
       "    </tr>\n",
       "    <tr>\n",
       "      <th>0</th>\n",
       "      <td>16</td>\n",
       "      <td>20-100</td>\n",
       "      <td>-158.816835</td>\n",
       "    </tr>\n",
       "  </tbody>\n",
       "</table>\n",
       "</div>"
      ],
      "text/plain": [
       "  TrialNumber Parameters    Accuracy\n",
       "0           1        5-5 -135.953724\n",
       "0           2       5-10 -145.466781\n",
       "0           3       5-50 -151.880470\n",
       "0           4      5-100 -176.700396\n",
       "0           5       10-5 -164.319966\n",
       "0           6      10-10 -156.010798\n",
       "0           7      10-50 -156.995171\n",
       "0           8     10-100 -173.206604\n",
       "0           9       15-5 -200.450010\n",
       "0          10      15-10 -152.276745\n",
       "0          11      15-50 -170.573607\n",
       "0          12     15-100 -138.760797\n",
       "0          13       20-5 -193.621906\n",
       "0          14      20-10 -149.366946\n",
       "0          15      20-50 -163.676626\n",
       "0          16     20-100 -158.816835"
      ]
     },
     "execution_count": 52,
     "metadata": {},
     "output_type": "execute_result"
    }
   ],
   "source": [
    "ResultsDataPlot"
   ]
  },
  {
   "cell_type": "code",
   "execution_count": 53,
   "metadata": {},
   "outputs": [],
   "source": [
    "ResultsDataPlot[\"Accuracy\"] = ResultsDataPlot[\"Accuracy\"].add(100)"
   ]
  },
  {
   "cell_type": "code",
   "execution_count": 55,
   "metadata": {},
   "outputs": [],
   "source": [
    "ResultsDataPlot[\"Accuracy\"] = ResultsDataPlot[\"Accuracy\"].multiply(-1)\n"
   ]
  },
  {
   "cell_type": "code",
   "execution_count": 56,
   "metadata": {},
   "outputs": [
    {
     "data": {
      "text/html": [
       "<div>\n",
       "<style scoped>\n",
       "    .dataframe tbody tr th:only-of-type {\n",
       "        vertical-align: middle;\n",
       "    }\n",
       "\n",
       "    .dataframe tbody tr th {\n",
       "        vertical-align: top;\n",
       "    }\n",
       "\n",
       "    .dataframe thead th {\n",
       "        text-align: right;\n",
       "    }\n",
       "</style>\n",
       "<table border=\"1\" class=\"dataframe\">\n",
       "  <thead>\n",
       "    <tr style=\"text-align: right;\">\n",
       "      <th></th>\n",
       "      <th>TrialNumber</th>\n",
       "      <th>Parameters</th>\n",
       "      <th>Accuracy</th>\n",
       "    </tr>\n",
       "  </thead>\n",
       "  <tbody>\n",
       "    <tr>\n",
       "      <th>0</th>\n",
       "      <td>1</td>\n",
       "      <td>5-5</td>\n",
       "      <td>35.953724</td>\n",
       "    </tr>\n",
       "    <tr>\n",
       "      <th>0</th>\n",
       "      <td>2</td>\n",
       "      <td>5-10</td>\n",
       "      <td>45.466781</td>\n",
       "    </tr>\n",
       "    <tr>\n",
       "      <th>0</th>\n",
       "      <td>3</td>\n",
       "      <td>5-50</td>\n",
       "      <td>51.880470</td>\n",
       "    </tr>\n",
       "    <tr>\n",
       "      <th>0</th>\n",
       "      <td>4</td>\n",
       "      <td>5-100</td>\n",
       "      <td>76.700396</td>\n",
       "    </tr>\n",
       "    <tr>\n",
       "      <th>0</th>\n",
       "      <td>5</td>\n",
       "      <td>10-5</td>\n",
       "      <td>64.319966</td>\n",
       "    </tr>\n",
       "    <tr>\n",
       "      <th>0</th>\n",
       "      <td>6</td>\n",
       "      <td>10-10</td>\n",
       "      <td>56.010798</td>\n",
       "    </tr>\n",
       "    <tr>\n",
       "      <th>0</th>\n",
       "      <td>7</td>\n",
       "      <td>10-50</td>\n",
       "      <td>56.995171</td>\n",
       "    </tr>\n",
       "    <tr>\n",
       "      <th>0</th>\n",
       "      <td>8</td>\n",
       "      <td>10-100</td>\n",
       "      <td>73.206604</td>\n",
       "    </tr>\n",
       "    <tr>\n",
       "      <th>0</th>\n",
       "      <td>9</td>\n",
       "      <td>15-5</td>\n",
       "      <td>100.450010</td>\n",
       "    </tr>\n",
       "    <tr>\n",
       "      <th>0</th>\n",
       "      <td>10</td>\n",
       "      <td>15-10</td>\n",
       "      <td>52.276745</td>\n",
       "    </tr>\n",
       "    <tr>\n",
       "      <th>0</th>\n",
       "      <td>11</td>\n",
       "      <td>15-50</td>\n",
       "      <td>70.573607</td>\n",
       "    </tr>\n",
       "    <tr>\n",
       "      <th>0</th>\n",
       "      <td>12</td>\n",
       "      <td>15-100</td>\n",
       "      <td>38.760797</td>\n",
       "    </tr>\n",
       "    <tr>\n",
       "      <th>0</th>\n",
       "      <td>13</td>\n",
       "      <td>20-5</td>\n",
       "      <td>93.621906</td>\n",
       "    </tr>\n",
       "    <tr>\n",
       "      <th>0</th>\n",
       "      <td>14</td>\n",
       "      <td>20-10</td>\n",
       "      <td>49.366946</td>\n",
       "    </tr>\n",
       "    <tr>\n",
       "      <th>0</th>\n",
       "      <td>15</td>\n",
       "      <td>20-50</td>\n",
       "      <td>63.676626</td>\n",
       "    </tr>\n",
       "    <tr>\n",
       "      <th>0</th>\n",
       "      <td>16</td>\n",
       "      <td>20-100</td>\n",
       "      <td>58.816835</td>\n",
       "    </tr>\n",
       "  </tbody>\n",
       "</table>\n",
       "</div>"
      ],
      "text/plain": [
       "  TrialNumber Parameters    Accuracy\n",
       "0           1        5-5   35.953724\n",
       "0           2       5-10   45.466781\n",
       "0           3       5-50   51.880470\n",
       "0           4      5-100   76.700396\n",
       "0           5       10-5   64.319966\n",
       "0           6      10-10   56.010798\n",
       "0           7      10-50   56.995171\n",
       "0           8     10-100   73.206604\n",
       "0           9       15-5  100.450010\n",
       "0          10      15-10   52.276745\n",
       "0          11      15-50   70.573607\n",
       "0          12     15-100   38.760797\n",
       "0          13       20-5   93.621906\n",
       "0          14      20-10   49.366946\n",
       "0          15      20-50   63.676626\n",
       "0          16     20-100   58.816835"
      ]
     },
     "execution_count": 56,
     "metadata": {},
     "output_type": "execute_result"
    }
   ],
   "source": [
    "ResultsDataPlot"
   ]
  },
  {
   "cell_type": "code",
   "execution_count": 57,
   "metadata": {},
   "outputs": [
    {
     "data": {
      "text/plain": [
       "<AxesSubplot:xlabel='Parameters'>"
      ]
     },
     "execution_count": 57,
     "metadata": {},
     "output_type": "execute_result"
    },
    {
     "data": {
      "image/png": "[encoded data removed]",
      "text/plain": [
       "<Figure size 1500x400 with 1 Axes>"
      ]
     },
     "metadata": {},
     "output_type": "display_data"
    }
   ],
   "source": [
    "%matplotlib inline\n",
    "ResultsDataPlot.plot(x='Parameters', y='Accuracy', figsize=(15,4), kind='line')"
   ]
  },
  {
   "attachments": {},
   "cell_type": "markdown",
   "metadata": {},
   "source": [
    "# Training the ANN model with the best parameters\n"
   ]
  },
  {
   "cell_type": "code",
   "execution_count": 19,
   "metadata": {},
   "outputs": [
    {
     "name": "stdout",
     "output_type": "stream",
     "text": [
      "182/182 [==============================] - 0s 1ms/step\n"
     ]
    },
    {
     "data": {
      "text/html": [
       "<div>\n",
       "<style scoped>\n",
       "    .dataframe tbody tr th:only-of-type {\n",
       "        vertical-align: middle;\n",
       "    }\n",
       "\n",
       "    .dataframe tbody tr th {\n",
       "        vertical-align: top;\n",
       "    }\n",
       "\n",
       "    .dataframe thead th {\n",
       "        text-align: right;\n",
       "    }\n",
       "</style>\n",
       "<table border=\"1\" class=\"dataframe\">\n",
       "  <thead>\n",
       "    <tr style=\"text-align: right;\">\n",
       "      <th></th>\n",
       "      <th>hour</th>\n",
       "      <th>temperatureC</th>\n",
       "      <th>dewpointC</th>\n",
       "      <th>pressurehPa</th>\n",
       "      <th>wind_direction_degrees</th>\n",
       "      <th>wind_speed_KMH</th>\n",
       "      <th>wind_speed_gustKMH</th>\n",
       "      <th>Humidity</th>\n",
       "      <th>hourly_precipMM</th>\n",
       "      <th>daily_rainMM</th>\n",
       "      <th>solar_radiation_Watts_m2</th>\n",
       "      <th>Generation</th>\n",
       "      <th>PredictedGeneration</th>\n",
       "    </tr>\n",
       "  </thead>\n",
       "  <tbody>\n",
       "    <tr>\n",
       "      <th>0</th>\n",
       "      <td>17.0</td>\n",
       "      <td>12.0</td>\n",
       "      <td>10.0</td>\n",
       "      <td>1031.0</td>\n",
       "      <td>263.0</td>\n",
       "      <td>0.0</td>\n",
       "      <td>3.0</td>\n",
       "      <td>83.0</td>\n",
       "      <td>0.0</td>\n",
       "      <td>0.0</td>\n",
       "      <td>14.0</td>\n",
       "      <td>69.0</td>\n",
       "      <td>250.183456</td>\n",
       "    </tr>\n",
       "    <tr>\n",
       "      <th>1</th>\n",
       "      <td>15.0</td>\n",
       "      <td>25.0</td>\n",
       "      <td>18.0</td>\n",
       "      <td>1019.0</td>\n",
       "      <td>294.0</td>\n",
       "      <td>4.0</td>\n",
       "      <td>14.0</td>\n",
       "      <td>63.0</td>\n",
       "      <td>0.0</td>\n",
       "      <td>0.0</td>\n",
       "      <td>635.0</td>\n",
       "      <td>401.0</td>\n",
       "      <td>2281.578369</td>\n",
       "    </tr>\n",
       "    <tr>\n",
       "      <th>2</th>\n",
       "      <td>6.0</td>\n",
       "      <td>14.0</td>\n",
       "      <td>13.0</td>\n",
       "      <td>1026.0</td>\n",
       "      <td>206.0</td>\n",
       "      <td>10.0</td>\n",
       "      <td>17.0</td>\n",
       "      <td>97.0</td>\n",
       "      <td>0.0</td>\n",
       "      <td>0.0</td>\n",
       "      <td>0.0</td>\n",
       "      <td>0.0</td>\n",
       "      <td>68.535927</td>\n",
       "    </tr>\n",
       "    <tr>\n",
       "      <th>3</th>\n",
       "      <td>5.0</td>\n",
       "      <td>17.0</td>\n",
       "      <td>16.0</td>\n",
       "      <td>1018.0</td>\n",
       "      <td>263.0</td>\n",
       "      <td>0.0</td>\n",
       "      <td>0.0</td>\n",
       "      <td>91.0</td>\n",
       "      <td>0.0</td>\n",
       "      <td>0.0</td>\n",
       "      <td>0.0</td>\n",
       "      <td>0.0</td>\n",
       "      <td>67.197304</td>\n",
       "    </tr>\n",
       "    <tr>\n",
       "      <th>4</th>\n",
       "      <td>14.0</td>\n",
       "      <td>9.0</td>\n",
       "      <td>-2.0</td>\n",
       "      <td>1019.0</td>\n",
       "      <td>348.0</td>\n",
       "      <td>0.0</td>\n",
       "      <td>1.0</td>\n",
       "      <td>45.0</td>\n",
       "      <td>0.0</td>\n",
       "      <td>0.0</td>\n",
       "      <td>352.0</td>\n",
       "      <td>1297.0</td>\n",
       "      <td>1836.871826</td>\n",
       "    </tr>\n",
       "  </tbody>\n",
       "</table>\n",
       "</div>"
      ],
      "text/plain": [
       "   hour  temperatureC  dewpointC  pressurehPa  wind_direction_degrees  \\\n",
       "0  17.0          12.0       10.0       1031.0                   263.0   \n",
       "1  15.0          25.0       18.0       1019.0                   294.0   \n",
       "2   6.0          14.0       13.0       1026.0                   206.0   \n",
       "3   5.0          17.0       16.0       1018.0                   263.0   \n",
       "4  14.0           9.0       -2.0       1019.0                   348.0   \n",
       "\n",
       "   wind_speed_KMH  wind_speed_gustKMH  Humidity  hourly_precipMM  \\\n",
       "0             0.0                 3.0      83.0              0.0   \n",
       "1             4.0                14.0      63.0              0.0   \n",
       "2            10.0                17.0      97.0              0.0   \n",
       "3             0.0                 0.0      91.0              0.0   \n",
       "4             0.0                 1.0      45.0              0.0   \n",
       "\n",
       "   daily_rainMM  solar_radiation_Watts_m2  Generation  PredictedGeneration  \n",
       "0           0.0                      14.0        69.0           250.183456  \n",
       "1           0.0                     635.0       401.0          2281.578369  \n",
       "2           0.0                       0.0         0.0            68.535927  \n",
       "3           0.0                       0.0         0.0            67.197304  \n",
       "4           0.0                     352.0      1297.0          1836.871826  "
      ]
     },
     "execution_count": 19,
     "metadata": {},
     "output_type": "execute_result"
    }
   ],
   "source": [
    "# Fitting the ANN to the Training set\n",
    "model.fit(X_train, y_train ,batch_size = 15, epochs = 5, verbose=0)\n",
    "\n",
    "# Generating Predictions on testing data\n",
    "Predictions=model.predict(X_test)\n",
    "\n",
    "# Scaling the predicted Price data back to original price scale\n",
    "Predictions=TargetVarScalerFit.inverse_transform(Predictions)\n",
    "\n",
    "# Scaling the y_test Price data back to original price scale\n",
    "y_test_orig=TargetVarScalerFit.inverse_transform(y_test)\n",
    "\n",
    "# Scaling the test data back to original scale\n",
    "Test_Data=PredictorScalerFit.inverse_transform(X_test)\n",
    "\n",
    "TestingData=pd.DataFrame(data=Test_Data, columns=Predictors)\n",
    "TestingData['Generation']=y_test_orig\n",
    "TestingData['PredictedGeneration']=Predictions\n",
    "TestingData.head()"
   ]
  },
  {
   "cell_type": "code",
   "execution_count": 23,
   "metadata": {},
   "outputs": [
    {
     "name": "stdout",
     "output_type": "stream",
     "text": [
      "Empty DataFrame\n",
      "Columns: [hour, temperatureC, dewpointC, pressurehPa, wind_direction_degrees, wind_speed_KMH, wind_speed_gustKMH, Humidity, hourly_precipMM, daily_rainMM, solar_radiation_Watts_m2, Generation, PredictedGeneration]\n",
      "Index: []\n"
     ]
    }
   ],
   "source": [
    "# filter rows where column1 is equal to column2\n",
    "filtered_data = TestingData.loc[TestingData['Generation'] == TestingData['PredictedGeneration']]\n",
    "\n",
    "print(filtered_data)"
   ]
  },
  {
   "cell_type": "code",
   "execution_count": 24,
   "metadata": {},
   "outputs": [
    {
     "data": {
      "text/html": [
       "<div>\n",
       "<style scoped>\n",
       "    .dataframe tbody tr th:only-of-type {\n",
       "        vertical-align: middle;\n",
       "    }\n",
       "\n",
       "    .dataframe tbody tr th {\n",
       "        vertical-align: top;\n",
       "    }\n",
       "\n",
       "    .dataframe thead th {\n",
       "        text-align: right;\n",
       "    }\n",
       "</style>\n",
       "<table border=\"1\" class=\"dataframe\">\n",
       "  <thead>\n",
       "    <tr style=\"text-align: right;\">\n",
       "      <th></th>\n",
       "      <th>hour</th>\n",
       "      <th>temperatureC</th>\n",
       "      <th>dewpointC</th>\n",
       "      <th>pressurehPa</th>\n",
       "      <th>wind_direction_degrees</th>\n",
       "      <th>wind_speed_KMH</th>\n",
       "      <th>wind_speed_gustKMH</th>\n",
       "      <th>Humidity</th>\n",
       "      <th>hourly_precipMM</th>\n",
       "      <th>daily_rainMM</th>\n",
       "      <th>solar_radiation_Watts_m2</th>\n",
       "      <th>Generation</th>\n",
       "      <th>PredictedGeneration</th>\n",
       "    </tr>\n",
       "  </thead>\n",
       "  <tbody>\n",
       "    <tr>\n",
       "      <th>0</th>\n",
       "      <td>17.0</td>\n",
       "      <td>12.0</td>\n",
       "      <td>10.0</td>\n",
       "      <td>1031.0</td>\n",
       "      <td>263.0</td>\n",
       "      <td>0.0</td>\n",
       "      <td>3.0</td>\n",
       "      <td>83.0</td>\n",
       "      <td>0.0</td>\n",
       "      <td>0.0</td>\n",
       "      <td>14.0</td>\n",
       "      <td>69.0</td>\n",
       "      <td>250.183456</td>\n",
       "    </tr>\n",
       "    <tr>\n",
       "      <th>1</th>\n",
       "      <td>15.0</td>\n",
       "      <td>25.0</td>\n",
       "      <td>18.0</td>\n",
       "      <td>1019.0</td>\n",
       "      <td>294.0</td>\n",
       "      <td>4.0</td>\n",
       "      <td>14.0</td>\n",
       "      <td>63.0</td>\n",
       "      <td>0.0</td>\n",
       "      <td>0.0</td>\n",
       "      <td>635.0</td>\n",
       "      <td>401.0</td>\n",
       "      <td>2281.578369</td>\n",
       "    </tr>\n",
       "    <tr>\n",
       "      <th>2</th>\n",
       "      <td>6.0</td>\n",
       "      <td>14.0</td>\n",
       "      <td>13.0</td>\n",
       "      <td>1026.0</td>\n",
       "      <td>206.0</td>\n",
       "      <td>10.0</td>\n",
       "      <td>17.0</td>\n",
       "      <td>97.0</td>\n",
       "      <td>0.0</td>\n",
       "      <td>0.0</td>\n",
       "      <td>0.0</td>\n",
       "      <td>0.0</td>\n",
       "      <td>68.535927</td>\n",
       "    </tr>\n",
       "    <tr>\n",
       "      <th>3</th>\n",
       "      <td>5.0</td>\n",
       "      <td>17.0</td>\n",
       "      <td>16.0</td>\n",
       "      <td>1018.0</td>\n",
       "      <td>263.0</td>\n",
       "      <td>0.0</td>\n",
       "      <td>0.0</td>\n",
       "      <td>91.0</td>\n",
       "      <td>0.0</td>\n",
       "      <td>0.0</td>\n",
       "      <td>0.0</td>\n",
       "      <td>0.0</td>\n",
       "      <td>67.197304</td>\n",
       "    </tr>\n",
       "    <tr>\n",
       "      <th>4</th>\n",
       "      <td>14.0</td>\n",
       "      <td>9.0</td>\n",
       "      <td>-2.0</td>\n",
       "      <td>1019.0</td>\n",
       "      <td>348.0</td>\n",
       "      <td>0.0</td>\n",
       "      <td>1.0</td>\n",
       "      <td>45.0</td>\n",
       "      <td>0.0</td>\n",
       "      <td>0.0</td>\n",
       "      <td>352.0</td>\n",
       "      <td>1297.0</td>\n",
       "      <td>1836.871826</td>\n",
       "    </tr>\n",
       "    <tr>\n",
       "      <th>...</th>\n",
       "      <td>...</td>\n",
       "      <td>...</td>\n",
       "      <td>...</td>\n",
       "      <td>...</td>\n",
       "      <td>...</td>\n",
       "      <td>...</td>\n",
       "      <td>...</td>\n",
       "      <td>...</td>\n",
       "      <td>...</td>\n",
       "      <td>...</td>\n",
       "      <td>...</td>\n",
       "      <td>...</td>\n",
       "      <td>...</td>\n",
       "    </tr>\n",
       "    <tr>\n",
       "      <th>5816</th>\n",
       "      <td>9.0</td>\n",
       "      <td>16.0</td>\n",
       "      <td>8.0</td>\n",
       "      <td>1020.0</td>\n",
       "      <td>122.0</td>\n",
       "      <td>3.0</td>\n",
       "      <td>11.0</td>\n",
       "      <td>60.0</td>\n",
       "      <td>0.0</td>\n",
       "      <td>0.0</td>\n",
       "      <td>192.0</td>\n",
       "      <td>202.0</td>\n",
       "      <td>621.317383</td>\n",
       "    </tr>\n",
       "    <tr>\n",
       "      <th>5817</th>\n",
       "      <td>12.0</td>\n",
       "      <td>21.0</td>\n",
       "      <td>17.0</td>\n",
       "      <td>1015.0</td>\n",
       "      <td>265.0</td>\n",
       "      <td>12.0</td>\n",
       "      <td>17.0</td>\n",
       "      <td>77.0</td>\n",
       "      <td>0.0</td>\n",
       "      <td>0.0</td>\n",
       "      <td>791.0</td>\n",
       "      <td>4937.0</td>\n",
       "      <td>4886.517090</td>\n",
       "    </tr>\n",
       "    <tr>\n",
       "      <th>5818</th>\n",
       "      <td>4.0</td>\n",
       "      <td>17.0</td>\n",
       "      <td>16.0</td>\n",
       "      <td>1020.0</td>\n",
       "      <td>321.0</td>\n",
       "      <td>0.0</td>\n",
       "      <td>4.0</td>\n",
       "      <td>95.0</td>\n",
       "      <td>0.0</td>\n",
       "      <td>0.0</td>\n",
       "      <td>0.0</td>\n",
       "      <td>0.0</td>\n",
       "      <td>33.435707</td>\n",
       "    </tr>\n",
       "    <tr>\n",
       "      <th>5819</th>\n",
       "      <td>11.0</td>\n",
       "      <td>13.0</td>\n",
       "      <td>8.0</td>\n",
       "      <td>1026.0</td>\n",
       "      <td>327.0</td>\n",
       "      <td>9.0</td>\n",
       "      <td>16.0</td>\n",
       "      <td>75.0</td>\n",
       "      <td>0.0</td>\n",
       "      <td>0.0</td>\n",
       "      <td>522.0</td>\n",
       "      <td>3114.0</td>\n",
       "      <td>3256.887207</td>\n",
       "    </tr>\n",
       "    <tr>\n",
       "      <th>5820</th>\n",
       "      <td>4.0</td>\n",
       "      <td>14.0</td>\n",
       "      <td>12.0</td>\n",
       "      <td>1012.0</td>\n",
       "      <td>140.0</td>\n",
       "      <td>0.0</td>\n",
       "      <td>0.0</td>\n",
       "      <td>85.0</td>\n",
       "      <td>0.0</td>\n",
       "      <td>0.0</td>\n",
       "      <td>0.0</td>\n",
       "      <td>0.0</td>\n",
       "      <td>1.262856</td>\n",
       "    </tr>\n",
       "  </tbody>\n",
       "</table>\n",
       "<p>5821 rows × 13 columns</p>\n",
       "</div>"
      ],
      "text/plain": [
       "      hour  temperatureC  dewpointC  pressurehPa  wind_direction_degrees  \\\n",
       "0     17.0          12.0       10.0       1031.0                   263.0   \n",
       "1     15.0          25.0       18.0       1019.0                   294.0   \n",
       "2      6.0          14.0       13.0       1026.0                   206.0   \n",
       "3      5.0          17.0       16.0       1018.0                   263.0   \n",
       "4     14.0           9.0       -2.0       1019.0                   348.0   \n",
       "...    ...           ...        ...          ...                     ...   \n",
       "5816   9.0          16.0        8.0       1020.0                   122.0   \n",
       "5817  12.0          21.0       17.0       1015.0                   265.0   \n",
       "5818   4.0          17.0       16.0       1020.0                   321.0   \n",
       "5819  11.0          13.0        8.0       1026.0                   327.0   \n",
       "5820   4.0          14.0       12.0       1012.0                   140.0   \n",
       "\n",
       "      wind_speed_KMH  wind_speed_gustKMH  Humidity  hourly_precipMM  \\\n",
       "0                0.0                 3.0      83.0              0.0   \n",
       "1                4.0                14.0      63.0              0.0   \n",
       "2               10.0                17.0      97.0              0.0   \n",
       "3                0.0                 0.0      91.0              0.0   \n",
       "4                0.0                 1.0      45.0              0.0   \n",
       "...              ...                 ...       ...              ...   \n",
       "5816             3.0                11.0      60.0              0.0   \n",
       "5817            12.0                17.0      77.0              0.0   \n",
       "5818             0.0                 4.0      95.0              0.0   \n",
       "5819             9.0                16.0      75.0              0.0   \n",
       "5820             0.0                 0.0      85.0              0.0   \n",
       "\n",
       "      daily_rainMM  solar_radiation_Watts_m2  Generation  PredictedGeneration  \n",
       "0              0.0                      14.0        69.0           250.183456  \n",
       "1              0.0                     635.0       401.0          2281.578369  \n",
       "2              0.0                       0.0         0.0            68.535927  \n",
       "3              0.0                       0.0         0.0            67.197304  \n",
       "4              0.0                     352.0      1297.0          1836.871826  \n",
       "...            ...                       ...         ...                  ...  \n",
       "5816           0.0                     192.0       202.0           621.317383  \n",
       "5817           0.0                     791.0      4937.0          4886.517090  \n",
       "5818           0.0                       0.0         0.0            33.435707  \n",
       "5819           0.0                     522.0      3114.0          3256.887207  \n",
       "5820           0.0                       0.0         0.0             1.262856  \n",
       "\n",
       "[5821 rows x 13 columns]"
      ]
     },
     "execution_count": 24,
     "metadata": {},
     "output_type": "execute_result"
    }
   ],
   "source": [
    "TestingData"
   ]
  }
 ],
 "metadata": {
  "kernelspec": {
   "display_name": "Python 3",
   "language": "python",
   "name": "python3"
  },
  "language_info": {
   "codemirror_mode": {
    "name": "ipython",
    "version": 3
   },
   "file_extension": ".py",
   "mimetype": "text/x-python",
   "name": "python",
   "nbconvert_exporter": "python",
   "pygments_lexer": "ipython3",
   "version": "3.10.5"
  },
  "orig_nbformat": 4,
  "vscode": {
   "interpreter": {
    "hash": "5722daad9755055b013a651651e76bfefcd0039befef69efb03fa00fbea6a530"
   }
  }
 },
 "nbformat": 4,
 "nbformat_minor": 2
}
