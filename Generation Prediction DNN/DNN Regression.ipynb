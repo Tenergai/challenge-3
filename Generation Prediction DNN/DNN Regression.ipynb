{
 "cells": [
  {
   "attachments": {},
   "cell_type": "markdown",
   "metadata": {},
   "source": [
    "# Prepare Data"
   ]
  },
  {
   "cell_type": "code",
   "execution_count": 1,
   "metadata": {},
   "outputs": [],
   "source": [
    "#from https://thinkingneuron.com/using-artificial-neural-networks-for-regression-in-python/\n",
    "\n",
    "import pandas as pd\n",
    "import seaborn as sns\n",
    "from sklearn.neural_network import MLPRegressor\n",
    "import itertools\n",
    "from sklearn.model_selection import cross_validate, RandomizedSearchCV, train_test_split\n",
    "from sklearn.metrics import balanced_accuracy_score, confusion_matrix\n",
    "import pickle\n",
    "df = pd.read_csv(\"../PreProcessamentoDados/cleanedData.csv\")"
   ]
  },
  {
   "cell_type": "code",
   "execution_count": 2,
   "metadata": {},
   "outputs": [],
   "source": [
    "df[['Hour','Minute','Second']] = df.DateTime.str.split(\":\",expand=True)"
   ]
  },
  {
   "cell_type": "code",
   "execution_count": 3,
   "metadata": {},
   "outputs": [],
   "source": [
    "# define a dictionary of column names and their corresponding data types\n",
    "dtypes_dict = {'Hour': float, 'Minute': float}\n",
    "\n",
    "# convert the columns to their corresponding data types\n",
    "df = df.astype(dtypes_dict)"
   ]
  },
  {
   "cell_type": "code",
   "execution_count": null,
   "metadata": {},
   "outputs": [],
   "source": [
    "df.dtypes"
   ]
  },
  {
   "cell_type": "code",
   "execution_count": 64,
   "metadata": {},
   "outputs": [
    {
     "data": {
      "text/html": [
       "<div>\n",
       "<style scoped>\n",
       "    .dataframe tbody tr th:only-of-type {\n",
       "        vertical-align: middle;\n",
       "    }\n",
       "\n",
       "    .dataframe tbody tr th {\n",
       "        vertical-align: top;\n",
       "    }\n",
       "\n",
       "    .dataframe thead th {\n",
       "        text-align: right;\n",
       "    }\n",
       "</style>\n",
       "<table border=\"1\" class=\"dataframe\">\n",
       "  <thead>\n",
       "    <tr style=\"text-align: right;\">\n",
       "      <th></th>\n",
       "      <th>DateTime</th>\n",
       "      <th>Generated power</th>\n",
       "      <th>TemperatureC</th>\n",
       "      <th>DewpointC</th>\n",
       "      <th>PressurehPa</th>\n",
       "      <th>WindDirectionDegrees</th>\n",
       "      <th>WindSpeedKMH</th>\n",
       "      <th>WindSpeedGustKMH</th>\n",
       "      <th>Humidity</th>\n",
       "      <th>HourlyPrecipMM</th>\n",
       "      <th>dailyrainMM</th>\n",
       "      <th>SolarRadiationWatts_m2</th>\n",
       "      <th>Hour</th>\n",
       "      <th>Minute</th>\n",
       "      <th>Second</th>\n",
       "    </tr>\n",
       "  </thead>\n",
       "  <tbody>\n",
       "    <tr>\n",
       "      <th>0</th>\n",
       "      <td>00:15:00</td>\n",
       "      <td>0.0</td>\n",
       "      <td>11.0</td>\n",
       "      <td>8.0</td>\n",
       "      <td>1021.0</td>\n",
       "      <td>128.333333</td>\n",
       "      <td>8.666667</td>\n",
       "      <td>17.000000</td>\n",
       "      <td>83.000000</td>\n",
       "      <td>0.0</td>\n",
       "      <td>0.0</td>\n",
       "      <td>0.0</td>\n",
       "      <td>0.0</td>\n",
       "      <td>15.0</td>\n",
       "      <td>00</td>\n",
       "    </tr>\n",
       "    <tr>\n",
       "      <th>1</th>\n",
       "      <td>00:30:00</td>\n",
       "      <td>0.0</td>\n",
       "      <td>11.0</td>\n",
       "      <td>8.0</td>\n",
       "      <td>1021.0</td>\n",
       "      <td>133.333333</td>\n",
       "      <td>1.333333</td>\n",
       "      <td>19.000000</td>\n",
       "      <td>83.000000</td>\n",
       "      <td>0.0</td>\n",
       "      <td>0.0</td>\n",
       "      <td>0.0</td>\n",
       "      <td>0.0</td>\n",
       "      <td>30.0</td>\n",
       "      <td>00</td>\n",
       "    </tr>\n",
       "    <tr>\n",
       "      <th>2</th>\n",
       "      <td>00:45:00</td>\n",
       "      <td>0.0</td>\n",
       "      <td>11.0</td>\n",
       "      <td>8.0</td>\n",
       "      <td>1021.0</td>\n",
       "      <td>127.666667</td>\n",
       "      <td>3.000000</td>\n",
       "      <td>12.333333</td>\n",
       "      <td>82.333333</td>\n",
       "      <td>0.0</td>\n",
       "      <td>0.0</td>\n",
       "      <td>0.0</td>\n",
       "      <td>0.0</td>\n",
       "      <td>45.0</td>\n",
       "      <td>00</td>\n",
       "    </tr>\n",
       "    <tr>\n",
       "      <th>3</th>\n",
       "      <td>01:00:00</td>\n",
       "      <td>0.0</td>\n",
       "      <td>11.0</td>\n",
       "      <td>8.0</td>\n",
       "      <td>1021.0</td>\n",
       "      <td>128.000000</td>\n",
       "      <td>1.333333</td>\n",
       "      <td>10.000000</td>\n",
       "      <td>81.000000</td>\n",
       "      <td>0.0</td>\n",
       "      <td>0.0</td>\n",
       "      <td>0.0</td>\n",
       "      <td>1.0</td>\n",
       "      <td>0.0</td>\n",
       "      <td>00</td>\n",
       "    </tr>\n",
       "    <tr>\n",
       "      <th>4</th>\n",
       "      <td>01:15:00</td>\n",
       "      <td>0.0</td>\n",
       "      <td>11.0</td>\n",
       "      <td>8.0</td>\n",
       "      <td>1021.0</td>\n",
       "      <td>130.000000</td>\n",
       "      <td>2.666667</td>\n",
       "      <td>11.000000</td>\n",
       "      <td>80.666667</td>\n",
       "      <td>0.0</td>\n",
       "      <td>0.0</td>\n",
       "      <td>0.0</td>\n",
       "      <td>1.0</td>\n",
       "      <td>15.0</td>\n",
       "      <td>00</td>\n",
       "    </tr>\n",
       "  </tbody>\n",
       "</table>\n",
       "</div>"
      ],
      "text/plain": [
       "   DateTime  Generated power  TemperatureC  DewpointC  PressurehPa  \\\n",
       "0  00:15:00              0.0          11.0        8.0       1021.0   \n",
       "1  00:30:00              0.0          11.0        8.0       1021.0   \n",
       "2  00:45:00              0.0          11.0        8.0       1021.0   \n",
       "3  01:00:00              0.0          11.0        8.0       1021.0   \n",
       "4  01:15:00              0.0          11.0        8.0       1021.0   \n",
       "\n",
       "   WindDirectionDegrees  WindSpeedKMH  WindSpeedGustKMH   Humidity  \\\n",
       "0            128.333333      8.666667         17.000000  83.000000   \n",
       "1            133.333333      1.333333         19.000000  83.000000   \n",
       "2            127.666667      3.000000         12.333333  82.333333   \n",
       "3            128.000000      1.333333         10.000000  81.000000   \n",
       "4            130.000000      2.666667         11.000000  80.666667   \n",
       "\n",
       "   HourlyPrecipMM  dailyrainMM  SolarRadiationWatts_m2  Hour  Minute Second  \n",
       "0             0.0          0.0                     0.0   0.0    15.0     00  \n",
       "1             0.0          0.0                     0.0   0.0    30.0     00  \n",
       "2             0.0          0.0                     0.0   0.0    45.0     00  \n",
       "3             0.0          0.0                     0.0   1.0     0.0     00  \n",
       "4             0.0          0.0                     0.0   1.0    15.0     00  "
      ]
     },
     "execution_count": 64,
     "metadata": {},
     "output_type": "execute_result"
    }
   ],
   "source": [
    "df.head()"
   ]
  },
  {
   "cell_type": "code",
   "execution_count": 4,
   "metadata": {},
   "outputs": [],
   "source": [
    "# Separate Target Variable and Predictor Variables\n",
    "TargetVariable = [\"Generated power\"]\n",
    "Predictors= [\"Hour\",\"Minute\",\"TemperatureC\",\"DewpointC\",\"PressurehPa\",\"WindDirectionDegrees\",\"WindSpeedKMH\",\"WindSpeedGustKMH\",\"Humidity\",\"HourlyPrecipMM\",\"dailyrainMM\",\"SolarRadiationWatts_m2\"]\n",
    "df_x = df[Predictors]\n",
    "df_y = df[TargetVariable]\n",
    "X=df[Predictors].values\n",
    "y=df[TargetVariable].values"
   ]
  },
  {
   "cell_type": "code",
   "execution_count": 8,
   "metadata": {},
   "outputs": [
    {
     "data": {
      "text/html": [
       "<div>\n",
       "<style scoped>\n",
       "    .dataframe tbody tr th:only-of-type {\n",
       "        vertical-align: middle;\n",
       "    }\n",
       "\n",
       "    .dataframe tbody tr th {\n",
       "        vertical-align: top;\n",
       "    }\n",
       "\n",
       "    .dataframe thead th {\n",
       "        text-align: right;\n",
       "    }\n",
       "</style>\n",
       "<table border=\"1\" class=\"dataframe\">\n",
       "  <thead>\n",
       "    <tr style=\"text-align: right;\">\n",
       "      <th></th>\n",
       "      <th>Hour</th>\n",
       "      <th>Minute</th>\n",
       "      <th>TemperatureC</th>\n",
       "      <th>DewpointC</th>\n",
       "      <th>PressurehPa</th>\n",
       "      <th>WindDirectionDegrees</th>\n",
       "      <th>WindSpeedKMH</th>\n",
       "      <th>WindSpeedGustKMH</th>\n",
       "      <th>Humidity</th>\n",
       "      <th>HourlyPrecipMM</th>\n",
       "      <th>dailyrainMM</th>\n",
       "      <th>SolarRadiationWatts_m2</th>\n",
       "    </tr>\n",
       "  </thead>\n",
       "  <tbody>\n",
       "    <tr>\n",
       "      <th>0</th>\n",
       "      <td>0.0</td>\n",
       "      <td>15.0</td>\n",
       "      <td>11.000000</td>\n",
       "      <td>8.000000</td>\n",
       "      <td>1021.0</td>\n",
       "      <td>128.333333</td>\n",
       "      <td>8.666667</td>\n",
       "      <td>17.000000</td>\n",
       "      <td>83.000000</td>\n",
       "      <td>0.0</td>\n",
       "      <td>0.0</td>\n",
       "      <td>0.0</td>\n",
       "    </tr>\n",
       "    <tr>\n",
       "      <th>1</th>\n",
       "      <td>0.0</td>\n",
       "      <td>30.0</td>\n",
       "      <td>11.000000</td>\n",
       "      <td>8.000000</td>\n",
       "      <td>1021.0</td>\n",
       "      <td>133.333333</td>\n",
       "      <td>1.333333</td>\n",
       "      <td>19.000000</td>\n",
       "      <td>83.000000</td>\n",
       "      <td>0.0</td>\n",
       "      <td>0.0</td>\n",
       "      <td>0.0</td>\n",
       "    </tr>\n",
       "    <tr>\n",
       "      <th>2</th>\n",
       "      <td>0.0</td>\n",
       "      <td>45.0</td>\n",
       "      <td>11.000000</td>\n",
       "      <td>8.000000</td>\n",
       "      <td>1021.0</td>\n",
       "      <td>127.666667</td>\n",
       "      <td>3.000000</td>\n",
       "      <td>12.333333</td>\n",
       "      <td>82.333333</td>\n",
       "      <td>0.0</td>\n",
       "      <td>0.0</td>\n",
       "      <td>0.0</td>\n",
       "    </tr>\n",
       "    <tr>\n",
       "      <th>3</th>\n",
       "      <td>1.0</td>\n",
       "      <td>0.0</td>\n",
       "      <td>11.000000</td>\n",
       "      <td>8.000000</td>\n",
       "      <td>1021.0</td>\n",
       "      <td>128.000000</td>\n",
       "      <td>1.333333</td>\n",
       "      <td>10.000000</td>\n",
       "      <td>81.000000</td>\n",
       "      <td>0.0</td>\n",
       "      <td>0.0</td>\n",
       "      <td>0.0</td>\n",
       "    </tr>\n",
       "    <tr>\n",
       "      <th>4</th>\n",
       "      <td>1.0</td>\n",
       "      <td>15.0</td>\n",
       "      <td>11.000000</td>\n",
       "      <td>8.000000</td>\n",
       "      <td>1021.0</td>\n",
       "      <td>130.000000</td>\n",
       "      <td>2.666667</td>\n",
       "      <td>11.000000</td>\n",
       "      <td>80.666667</td>\n",
       "      <td>0.0</td>\n",
       "      <td>0.0</td>\n",
       "      <td>0.0</td>\n",
       "    </tr>\n",
       "    <tr>\n",
       "      <th>...</th>\n",
       "      <td>...</td>\n",
       "      <td>...</td>\n",
       "      <td>...</td>\n",
       "      <td>...</td>\n",
       "      <td>...</td>\n",
       "      <td>...</td>\n",
       "      <td>...</td>\n",
       "      <td>...</td>\n",
       "      <td>...</td>\n",
       "      <td>...</td>\n",
       "      <td>...</td>\n",
       "      <td>...</td>\n",
       "    </tr>\n",
       "    <tr>\n",
       "      <th>63354</th>\n",
       "      <td>22.0</td>\n",
       "      <td>45.0</td>\n",
       "      <td>9.333333</td>\n",
       "      <td>5.000000</td>\n",
       "      <td>1030.0</td>\n",
       "      <td>135.000000</td>\n",
       "      <td>1.666667</td>\n",
       "      <td>3.333333</td>\n",
       "      <td>74.000000</td>\n",
       "      <td>0.0</td>\n",
       "      <td>0.0</td>\n",
       "      <td>0.0</td>\n",
       "    </tr>\n",
       "    <tr>\n",
       "      <th>63355</th>\n",
       "      <td>23.0</td>\n",
       "      <td>0.0</td>\n",
       "      <td>9.000000</td>\n",
       "      <td>5.000000</td>\n",
       "      <td>1030.0</td>\n",
       "      <td>135.000000</td>\n",
       "      <td>3.000000</td>\n",
       "      <td>3.666667</td>\n",
       "      <td>74.000000</td>\n",
       "      <td>0.0</td>\n",
       "      <td>0.0</td>\n",
       "      <td>0.0</td>\n",
       "    </tr>\n",
       "    <tr>\n",
       "      <th>63356</th>\n",
       "      <td>23.0</td>\n",
       "      <td>15.0</td>\n",
       "      <td>9.000000</td>\n",
       "      <td>5.000000</td>\n",
       "      <td>1030.0</td>\n",
       "      <td>135.000000</td>\n",
       "      <td>2.666667</td>\n",
       "      <td>4.000000</td>\n",
       "      <td>74.000000</td>\n",
       "      <td>0.0</td>\n",
       "      <td>0.0</td>\n",
       "      <td>0.0</td>\n",
       "    </tr>\n",
       "    <tr>\n",
       "      <th>63357</th>\n",
       "      <td>23.0</td>\n",
       "      <td>30.0</td>\n",
       "      <td>8.666667</td>\n",
       "      <td>5.000000</td>\n",
       "      <td>1030.0</td>\n",
       "      <td>132.000000</td>\n",
       "      <td>6.000000</td>\n",
       "      <td>5.333333</td>\n",
       "      <td>75.000000</td>\n",
       "      <td>0.0</td>\n",
       "      <td>0.0</td>\n",
       "      <td>0.0</td>\n",
       "    </tr>\n",
       "    <tr>\n",
       "      <th>63358</th>\n",
       "      <td>23.0</td>\n",
       "      <td>45.0</td>\n",
       "      <td>8.333333</td>\n",
       "      <td>4.666667</td>\n",
       "      <td>1030.0</td>\n",
       "      <td>134.666667</td>\n",
       "      <td>3.000000</td>\n",
       "      <td>8.333333</td>\n",
       "      <td>75.000000</td>\n",
       "      <td>0.0</td>\n",
       "      <td>0.0</td>\n",
       "      <td>0.0</td>\n",
       "    </tr>\n",
       "  </tbody>\n",
       "</table>\n",
       "<p>63359 rows × 12 columns</p>\n",
       "</div>"
      ],
      "text/plain": [
       "       Hour  Minute  TemperatureC  DewpointC  PressurehPa  \\\n",
       "0       0.0    15.0     11.000000   8.000000       1021.0   \n",
       "1       0.0    30.0     11.000000   8.000000       1021.0   \n",
       "2       0.0    45.0     11.000000   8.000000       1021.0   \n",
       "3       1.0     0.0     11.000000   8.000000       1021.0   \n",
       "4       1.0    15.0     11.000000   8.000000       1021.0   \n",
       "...     ...     ...           ...        ...          ...   \n",
       "63354  22.0    45.0      9.333333   5.000000       1030.0   \n",
       "63355  23.0     0.0      9.000000   5.000000       1030.0   \n",
       "63356  23.0    15.0      9.000000   5.000000       1030.0   \n",
       "63357  23.0    30.0      8.666667   5.000000       1030.0   \n",
       "63358  23.0    45.0      8.333333   4.666667       1030.0   \n",
       "\n",
       "       WindDirectionDegrees  WindSpeedKMH  WindSpeedGustKMH   Humidity  \\\n",
       "0                128.333333      8.666667         17.000000  83.000000   \n",
       "1                133.333333      1.333333         19.000000  83.000000   \n",
       "2                127.666667      3.000000         12.333333  82.333333   \n",
       "3                128.000000      1.333333         10.000000  81.000000   \n",
       "4                130.000000      2.666667         11.000000  80.666667   \n",
       "...                     ...           ...               ...        ...   \n",
       "63354            135.000000      1.666667          3.333333  74.000000   \n",
       "63355            135.000000      3.000000          3.666667  74.000000   \n",
       "63356            135.000000      2.666667          4.000000  74.000000   \n",
       "63357            132.000000      6.000000          5.333333  75.000000   \n",
       "63358            134.666667      3.000000          8.333333  75.000000   \n",
       "\n",
       "       HourlyPrecipMM  dailyrainMM  SolarRadiationWatts_m2  \n",
       "0                 0.0          0.0                     0.0  \n",
       "1                 0.0          0.0                     0.0  \n",
       "2                 0.0          0.0                     0.0  \n",
       "3                 0.0          0.0                     0.0  \n",
       "4                 0.0          0.0                     0.0  \n",
       "...               ...          ...                     ...  \n",
       "63354             0.0          0.0                     0.0  \n",
       "63355             0.0          0.0                     0.0  \n",
       "63356             0.0          0.0                     0.0  \n",
       "63357             0.0          0.0                     0.0  \n",
       "63358             0.0          0.0                     0.0  \n",
       "\n",
       "[63359 rows x 12 columns]"
      ]
     },
     "execution_count": 8,
     "metadata": {},
     "output_type": "execute_result"
    }
   ],
   "source": [
    "df_x"
   ]
  },
  {
   "attachments": {},
   "cell_type": "markdown",
   "metadata": {},
   "source": [
    "## Use one standardization"
   ]
  },
  {
   "attachments": {},
   "cell_type": "markdown",
   "metadata": {},
   "source": [
    "### Standard Scaler"
   ]
  },
  {
   "cell_type": "code",
   "execution_count": 5,
   "metadata": {},
   "outputs": [],
   "source": [
    "### Standardization of data ###\n",
    "from sklearn.preprocessing import StandardScaler\n",
    "PredictorScaler=StandardScaler()\n",
    "TargetVarScaler=StandardScaler()\n",
    " \n",
    "# Storing the fit object for later reference\n",
    "PredictorScalerFit=PredictorScaler.fit(X)\n",
    "TargetVarScalerFit=TargetVarScaler.fit(y)\n"
   ]
  },
  {
   "attachments": {},
   "cell_type": "markdown",
   "metadata": {},
   "source": [
    "### MinMaxScaler"
   ]
  },
  {
   "cell_type": "code",
   "execution_count": 18,
   "metadata": {},
   "outputs": [],
   "source": [
    "### Standardization of data ###\n",
    "from sklearn.preprocessing import MinMaxScaler\n",
    "PredictorScaler=MinMaxScaler()\n",
    "TargetVarScaler=MinMaxScaler()\n",
    " \n",
    "# Storing the fit object for later reference\n",
    "PredictorScalerFit=PredictorScaler.fit(X)\n",
    "TargetVarScalerFit=TargetVarScaler.fit(y)\n"
   ]
  },
  {
   "cell_type": "code",
   "execution_count": 6,
   "metadata": {},
   "outputs": [],
   "source": [
    "# Generating the standardized values of X and y\n",
    "original_X = X\n",
    "original_y = y\n",
    "\n",
    "X=PredictorScalerFit.transform(X)\n",
    "y=TargetVarScalerFit.transform(y)\n",
    " "
   ]
  },
  {
   "cell_type": "code",
   "execution_count": 7,
   "metadata": {},
   "outputs": [],
   "source": [
    "# Split the data into training and testing set\n",
    "from sklearn.model_selection import train_test_split\n",
    "X_train, X_test, y_train, y_test = train_test_split(X, y, test_size=0.3, random_state=42)"
   ]
  },
  {
   "cell_type": "code",
   "execution_count": 8,
   "metadata": {},
   "outputs": [
    {
     "name": "stdout",
     "output_type": "stream",
     "text": [
      "(44351, 12)\n",
      "(44351, 1)\n",
      "(19008, 12)\n",
      "(19008, 1)\n"
     ]
    }
   ],
   "source": [
    "# Quick sanity check with the shapes of Training and testing datasets\n",
    "print(X_train.shape)\n",
    "print(y_train.shape)\n",
    "print(X_test.shape)\n",
    "print(y_test.shape)"
   ]
  },
  {
   "cell_type": "code",
   "execution_count": 32,
   "metadata": {},
   "outputs": [],
   "source": [
    "from keras.models import Sequential\n",
    "from keras.layers import Dense\n",
    " \n",
    "# create ANN model\n",
    "model = Sequential()\n",
    " \n",
    "# Defining the Input layer and FIRST hidden layer, both are same!\n",
    "model.add(Dense(units=5, input_dim=X_train.shape[1], kernel_initializer='normal', activation='relu'))\n",
    " \n",
    "# Defining the Second layer of the model\n",
    "# after the first layer we don't have to specify input_dim as keras configure it automatically\n",
    "model.add(Dense(units=10, kernel_initializer='normal', activation='tanh'))\n",
    "model.add(Dense(units=10, kernel_initializer='normal', activation='tanh'))\n",
    "# model.add(Dense(units=5, kernel_initializer='normal', activation='tanh'))\n",
    "\n",
    " \n",
    "# The output neuron is a single fully connected node \n",
    "# Since we will be predicting a single number\n",
    "model.add(Dense(1, kernel_initializer='normal'))"
   ]
  },
  {
   "cell_type": "code",
   "execution_count": 33,
   "metadata": {},
   "outputs": [],
   "source": [
    "\n",
    "# Compiling the model\n",
    "model.compile(loss='mean_squared_error', optimizer='adam',metrics=['mean_absolute_error'])"
   ]
  },
  {
   "cell_type": "code",
   "execution_count": null,
   "metadata": {},
   "outputs": [],
   "source": [
    "# Fitting the ANN to the Training set\n",
    "model.fit(X_train, y_train ,batch_size = 20, epochs = 50, verbose=1)"
   ]
  },
  {
   "attachments": {},
   "cell_type": "markdown",
   "metadata": {},
   "source": [
    "# Hyperparameter tuning of ANN\n"
   ]
  },
  {
   "attachments": {},
   "cell_type": "markdown",
   "metadata": {},
   "source": [
    "# Finding best set of parameters using manual grid search\n"
   ]
  },
  {
   "cell_type": "code",
   "execution_count": null,
   "metadata": {},
   "outputs": [],
   "source": [
    "import numpy as np\n",
    "\n",
    "# Defining a function to find the best parameters for ANN\n",
    "def FunctionFindBestParams(X_train, y_train, X_test, y_test):\n",
    "    \n",
    "    # Defining the list of hyper parameters to try\n",
    "    batch_size_list=[5, 10, 15, 20]\n",
    "    epoch_list  =   [5, 10, 50, 100]\n",
    "    \n",
    "    import pandas as pd\n",
    "    SearchResultsData=pd.DataFrame(columns=['TrialNumber', 'Parameters', 'Accuracy'])\n",
    "    \n",
    "    # initializing the trials\n",
    "    TrialNumber=0\n",
    "    for batch_size_trial in batch_size_list:\n",
    "        for epochs_trial in epoch_list:\n",
    "            TrialNumber+=1\n",
    "            # create ANN model\n",
    "            model = Sequential()\n",
    "            # Defining the first layer of the model\n",
    "            model.add(Dense(units=5, input_dim=X_train.shape[1], kernel_initializer='normal', activation='relu'))\n",
    "\n",
    "            # Defining the Second layer of the model\n",
    "            model.add(Dense(units=5, kernel_initializer='normal', activation='relu'))\n",
    "\n",
    "            # The output neuron is a single fully connected node \n",
    "            # Since we will be predicting a single number\n",
    "            model.add(Dense(1, kernel_initializer='normal'))\n",
    "\n",
    "            # Compiling the model\n",
    "            model.compile(loss='mean_squared_error', optimizer='adam',metrics=['mean_absolute_error'])\n",
    "\n",
    "            # Fitting the ANN to the Training set\n",
    "            model.fit(X_train, y_train ,batch_size = batch_size_trial, epochs = epochs_trial, verbose=1)\n",
    "\n",
    "            mean_squared_error, mean_absolute_error = model.evaluate(X_test,y_test)\n",
    "\n",
    "            # print(\"y_test: \",y_test)\n",
    "            predictions = model.predict(X_test)\n",
    "            # print(\"model.predict(X_test)\",predictions)\n",
    "            MAPE = np.mean(100 * (np.abs(y_test-predictions)/y_test))\n",
    "            \n",
    "            # printing the results of the current iteration\n",
    "            print(TrialNumber, 'Parameters:','batch_size:', batch_size_trial,'-', 'epochs:',epochs_trial, 'MAPE:',MAPE,'Accuracy:', 100-MAPE,'mean_squared_error: ',mean_squared_error,\n",
    "                  'mean_absolute_error: ',mean_absolute_error)\n",
    "            \n",
    "            SearchResultsData=SearchResultsData.append(pd.DataFrame(data=[[TrialNumber, str(batch_size_trial)+'-'+str(epochs_trial), 100-MAPE,mean_squared_error,mean_absolute_error]],\n",
    "                                                                    columns=['TrialNumber', 'Parameters', 'Accuracy','mean_squared_error','mean_absolute_error'] ))\n",
    "    return(SearchResultsData)\n",
    "\n",
    "\n",
    "######################################################\n",
    "# Calling the function\n",
    "ResultsData=FunctionFindBestParams(X_train, y_train, X_test, y_test)"
   ]
  },
  {
   "cell_type": "code",
   "execution_count": null,
   "metadata": {},
   "outputs": [],
   "source": [
    "ResultsData"
   ]
  },
  {
   "cell_type": "code",
   "execution_count": null,
   "metadata": {},
   "outputs": [],
   "source": [
    "%matplotlib inline\n",
    "ResultsData.plot(x='Parameters', y='mean_squared_error',figsize=(15,4), kind='line')"
   ]
  },
  {
   "cell_type": "code",
   "execution_count": null,
   "metadata": {},
   "outputs": [],
   "source": [
    "%matplotlib inline\n",
    "ResultsData.plot(x='Parameters', y='mean_absolute_error',figsize=(15,4), kind='line')"
   ]
  },
  {
   "cell_type": "code",
   "execution_count": null,
   "metadata": {},
   "outputs": [],
   "source": [
    "%matplotlib inline\n",
    "ResultsData.plot(x='Parameters', y='Accuracy', figsize=(15,4), kind='line')"
   ]
  },
  {
   "cell_type": "code",
   "execution_count": null,
   "metadata": {},
   "outputs": [],
   "source": [
    "\n",
    "# importing package\n",
    "import matplotlib.pyplot as plt\n",
    "import numpy as np\n",
    "\n",
    "x = ResultsData[\"Parameters\"]  \n",
    "\n",
    "# plot lines\n",
    "plt.plot(x, ResultsData[\"mean_squared_error\"], label = \"mean squared\")\n",
    "plt.plot(ResultsData[\"Parameters\"], ResultsData[\"mean_absolute_error\"], label = \"mean absolute\")\n",
    "plt.legend()\n",
    "plt.show()"
   ]
  },
  {
   "attachments": {},
   "cell_type": "markdown",
   "metadata": {},
   "source": [
    "#### Results Data to CSV"
   ]
  },
  {
   "cell_type": "code",
   "execution_count": null,
   "metadata": {},
   "outputs": [],
   "source": [
    "ResultsData.to_csv('ResultsData.csv', index=False)"
   ]
  },
  {
   "attachments": {},
   "cell_type": "markdown",
   "metadata": {},
   "source": [
    "#### Load Results Data"
   ]
  },
  {
   "cell_type": "code",
   "execution_count": null,
   "metadata": {},
   "outputs": [],
   "source": [
    "import pandas as pd\n",
    "\n",
    "# Load the CSV file into a DataFrame with custom options\n",
    "LoadedResultsData = pd.read_csv('ResultsData.csv', delimiter=',', encoding='utf-8', header=0, names=['TrialNumber','Parameters','Accuracy','mean_squared_error','mean_absolute_error'])\n",
    "\n",
    "# Display the DataFrame\n",
    "print(LoadedResultsData)\n"
   ]
  },
  {
   "cell_type": "code",
   "execution_count": null,
   "metadata": {},
   "outputs": [],
   "source": [
    "%matplotlib inline\n",
    "LoadedResultsData.plot(x='Parameters', y='mean_squared_error',figsize=(15,4), kind='line')"
   ]
  },
  {
   "cell_type": "code",
   "execution_count": null,
   "metadata": {},
   "outputs": [],
   "source": [
    "%matplotlib inline\n",
    "LoadedResultsData.plot(x='Parameters', y='mean_absolute_error',figsize=(15,4), kind='line')"
   ]
  },
  {
   "attachments": {},
   "cell_type": "markdown",
   "metadata": {},
   "source": [
    "# Training the ANN model with the best parameters\n"
   ]
  },
  {
   "cell_type": "code",
   "execution_count": 36,
   "metadata": {},
   "outputs": [
    {
     "name": "stdout",
     "output_type": "stream",
     "text": [
      "Epoch 1/100\n",
      "1981/1981 [==============================] - 3s 2ms/step - loss: 0.1580 - mean_absolute_error: 0.2294 - val_loss: 0.1468 - val_mean_absolute_error: 0.2182\n",
      "Epoch 2/100\n",
      "1981/1981 [==============================] - 3s 2ms/step - loss: 0.1548 - mean_absolute_error: 0.2275 - val_loss: 0.1495 - val_mean_absolute_error: 0.2231\n",
      "Epoch 3/100\n",
      "1981/1981 [==============================] - 3s 2ms/step - loss: 0.1535 - mean_absolute_error: 0.2273 - val_loss: 0.1439 - val_mean_absolute_error: 0.2181\n",
      "Epoch 4/100\n",
      "1981/1981 [==============================] - 3s 2ms/step - loss: 0.1532 - mean_absolute_error: 0.2247 - val_loss: 0.1433 - val_mean_absolute_error: 0.2162\n",
      "Epoch 5/100\n",
      "1981/1981 [==============================] - 3s 2ms/step - loss: 0.1521 - mean_absolute_error: 0.2228 - val_loss: 0.1487 - val_mean_absolute_error: 0.2160\n",
      "Epoch 6/100\n",
      "1981/1981 [==============================] - 3s 2ms/step - loss: 0.1524 - mean_absolute_error: 0.2228 - val_loss: 0.1423 - val_mean_absolute_error: 0.2101\n",
      "Epoch 7/100\n",
      "1981/1981 [==============================] - 3s 2ms/step - loss: 0.1513 - mean_absolute_error: 0.2216 - val_loss: 0.1412 - val_mean_absolute_error: 0.2108\n",
      "Epoch 8/100\n",
      "1981/1981 [==============================] - 3s 2ms/step - loss: 0.1493 - mean_absolute_error: 0.2189 - val_loss: 0.1407 - val_mean_absolute_error: 0.2211\n",
      "Epoch 9/100\n",
      "1981/1981 [==============================] - 3s 2ms/step - loss: 0.1469 - mean_absolute_error: 0.2164 - val_loss: 0.1411 - val_mean_absolute_error: 0.2249\n",
      "Epoch 10/100\n",
      "1981/1981 [==============================] - 3s 2ms/step - loss: 0.1423 - mean_absolute_error: 0.2107 - val_loss: 0.1302 - val_mean_absolute_error: 0.2007\n",
      "Epoch 11/100\n",
      "1981/1981 [==============================] - 3s 2ms/step - loss: 0.1385 - mean_absolute_error: 0.2066 - val_loss: 0.1327 - val_mean_absolute_error: 0.2061\n",
      "Epoch 12/100\n",
      "1981/1981 [==============================] - 3s 2ms/step - loss: 0.1369 - mean_absolute_error: 0.2046 - val_loss: 0.1277 - val_mean_absolute_error: 0.1904\n",
      "Epoch 13/100\n",
      "1981/1981 [==============================] - 3s 2ms/step - loss: 0.1363 - mean_absolute_error: 0.2044 - val_loss: 0.1279 - val_mean_absolute_error: 0.2086\n",
      "Epoch 14/100\n",
      "1981/1981 [==============================] - 3s 2ms/step - loss: 0.1349 - mean_absolute_error: 0.2024 - val_loss: 0.1260 - val_mean_absolute_error: 0.1913\n",
      "Epoch 15/100\n",
      "1981/1981 [==============================] - 3s 2ms/step - loss: 0.1344 - mean_absolute_error: 0.2012 - val_loss: 0.1254 - val_mean_absolute_error: 0.2004\n",
      "Epoch 16/100\n",
      "1981/1981 [==============================] - 3s 2ms/step - loss: 0.1334 - mean_absolute_error: 0.2005 - val_loss: 0.1233 - val_mean_absolute_error: 0.1902\n",
      "Epoch 17/100\n",
      "1981/1981 [==============================] - 3s 2ms/step - loss: 0.1328 - mean_absolute_error: 0.1989 - val_loss: 0.1290 - val_mean_absolute_error: 0.1998\n",
      "Epoch 18/100\n",
      "1981/1981 [==============================] - 3s 2ms/step - loss: 0.1323 - mean_absolute_error: 0.1976 - val_loss: 0.1255 - val_mean_absolute_error: 0.1887\n",
      "Epoch 19/100\n",
      "1981/1981 [==============================] - 3s 2ms/step - loss: 0.1317 - mean_absolute_error: 0.1976 - val_loss: 0.1276 - val_mean_absolute_error: 0.1835\n",
      "Epoch 20/100\n",
      "1981/1981 [==============================] - 3s 2ms/step - loss: 0.1310 - mean_absolute_error: 0.1965 - val_loss: 0.1235 - val_mean_absolute_error: 0.1834\n",
      "Epoch 21/100\n",
      "1981/1981 [==============================] - 3s 2ms/step - loss: 0.1305 - mean_absolute_error: 0.1949 - val_loss: 0.1230 - val_mean_absolute_error: 0.1925\n",
      "Epoch 22/100\n",
      "1981/1981 [==============================] - 3s 2ms/step - loss: 0.1298 - mean_absolute_error: 0.1947 - val_loss: 0.1223 - val_mean_absolute_error: 0.1867\n",
      "Epoch 23/100\n",
      "1981/1981 [==============================] - 3s 2ms/step - loss: 0.1302 - mean_absolute_error: 0.1946 - val_loss: 0.1226 - val_mean_absolute_error: 0.1848\n",
      "Epoch 24/100\n",
      "1981/1981 [==============================] - 3s 2ms/step - loss: 0.1298 - mean_absolute_error: 0.1932 - val_loss: 0.1256 - val_mean_absolute_error: 0.2029\n",
      "Epoch 25/100\n",
      "1981/1981 [==============================] - 3s 2ms/step - loss: 0.1302 - mean_absolute_error: 0.1940 - val_loss: 0.1210 - val_mean_absolute_error: 0.1801\n",
      "Epoch 26/100\n",
      "1981/1981 [==============================] - 3s 2ms/step - loss: 0.1296 - mean_absolute_error: 0.1941 - val_loss: 0.1207 - val_mean_absolute_error: 0.1918\n",
      "Epoch 27/100\n",
      "1981/1981 [==============================] - 3s 2ms/step - loss: 0.1290 - mean_absolute_error: 0.1933 - val_loss: 0.1211 - val_mean_absolute_error: 0.1903\n",
      "Epoch 28/100\n",
      "1981/1981 [==============================] - 3s 2ms/step - loss: 0.1288 - mean_absolute_error: 0.1926 - val_loss: 0.1276 - val_mean_absolute_error: 0.1906\n",
      "Epoch 29/100\n",
      "1981/1981 [==============================] - 3s 2ms/step - loss: 0.1290 - mean_absolute_error: 0.1913 - val_loss: 0.1200 - val_mean_absolute_error: 0.1936\n",
      "Epoch 30/100\n",
      "1981/1981 [==============================] - 3s 2ms/step - loss: 0.1285 - mean_absolute_error: 0.1920 - val_loss: 0.1244 - val_mean_absolute_error: 0.1890\n",
      "Epoch 31/100\n",
      "1981/1981 [==============================] - 3s 2ms/step - loss: 0.1283 - mean_absolute_error: 0.1915 - val_loss: 0.1199 - val_mean_absolute_error: 0.1822\n",
      "Epoch 32/100\n",
      "1981/1981 [==============================] - 3s 2ms/step - loss: 0.1276 - mean_absolute_error: 0.1910 - val_loss: 0.1213 - val_mean_absolute_error: 0.1821\n",
      "Epoch 33/100\n",
      "1981/1981 [==============================] - 3s 2ms/step - loss: 0.1278 - mean_absolute_error: 0.1902 - val_loss: 0.1215 - val_mean_absolute_error: 0.1837\n",
      "Epoch 34/100\n",
      "1981/1981 [==============================] - 3s 2ms/step - loss: 0.1271 - mean_absolute_error: 0.1901 - val_loss: 0.1210 - val_mean_absolute_error: 0.1760\n",
      "Epoch 35/100\n",
      "1981/1981 [==============================] - 3s 2ms/step - loss: 0.1272 - mean_absolute_error: 0.1886 - val_loss: 0.1215 - val_mean_absolute_error: 0.1848\n",
      "Epoch 36/100\n",
      "1981/1981 [==============================] - 3s 2ms/step - loss: 0.1270 - mean_absolute_error: 0.1880 - val_loss: 0.1195 - val_mean_absolute_error: 0.1758\n",
      "Epoch 37/100\n",
      "1981/1981 [==============================] - 3s 2ms/step - loss: 0.1269 - mean_absolute_error: 0.1887 - val_loss: 0.1227 - val_mean_absolute_error: 0.2012\n",
      "Epoch 38/100\n",
      "1981/1981 [==============================] - 3s 2ms/step - loss: 0.1269 - mean_absolute_error: 0.1880 - val_loss: 0.1253 - val_mean_absolute_error: 0.2205\n",
      "Epoch 39/100\n",
      "1981/1981 [==============================] - 3s 2ms/step - loss: 0.1267 - mean_absolute_error: 0.1885 - val_loss: 0.1196 - val_mean_absolute_error: 0.1925\n",
      "Epoch 40/100\n",
      "1981/1981 [==============================] - 3s 2ms/step - loss: 0.1266 - mean_absolute_error: 0.1879 - val_loss: 0.1207 - val_mean_absolute_error: 0.1820\n",
      "Epoch 41/100\n",
      "1981/1981 [==============================] - 3s 2ms/step - loss: 0.1267 - mean_absolute_error: 0.1878 - val_loss: 0.1199 - val_mean_absolute_error: 0.1921\n",
      "Epoch 42/100\n",
      "1981/1981 [==============================] - 3s 2ms/step - loss: 0.1266 - mean_absolute_error: 0.1868 - val_loss: 0.1189 - val_mean_absolute_error: 0.1941\n",
      "Epoch 43/100\n",
      "1981/1981 [==============================] - 3s 2ms/step - loss: 0.1265 - mean_absolute_error: 0.1876 - val_loss: 0.1192 - val_mean_absolute_error: 0.1828\n",
      "Epoch 44/100\n",
      "1981/1981 [==============================] - 3s 2ms/step - loss: 0.1263 - mean_absolute_error: 0.1867 - val_loss: 0.1194 - val_mean_absolute_error: 0.1766\n",
      "Epoch 45/100\n",
      "1981/1981 [==============================] - 3s 2ms/step - loss: 0.1261 - mean_absolute_error: 0.1867 - val_loss: 0.1196 - val_mean_absolute_error: 0.1799\n",
      "Epoch 46/100\n",
      "1981/1981 [==============================] - 4s 2ms/step - loss: 0.1263 - mean_absolute_error: 0.1875 - val_loss: 0.1208 - val_mean_absolute_error: 0.1891\n",
      "Epoch 47/100\n",
      "1981/1981 [==============================] - 3s 2ms/step - loss: 0.1254 - mean_absolute_error: 0.1864 - val_loss: 0.1227 - val_mean_absolute_error: 0.1889\n",
      "Epoch 48/100\n",
      "1981/1981 [==============================] - 3s 2ms/step - loss: 0.1260 - mean_absolute_error: 0.1862 - val_loss: 0.1189 - val_mean_absolute_error: 0.1813\n",
      "Epoch 49/100\n",
      "1981/1981 [==============================] - 3s 2ms/step - loss: 0.1257 - mean_absolute_error: 0.1863 - val_loss: 0.1234 - val_mean_absolute_error: 0.2043\n",
      "Epoch 50/100\n",
      "1981/1981 [==============================] - 3s 2ms/step - loss: 0.1258 - mean_absolute_error: 0.1868 - val_loss: 0.1198 - val_mean_absolute_error: 0.1709\n",
      "Epoch 51/100\n",
      "1981/1981 [==============================] - 3s 2ms/step - loss: 0.1257 - mean_absolute_error: 0.1859 - val_loss: 0.1179 - val_mean_absolute_error: 0.1768\n",
      "Epoch 52/100\n",
      "1981/1981 [==============================] - 3s 2ms/step - loss: 0.1253 - mean_absolute_error: 0.1858 - val_loss: 0.1183 - val_mean_absolute_error: 0.1763\n",
      "Epoch 53/100\n",
      "1981/1981 [==============================] - 3s 2ms/step - loss: 0.1253 - mean_absolute_error: 0.1857 - val_loss: 0.1175 - val_mean_absolute_error: 0.1717\n",
      "Epoch 54/100\n",
      "1981/1981 [==============================] - 3s 2ms/step - loss: 0.1253 - mean_absolute_error: 0.1858 - val_loss: 0.1256 - val_mean_absolute_error: 0.1973\n",
      "Epoch 55/100\n",
      "1981/1981 [==============================] - 3s 2ms/step - loss: 0.1254 - mean_absolute_error: 0.1862 - val_loss: 0.1198 - val_mean_absolute_error: 0.1729\n",
      "Epoch 56/100\n",
      "1981/1981 [==============================] - 3s 2ms/step - loss: 0.1253 - mean_absolute_error: 0.1864 - val_loss: 0.1210 - val_mean_absolute_error: 0.1935\n",
      "Epoch 57/100\n",
      "1981/1981 [==============================] - 3s 2ms/step - loss: 0.1250 - mean_absolute_error: 0.1860 - val_loss: 0.1193 - val_mean_absolute_error: 0.1920\n",
      "Epoch 58/100\n",
      "1981/1981 [==============================] - 3s 2ms/step - loss: 0.1250 - mean_absolute_error: 0.1858 - val_loss: 0.1199 - val_mean_absolute_error: 0.1765\n",
      "Epoch 59/100\n",
      "1981/1981 [==============================] - 3s 2ms/step - loss: 0.1252 - mean_absolute_error: 0.1857 - val_loss: 0.1180 - val_mean_absolute_error: 0.1944\n",
      "Epoch 60/100\n",
      "1981/1981 [==============================] - 3s 2ms/step - loss: 0.1250 - mean_absolute_error: 0.1864 - val_loss: 0.1192 - val_mean_absolute_error: 0.1861\n",
      "Epoch 61/100\n",
      "1981/1981 [==============================] - 3s 2ms/step - loss: 0.1244 - mean_absolute_error: 0.1850 - val_loss: 0.1215 - val_mean_absolute_error: 0.1777\n",
      "Epoch 62/100\n",
      "1981/1981 [==============================] - 3s 2ms/step - loss: 0.1251 - mean_absolute_error: 0.1855 - val_loss: 0.1189 - val_mean_absolute_error: 0.1858\n",
      "Epoch 63/100\n",
      "1981/1981 [==============================] - 3s 2ms/step - loss: 0.1250 - mean_absolute_error: 0.1858 - val_loss: 0.1211 - val_mean_absolute_error: 0.1855\n",
      "Epoch 64/100\n",
      "1981/1981 [==============================] - 3s 2ms/step - loss: 0.1247 - mean_absolute_error: 0.1851 - val_loss: 0.1199 - val_mean_absolute_error: 0.1849\n",
      "Epoch 65/100\n",
      "1981/1981 [==============================] - 3s 2ms/step - loss: 0.1250 - mean_absolute_error: 0.1846 - val_loss: 0.1205 - val_mean_absolute_error: 0.1914\n",
      "Epoch 66/100\n",
      "1981/1981 [==============================] - 3s 2ms/step - loss: 0.1245 - mean_absolute_error: 0.1848 - val_loss: 0.1192 - val_mean_absolute_error: 0.1761\n",
      "Epoch 67/100\n",
      "1981/1981 [==============================] - 3s 2ms/step - loss: 0.1244 - mean_absolute_error: 0.1848 - val_loss: 0.1178 - val_mean_absolute_error: 0.1837\n",
      "Epoch 68/100\n",
      "1981/1981 [==============================] - 3s 2ms/step - loss: 0.1246 - mean_absolute_error: 0.1844 - val_loss: 0.1179 - val_mean_absolute_error: 0.1744\n",
      "Epoch 69/100\n",
      "1981/1981 [==============================] - 3s 2ms/step - loss: 0.1242 - mean_absolute_error: 0.1843 - val_loss: 0.1212 - val_mean_absolute_error: 0.1857\n",
      "Epoch 70/100\n",
      "1981/1981 [==============================] - 3s 2ms/step - loss: 0.1242 - mean_absolute_error: 0.1846 - val_loss: 0.1207 - val_mean_absolute_error: 0.1751\n",
      "Epoch 71/100\n",
      "1981/1981 [==============================] - 4s 2ms/step - loss: 0.1245 - mean_absolute_error: 0.1841 - val_loss: 0.1180 - val_mean_absolute_error: 0.1870\n",
      "Epoch 72/100\n",
      "1981/1981 [==============================] - 3s 2ms/step - loss: 0.1239 - mean_absolute_error: 0.1836 - val_loss: 0.1177 - val_mean_absolute_error: 0.1899\n",
      "Epoch 73/100\n",
      "1981/1981 [==============================] - 3s 2ms/step - loss: 0.1243 - mean_absolute_error: 0.1852 - val_loss: 0.1206 - val_mean_absolute_error: 0.1986\n",
      "Epoch 74/100\n",
      "1981/1981 [==============================] - 3s 2ms/step - loss: 0.1245 - mean_absolute_error: 0.1844 - val_loss: 0.1179 - val_mean_absolute_error: 0.1941\n",
      "Epoch 75/100\n",
      "1981/1981 [==============================] - 3s 2ms/step - loss: 0.1236 - mean_absolute_error: 0.1845 - val_loss: 0.1178 - val_mean_absolute_error: 0.1693\n",
      "Epoch 76/100\n",
      "1981/1981 [==============================] - 3s 2ms/step - loss: 0.1240 - mean_absolute_error: 0.1837 - val_loss: 0.1213 - val_mean_absolute_error: 0.1784\n",
      "Epoch 77/100\n",
      "1981/1981 [==============================] - 3s 2ms/step - loss: 0.1236 - mean_absolute_error: 0.1841 - val_loss: 0.1188 - val_mean_absolute_error: 0.1853\n",
      "Epoch 78/100\n",
      "1981/1981 [==============================] - 3s 2ms/step - loss: 0.1240 - mean_absolute_error: 0.1845 - val_loss: 0.1180 - val_mean_absolute_error: 0.1886\n",
      "Epoch 79/100\n",
      "1981/1981 [==============================] - 3s 2ms/step - loss: 0.1233 - mean_absolute_error: 0.1834 - val_loss: 0.1186 - val_mean_absolute_error: 0.1952\n",
      "Epoch 80/100\n",
      "1981/1981 [==============================] - 3s 2ms/step - loss: 0.1238 - mean_absolute_error: 0.1837 - val_loss: 0.1222 - val_mean_absolute_error: 0.1931\n",
      "Epoch 81/100\n",
      "1981/1981 [==============================] - 3s 2ms/step - loss: 0.1240 - mean_absolute_error: 0.1844 - val_loss: 0.1188 - val_mean_absolute_error: 0.1911\n",
      "Epoch 82/100\n",
      "1981/1981 [==============================] - 3s 2ms/step - loss: 0.1234 - mean_absolute_error: 0.1836 - val_loss: 0.1177 - val_mean_absolute_error: 0.1681\n",
      "Epoch 83/100\n",
      "1981/1981 [==============================] - 3s 2ms/step - loss: 0.1231 - mean_absolute_error: 0.1838 - val_loss: 0.1169 - val_mean_absolute_error: 0.1797\n",
      "Epoch 84/100\n",
      "1981/1981 [==============================] - 3s 2ms/step - loss: 0.1232 - mean_absolute_error: 0.1839 - val_loss: 0.1170 - val_mean_absolute_error: 0.1849\n",
      "Epoch 85/100\n",
      "1981/1981 [==============================] - 3s 2ms/step - loss: 0.1236 - mean_absolute_error: 0.1834 - val_loss: 0.1163 - val_mean_absolute_error: 0.1787\n",
      "Epoch 86/100\n",
      "1981/1981 [==============================] - 4s 2ms/step - loss: 0.1230 - mean_absolute_error: 0.1827 - val_loss: 0.1198 - val_mean_absolute_error: 0.2045\n",
      "Epoch 87/100\n",
      "1981/1981 [==============================] - 3s 2ms/step - loss: 0.1233 - mean_absolute_error: 0.1833 - val_loss: 0.1166 - val_mean_absolute_error: 0.1816\n",
      "Epoch 88/100\n",
      "1981/1981 [==============================] - 3s 2ms/step - loss: 0.1230 - mean_absolute_error: 0.1825 - val_loss: 0.1178 - val_mean_absolute_error: 0.1750\n",
      "Epoch 89/100\n",
      "1981/1981 [==============================] - 3s 2ms/step - loss: 0.1230 - mean_absolute_error: 0.1826 - val_loss: 0.1167 - val_mean_absolute_error: 0.1704\n",
      "Epoch 90/100\n",
      "1981/1981 [==============================] - 3s 2ms/step - loss: 0.1229 - mean_absolute_error: 0.1829 - val_loss: 0.1174 - val_mean_absolute_error: 0.1887\n",
      "Epoch 91/100\n",
      "1981/1981 [==============================] - 3s 2ms/step - loss: 0.1230 - mean_absolute_error: 0.1832 - val_loss: 0.1238 - val_mean_absolute_error: 0.1935\n",
      "Epoch 92/100\n",
      "1981/1981 [==============================] - 3s 2ms/step - loss: 0.1230 - mean_absolute_error: 0.1830 - val_loss: 0.1165 - val_mean_absolute_error: 0.1726\n",
      "Epoch 93/100\n",
      "1981/1981 [==============================] - 3s 2ms/step - loss: 0.1233 - mean_absolute_error: 0.1824 - val_loss: 0.1178 - val_mean_absolute_error: 0.1852\n",
      "Epoch 94/100\n",
      "1981/1981 [==============================] - 3s 2ms/step - loss: 0.1230 - mean_absolute_error: 0.1826 - val_loss: 0.1176 - val_mean_absolute_error: 0.1714\n",
      "Epoch 95/100\n",
      "1981/1981 [==============================] - 3s 2ms/step - loss: 0.1228 - mean_absolute_error: 0.1831 - val_loss: 0.1173 - val_mean_absolute_error: 0.1762\n",
      "Epoch 96/100\n",
      "1981/1981 [==============================] - 3s 2ms/step - loss: 0.1228 - mean_absolute_error: 0.1822 - val_loss: 0.1177 - val_mean_absolute_error: 0.1776\n",
      "Epoch 97/100\n",
      "1981/1981 [==============================] - 3s 2ms/step - loss: 0.1227 - mean_absolute_error: 0.1825 - val_loss: 0.1174 - val_mean_absolute_error: 0.1807\n",
      "Epoch 98/100\n",
      "1981/1981 [==============================] - 3s 2ms/step - loss: 0.1229 - mean_absolute_error: 0.1826 - val_loss: 0.1171 - val_mean_absolute_error: 0.1816\n",
      "Epoch 99/100\n",
      "1981/1981 [==============================] - 3s 2ms/step - loss: 0.1226 - mean_absolute_error: 0.1829 - val_loss: 0.1171 - val_mean_absolute_error: 0.1889\n",
      "Epoch 100/100\n",
      "1981/1981 [==============================] - 3s 2ms/step - loss: 0.1223 - mean_absolute_error: 0.1823 - val_loss: 0.1171 - val_mean_absolute_error: 0.1781\n"
     ]
    }
   ],
   "source": [
    "# Fitting the ANN to the Training set\n",
    "#  batch_size = 15, \n",
    "#    epochs = 5,\n",
    "history=model.fit(\n",
    "    X_train, \n",
    "    y_train ,\n",
    "    batch_size = 15, \n",
    "    epochs = 100,     \n",
    "    verbose=1,\n",
    "    validation_split = 0.33)"
   ]
  },
  {
   "attachments": {},
   "cell_type": "markdown",
   "metadata": {},
   "source": [
    "#### Mean Squared Error, Mean Absolute Error"
   ]
  },
  {
   "cell_type": "code",
   "execution_count": 37,
   "metadata": {},
   "outputs": [
    {
     "name": "stdout",
     "output_type": "stream",
     "text": [
      "594/594 [==============================] - 1s 1ms/step - loss: 0.1241 - mean_absolute_error: 0.1811\n",
      "MSE:  0.12405452132225037\n",
      "MAE: 0.1810666173696518\n"
     ]
    }
   ],
   "source": [
    "mean_squared_error, mean_absolute_error = model.evaluate(X_test,y_test)\n",
    "print(\"MSE: \",mean_squared_error)\n",
    "print(\"MAE:\" ,mean_absolute_error)"
   ]
  },
  {
   "cell_type": "code",
   "execution_count": 38,
   "metadata": {},
   "outputs": [
    {
     "name": "stdout",
     "output_type": "stream",
     "text": [
      "594/594 [==============================] - 1s 934us/step\n"
     ]
    }
   ],
   "source": [
    "# Generating Predictions on testing data\n",
    "Predictions=model.predict(X_test)"
   ]
  },
  {
   "attachments": {},
   "cell_type": "markdown",
   "metadata": {},
   "source": [
    "#### R2 Score"
   ]
  },
  {
   "cell_type": "code",
   "execution_count": 39,
   "metadata": {},
   "outputs": [
    {
     "data": {
      "text/plain": [
       "0.8751349312644621"
      ]
     },
     "execution_count": 39,
     "metadata": {},
     "output_type": "execute_result"
    }
   ],
   "source": [
    "from sklearn.metrics import r2_score\n",
    "r2_score(y_test,Predictions)"
   ]
  },
  {
   "attachments": {},
   "cell_type": "markdown",
   "metadata": {},
   "source": [
    "### Pred / Real Comparison"
   ]
  },
  {
   "cell_type": "code",
   "execution_count": 15,
   "metadata": {},
   "outputs": [
    {
     "data": {
      "text/html": [
       "<div>\n",
       "<style scoped>\n",
       "    .dataframe tbody tr th:only-of-type {\n",
       "        vertical-align: middle;\n",
       "    }\n",
       "\n",
       "    .dataframe tbody tr th {\n",
       "        vertical-align: top;\n",
       "    }\n",
       "\n",
       "    .dataframe thead th {\n",
       "        text-align: right;\n",
       "    }\n",
       "</style>\n",
       "<table border=\"1\" class=\"dataframe\">\n",
       "  <thead>\n",
       "    <tr style=\"text-align: right;\">\n",
       "      <th></th>\n",
       "      <th>Hour</th>\n",
       "      <th>Minute</th>\n",
       "      <th>TemperatureC</th>\n",
       "      <th>DewpointC</th>\n",
       "      <th>PressurehPa</th>\n",
       "      <th>WindDirectionDegrees</th>\n",
       "      <th>WindSpeedKMH</th>\n",
       "      <th>WindSpeedGustKMH</th>\n",
       "      <th>Humidity</th>\n",
       "      <th>HourlyPrecipMM</th>\n",
       "      <th>dailyrainMM</th>\n",
       "      <th>SolarRadiationWatts_m2</th>\n",
       "      <th>Generation</th>\n",
       "      <th>PredictedGeneration</th>\n",
       "    </tr>\n",
       "  </thead>\n",
       "  <tbody>\n",
       "    <tr>\n",
       "      <th>0</th>\n",
       "      <td>15.0</td>\n",
       "      <td>45.0</td>\n",
       "      <td>26.333333</td>\n",
       "      <td>15.666667</td>\n",
       "      <td>1015.0</td>\n",
       "      <td>306.000000</td>\n",
       "      <td>12.333333</td>\n",
       "      <td>27.000000</td>\n",
       "      <td>51.666667</td>\n",
       "      <td>0.0</td>\n",
       "      <td>0.0</td>\n",
       "      <td>710.666667</td>\n",
       "      <td>2065.333333</td>\n",
       "      <td>1902.864014</td>\n",
       "    </tr>\n",
       "    <tr>\n",
       "      <th>1</th>\n",
       "      <td>2.0</td>\n",
       "      <td>0.0</td>\n",
       "      <td>19.000000</td>\n",
       "      <td>16.000000</td>\n",
       "      <td>1016.0</td>\n",
       "      <td>196.000000</td>\n",
       "      <td>0.000000</td>\n",
       "      <td>0.000000</td>\n",
       "      <td>83.000000</td>\n",
       "      <td>0.0</td>\n",
       "      <td>0.0</td>\n",
       "      <td>0.000000</td>\n",
       "      <td>0.000000</td>\n",
       "      <td>-4.867129</td>\n",
       "    </tr>\n",
       "    <tr>\n",
       "      <th>2</th>\n",
       "      <td>5.0</td>\n",
       "      <td>45.0</td>\n",
       "      <td>19.000000</td>\n",
       "      <td>10.000000</td>\n",
       "      <td>1011.0</td>\n",
       "      <td>98.000000</td>\n",
       "      <td>6.333333</td>\n",
       "      <td>17.000000</td>\n",
       "      <td>56.000000</td>\n",
       "      <td>0.0</td>\n",
       "      <td>0.0</td>\n",
       "      <td>0.000000</td>\n",
       "      <td>0.000000</td>\n",
       "      <td>5.262143</td>\n",
       "    </tr>\n",
       "    <tr>\n",
       "      <th>3</th>\n",
       "      <td>13.0</td>\n",
       "      <td>45.0</td>\n",
       "      <td>27.333333</td>\n",
       "      <td>16.000000</td>\n",
       "      <td>1017.0</td>\n",
       "      <td>285.666667</td>\n",
       "      <td>0.333333</td>\n",
       "      <td>13.333333</td>\n",
       "      <td>49.333333</td>\n",
       "      <td>0.0</td>\n",
       "      <td>0.0</td>\n",
       "      <td>824.666667</td>\n",
       "      <td>5071.333333</td>\n",
       "      <td>4598.210938</td>\n",
       "    </tr>\n",
       "    <tr>\n",
       "      <th>4</th>\n",
       "      <td>19.0</td>\n",
       "      <td>30.0</td>\n",
       "      <td>18.000000</td>\n",
       "      <td>15.000000</td>\n",
       "      <td>1014.0</td>\n",
       "      <td>180.333333</td>\n",
       "      <td>1.000000</td>\n",
       "      <td>11.000000</td>\n",
       "      <td>82.666667</td>\n",
       "      <td>0.0</td>\n",
       "      <td>0.0</td>\n",
       "      <td>0.000000</td>\n",
       "      <td>0.000000</td>\n",
       "      <td>54.904781</td>\n",
       "    </tr>\n",
       "  </tbody>\n",
       "</table>\n",
       "</div>"
      ],
      "text/plain": [
       "   Hour  Minute  TemperatureC  DewpointC  PressurehPa  WindDirectionDegrees  \\\n",
       "0  15.0    45.0     26.333333  15.666667       1015.0            306.000000   \n",
       "1   2.0     0.0     19.000000  16.000000       1016.0            196.000000   \n",
       "2   5.0    45.0     19.000000  10.000000       1011.0             98.000000   \n",
       "3  13.0    45.0     27.333333  16.000000       1017.0            285.666667   \n",
       "4  19.0    30.0     18.000000  15.000000       1014.0            180.333333   \n",
       "\n",
       "   WindSpeedKMH  WindSpeedGustKMH   Humidity  HourlyPrecipMM  dailyrainMM  \\\n",
       "0     12.333333         27.000000  51.666667             0.0          0.0   \n",
       "1      0.000000          0.000000  83.000000             0.0          0.0   \n",
       "2      6.333333         17.000000  56.000000             0.0          0.0   \n",
       "3      0.333333         13.333333  49.333333             0.0          0.0   \n",
       "4      1.000000         11.000000  82.666667             0.0          0.0   \n",
       "\n",
       "   SolarRadiationWatts_m2   Generation  PredictedGeneration  \n",
       "0              710.666667  2065.333333          1902.864014  \n",
       "1                0.000000     0.000000            -4.867129  \n",
       "2                0.000000     0.000000             5.262143  \n",
       "3              824.666667  5071.333333          4598.210938  \n",
       "4                0.000000     0.000000            54.904781  "
      ]
     },
     "execution_count": 15,
     "metadata": {},
     "output_type": "execute_result"
    }
   ],
   "source": [
    "\n",
    "\n",
    "# Scaling the predicted Price data back to original price scale\n",
    "Predictions=TargetVarScalerFit.inverse_transform(Predictions)\n",
    "\n",
    "# Scaling the y_test Price data back to original price scale\n",
    "y_test_orig=TargetVarScalerFit.inverse_transform(y_test)\n",
    "\n",
    "# Scaling the test data back to original scale\n",
    "Test_Data=PredictorScalerFit.inverse_transform(X_test)\n",
    "\n",
    "TestingData=pd.DataFrame(data=Test_Data, columns=Predictors)\n",
    "TestingData['Generation']=y_test_orig\n",
    "TestingData['PredictedGeneration']=Predictions\n",
    "TestingData.head()"
   ]
  },
  {
   "cell_type": "code",
   "execution_count": 16,
   "metadata": {},
   "outputs": [
    {
     "ename": "ValueError",
     "evalue": "Per-column arrays must each be 1-dimensional",
     "output_type": "error",
     "traceback": [
      "\u001b[1;31m---------------------------------------------------------------------------\u001b[0m",
      "\u001b[1;31mValueError\u001b[0m                                Traceback (most recent call last)",
      "Cell \u001b[1;32mIn [16], line 1\u001b[0m\n\u001b[1;32m----> 1\u001b[0m df_temp \u001b[39m=\u001b[39m pd\u001b[39m.\u001b[39;49mDataFrame({\u001b[39m'\u001b[39;49m\u001b[39mActual\u001b[39;49m\u001b[39m'\u001b[39;49m: y_test_orig, \u001b[39m'\u001b[39;49m\u001b[39mPredicted\u001b[39;49m\u001b[39m'\u001b[39;49m: Predictions})\n\u001b[0;32m      2\u001b[0m df_temp\u001b[39m.\u001b[39mhead()\n",
      "File \u001b[1;32mc:\\Users\\rafae\\AppData\\Local\\Programs\\Python\\Python310\\lib\\site-packages\\pandas\\core\\frame.py:636\u001b[0m, in \u001b[0;36mDataFrame.__init__\u001b[1;34m(self, data, index, columns, dtype, copy)\u001b[0m\n\u001b[0;32m    630\u001b[0m     mgr \u001b[39m=\u001b[39m \u001b[39mself\u001b[39m\u001b[39m.\u001b[39m_init_mgr(\n\u001b[0;32m    631\u001b[0m         data, axes\u001b[39m=\u001b[39m{\u001b[39m\"\u001b[39m\u001b[39mindex\u001b[39m\u001b[39m\"\u001b[39m: index, \u001b[39m\"\u001b[39m\u001b[39mcolumns\u001b[39m\u001b[39m\"\u001b[39m: columns}, dtype\u001b[39m=\u001b[39mdtype, copy\u001b[39m=\u001b[39mcopy\n\u001b[0;32m    632\u001b[0m     )\n\u001b[0;32m    634\u001b[0m \u001b[39melif\u001b[39;00m \u001b[39misinstance\u001b[39m(data, \u001b[39mdict\u001b[39m):\n\u001b[0;32m    635\u001b[0m     \u001b[39m# GH#38939 de facto copy defaults to False only in non-dict cases\u001b[39;00m\n\u001b[1;32m--> 636\u001b[0m     mgr \u001b[39m=\u001b[39m dict_to_mgr(data, index, columns, dtype\u001b[39m=\u001b[39;49mdtype, copy\u001b[39m=\u001b[39;49mcopy, typ\u001b[39m=\u001b[39;49mmanager)\n\u001b[0;32m    637\u001b[0m \u001b[39melif\u001b[39;00m \u001b[39misinstance\u001b[39m(data, ma\u001b[39m.\u001b[39mMaskedArray):\n\u001b[0;32m    638\u001b[0m     \u001b[39mimport\u001b[39;00m \u001b[39mnumpy\u001b[39;00m\u001b[39m.\u001b[39;00m\u001b[39mma\u001b[39;00m\u001b[39m.\u001b[39;00m\u001b[39mmrecords\u001b[39;00m \u001b[39mas\u001b[39;00m \u001b[39mmrecords\u001b[39;00m\n",
      "File \u001b[1;32mc:\\Users\\rafae\\AppData\\Local\\Programs\\Python\\Python310\\lib\\site-packages\\pandas\\core\\internals\\construction.py:502\u001b[0m, in \u001b[0;36mdict_to_mgr\u001b[1;34m(data, index, columns, dtype, typ, copy)\u001b[0m\n\u001b[0;32m    494\u001b[0m     arrays \u001b[39m=\u001b[39m [\n\u001b[0;32m    495\u001b[0m         x\n\u001b[0;32m    496\u001b[0m         \u001b[39mif\u001b[39;00m \u001b[39mnot\u001b[39;00m \u001b[39mhasattr\u001b[39m(x, \u001b[39m\"\u001b[39m\u001b[39mdtype\u001b[39m\u001b[39m\"\u001b[39m) \u001b[39mor\u001b[39;00m \u001b[39mnot\u001b[39;00m \u001b[39misinstance\u001b[39m(x\u001b[39m.\u001b[39mdtype, ExtensionDtype)\n\u001b[0;32m    497\u001b[0m         \u001b[39melse\u001b[39;00m x\u001b[39m.\u001b[39mcopy()\n\u001b[0;32m    498\u001b[0m         \u001b[39mfor\u001b[39;00m x \u001b[39min\u001b[39;00m arrays\n\u001b[0;32m    499\u001b[0m     ]\n\u001b[0;32m    500\u001b[0m     \u001b[39m# TODO: can we get rid of the dt64tz special case above?\u001b[39;00m\n\u001b[1;32m--> 502\u001b[0m \u001b[39mreturn\u001b[39;00m arrays_to_mgr(arrays, columns, index, dtype\u001b[39m=\u001b[39;49mdtype, typ\u001b[39m=\u001b[39;49mtyp, consolidate\u001b[39m=\u001b[39;49mcopy)\n",
      "File \u001b[1;32mc:\\Users\\rafae\\AppData\\Local\\Programs\\Python\\Python310\\lib\\site-packages\\pandas\\core\\internals\\construction.py:120\u001b[0m, in \u001b[0;36marrays_to_mgr\u001b[1;34m(arrays, columns, index, dtype, verify_integrity, typ, consolidate)\u001b[0m\n\u001b[0;32m    117\u001b[0m \u001b[39mif\u001b[39;00m verify_integrity:\n\u001b[0;32m    118\u001b[0m     \u001b[39m# figure out the index, if necessary\u001b[39;00m\n\u001b[0;32m    119\u001b[0m     \u001b[39mif\u001b[39;00m index \u001b[39mis\u001b[39;00m \u001b[39mNone\u001b[39;00m:\n\u001b[1;32m--> 120\u001b[0m         index \u001b[39m=\u001b[39m _extract_index(arrays)\n\u001b[0;32m    121\u001b[0m     \u001b[39melse\u001b[39;00m:\n\u001b[0;32m    122\u001b[0m         index \u001b[39m=\u001b[39m ensure_index(index)\n",
      "File \u001b[1;32mc:\\Users\\rafae\\AppData\\Local\\Programs\\Python\\Python310\\lib\\site-packages\\pandas\\core\\internals\\construction.py:661\u001b[0m, in \u001b[0;36m_extract_index\u001b[1;34m(data)\u001b[0m\n\u001b[0;32m    659\u001b[0m         raw_lengths\u001b[39m.\u001b[39mappend(\u001b[39mlen\u001b[39m(val))\n\u001b[0;32m    660\u001b[0m     \u001b[39melif\u001b[39;00m \u001b[39misinstance\u001b[39m(val, np\u001b[39m.\u001b[39mndarray) \u001b[39mand\u001b[39;00m val\u001b[39m.\u001b[39mndim \u001b[39m>\u001b[39m \u001b[39m1\u001b[39m:\n\u001b[1;32m--> 661\u001b[0m         \u001b[39mraise\u001b[39;00m \u001b[39mValueError\u001b[39;00m(\u001b[39m\"\u001b[39m\u001b[39mPer-column arrays must each be 1-dimensional\u001b[39m\u001b[39m\"\u001b[39m)\n\u001b[0;32m    663\u001b[0m \u001b[39mif\u001b[39;00m \u001b[39mnot\u001b[39;00m indexes \u001b[39mand\u001b[39;00m \u001b[39mnot\u001b[39;00m raw_lengths:\n\u001b[0;32m    664\u001b[0m     \u001b[39mraise\u001b[39;00m \u001b[39mValueError\u001b[39;00m(\u001b[39m\"\u001b[39m\u001b[39mIf using all scalar values, you must pass an index\u001b[39m\u001b[39m\"\u001b[39m)\n",
      "\u001b[1;31mValueError\u001b[0m: Per-column arrays must each be 1-dimensional"
     ]
    }
   ],
   "source": [
    "df_temp = pd.DataFrame({'Actual': y_test_orig, 'Predicted': Predictions})\n",
    "df_temp.head()"
   ]
  },
  {
   "cell_type": "code",
   "execution_count": null,
   "metadata": {},
   "outputs": [],
   "source": [
    "TestingData"
   ]
  },
  {
   "attachments": {},
   "cell_type": "markdown",
   "metadata": {},
   "source": [
    "### Plot Loss"
   ]
  },
  {
   "cell_type": "code",
   "execution_count": 17,
   "metadata": {},
   "outputs": [],
   "source": [
    "import matplotlib.pyplot as plt\n",
    "\n",
    "def plot_loss(history):\n",
    "  plt.plot(history.history['loss'], label='loss')\n",
    "  plt.plot(history.history['val_loss'], label='val_loss')\n",
    "  plt.xlabel('Epoch')\n",
    "  plt.ylabel('Error [MPG]')\n",
    "  plt.legend()\n",
    "  plt.grid(True)"
   ]
  },
  {
   "cell_type": "code",
   "execution_count": 18,
   "metadata": {},
   "outputs": [
    {
     "data": {
      "text/html": [
       "<div>\n",
       "<style scoped>\n",
       "    .dataframe tbody tr th:only-of-type {\n",
       "        vertical-align: middle;\n",
       "    }\n",
       "\n",
       "    .dataframe tbody tr th {\n",
       "        vertical-align: top;\n",
       "    }\n",
       "\n",
       "    .dataframe thead th {\n",
       "        text-align: right;\n",
       "    }\n",
       "</style>\n",
       "<table border=\"1\" class=\"dataframe\">\n",
       "  <thead>\n",
       "    <tr style=\"text-align: right;\">\n",
       "      <th></th>\n",
       "      <th>loss</th>\n",
       "      <th>mean_absolute_error</th>\n",
       "      <th>val_loss</th>\n",
       "      <th>val_mean_absolute_error</th>\n",
       "      <th>epoch</th>\n",
       "    </tr>\n",
       "  </thead>\n",
       "  <tbody>\n",
       "    <tr>\n",
       "      <th>95</th>\n",
       "      <td>0.115283</td>\n",
       "      <td>0.177902</td>\n",
       "      <td>0.109555</td>\n",
       "      <td>0.165592</td>\n",
       "      <td>95</td>\n",
       "    </tr>\n",
       "    <tr>\n",
       "      <th>96</th>\n",
       "      <td>0.114765</td>\n",
       "      <td>0.178060</td>\n",
       "      <td>0.111407</td>\n",
       "      <td>0.170549</td>\n",
       "      <td>96</td>\n",
       "    </tr>\n",
       "    <tr>\n",
       "      <th>97</th>\n",
       "      <td>0.114695</td>\n",
       "      <td>0.176602</td>\n",
       "      <td>0.110496</td>\n",
       "      <td>0.170716</td>\n",
       "      <td>97</td>\n",
       "    </tr>\n",
       "    <tr>\n",
       "      <th>98</th>\n",
       "      <td>0.114610</td>\n",
       "      <td>0.176522</td>\n",
       "      <td>0.112100</td>\n",
       "      <td>0.173878</td>\n",
       "      <td>98</td>\n",
       "    </tr>\n",
       "    <tr>\n",
       "      <th>99</th>\n",
       "      <td>0.114419</td>\n",
       "      <td>0.176689</td>\n",
       "      <td>0.110076</td>\n",
       "      <td>0.169323</td>\n",
       "      <td>99</td>\n",
       "    </tr>\n",
       "  </tbody>\n",
       "</table>\n",
       "</div>"
      ],
      "text/plain": [
       "        loss  mean_absolute_error  val_loss  val_mean_absolute_error  epoch\n",
       "95  0.115283             0.177902  0.109555                 0.165592     95\n",
       "96  0.114765             0.178060  0.111407                 0.170549     96\n",
       "97  0.114695             0.176602  0.110496                 0.170716     97\n",
       "98  0.114610             0.176522  0.112100                 0.173878     98\n",
       "99  0.114419             0.176689  0.110076                 0.169323     99"
      ]
     },
     "execution_count": 18,
     "metadata": {},
     "output_type": "execute_result"
    }
   ],
   "source": [
    "hist = pd.DataFrame(history.history)\n",
    "hist['epoch'] = history.epoch\n",
    "hist.tail()"
   ]
  },
  {
   "cell_type": "code",
   "execution_count": 19,
   "metadata": {},
   "outputs": [
    {
     "data": {
      "image/png": "[encoded data removed]",
      "text/plain": [
       "<Figure size 640x480 with 1 Axes>"
      ]
     },
     "metadata": {},
     "output_type": "display_data"
    }
   ],
   "source": [
    "plot_loss(history)"
   ]
  },
  {
   "attachments": {},
   "cell_type": "markdown",
   "metadata": {},
   "source": [
    "# Save and Load Model"
   ]
  },
  {
   "cell_type": "code",
   "execution_count": 20,
   "metadata": {},
   "outputs": [],
   "source": [
    "filename = './DNN_finalized_model'\n"
   ]
  },
  {
   "cell_type": "code",
   "execution_count": 21,
   "metadata": {},
   "outputs": [
    {
     "name": "stdout",
     "output_type": "stream",
     "text": [
      "INFO:tensorflow:Assets written to: ./DNN_finalized_model\\assets\n"
     ]
    }
   ],
   "source": [
    "# save the model to disk\n",
    "model.save(filename)"
   ]
  },
  {
   "cell_type": "code",
   "execution_count": 31,
   "metadata": {},
   "outputs": [],
   "source": [
    "import tensorflow as tf\n",
    "\n",
    "# load the model from disk\n",
    "model = tf.keras.models.load_model(filename)"
   ]
  },
  {
   "cell_type": "code",
   "execution_count": null,
   "metadata": {},
   "outputs": [],
   "source": [
    "print(type(model))"
   ]
  },
  {
   "cell_type": "code",
   "execution_count": null,
   "metadata": {},
   "outputs": [],
   "source": [
    "# Fitting the ANN to the Training set\n",
    "history=model.fit(\n",
    "    X_train,\n",
    "    y_train, \n",
    "    batch_size = 15,\n",
    "    epochs = 100,\n",
    "    verbose=1,\n",
    "    validation_split = 0.33)\n"
   ]
  },
  {
   "cell_type": "code",
   "execution_count": null,
   "metadata": {},
   "outputs": [],
   "source": [
    "model.summary()"
   ]
  },
  {
   "attachments": {},
   "cell_type": "markdown",
   "metadata": {},
   "source": [
    "# Explainable AI Shap"
   ]
  },
  {
   "cell_type": "code",
   "execution_count": 23,
   "metadata": {},
   "outputs": [
    {
     "name": "stderr",
     "output_type": "stream",
     "text": [
      "c:\\Users\\rafae\\AppData\\Local\\Programs\\Python\\Python310\\lib\\site-packages\\tqdm\\auto.py:22: TqdmWarning: IProgress not found. Please update jupyter and ipywidgets. See https://ipywidgets.readthedocs.io/en/stable/user_install.html\n",
      "  from .autonotebook import tqdm as notebook_tqdm\n"
     ]
    }
   ],
   "source": [
    "\n",
    "import shap\n",
    "import numpy as np\n",
    "\n",
    "# select a set of background examples to take an expectation over\n",
    "background = X_train[np.random.choice(X_train.shape[0], 100, replace=False)]"
   ]
  },
  {
   "cell_type": "code",
   "execution_count": 24,
   "metadata": {},
   "outputs": [
    {
     "name": "stderr",
     "output_type": "stream",
     "text": [
      "keras is no longer supported, please use tf.keras instead.\n",
      "Your TensorFlow version is newer than 2.4.0 and so graph support has been removed in eager mode and some static graphs may not be supported. See PR #1483 for discussion.\n"
     ]
    }
   ],
   "source": [
    "import shap\n",
    "\n",
    "explainer = shap.DeepExplainer(model, background)\n"
   ]
  },
  {
   "cell_type": "code",
   "execution_count": 25,
   "metadata": {},
   "outputs": [
    {
     "name": "stderr",
     "output_type": "stream",
     "text": [
      "`tf.keras.backend.set_learning_phase` is deprecated and will be removed after 2020-10-11. To update it, simply pass a True/False value to the `training` argument of the `__call__` method of your layer or model.\n"
     ]
    }
   ],
   "source": [
    "shap_values = explainer.shap_values(X_test[1:100])"
   ]
  },
  {
   "cell_type": "code",
   "execution_count": 27,
   "metadata": {},
   "outputs": [
    {
     "data": {
      "text/plain": [
       "[array([[-1.68849351e-01, -4.59579317e-03,  6.78882074e-04, ...,\n",
       "          0.00000000e+00,  0.00000000e+00, -4.35601018e-01],\n",
       "        [-1.67048782e-01,  1.12952883e-02,  3.18244101e-03, ...,\n",
       "          0.00000000e+00,  0.00000000e+00, -4.08045558e-01],\n",
       "        [ 6.48089213e-01, -7.61436606e-02,  1.16580426e-01, ...,\n",
       "          0.00000000e+00,  0.00000000e+00,  2.42317476e+00],\n",
       "        ...,\n",
       "        [-2.37279239e-01,  1.15904506e-02, -2.24955262e-02, ...,\n",
       "          0.00000000e+00,  0.00000000e+00, -3.59339714e-01],\n",
       "        [-1.22369200e-01,  1.29492104e-03, -2.83992959e-02, ...,\n",
       "          0.00000000e+00,  0.00000000e+00, -4.70893431e-01],\n",
       "        [-9.32726064e-02, -7.23286108e-03, -7.70393477e-02, ...,\n",
       "          0.00000000e+00,  0.00000000e+00, -4.75574969e-01]])]"
      ]
     },
     "execution_count": 27,
     "metadata": {},
     "output_type": "execute_result"
    }
   ],
   "source": [
    "shap_values"
   ]
  },
  {
   "cell_type": "code",
   "execution_count": 28,
   "metadata": {},
   "outputs": [
    {
     "data": {
      "image/png": "[encoded data removed]",
      "text/plain": [
       "<Figure size 800x630 with 1 Axes>"
      ]
     },
     "metadata": {},
     "output_type": "display_data"
    }
   ],
   "source": [
    "shap.summary_plot(shap_values,df_x.columns)"
   ]
  },
  {
   "cell_type": "code",
   "execution_count": null,
   "metadata": {},
   "outputs": [],
   "source": [
    "# plot the feature attributions\n",
    "shap.image_plot(shap_values, -X_test[1:100])"
   ]
  },
  {
   "attachments": {},
   "cell_type": "markdown",
   "metadata": {},
   "source": [
    "#### Save Shap Values"
   ]
  },
  {
   "cell_type": "code",
   "execution_count": null,
   "metadata": {},
   "outputs": [],
   "source": [
    "import pickle\n",
    "pickle.dump(shap_values, open(\"shap_values.bin\", \"wb\"))"
   ]
  },
  {
   "cell_type": "code",
   "execution_count": 9,
   "metadata": {},
   "outputs": [],
   "source": [
    "import pickle\n",
    "matrix = pickle.load(open(\"shap_values.bin\", \"rb\"))"
   ]
  },
  {
   "cell_type": "code",
   "execution_count": 30,
   "metadata": {},
   "outputs": [
    {
     "ename": "NameError",
     "evalue": "name 'matrix' is not defined",
     "output_type": "error",
     "traceback": [
      "\u001b[1;31m---------------------------------------------------------------------------\u001b[0m",
      "\u001b[1;31mNameError\u001b[0m                                 Traceback (most recent call last)",
      "Cell \u001b[1;32mIn [30], line 2\u001b[0m\n\u001b[0;32m      1\u001b[0m \u001b[39mimport\u001b[39;00m \u001b[39mshap\u001b[39;00m\n\u001b[1;32m----> 2\u001b[0m shap\u001b[39m.\u001b[39msummary_plot(matrix,X_test)\n",
      "\u001b[1;31mNameError\u001b[0m: name 'matrix' is not defined"
     ]
    }
   ],
   "source": [
    "import shap\n",
    "shap.summary_plot(matrix,X_test)"
   ]
  },
  {
   "cell_type": "code",
   "execution_count": null,
   "metadata": {},
   "outputs": [],
   "source": [
    "matrix"
   ]
  },
  {
   "cell_type": "code",
   "execution_count": null,
   "metadata": {},
   "outputs": [],
   "source": [
    "with pd.option_context('display.max_rows', None,\n",
    "                        'display.max_columns', None,\n",
    "                        'display.precision', 3,                        ):\n",
    "    print(matrix)"
   ]
  },
  {
   "cell_type": "code",
   "execution_count": null,
   "metadata": {},
   "outputs": [],
   "source": [
    "print(shap.__version__)\n",
    "print(tf.__version__)\n"
   ]
  }
 ],
 "metadata": {
  "kernelspec": {
   "display_name": "Python 3",
   "language": "python",
   "name": "python3"
  },
  "language_info": {
   "codemirror_mode": {
    "name": "ipython",
    "version": 3
   },
   "file_extension": ".py",
   "mimetype": "text/x-python",
   "name": "python",
   "nbconvert_exporter": "python",
   "pygments_lexer": "ipython3",
   "version": "3.10.5"
  },
  "orig_nbformat": 4,
  "vscode": {
   "interpreter": {
    "hash": "5722daad9755055b013a651651e76bfefcd0039befef69efb03fa00fbea6a530"
   }
  }
 },
 "nbformat": 4,
 "nbformat_minor": 2
}
